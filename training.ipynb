{
 "cells": [
  {
   "cell_type": "code",
   "execution_count": 1,
   "metadata": {},
   "outputs": [],
   "source": [
    "import torch\n",
    "from torch.nn import BCELoss\n",
    "import torch.nn as nn\n",
    "import torch.optim.lr_scheduler as lrsch\n",
    "\n",
    "\n",
    "from importlib import reload\n",
    "\n",
    "import cnn\n",
    "import helpers\n",
    "reload(cnn)\n",
    "reload(helpers)\n",
    "from helpers import ClassifierMetrics, display_tensor_as_rgb\n",
    "from cnn import LateFusionCNN, train_multicrop\n",
    "from data import load_data\n",
    "import warnings\n",
    "warnings.filterwarnings('ignore')\n",
    "\n",
    "from constants import *\n",
    "from datasets import enterface\n",
    "from loss import multicrop_loss"
   ]
  },
  {
   "cell_type": "code",
   "execution_count": 2,
   "metadata": {},
   "outputs": [
    {
     "name": "stdout",
     "output_type": "stream",
     "text": [
      "split_seed: 5651295578886405114\n"
     ]
    }
   ],
   "source": [
    "lfc = LateFusionCNN(enterface)\n",
    "lfc = nn.DataParallel(lfc).cuda()\n",
    "\n",
    "mbt_teacher = LateFusionCNN(enterface)\n",
    "mbt_teacher = nn.DataParallel(mbt_teacher).cuda()\n",
    "\n",
    "mbt_student = LateFusionCNN(enterface)\n",
    "mbt_student = nn.DataParallel(mbt_student).cuda()\n",
    "\n",
    "train_dl, val_dl, test_dl, ss  = load_data(enterface, \n",
    "                                       batch_sz=BATCH_SZ,\n",
    "                                       train_val_test_split=SPLIT,\n",
    "                                       force_audio_aspect=True)\n",
    "\n",
    "print(f\"split_seed: {ss}\")\n",
    "optimizer = torch.optim.AdamW(lfc.parameters(), betas=(0.9, 0.999), lr=LR, weight_decay=1.0 / BATCH_SZ)\n",
    "scheduler = lrsch.SequentialLR(\n",
    "    optimizer=optimizer,\n",
    "    schedulers=[\n",
    "    lrsch.ConstantLR(optimizer=optimizer, factor=1, total_iters=WARMUP_EPOCHS),\n",
    "    lrsch.CosineAnnealingWarmRestarts(optimizer=optimizer, T_0=T_0)\n",
    "], milestones=MILESTONES)\n",
    "\n",
    "loss_func = BCELoss()"
   ]
  },
  {
   "cell_type": "code",
   "execution_count": 3,
   "metadata": {},
   "outputs": [
    {
     "data": {
      "application/vnd.jupyter.widget-view+json": {
       "model_id": "f5f0b68049044b348b4e36e42bdfd7fc",
       "version_major": 2,
       "version_minor": 0
      },
      "text/plain": [
       "  0%|          | 0/161 [00:00<?, ?it/s]"
      ]
     },
     "metadata": {},
     "output_type": "display_data"
    },
    {
     "ename": "KeyboardInterrupt",
     "evalue": "",
     "output_type": "error",
     "traceback": [
      "\u001b[0;31m---------------------------------------------------------------------------\u001b[0m",
      "\u001b[0;31mKeyboardInterrupt\u001b[0m                         Traceback (most recent call last)",
      "\u001b[1;32m/root/depmbt/training.ipynb Cell 3\u001b[0m line \u001b[0;36m5\n\u001b[1;32m      <a href='vscode-notebook-cell://ssh-remote%2Bdepmbt-1/root/depmbt/training.ipynb#W2sdnNjb2RlLXJlbW90ZQ%3D%3D?line=2'>3</a>\u001b[0m updated_centre \u001b[39m=\u001b[39m CENTRE_CONSTANT\n\u001b[1;32m      <a href='vscode-notebook-cell://ssh-remote%2Bdepmbt-1/root/depmbt/training.ipynb#W2sdnNjb2RlLXJlbW90ZQ%3D%3D?line=3'>4</a>\u001b[0m \u001b[39mfor\u001b[39;00m epoch \u001b[39min\u001b[39;00m \u001b[39mrange\u001b[39m(EPOCHS):\n\u001b[0;32m----> <a href='vscode-notebook-cell://ssh-remote%2Bdepmbt-1/root/depmbt/training.ipynb#W2sdnNjb2RlLXJlbW90ZQ%3D%3D?line=4'>5</a>\u001b[0m     train_loss, updated_centre \u001b[39m=\u001b[39m train_multicrop(mbt_teacher, mbt_student, train_dl, optimizer, updated_centre, loss_fn\u001b[39m=\u001b[39;49mmulticrop_loss)\n\u001b[1;32m      <a href='vscode-notebook-cell://ssh-remote%2Bdepmbt-1/root/depmbt/training.ipynb#W2sdnNjb2RlLXJlbW90ZQ%3D%3D?line=5'>6</a>\u001b[0m     scheduler\u001b[39m.\u001b[39mstep()\n\u001b[1;32m      <a href='vscode-notebook-cell://ssh-remote%2Bdepmbt-1/root/depmbt/training.ipynb#W2sdnNjb2RlLXJlbW90ZQ%3D%3D?line=6'>7</a>\u001b[0m     \u001b[39mprint\u001b[39m(\u001b[39mf\u001b[39m\u001b[39m\"\u001b[39m\u001b[39mEpoch \u001b[39m\u001b[39m{\u001b[39;00mepoch\u001b[39m \u001b[39m\u001b[39m+\u001b[39m\u001b[39m \u001b[39m\u001b[39m1\u001b[39m\u001b[39m}\u001b[39;00m\u001b[39m: train_loss \u001b[39m\u001b[39m{\u001b[39;00mtrain_loss\u001b[39m:\u001b[39;00m\u001b[39m.5f\u001b[39m\u001b[39m}\u001b[39;00m\u001b[39m\\n\u001b[39;00m\u001b[39m\"\u001b[39m)\n",
      "File \u001b[0;32m~/depmbt/cnn.py:205\u001b[0m, in \u001b[0;36mtrain_multicrop\u001b[0;34m(teacher_net, student_net, trainldr, optimizer, centre, loss_fn)\u001b[0m\n\u001b[1;32m    203\u001b[0m teacher_net\u001b[39m.\u001b[39mtrain()\n\u001b[1;32m    204\u001b[0m student_net\u001b[39m.\u001b[39mtrain()\n\u001b[0;32m--> 205\u001b[0m \u001b[39mfor\u001b[39;00m data \u001b[39min\u001b[39;00m tqdm(trainldr):\n\u001b[1;32m    206\u001b[0m     \u001b[39m# teacher outputs for each view\u001b[39;00m\n\u001b[1;32m    207\u001b[0m     teacher_outputs \u001b[39m=\u001b[39m []\n\u001b[1;32m    208\u001b[0m     \u001b[39mfor\u001b[39;00m video, audio \u001b[39min\u001b[39;00m \u001b[39mzip\u001b[39m(data[\u001b[39m\"\u001b[39m\u001b[39mteacher_rgb\u001b[39m\u001b[39m\"\u001b[39m], data[\u001b[39m\"\u001b[39m\u001b[39mteacher_spec\u001b[39m\u001b[39m\"\u001b[39m]):\n",
      "File \u001b[0;32m~/miniconda/envs/depmbt/lib/python3.9/site-packages/tqdm/notebook.py:249\u001b[0m, in \u001b[0;36mtqdm_notebook.__iter__\u001b[0;34m(self)\u001b[0m\n\u001b[1;32m    247\u001b[0m \u001b[39mtry\u001b[39;00m:\n\u001b[1;32m    248\u001b[0m     it \u001b[39m=\u001b[39m \u001b[39msuper\u001b[39m(tqdm_notebook, \u001b[39mself\u001b[39m)\u001b[39m.\u001b[39m\u001b[39m__iter__\u001b[39m()\n\u001b[0;32m--> 249\u001b[0m     \u001b[39mfor\u001b[39;00m obj \u001b[39min\u001b[39;00m it:\n\u001b[1;32m    250\u001b[0m         \u001b[39m# return super(tqdm...) will not catch exception\u001b[39;00m\n\u001b[1;32m    251\u001b[0m         \u001b[39myield\u001b[39;00m obj\n\u001b[1;32m    252\u001b[0m \u001b[39m# NB: except ... [ as ...] breaks IPython async KeyboardInterrupt\u001b[39;00m\n",
      "File \u001b[0;32m~/miniconda/envs/depmbt/lib/python3.9/site-packages/tqdm/std.py:1182\u001b[0m, in \u001b[0;36mtqdm.__iter__\u001b[0;34m(self)\u001b[0m\n\u001b[1;32m   1179\u001b[0m time \u001b[39m=\u001b[39m \u001b[39mself\u001b[39m\u001b[39m.\u001b[39m_time\n\u001b[1;32m   1181\u001b[0m \u001b[39mtry\u001b[39;00m:\n\u001b[0;32m-> 1182\u001b[0m     \u001b[39mfor\u001b[39;00m obj \u001b[39min\u001b[39;00m iterable:\n\u001b[1;32m   1183\u001b[0m         \u001b[39myield\u001b[39;00m obj\n\u001b[1;32m   1184\u001b[0m         \u001b[39m# Update and possibly print the progressbar.\u001b[39;00m\n\u001b[1;32m   1185\u001b[0m         \u001b[39m# Note: does not call self.update(1) for speed optimisation.\u001b[39;00m\n",
      "File \u001b[0;32m~/miniconda/envs/depmbt/lib/python3.9/site-packages/torch/utils/data/dataloader.py:521\u001b[0m, in \u001b[0;36m_BaseDataLoaderIter.__next__\u001b[0;34m(self)\u001b[0m\n\u001b[1;32m    519\u001b[0m \u001b[39mif\u001b[39;00m \u001b[39mself\u001b[39m\u001b[39m.\u001b[39m_sampler_iter \u001b[39mis\u001b[39;00m \u001b[39mNone\u001b[39;00m:\n\u001b[1;32m    520\u001b[0m     \u001b[39mself\u001b[39m\u001b[39m.\u001b[39m_reset()\n\u001b[0;32m--> 521\u001b[0m data \u001b[39m=\u001b[39m \u001b[39mself\u001b[39;49m\u001b[39m.\u001b[39;49m_next_data()\n\u001b[1;32m    522\u001b[0m \u001b[39mself\u001b[39m\u001b[39m.\u001b[39m_num_yielded \u001b[39m+\u001b[39m\u001b[39m=\u001b[39m \u001b[39m1\u001b[39m\n\u001b[1;32m    523\u001b[0m \u001b[39mif\u001b[39;00m \u001b[39mself\u001b[39m\u001b[39m.\u001b[39m_dataset_kind \u001b[39m==\u001b[39m _DatasetKind\u001b[39m.\u001b[39mIterable \u001b[39mand\u001b[39;00m \\\n\u001b[1;32m    524\u001b[0m         \u001b[39mself\u001b[39m\u001b[39m.\u001b[39m_IterableDataset_len_called \u001b[39mis\u001b[39;00m \u001b[39mnot\u001b[39;00m \u001b[39mNone\u001b[39;00m \u001b[39mand\u001b[39;00m \\\n\u001b[1;32m    525\u001b[0m         \u001b[39mself\u001b[39m\u001b[39m.\u001b[39m_num_yielded \u001b[39m>\u001b[39m \u001b[39mself\u001b[39m\u001b[39m.\u001b[39m_IterableDataset_len_called:\n",
      "File \u001b[0;32m~/miniconda/envs/depmbt/lib/python3.9/site-packages/torch/utils/data/dataloader.py:561\u001b[0m, in \u001b[0;36m_SingleProcessDataLoaderIter._next_data\u001b[0;34m(self)\u001b[0m\n\u001b[1;32m    559\u001b[0m \u001b[39mdef\u001b[39;00m \u001b[39m_next_data\u001b[39m(\u001b[39mself\u001b[39m):\n\u001b[1;32m    560\u001b[0m     index \u001b[39m=\u001b[39m \u001b[39mself\u001b[39m\u001b[39m.\u001b[39m_next_index()  \u001b[39m# may raise StopIteration\u001b[39;00m\n\u001b[0;32m--> 561\u001b[0m     data \u001b[39m=\u001b[39m \u001b[39mself\u001b[39;49m\u001b[39m.\u001b[39;49m_dataset_fetcher\u001b[39m.\u001b[39;49mfetch(index)  \u001b[39m# may raise StopIteration\u001b[39;00m\n\u001b[1;32m    562\u001b[0m     \u001b[39mif\u001b[39;00m \u001b[39mself\u001b[39m\u001b[39m.\u001b[39m_pin_memory:\n\u001b[1;32m    563\u001b[0m         data \u001b[39m=\u001b[39m _utils\u001b[39m.\u001b[39mpin_memory\u001b[39m.\u001b[39mpin_memory(data)\n",
      "File \u001b[0;32m~/miniconda/envs/depmbt/lib/python3.9/site-packages/torch/utils/data/_utils/fetch.py:52\u001b[0m, in \u001b[0;36m_MapDatasetFetcher.fetch\u001b[0;34m(self, possibly_batched_index)\u001b[0m\n\u001b[1;32m     50\u001b[0m \u001b[39melse\u001b[39;00m:\n\u001b[1;32m     51\u001b[0m     data \u001b[39m=\u001b[39m \u001b[39mself\u001b[39m\u001b[39m.\u001b[39mdataset[possibly_batched_index]\n\u001b[0;32m---> 52\u001b[0m \u001b[39mreturn\u001b[39;00m \u001b[39mself\u001b[39;49m\u001b[39m.\u001b[39;49mcollate_fn(data)\n",
      "File \u001b[0;32m~/depmbt/data.py:118\u001b[0m, in \u001b[0;36mCollate_Multicrop.__call__\u001b[0;34m(self, batch)\u001b[0m\n\u001b[1;32m    116\u001b[0m label_list \u001b[39m=\u001b[39m []\n\u001b[1;32m    117\u001b[0m \u001b[39mfor\u001b[39;00m filename, duration, num_frames, label \u001b[39min\u001b[39;00m batch:\n\u001b[0;32m--> 118\u001b[0m     rgb, spec \u001b[39m=\u001b[39m \u001b[39mself\u001b[39;49m\u001b[39m.\u001b[39;49mtokenizer\u001b[39m.\u001b[39;49mmake_input(filename, \u001b[39mfloat\u001b[39;49m(duration), \u001b[39mself\u001b[39;49m\u001b[39m.\u001b[39;49mdataset_constants\u001b[39m.\u001b[39;49mSAMPLING_RATE)\n\u001b[1;32m    119\u001b[0m     rgb \u001b[39m=\u001b[39m rgb\u001b[39m.\u001b[39mreshape((CHANS, FRAMES, HEIGHT, WIDTH))\u001b[39m.\u001b[39munsqueeze(\u001b[39m0\u001b[39m)  \u001b[39m# f, c, h, w -> 1, c*f, h, w\u001b[39;00m\n\u001b[1;32m    120\u001b[0m     label \u001b[39m=\u001b[39m torch\u001b[39m.\u001b[39mtensor([label], dtype\u001b[39m=\u001b[39mtorch\u001b[39m.\u001b[39mlong)\u001b[39m.\u001b[39munsqueeze(\u001b[39m0\u001b[39m)\n",
      "File \u001b[0;32m~/depmbt/tokenizer.py:161\u001b[0m, in \u001b[0;36mTokenizer.make_input\u001b[0;34m(self, file, video_len, sampling_rate, constant_fps)\u001b[0m\n\u001b[1;32m    160\u001b[0m \u001b[39mdef\u001b[39;00m \u001b[39mmake_input\u001b[39m(\u001b[39mself\u001b[39m, file: \u001b[39mstr\u001b[39m, video_len: \u001b[39mfloat\u001b[39m, sampling_rate: \u001b[39mint\u001b[39m, constant_fps: \u001b[39mbool\u001b[39m\u001b[39m=\u001b[39m\u001b[39mFalse\u001b[39;00m):\n\u001b[0;32m--> 161\u001b[0m     rgb_norm, spec_norm \u001b[39m=\u001b[39m normalize(np\u001b[39m.\u001b[39marray(\u001b[39mself\u001b[39;49m\u001b[39m.\u001b[39;49mmake_rgb_input(file, video_len, constant_fps))), normalize(\u001b[39mself\u001b[39m\u001b[39m.\u001b[39mmake_mfcc_input(file, sampling_rate))\n\u001b[1;32m    162\u001b[0m     \u001b[39mreturn\u001b[39;00m torch\u001b[39m.\u001b[39mfrom_numpy(rgb_norm)\u001b[39m.\u001b[39mfloat(), torch\u001b[39m.\u001b[39mfrom_numpy(spec_norm)\u001b[39m.\u001b[39mfloat()\n",
      "File \u001b[0;32m~/depmbt/tokenizer.py:129\u001b[0m, in \u001b[0;36mTokenizer.make_rgb_input\u001b[0;34m(self, file, video_len, constant_fps)\u001b[0m\n\u001b[1;32m    127\u001b[0m \u001b[39mdef\u001b[39;00m \u001b[39mmake_rgb_input\u001b[39m(\u001b[39mself\u001b[39m, file: \u001b[39mstr\u001b[39m, video_len: \u001b[39mfloat\u001b[39m, constant_fps: \u001b[39mbool\u001b[39m) \u001b[39m-\u001b[39m\u001b[39m>\u001b[39m np\u001b[39m.\u001b[39mndarray:\n\u001b[1;32m    128\u001b[0m     frames \u001b[39m=\u001b[39m get_rgb_frames(file, video_len, ensure_frames_len\u001b[39m=\u001b[39m\u001b[39mNone\u001b[39;00m \u001b[39mif\u001b[39;00m constant_fps \u001b[39melse\u001b[39;00m FRAMES)\n\u001b[0;32m--> 129\u001b[0m     tensor_frames \u001b[39m=\u001b[39m [\n\u001b[1;32m    130\u001b[0m         \u001b[39mself\u001b[39m\u001b[39m.\u001b[39mrgb_transform(\n\u001b[1;32m    131\u001b[0m             Image\u001b[39m.\u001b[39mopen(io\u001b[39m.\u001b[39mBytesIO(vid_frame))            \n\u001b[1;32m    132\u001b[0m         ) \u001b[39mfor\u001b[39;00m vid_frame \u001b[39min\u001b[39;00m frames]\n\u001b[1;32m    133\u001b[0m     stacked_frames \u001b[39m=\u001b[39m np\u001b[39m.\u001b[39mstack(tensor_frames, axis\u001b[39m=\u001b[39m\u001b[39m0\u001b[39m)\n\u001b[1;32m    134\u001b[0m     \u001b[39mif\u001b[39;00m DEBUG:\n",
      "File \u001b[0;32m~/depmbt/tokenizer.py:130\u001b[0m, in \u001b[0;36m<listcomp>\u001b[0;34m(.0)\u001b[0m\n\u001b[1;32m    127\u001b[0m \u001b[39mdef\u001b[39;00m \u001b[39mmake_rgb_input\u001b[39m(\u001b[39mself\u001b[39m, file: \u001b[39mstr\u001b[39m, video_len: \u001b[39mfloat\u001b[39m, constant_fps: \u001b[39mbool\u001b[39m) \u001b[39m-\u001b[39m\u001b[39m>\u001b[39m np\u001b[39m.\u001b[39mndarray:\n\u001b[1;32m    128\u001b[0m     frames \u001b[39m=\u001b[39m get_rgb_frames(file, video_len, ensure_frames_len\u001b[39m=\u001b[39m\u001b[39mNone\u001b[39;00m \u001b[39mif\u001b[39;00m constant_fps \u001b[39melse\u001b[39;00m FRAMES)\n\u001b[1;32m    129\u001b[0m     tensor_frames \u001b[39m=\u001b[39m [\n\u001b[0;32m--> 130\u001b[0m         \u001b[39mself\u001b[39;49m\u001b[39m.\u001b[39;49mrgb_transform(\n\u001b[1;32m    131\u001b[0m             Image\u001b[39m.\u001b[39;49mopen(io\u001b[39m.\u001b[39;49mBytesIO(vid_frame))            \n\u001b[1;32m    132\u001b[0m         ) \u001b[39mfor\u001b[39;00m vid_frame \u001b[39min\u001b[39;00m frames]\n\u001b[1;32m    133\u001b[0m     stacked_frames \u001b[39m=\u001b[39m np\u001b[39m.\u001b[39mstack(tensor_frames, axis\u001b[39m=\u001b[39m\u001b[39m0\u001b[39m)\n\u001b[1;32m    134\u001b[0m     \u001b[39mif\u001b[39;00m DEBUG:\n",
      "File \u001b[0;32m~/miniconda/envs/depmbt/lib/python3.9/site-packages/torchvision/transforms/transforms.py:61\u001b[0m, in \u001b[0;36mCompose.__call__\u001b[0;34m(self, img)\u001b[0m\n\u001b[1;32m     59\u001b[0m \u001b[39mdef\u001b[39;00m \u001b[39m__call__\u001b[39m(\u001b[39mself\u001b[39m, img):\n\u001b[1;32m     60\u001b[0m     \u001b[39mfor\u001b[39;00m t \u001b[39min\u001b[39;00m \u001b[39mself\u001b[39m\u001b[39m.\u001b[39mtransforms:\n\u001b[0;32m---> 61\u001b[0m         img \u001b[39m=\u001b[39m t(img)\n\u001b[1;32m     62\u001b[0m     \u001b[39mreturn\u001b[39;00m img\n",
      "File \u001b[0;32m~/depmbt/face.py:17\u001b[0m, in \u001b[0;36mCropFace.__call__\u001b[0;34m(self, image)\u001b[0m\n\u001b[1;32m     16\u001b[0m \u001b[39mdef\u001b[39;00m \u001b[39m__call__\u001b[39m(\u001b[39mself\u001b[39m, image: torch\u001b[39m.\u001b[39mTensor):\n\u001b[0;32m---> 17\u001b[0m     face \u001b[39m=\u001b[39m \u001b[39mself\u001b[39;49m\u001b[39m.\u001b[39;49mmtcnn(image)\n\u001b[1;32m     18\u001b[0m     \u001b[39mreturn\u001b[39;00m face\n",
      "File \u001b[0;32m~/miniconda/envs/depmbt/lib/python3.9/site-packages/torch/nn/modules/module.py:1102\u001b[0m, in \u001b[0;36mModule._call_impl\u001b[0;34m(self, *input, **kwargs)\u001b[0m\n\u001b[1;32m   1098\u001b[0m \u001b[39m# If we don't have any hooks, we want to skip the rest of the logic in\u001b[39;00m\n\u001b[1;32m   1099\u001b[0m \u001b[39m# this function, and just call forward.\u001b[39;00m\n\u001b[1;32m   1100\u001b[0m \u001b[39mif\u001b[39;00m \u001b[39mnot\u001b[39;00m (\u001b[39mself\u001b[39m\u001b[39m.\u001b[39m_backward_hooks \u001b[39mor\u001b[39;00m \u001b[39mself\u001b[39m\u001b[39m.\u001b[39m_forward_hooks \u001b[39mor\u001b[39;00m \u001b[39mself\u001b[39m\u001b[39m.\u001b[39m_forward_pre_hooks \u001b[39mor\u001b[39;00m _global_backward_hooks\n\u001b[1;32m   1101\u001b[0m         \u001b[39mor\u001b[39;00m _global_forward_hooks \u001b[39mor\u001b[39;00m _global_forward_pre_hooks):\n\u001b[0;32m-> 1102\u001b[0m     \u001b[39mreturn\u001b[39;00m forward_call(\u001b[39m*\u001b[39;49m\u001b[39minput\u001b[39;49m, \u001b[39m*\u001b[39;49m\u001b[39m*\u001b[39;49mkwargs)\n\u001b[1;32m   1103\u001b[0m \u001b[39m# Do not call functions when jit is used\u001b[39;00m\n\u001b[1;32m   1104\u001b[0m full_backward_hooks, non_full_backward_hooks \u001b[39m=\u001b[39m [], []\n",
      "File \u001b[0;32m~/miniconda/envs/depmbt/lib/python3.9/site-packages/facenet_pytorch/models/mtcnn.py:258\u001b[0m, in \u001b[0;36mMTCNN.forward\u001b[0;34m(self, img, save_path, return_prob)\u001b[0m\n\u001b[1;32m    227\u001b[0m \u001b[39m\u001b[39m\u001b[39m\"\"\"Run MTCNN face detection on a PIL image or numpy array. This method performs both\u001b[39;00m\n\u001b[1;32m    228\u001b[0m \u001b[39mdetection and extraction of faces, returning tensors representing detected faces rather\u001b[39;00m\n\u001b[1;32m    229\u001b[0m \u001b[39mthan the bounding boxes. To access bounding boxes, see the MTCNN.detect() method below.\u001b[39;00m\n\u001b[0;32m   (...)\u001b[0m\n\u001b[1;32m    254\u001b[0m \u001b[39m>>> face_tensor, prob = mtcnn(img, save_path='face.png', return_prob=True)\u001b[39;00m\n\u001b[1;32m    255\u001b[0m \u001b[39m\"\"\"\u001b[39;00m\n\u001b[1;32m    257\u001b[0m \u001b[39m# Detect faces\u001b[39;00m\n\u001b[0;32m--> 258\u001b[0m batch_boxes, batch_probs, batch_points \u001b[39m=\u001b[39m \u001b[39mself\u001b[39;49m\u001b[39m.\u001b[39;49mdetect(img, landmarks\u001b[39m=\u001b[39;49m\u001b[39mTrue\u001b[39;49;00m)\n\u001b[1;32m    259\u001b[0m \u001b[39m# Select faces\u001b[39;00m\n\u001b[1;32m    260\u001b[0m \u001b[39mif\u001b[39;00m \u001b[39mnot\u001b[39;00m \u001b[39mself\u001b[39m\u001b[39m.\u001b[39mkeep_all:\n",
      "File \u001b[0;32m~/miniconda/envs/depmbt/lib/python3.9/site-packages/facenet_pytorch/models/mtcnn.py:313\u001b[0m, in \u001b[0;36mMTCNN.detect\u001b[0;34m(self, img, landmarks)\u001b[0m\n\u001b[1;32m    273\u001b[0m \u001b[39m\u001b[39m\u001b[39m\"\"\"Detect all faces in PIL image and return bounding boxes and optional facial landmarks.\u001b[39;00m\n\u001b[1;32m    274\u001b[0m \n\u001b[1;32m    275\u001b[0m \u001b[39mThis method is used by the forward method and is also useful for face detection tasks\u001b[39;00m\n\u001b[0;32m   (...)\u001b[0m\n\u001b[1;32m    309\u001b[0m \u001b[39m>>> img_draw.save('annotated_faces.png')\u001b[39;00m\n\u001b[1;32m    310\u001b[0m \u001b[39m\"\"\"\u001b[39;00m\n\u001b[1;32m    312\u001b[0m \u001b[39mwith\u001b[39;00m torch\u001b[39m.\u001b[39mno_grad():\n\u001b[0;32m--> 313\u001b[0m     batch_boxes, batch_points \u001b[39m=\u001b[39m detect_face(\n\u001b[1;32m    314\u001b[0m         img, \u001b[39mself\u001b[39;49m\u001b[39m.\u001b[39;49mmin_face_size,\n\u001b[1;32m    315\u001b[0m         \u001b[39mself\u001b[39;49m\u001b[39m.\u001b[39;49mpnet, \u001b[39mself\u001b[39;49m\u001b[39m.\u001b[39;49mrnet, \u001b[39mself\u001b[39;49m\u001b[39m.\u001b[39;49monet,\n\u001b[1;32m    316\u001b[0m         \u001b[39mself\u001b[39;49m\u001b[39m.\u001b[39;49mthresholds, \u001b[39mself\u001b[39;49m\u001b[39m.\u001b[39;49mfactor,\n\u001b[1;32m    317\u001b[0m         \u001b[39mself\u001b[39;49m\u001b[39m.\u001b[39;49mdevice\n\u001b[1;32m    318\u001b[0m     )\n\u001b[1;32m    320\u001b[0m boxes, probs, points \u001b[39m=\u001b[39m [], [], []\n\u001b[1;32m    321\u001b[0m \u001b[39mfor\u001b[39;00m box, point \u001b[39min\u001b[39;00m \u001b[39mzip\u001b[39m(batch_boxes, batch_points):\n",
      "File \u001b[0;32m~/miniconda/envs/depmbt/lib/python3.9/site-packages/facenet_pytorch/models/utils/detect_face.py:79\u001b[0m, in \u001b[0;36mdetect_face\u001b[0;34m(imgs, minsize, pnet, rnet, onet, threshold, factor, device)\u001b[0m\n\u001b[1;32m     76\u001b[0m boxes\u001b[39m.\u001b[39mappend(boxes_scale)\n\u001b[1;32m     77\u001b[0m image_inds\u001b[39m.\u001b[39mappend(image_inds_scale)\n\u001b[0;32m---> 79\u001b[0m pick \u001b[39m=\u001b[39m batched_nms(boxes_scale[:, :\u001b[39m4\u001b[39;49m], boxes_scale[:, \u001b[39m4\u001b[39;49m], image_inds_scale, \u001b[39m0.5\u001b[39;49m)\n\u001b[1;32m     80\u001b[0m scale_picks\u001b[39m.\u001b[39mappend(pick \u001b[39m+\u001b[39m offset)\n\u001b[1;32m     81\u001b[0m offset \u001b[39m+\u001b[39m\u001b[39m=\u001b[39m boxes_scale\u001b[39m.\u001b[39mshape[\u001b[39m0\u001b[39m]\n",
      "File \u001b[0;32m~/miniconda/envs/depmbt/lib/python3.9/site-packages/torchvision/ops/boxes.py:68\u001b[0m, in \u001b[0;36mbatched_nms\u001b[0;34m(boxes, scores, idxs, iou_threshold)\u001b[0m\n\u001b[1;32m     66\u001b[0m     \u001b[39mreturn\u001b[39;00m _batched_nms_vanilla(boxes, scores, idxs, iou_threshold)\n\u001b[1;32m     67\u001b[0m \u001b[39melse\u001b[39;00m:\n\u001b[0;32m---> 68\u001b[0m     \u001b[39mreturn\u001b[39;00m _batched_nms_coordinate_trick(boxes, scores, idxs, iou_threshold)\n",
      "File \u001b[0;32m~/miniconda/envs/depmbt/lib/python3.9/site-packages/torch/jit/_trace.py:1118\u001b[0m, in \u001b[0;36m_script_if_tracing.<locals>.wrapper\u001b[0;34m(*args, **kwargs)\u001b[0m\n\u001b[1;32m   1114\u001b[0m \u001b[39m@functools\u001b[39m\u001b[39m.\u001b[39mwraps(fn)\n\u001b[1;32m   1115\u001b[0m \u001b[39mdef\u001b[39;00m \u001b[39mwrapper\u001b[39m(\u001b[39m*\u001b[39margs, \u001b[39m*\u001b[39m\u001b[39m*\u001b[39mkwargs):\n\u001b[1;32m   1116\u001b[0m     \u001b[39mif\u001b[39;00m \u001b[39mnot\u001b[39;00m is_tracing():\n\u001b[1;32m   1117\u001b[0m         \u001b[39m# Not tracing, don't do anything\u001b[39;00m\n\u001b[0;32m-> 1118\u001b[0m         \u001b[39mreturn\u001b[39;00m fn(\u001b[39m*\u001b[39;49margs, \u001b[39m*\u001b[39;49m\u001b[39m*\u001b[39;49mkwargs)\n\u001b[1;32m   1120\u001b[0m     compiled_fn \u001b[39m=\u001b[39m script(wrapper\u001b[39m.\u001b[39m__original_fn)  \u001b[39m# type: ignore[attr-defined]\u001b[39;00m\n\u001b[1;32m   1121\u001b[0m     \u001b[39mreturn\u001b[39;00m compiled_fn(\u001b[39m*\u001b[39margs, \u001b[39m*\u001b[39m\u001b[39m*\u001b[39mkwargs)\n",
      "File \u001b[0;32m~/miniconda/envs/depmbt/lib/python3.9/site-packages/torchvision/ops/boxes.py:87\u001b[0m, in \u001b[0;36m_batched_nms_coordinate_trick\u001b[0;34m(boxes, scores, idxs, iou_threshold)\u001b[0m\n\u001b[1;32m     85\u001b[0m offsets \u001b[39m=\u001b[39m idxs\u001b[39m.\u001b[39mto(boxes) \u001b[39m*\u001b[39m (max_coordinate \u001b[39m+\u001b[39m torch\u001b[39m.\u001b[39mtensor(\u001b[39m1\u001b[39m)\u001b[39m.\u001b[39mto(boxes))\n\u001b[1;32m     86\u001b[0m boxes_for_nms \u001b[39m=\u001b[39m boxes \u001b[39m+\u001b[39m offsets[:, \u001b[39mNone\u001b[39;00m]\n\u001b[0;32m---> 87\u001b[0m keep \u001b[39m=\u001b[39m nms(boxes_for_nms, scores, iou_threshold)\n\u001b[1;32m     88\u001b[0m \u001b[39mreturn\u001b[39;00m keep\n",
      "File \u001b[0;32m~/miniconda/envs/depmbt/lib/python3.9/site-packages/torchvision/ops/boxes.py:35\u001b[0m, in \u001b[0;36mnms\u001b[0;34m(boxes, scores, iou_threshold)\u001b[0m\n\u001b[1;32m     10\u001b[0m \u001b[39m\u001b[39m\u001b[39m\"\"\"\u001b[39;00m\n\u001b[1;32m     11\u001b[0m \u001b[39mPerforms non-maximum suppression (NMS) on the boxes according\u001b[39;00m\n\u001b[1;32m     12\u001b[0m \u001b[39mto their intersection-over-union (IoU).\u001b[39;00m\n\u001b[0;32m   (...)\u001b[0m\n\u001b[1;32m     32\u001b[0m \u001b[39m    by NMS, sorted in decreasing order of scores\u001b[39;00m\n\u001b[1;32m     33\u001b[0m \u001b[39m\"\"\"\u001b[39;00m\n\u001b[1;32m     34\u001b[0m _assert_has_ops()\n\u001b[0;32m---> 35\u001b[0m \u001b[39mreturn\u001b[39;00m torch\u001b[39m.\u001b[39;49mops\u001b[39m.\u001b[39;49mtorchvision\u001b[39m.\u001b[39;49mnms(boxes, scores, iou_threshold)\n",
      "\u001b[0;31mKeyboardInterrupt\u001b[0m: "
     ]
    }
   ],
   "source": [
    "reload(cnn)\n",
    "\n",
    "updated_centre = CENTRE_CONSTANT\n",
    "for epoch in range(EPOCHS):\n",
    "    train_loss, updated_centre = train_multicrop(mbt_teacher, mbt_student, train_dl, optimizer, updated_centre, loss_fn=multicrop_loss)\n",
    "    scheduler.step()\n",
    "    print(f\"Epoch {epoch + 1}: train_loss {train_loss:.5f}\\n\")"
   ]
  }
 ],
 "metadata": {
  "kernelspec": {
   "display_name": "depmbt",
   "language": "python",
   "name": "python3"
  },
  "language_info": {
   "codemirror_mode": {
    "name": "ipython",
    "version": 3
   },
   "file_extension": ".py",
   "mimetype": "text/x-python",
   "name": "python",
   "nbconvert_exporter": "python",
   "pygments_lexer": "ipython3",
   "version": "3.9.16"
  },
  "orig_nbformat": 4
 },
 "nbformat": 4,
 "nbformat_minor": 2
}
