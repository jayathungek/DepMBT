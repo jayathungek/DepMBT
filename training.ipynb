{
 "cells": [
  {
   "cell_type": "code",
   "execution_count": null,
   "metadata": {},
   "outputs": [],
   "source": [
    "import torch\n",
    "from torch.utils.data import DataLoader\n",
    "from torch.nn import BCELoss\n",
    "import torch.nn as nn\n",
    "\n",
    "\n",
    "from importlib import reload\n",
    "\n",
    "import vitmbt\n",
    "import mbt\n",
    "import ablation\n",
    "import helpers\n",
    "reload(mbt)\n",
    "reload(ablation)\n",
    "reload(helpers)\n",
    "reload(vitmbt)\n",
    "from helpers import ClassifierMetrics, display_tensor_as_rgb\n",
    "from vitmbt import ViTMBT, train, val\n",
    "from data import EmoDataset, new_collate_fn\n",
    "import warnings\n",
    "warnings.filterwarnings('ignore')\n",
    "\n",
    "from constants import *"
   ]
  },
  {
   "cell_type": "code",
   "execution_count": null,
   "metadata": {},
   "outputs": [],
   "source": [
    "DEVICE = \"cuda\"\n",
    "PRETRAINED_CHKPT = \"./pretrained_models/L_16-i21k-300ep-lr_0.001-aug_medium1-wd_0.1-do_0.1-sd_0.1--imagenet2012-steps_20k-lr_0.01-res_224.npz\"\n",
    "EPOCHS = 200\n",
    "lr = 0.00001\n",
    "BATCH_SZ = 2\n",
    "LABELS = 8\n",
    "vmbt = ViTMBT(1024, num_class=LABELS)\n",
    "vmbt = nn.DataParallel(vmbt).cuda()\n",
    "\n",
    "se = None\n",
    "lines = None\n",
    "train_ds = EmoDataset(f\"{DATA_DIR}/Labels/train_labels_full_pruned.csv\", nlines=lines, sole_emotion=se)\n",
    "val_ds = EmoDataset(f\"{DATA_DIR}/Labels/val_labels_full_pruned.csv\", nlines=lines, sole_emotion=se)\n",
    "test_ds = EmoDataset(f\"{DATA_DIR}/Labels/test_labels_full_pruned.csv\", nlines=lines, sole_emotion=se)\n",
    "\n",
    "# train_metrics = ClassifierMetrics(task='multilabel', n_labels=LABELS, device=DEVICE)\n",
    "# val_metrics = ClassifierMetrics(task='multilabel', n_labels=LABELS, device=DEVICE)\n",
    "\n",
    "train_dl = DataLoader(train_ds, collate_fn=new_collate_fn, batch_size=BATCH_SZ, shuffle=True)\n",
    "val_dl = DataLoader(val_ds, collate_fn=new_collate_fn, batch_size=BATCH_SZ, shuffle=False)\n",
    "test_dl = DataLoader(test_ds, collate_fn=new_collate_fn, batch_size=BATCH_SZ, shuffle=False)\n",
    "\n",
    "optimizer = torch.optim.AdamW(vmbt.parameters(), betas=(0.9, 0.999), lr=lr, weight_decay=1.0 / BATCH_SZ)\n",
    "loss_func = BCELoss()\n",
    "# loss_func = nn.CrossEntropyLoss()"
   ]
  },
  {
   "cell_type": "code",
   "execution_count": null,
   "metadata": {},
   "outputs": [],
   "source": [
    "for epoch in range(EPOCHS):\n",
    "    train_metrics = train(vmbt, train_dl, optimizer, loss_fn=loss_func, cls_metrics=None)\n",
    "    train_loss, train_f1, train_r, train_p, train_acc, train_bottleneck_tokens = train_metrics\n",
    "    val_metrics = val(vmbt, val_dl, loss_fn=loss_func, cls_metrics=None)\n",
    "    val_loss, val_f1, val_r, val_p, val_acc, val_bottleneck_tokens = val_metrics\n",
    "    train_token = train_bottleneck_tokens[0][:, :256]\n",
    "    val_token = val_bottleneck_tokens[0][:, :256]\n",
    "\n",
    "    print(\n",
    "        (f\"Epoch {epoch + 1}: train_loss {train_loss:.5f}, val_loss {val_loss:.5f}\\n\"\n",
    "            f\"                   train_precision {train_p}, val_precision {val_p}\\n\"\n",
    "            f\"                   train_recall {train_r}, val_recall {val_r}\\n\"\n",
    "            f\"                   train_f1 {train_f1}, val_f1 {val_f1}\"\n",
    "            )\n",
    "        )\n",
    "    display_tensor_as_rgb(train_token, \"Train bottleneck token\") \n",
    "    "
   ]
  }
 ],
 "metadata": {
  "kernelspec": {
   "display_name": "depmbt",
   "language": "python",
   "name": "python3"
  },
  "language_info": {
   "codemirror_mode": {
    "name": "ipython",
    "version": 3
   },
   "file_extension": ".py",
   "mimetype": "text/x-python",
   "name": "python",
   "nbconvert_exporter": "python",
   "pygments_lexer": "ipython3",
   "version": "3.9.16"
  },
  "orig_nbformat": 4
 },
 "nbformat": 4,
 "nbformat_minor": 2
}
