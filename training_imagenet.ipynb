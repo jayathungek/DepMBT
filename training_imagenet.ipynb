{
 "cells": [
  {
   "cell_type": "code",
   "execution_count": 9,
   "metadata": {},
   "outputs": [],
   "source": [
    "from importlib import reload\n",
    "\n",
    "import torch\n",
    "from torch.utils.data import DataLoader, random_split\n",
    "from torch.nn import BCELoss\n",
    "import torch.nn as nn\n",
    "from torchvision.datasets import CIFAR10\n",
    "import warnings\n",
    "warnings.filterwarnings('ignore')\n",
    "\n",
    "import vitunimodal\n",
    "import mbt\n",
    "import ablation\n",
    "import helpers\n",
    "reload(mbt)\n",
    "reload(ablation)\n",
    "reload(helpers)\n",
    "reload(vitunimodal)\n",
    "from helpers import ClassifierMetrics, display_tensor_as_rgb\n",
    "from vitunimodal import ViTMBT, train, val\n",
    "from data import EmoDataset, new_collate_fn\n",
    "from constants import *"
   ]
  },
  {
   "cell_type": "code",
   "execution_count": 10,
   "metadata": {},
   "outputs": [
    {
     "name": "stdout",
     "output_type": "stream",
     "text": [
      "Loading audio layers...\n",
      "Loaded successfully in 3.8s\n"
     ]
    }
   ],
   "source": [
    "DEVICE = \"cuda\"\n",
    "PRETRAINED_CHKPT = \"./pretrained_models/L_16-i21k-300ep-lr_0.001-aug_medium1-wd_0.1-do_0.1-sd_0.1--imagenet2012-steps_20k-lr_0.01-res_224.npz\"\n",
    "EPOCHS = 20\n",
    "lr = 0.00001\n",
    "BATCH_SZ = 16\n",
    "LABELS = 8\n",
    "vmbt = ViTMBT(1024, num_class=LABELS)\n",
    "vmbt = nn.DataParallel(vmbt).cuda()\n",
    "\n",
    "se = None\n",
    "lines = None\n",
    "train_ds = EmoDataset(f\"{DATA_DIR}/Labels/train_labels_full_pruned.csv\", nlines=lines, sole_emotion=se)\n",
    "val_ds = EmoDataset(f\"{DATA_DIR}/Labels/val_labels_full_pruned.csv\", nlines=lines, sole_emotion=se)\n",
    "test_ds = EmoDataset(f\"{DATA_DIR}/Labels/test_labels_full_pruned.csv\", nlines=lines, sole_emotion=se)\n",
    "train_dl = DataLoader(train_ds, collate_fn=new_collate_fn, batch_size=BATCH_SZ, shuffle=True)\n",
    "val_dl = DataLoader(val_ds, collate_fn=new_collate_fn, batch_size=BATCH_SZ, shuffle=False)\n",
    "test_dl = DataLoader(test_ds, collate_fn=new_collate_fn, batch_size=BATCH_SZ, shuffle=False)\n",
    "\n",
    "train_metrics = ClassifierMetrics(task='multilabel', n_labels=LABELS, device=DEVICE)\n",
    "val_metrics = ClassifierMetrics(task='multilabel', n_labels=LABELS, device=DEVICE)\n",
    "\n",
    "\n",
    "optimizer = torch.optim.AdamW(vmbt.parameters(), betas=(0.9, 0.999), lr=lr, weight_decay=1.0 / BATCH_SZ)\n",
    "loss_func = BCELoss()\n",
    "# loss_func = nn.CrossEntropyLoss()"
   ]
  },
  {
   "cell_type": "code",
   "execution_count": 11,
   "metadata": {},
   "outputs": [
    {
     "data": {
      "application/vnd.jupyter.widget-view+json": {
       "model_id": "abd8fd7e2d6249abb490656f782e9e51",
       "version_major": 2,
       "version_minor": 0
      },
      "text/plain": [
       "  0%|          | 0/27 [00:00<?, ?it/s]"
      ]
     },
     "metadata": {},
     "output_type": "display_data"
    },
    {
     "data": {
      "application/vnd.jupyter.widget-view+json": {
       "model_id": "d8c5561a1a754b7ca127a394a7e87c51",
       "version_major": 2,
       "version_minor": 0
      },
      "text/plain": [
       "  0%|          | 0/19 [00:00<?, ?it/s]"
      ]
     },
     "metadata": {},
     "output_type": "display_data"
    },
    {
     "name": "stdout",
     "output_type": "stream",
     "text": [
      "Epoch 1: train_loss 0.62026, val_loss 0.62542\n",
      "                   train_precision 0.4289348607097767, val_precision 0.29988789136420796\n",
      "                   train_recall 0.16548463356973994, val_recall 0.11486486486486487\n",
      "                   train_f1 0.19943899012111613, val_f1 0.12217762239313962\n"
     ]
    },
    {
     "data": {
      "application/vnd.jupyter.widget-view+json": {
       "model_id": "926cf34a0b6e4c0f9d584ba4c9db8770",
       "version_major": 2,
       "version_minor": 0
      },
      "text/plain": [
       "  0%|          | 0/27 [00:00<?, ?it/s]"
      ]
     },
     "metadata": {},
     "output_type": "display_data"
    },
    {
     "data": {
      "application/vnd.jupyter.widget-view+json": {
       "model_id": "db23f9c7d9be475096226698e0eff7c8",
       "version_major": 2,
       "version_minor": 0
      },
      "text/plain": [
       "  0%|          | 0/19 [00:00<?, ?it/s]"
      ]
     },
     "metadata": {},
     "output_type": "display_data"
    },
    {
     "name": "stdout",
     "output_type": "stream",
     "text": [
      "Epoch 2: train_loss 0.56526, val_loss 0.63017\n",
      "                   train_precision 0.5634901883001691, val_precision 0.3811296330449556\n",
      "                   train_recall 0.22695035460992907, val_recall 0.17567567567567569\n",
      "                   train_f1 0.23298545569012852, val_f1 0.21504117685271656\n"
     ]
    },
    {
     "data": {
      "application/vnd.jupyter.widget-view+json": {
       "model_id": "73833399c0c744d0bc366cf415737b9f",
       "version_major": 2,
       "version_minor": 0
      },
      "text/plain": [
       "  0%|          | 0/27 [00:00<?, ?it/s]"
      ]
     },
     "metadata": {},
     "output_type": "display_data"
    },
    {
     "data": {
      "application/vnd.jupyter.widget-view+json": {
       "model_id": "27548c0adaee4a5db276f9da9f7d616b",
       "version_major": 2,
       "version_minor": 0
      },
      "text/plain": [
       "  0%|          | 0/19 [00:00<?, ?it/s]"
      ]
     },
     "metadata": {},
     "output_type": "display_data"
    },
    {
     "name": "stdout",
     "output_type": "stream",
     "text": [
      "Epoch 3: train_loss 0.52441, val_loss 0.66191\n",
      "                   train_precision 0.5425898446956776, val_precision 0.3532083945293694\n",
      "                   train_recall 0.2576832151300236, val_recall 0.13851351351351351\n",
      "                   train_f1 0.3118214509281645, val_f1 0.18250593256777675\n"
     ]
    },
    {
     "data": {
      "application/vnd.jupyter.widget-view+json": {
       "model_id": "1c610c0fa9e24bb4b54aed66a19c2d66",
       "version_major": 2,
       "version_minor": 0
      },
      "text/plain": [
       "  0%|          | 0/27 [00:00<?, ?it/s]"
      ]
     },
     "metadata": {},
     "output_type": "display_data"
    },
    {
     "data": {
      "application/vnd.jupyter.widget-view+json": {
       "model_id": "a0b7f2b3d4624484a575762fe4572667",
       "version_major": 2,
       "version_minor": 0
      },
      "text/plain": [
       "  0%|          | 0/19 [00:00<?, ?it/s]"
      ]
     },
     "metadata": {},
     "output_type": "display_data"
    },
    {
     "name": "stdout",
     "output_type": "stream",
     "text": [
      "Epoch 4: train_loss 0.47293, val_loss 0.67155\n",
      "                   train_precision 0.6727757927879348, val_precision 0.39869148228281354\n",
      "                   train_recall 0.34515366430260047, val_recall 0.1891891891891892\n",
      "                   train_f1 0.3859102219250788, val_f1 0.23689110391617116\n"
     ]
    },
    {
     "data": {
      "application/vnd.jupyter.widget-view+json": {
       "model_id": "0e6d903dd6e148a0a33f0d2ad902862c",
       "version_major": 2,
       "version_minor": 0
      },
      "text/plain": [
       "  0%|          | 0/27 [00:00<?, ?it/s]"
      ]
     },
     "metadata": {},
     "output_type": "display_data"
    },
    {
     "data": {
      "application/vnd.jupyter.widget-view+json": {
       "model_id": "6bb130625e314a228588af89cc12928b",
       "version_major": 2,
       "version_minor": 0
      },
      "text/plain": [
       "  0%|          | 0/19 [00:00<?, ?it/s]"
      ]
     },
     "metadata": {},
     "output_type": "display_data"
    },
    {
     "name": "stdout",
     "output_type": "stream",
     "text": [
      "Epoch 5: train_loss 0.42597, val_loss 0.70837\n",
      "                   train_precision 0.6840293013504319, val_precision 0.40834116420520156\n",
      "                   train_recall 0.34515366430260047, val_recall 0.17567567567567569\n",
      "                   train_f1 0.3989964513385959, val_f1 0.22446103625258532\n"
     ]
    },
    {
     "data": {
      "application/vnd.jupyter.widget-view+json": {
       "model_id": "e5d421b6756d4e5b964c6e8b88f3edf4",
       "version_major": 2,
       "version_minor": 0
      },
      "text/plain": [
       "  0%|          | 0/27 [00:00<?, ?it/s]"
      ]
     },
     "metadata": {},
     "output_type": "display_data"
    },
    {
     "data": {
      "application/vnd.jupyter.widget-view+json": {
       "model_id": "3d1532f2c71c4de3b35ee883696b38e5",
       "version_major": 2,
       "version_minor": 0
      },
      "text/plain": [
       "  0%|          | 0/19 [00:00<?, ?it/s]"
      ]
     },
     "metadata": {},
     "output_type": "display_data"
    },
    {
     "name": "stdout",
     "output_type": "stream",
     "text": [
      "Epoch 6: train_loss 0.40360, val_loss 0.71912\n",
      "                   train_precision 0.756732282977751, val_precision 0.3170156938981768\n",
      "                   train_recall 0.43498817966903075, val_recall 0.16554054054054054\n",
      "                   train_f1 0.47843132989235465, val_f1 0.20172354313842064\n"
     ]
    },
    {
     "data": {
      "application/vnd.jupyter.widget-view+json": {
       "model_id": "6ac049c138254d47b74973642714c325",
       "version_major": 2,
       "version_minor": 0
      },
      "text/plain": [
       "  0%|          | 0/27 [00:00<?, ?it/s]"
      ]
     },
     "metadata": {},
     "output_type": "display_data"
    },
    {
     "data": {
      "application/vnd.jupyter.widget-view+json": {
       "model_id": "7fa4084f1b424e5d82f293b8d6acb75b",
       "version_major": 2,
       "version_minor": 0
      },
      "text/plain": [
       "  0%|          | 0/19 [00:00<?, ?it/s]"
      ]
     },
     "metadata": {},
     "output_type": "display_data"
    },
    {
     "name": "stdout",
     "output_type": "stream",
     "text": [
      "Epoch 7: train_loss 0.39252, val_loss 0.72535\n",
      "                   train_precision 0.7349995196161839, val_precision 0.35524364948420184\n",
      "                   train_recall 0.42080378250591016, val_recall 0.16554054054054054\n",
      "                   train_f1 0.4665254037898362, val_f1 0.20330600096017581\n"
     ]
    },
    {
     "data": {
      "application/vnd.jupyter.widget-view+json": {
       "model_id": "92b27481ccb34627ad6a953e0c09b683",
       "version_major": 2,
       "version_minor": 0
      },
      "text/plain": [
       "  0%|          | 0/27 [00:00<?, ?it/s]"
      ]
     },
     "metadata": {},
     "output_type": "display_data"
    },
    {
     "data": {
      "application/vnd.jupyter.widget-view+json": {
       "model_id": "231dd8e7c1b84125bbf666359f30d5c6",
       "version_major": 2,
       "version_minor": 0
      },
      "text/plain": [
       "  0%|          | 0/19 [00:00<?, ?it/s]"
      ]
     },
     "metadata": {},
     "output_type": "display_data"
    },
    {
     "name": "stdout",
     "output_type": "stream",
     "text": [
      "Epoch 8: train_loss 0.36134, val_loss 0.74402\n",
      "                   train_precision 0.73583678071942, val_precision 0.37545619193838403\n",
      "                   train_recall 0.4066193853427896, val_recall 0.17229729729729729\n",
      "                   train_f1 0.4363922978080234, val_f1 0.20900534687351024\n"
     ]
    },
    {
     "data": {
      "application/vnd.jupyter.widget-view+json": {
       "model_id": "faa90434f93f44878a77f5f93874cf65",
       "version_major": 2,
       "version_minor": 0
      },
      "text/plain": [
       "  0%|          | 0/27 [00:00<?, ?it/s]"
      ]
     },
     "metadata": {},
     "output_type": "display_data"
    },
    {
     "data": {
      "application/vnd.jupyter.widget-view+json": {
       "model_id": "fe518928cbd04acda04af680a782f928",
       "version_major": 2,
       "version_minor": 0
      },
      "text/plain": [
       "  0%|          | 0/19 [00:00<?, ?it/s]"
      ]
     },
     "metadata": {},
     "output_type": "display_data"
    },
    {
     "name": "stdout",
     "output_type": "stream",
     "text": [
      "Epoch 9: train_loss 0.35813, val_loss 0.74012\n",
      "                   train_precision 0.7633932938475851, val_precision 0.36472575526765266\n",
      "                   train_recall 0.4302600472813239, val_recall 0.17905405405405406\n",
      "                   train_f1 0.4638994592410596, val_f1 0.20975228461643342\n"
     ]
    },
    {
     "data": {
      "application/vnd.jupyter.widget-view+json": {
       "model_id": "9431c3921c324f9a93c4207fe760a16e",
       "version_major": 2,
       "version_minor": 0
      },
      "text/plain": [
       "  0%|          | 0/27 [00:00<?, ?it/s]"
      ]
     },
     "metadata": {},
     "output_type": "display_data"
    },
    {
     "data": {
      "application/vnd.jupyter.widget-view+json": {
       "model_id": "349db529320a44ebbe496e978326266b",
       "version_major": 2,
       "version_minor": 0
      },
      "text/plain": [
       "  0%|          | 0/19 [00:00<?, ?it/s]"
      ]
     },
     "metadata": {},
     "output_type": "display_data"
    },
    {
     "name": "stdout",
     "output_type": "stream",
     "text": [
      "Epoch 10: train_loss 0.35456, val_loss 0.73298\n",
      "                   train_precision 0.7286545288403709, val_precision 0.36559500368254777\n",
      "                   train_recall 0.3877068557919622, val_recall 0.15878378378378377\n",
      "                   train_f1 0.4350082712927149, val_f1 0.2006503414373113\n"
     ]
    },
    {
     "data": {
      "application/vnd.jupyter.widget-view+json": {
       "model_id": "ede68015a420426bac615a5eee64c321",
       "version_major": 2,
       "version_minor": 0
      },
      "text/plain": [
       "  0%|          | 0/27 [00:00<?, ?it/s]"
      ]
     },
     "metadata": {},
     "output_type": "display_data"
    },
    {
     "data": {
      "application/vnd.jupyter.widget-view+json": {
       "model_id": "24da81c11dd9479b9c2243972d7a3a3b",
       "version_major": 2,
       "version_minor": 0
      },
      "text/plain": [
       "  0%|          | 0/19 [00:00<?, ?it/s]"
      ]
     },
     "metadata": {},
     "output_type": "display_data"
    }
   ],
   "source": [
    "for epoch in range(EPOCHS):\n",
    "    train_metrics = train(vmbt, train_dl, optimizer, loss_fn=loss_func, cls_metrics=train_metrics)\n",
    "    train_loss, train_f1, train_r, train_p, train_acc = train_metrics\n",
    "    val_metrics = val(vmbt, val_dl, loss_fn=loss_func, cls_metrics=val_metrics)\n",
    "    val_loss, val_f1, val_r, val_p, val_acc = val_metrics\n",
    "\n",
    "    print(\n",
    "        (f\"Epoch {epoch + 1}: train_loss {train_loss:.5f}, val_loss {val_loss:.5f}\\n\"\n",
    "            f\"                   train_precision {train_p}, val_precision {val_p}\\n\"\n",
    "            f\"                   train_recall {train_r}, val_recall {val_r}\\n\"\n",
    "            f\"                   train_f1 {train_f1}, val_f1 {val_f1}\"\n",
    "            )\n",
    "        )\n",
    "    "
   ]
  }
 ],
 "metadata": {
  "kernelspec": {
   "display_name": "depmbt",
   "language": "python",
   "name": "python3"
  },
  "language_info": {
   "codemirror_mode": {
    "name": "ipython",
    "version": 3
   },
   "file_extension": ".py",
   "mimetype": "text/x-python",
   "name": "python",
   "nbconvert_exporter": "python",
   "pygments_lexer": "ipython3",
   "version": "3.9.16"
  },
  "orig_nbformat": 4
 },
 "nbformat": 4,
 "nbformat_minor": 2
}
