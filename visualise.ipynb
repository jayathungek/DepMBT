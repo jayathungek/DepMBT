{
 "cells": [
  {
   "cell_type": "code",
   "execution_count": 17,
   "metadata": {},
   "outputs": [
    {
     "data": {
      "text/html": [
       "        <script type=\"text/javascript\">\n",
       "        window.PlotlyConfig = {MathJaxConfig: 'local'};\n",
       "        if (window.MathJax && window.MathJax.Hub && window.MathJax.Hub.Config) {window.MathJax.Hub.Config({SVG: {font: \"STIX-Web\"}});}\n",
       "        if (typeof require !== 'undefined') {\n",
       "        require.undef(\"plotly\");\n",
       "        requirejs.config({\n",
       "            paths: {\n",
       "                'plotly': ['https://cdn.plot.ly/plotly-2.26.0.min']\n",
       "            }\n",
       "        });\n",
       "        require(['plotly'], function(Plotly) {\n",
       "            window._Plotly = Plotly;\n",
       "        });\n",
       "        }\n",
       "        </script>\n",
       "        "
      ]
     },
     "metadata": {},
     "output_type": "display_data"
    }
   ],
   "source": [
    "import numpy as np\n",
    "import plotly.express as px\n",
    "from plotly.offline import init_notebook_mode, iplot\n",
    "import plotly.graph_objs as go\n",
    "from importlib import reload\n",
    "import visualise\n",
    "reload(visualise)\n",
    "from visualise import get_tsne_points, do_inference\n",
    "from constants import *\n",
    "\n",
    "init_notebook_mode(connected=True)"
   ]
  },
  {
   "cell_type": "code",
   "execution_count": 18,
   "metadata": {},
   "outputs": [],
   "source": [
    "def plot_points(points: np.ndarray):\n",
    "    xs = points[:, 0]\n",
    "    ys = points[:, 1]\n",
    "    fig = px.scatter(x=xs, y=ys)\n",
    "    fig.update_layout(\n",
    "        autosize=False,\n",
    "        width=800,\n",
    "        height=800,\n",
    "        template='seaborn'\n",
    "        \n",
    "    )\n",
    "    fig.show()"
   ]
  },
  {
   "cell_type": "code",
   "execution_count": 19,
   "metadata": {},
   "outputs": [
    {
     "name": "stdout",
     "output_type": "stream",
     "text": [
      "Loading audio layers...\n",
      "torch.Size([1, 1, 1024]) torch.Size([1, 184, 1024])\n",
      "Loaded successfully in 3.8s\n",
      "Loading video layers...\n",
      "Loaded successfully in 3.9s\n",
      "Reset trainable parameters of layer = 8.norm1\n",
      "Reset trainable parameters of layer = 8.attn.qkv\n",
      "Reset trainable parameters of layer = 8.attn.proj\n",
      "Reset trainable parameters of layer = 8.norm2\n",
      "Reset trainable parameters of layer = 8.mlp.fc1\n",
      "Reset trainable parameters of layer = 8.mlp.fc2\n",
      "Reset trainable parameters of layer = 9.norm1\n",
      "Reset trainable parameters of layer = 9.attn.qkv\n",
      "Reset trainable parameters of layer = 9.attn.proj\n",
      "Reset trainable parameters of layer = 9.norm2\n",
      "Reset trainable parameters of layer = 9.mlp.fc1\n",
      "Reset trainable parameters of layer = 9.mlp.fc2\n",
      "Reset trainable parameters of layer = 8.norm1\n",
      "Reset trainable parameters of layer = 8.attn.qkv\n",
      "Reset trainable parameters of layer = 8.attn.proj\n",
      "Reset trainable parameters of layer = 8.norm2\n",
      "Reset trainable parameters of layer = 8.mlp.fc1\n",
      "Reset trainable parameters of layer = 8.mlp.fc2\n",
      "Reset trainable parameters of layer = 9.norm1\n",
      "Reset trainable parameters of layer = 9.attn.qkv\n",
      "Reset trainable parameters of layer = 9.attn.proj\n",
      "Reset trainable parameters of layer = 9.norm2\n",
      "Reset trainable parameters of layer = 9.mlp.fc1\n",
      "Reset trainable parameters of layer = 9.mlp.fc2\n"
     ]
    },
    {
     "name": "stderr",
     "output_type": "stream",
     "text": [
      "  0%|          | 0/14 [00:00<?, ?it/s]/root/depmbt/data.py:32: FutureWarning:\n",
      "\n",
      "Series.__getitem__ treating keys as positions is deprecated. In a future version, integer keys will always be treated as labels (consistent with DataFrame behavior). To access a value by position, use `ser.iloc[pos]`\n",
      "\n",
      "/root/miniconda/envs/depmbt/lib/python3.9/site-packages/librosa/util/decorators.py:88: UserWarning:\n",
      "\n",
      "PySoundFile failed. Trying audioread instead.\n",
      "\n",
      "/root/miniconda/envs/depmbt/lib/python3.9/site-packages/librosa/util/decorators.py:88: UserWarning:\n",
      "\n",
      "PySoundFile failed. Trying audioread instead.\n",
      "\n",
      "/root/miniconda/envs/depmbt/lib/python3.9/site-packages/librosa/util/decorators.py:88: UserWarning:\n",
      "\n",
      "PySoundFile failed. Trying audioread instead.\n",
      "\n",
      "/root/miniconda/envs/depmbt/lib/python3.9/site-packages/librosa/util/decorators.py:88: UserWarning:\n",
      "\n",
      "PySoundFile failed. Trying audioread instead.\n",
      "\n",
      "/root/miniconda/envs/depmbt/lib/python3.9/site-packages/librosa/util/decorators.py:88: UserWarning:\n",
      "\n",
      "PySoundFile failed. Trying audioread instead.\n",
      "\n",
      "/root/miniconda/envs/depmbt/lib/python3.9/site-packages/librosa/util/decorators.py:88: UserWarning:\n",
      "\n",
      "PySoundFile failed. Trying audioread instead.\n",
      "\n",
      "/root/miniconda/envs/depmbt/lib/python3.9/site-packages/librosa/util/decorators.py:88: UserWarning:\n",
      "\n",
      "PySoundFile failed. Trying audioread instead.\n",
      "\n",
      "/root/miniconda/envs/depmbt/lib/python3.9/site-packages/librosa/util/decorators.py:88: UserWarning:\n",
      "\n",
      "PySoundFile failed. Trying audioread instead.\n",
      "\n",
      "  7%|▋         | 1/14 [00:11<02:33, 11.82s/it]/root/depmbt/data.py:32: FutureWarning:\n",
      "\n",
      "Series.__getitem__ treating keys as positions is deprecated. In a future version, integer keys will always be treated as labels (consistent with DataFrame behavior). To access a value by position, use `ser.iloc[pos]`\n",
      "\n",
      "/root/miniconda/envs/depmbt/lib/python3.9/site-packages/librosa/util/decorators.py:88: UserWarning:\n",
      "\n",
      "PySoundFile failed. Trying audioread instead.\n",
      "\n",
      "/root/miniconda/envs/depmbt/lib/python3.9/site-packages/librosa/util/decorators.py:88: UserWarning:\n",
      "\n",
      "PySoundFile failed. Trying audioread instead.\n",
      "\n",
      "/root/miniconda/envs/depmbt/lib/python3.9/site-packages/librosa/util/decorators.py:88: UserWarning:\n",
      "\n",
      "PySoundFile failed. Trying audioread instead.\n",
      "\n",
      "/root/miniconda/envs/depmbt/lib/python3.9/site-packages/librosa/util/decorators.py:88: UserWarning:\n",
      "\n",
      "PySoundFile failed. Trying audioread instead.\n",
      "\n",
      "/root/miniconda/envs/depmbt/lib/python3.9/site-packages/librosa/util/decorators.py:88: UserWarning:\n",
      "\n",
      "PySoundFile failed. Trying audioread instead.\n",
      "\n",
      "/root/miniconda/envs/depmbt/lib/python3.9/site-packages/librosa/util/decorators.py:88: UserWarning:\n",
      "\n",
      "PySoundFile failed. Trying audioread instead.\n",
      "\n",
      "/root/miniconda/envs/depmbt/lib/python3.9/site-packages/librosa/util/decorators.py:88: UserWarning:\n",
      "\n",
      "PySoundFile failed. Trying audioread instead.\n",
      "\n",
      "/root/miniconda/envs/depmbt/lib/python3.9/site-packages/librosa/util/decorators.py:88: UserWarning:\n",
      "\n",
      "PySoundFile failed. Trying audioread instead.\n",
      "\n",
      " 14%|█▍        | 2/14 [00:20<01:57,  9.76s/it]/root/depmbt/data.py:32: FutureWarning:\n",
      "\n",
      "Series.__getitem__ treating keys as positions is deprecated. In a future version, integer keys will always be treated as labels (consistent with DataFrame behavior). To access a value by position, use `ser.iloc[pos]`\n",
      "\n",
      "/root/miniconda/envs/depmbt/lib/python3.9/site-packages/librosa/util/decorators.py:88: UserWarning:\n",
      "\n",
      "PySoundFile failed. Trying audioread instead.\n",
      "\n",
      "/root/miniconda/envs/depmbt/lib/python3.9/site-packages/librosa/util/decorators.py:88: UserWarning:\n",
      "\n",
      "PySoundFile failed. Trying audioread instead.\n",
      "\n",
      "/root/miniconda/envs/depmbt/lib/python3.9/site-packages/librosa/util/decorators.py:88: UserWarning:\n",
      "\n",
      "PySoundFile failed. Trying audioread instead.\n",
      "\n",
      "/root/miniconda/envs/depmbt/lib/python3.9/site-packages/librosa/util/decorators.py:88: UserWarning:\n",
      "\n",
      "PySoundFile failed. Trying audioread instead.\n",
      "\n",
      "/root/miniconda/envs/depmbt/lib/python3.9/site-packages/librosa/util/decorators.py:88: UserWarning:\n",
      "\n",
      "PySoundFile failed. Trying audioread instead.\n",
      "\n",
      "/root/miniconda/envs/depmbt/lib/python3.9/site-packages/librosa/util/decorators.py:88: UserWarning:\n",
      "\n",
      "PySoundFile failed. Trying audioread instead.\n",
      "\n",
      "/root/miniconda/envs/depmbt/lib/python3.9/site-packages/librosa/util/decorators.py:88: UserWarning:\n",
      "\n",
      "PySoundFile failed. Trying audioread instead.\n",
      "\n",
      "/root/miniconda/envs/depmbt/lib/python3.9/site-packages/librosa/util/decorators.py:88: UserWarning:\n",
      "\n",
      "PySoundFile failed. Trying audioread instead.\n",
      "\n",
      " 14%|█▍        | 2/14 [00:28<02:48, 14.03s/it]\n"
     ]
    },
    {
     "ename": "RuntimeError",
     "evalue": "Caught RuntimeError in replica 1 on device 1.\nOriginal Traceback (most recent call last):\n  File \"/root/miniconda/envs/depmbt/lib/python3.9/site-packages/torch/nn/parallel/parallel_apply.py\", line 61, in _worker\n    output = module(*input, **kwargs)\n  File \"/root/miniconda/envs/depmbt/lib/python3.9/site-packages/torch/nn/modules/module.py\", line 1102, in _call_impl\n    return forward_call(*input, **kwargs)\n  File \"/root/depmbt/vitmbt.py\", line 193, in forward\n    a  = self.multimodal_audio[i](a)\n  File \"/root/miniconda/envs/depmbt/lib/python3.9/site-packages/torch/nn/modules/module.py\", line 1102, in _call_impl\n    return forward_call(*input, **kwargs)\n  File \"/root/depmbt/vision_transformer.py\", line 153, in forward\n    x = x + self.drop_path1(self.ls1(self.attn(self.norm1(x))))\n  File \"/root/miniconda/envs/depmbt/lib/python3.9/site-packages/torch/nn/modules/module.py\", line 1102, in _call_impl\n    return forward_call(*input, **kwargs)\n  File \"/root/depmbt/vision_transformer.py\", line 82, in forward\n    q, k = self.q_norm(q), self.k_norm(k)\n  File \"/root/miniconda/envs/depmbt/lib/python3.9/site-packages/torch/nn/modules/module.py\", line 1102, in _call_impl\n    return forward_call(*input, **kwargs)\n  File \"/root/miniconda/envs/depmbt/lib/python3.9/site-packages/torch/nn/modules/normalization.py\", line 189, in forward\n    return F.layer_norm(\n  File \"/root/miniconda/envs/depmbt/lib/python3.9/site-packages/torch/nn/functional.py\", line 2347, in layer_norm\n    return torch.layer_norm(input, normalized_shape, weight, bias, eps, torch.backends.cudnn.enabled)\nRuntimeError: CUDA out of memory. Tried to allocate 20.00 MiB (GPU 1; 23.69 GiB total capacity; 19.74 GiB already allocated; 4.69 MiB free; 21.43 GiB reserved in total by PyTorch) If reserved memory is >> allocated memory try setting max_split_size_mb to avoid fragmentation.  See documentation for Memory Management and PYTORCH_CUDA_ALLOC_CONF\n",
     "output_type": "error",
     "traceback": [
      "\u001b[0;31m---------------------------------------------------------------------------\u001b[0m",
      "\u001b[0;31mRuntimeError\u001b[0m                              Traceback (most recent call last)",
      "Cell \u001b[0;32mIn[19], line 1\u001b[0m\n\u001b[0;32m----> 1\u001b[0m points2d, labels \u001b[39m=\u001b[39m do_inference(\u001b[39mf\u001b[39;49m\u001b[39m\"\u001b[39;49m\u001b[39m{\u001b[39;49;00mDATA_DIR\u001b[39m}\u001b[39;49;00m\u001b[39m/Labels/all_pruned.csv\u001b[39;49m\u001b[39m\"\u001b[39;49m, \u001b[39m\"\u001b[39;49m\u001b[39msaved_models/mbt_student_val_loss_3395.08605.pth\u001b[39;49m\u001b[39m\"\u001b[39;49m)\n",
      "File \u001b[0;32m~/depmbt/visualise.py:66\u001b[0m, in \u001b[0;36mdo_inference\u001b[0;34m(dataset_path, model_path)\u001b[0m\n\u001b[1;32m     61\u001b[0m _, _, test_dl  \u001b[39m=\u001b[39m load_data(dataset_path, \n\u001b[1;32m     62\u001b[0m                             batch_sz\u001b[39m=\u001b[39mBATCH_SZ,\n\u001b[1;32m     63\u001b[0m                             train_val_test_split\u001b[39m=\u001b[39m[\u001b[39m0.8\u001b[39m, \u001b[39m0.1\u001b[39m, \u001b[39m0.1\u001b[39m])\n\u001b[1;32m     65\u001b[0m model \u001b[39m=\u001b[39m load_model(model_path)\n\u001b[0;32m---> 66\u001b[0m embeddings, labels \u001b[39m=\u001b[39m get_embeddings_and_labels(test_dl, model)\n\u001b[1;32m     67\u001b[0m points2d \u001b[39m=\u001b[39m get_tsne_points(embeddings)\n\u001b[1;32m     68\u001b[0m \u001b[39mreturn\u001b[39;00m points2d, labels\n",
      "File \u001b[0;32m~/depmbt/visualise.py:38\u001b[0m, in \u001b[0;36mget_embeddings_and_labels\u001b[0;34m(dataloader, model)\u001b[0m\n\u001b[1;32m     36\u001b[0m video_batch \u001b[39m=\u001b[39m video_batch\u001b[39m.\u001b[39mto(DEVICE)\n\u001b[1;32m     37\u001b[0m audio_batch \u001b[39m=\u001b[39m audio_batch\u001b[39m.\u001b[39mto(DEVICE)\n\u001b[0;32m---> 38\u001b[0m student_embedding \u001b[39m=\u001b[39m model(audio_batch, video_batch)\n\u001b[1;32m     39\u001b[0m student_outputs\u001b[39m.\u001b[39mappend(student_embedding)\n\u001b[1;32m     40\u001b[0m \u001b[39mfor\u001b[39;00m label \u001b[39min\u001b[39;00m data[\u001b[39m\"\u001b[39m\u001b[39mlabels\u001b[39m\u001b[39m\"\u001b[39m]:\n",
      "File \u001b[0;32m~/miniconda/envs/depmbt/lib/python3.9/site-packages/torch/nn/modules/module.py:1102\u001b[0m, in \u001b[0;36mModule._call_impl\u001b[0;34m(self, *input, **kwargs)\u001b[0m\n\u001b[1;32m   1098\u001b[0m \u001b[39m# If we don't have any hooks, we want to skip the rest of the logic in\u001b[39;00m\n\u001b[1;32m   1099\u001b[0m \u001b[39m# this function, and just call forward.\u001b[39;00m\n\u001b[1;32m   1100\u001b[0m \u001b[39mif\u001b[39;00m \u001b[39mnot\u001b[39;00m (\u001b[39mself\u001b[39m\u001b[39m.\u001b[39m_backward_hooks \u001b[39mor\u001b[39;00m \u001b[39mself\u001b[39m\u001b[39m.\u001b[39m_forward_hooks \u001b[39mor\u001b[39;00m \u001b[39mself\u001b[39m\u001b[39m.\u001b[39m_forward_pre_hooks \u001b[39mor\u001b[39;00m _global_backward_hooks\n\u001b[1;32m   1101\u001b[0m         \u001b[39mor\u001b[39;00m _global_forward_hooks \u001b[39mor\u001b[39;00m _global_forward_pre_hooks):\n\u001b[0;32m-> 1102\u001b[0m     \u001b[39mreturn\u001b[39;00m forward_call(\u001b[39m*\u001b[39;49m\u001b[39minput\u001b[39;49m, \u001b[39m*\u001b[39;49m\u001b[39m*\u001b[39;49mkwargs)\n\u001b[1;32m   1103\u001b[0m \u001b[39m# Do not call functions when jit is used\u001b[39;00m\n\u001b[1;32m   1104\u001b[0m full_backward_hooks, non_full_backward_hooks \u001b[39m=\u001b[39m [], []\n",
      "File \u001b[0;32m~/miniconda/envs/depmbt/lib/python3.9/site-packages/torch/nn/parallel/data_parallel.py:168\u001b[0m, in \u001b[0;36mDataParallel.forward\u001b[0;34m(self, *inputs, **kwargs)\u001b[0m\n\u001b[1;32m    166\u001b[0m     \u001b[39mreturn\u001b[39;00m \u001b[39mself\u001b[39m\u001b[39m.\u001b[39mmodule(\u001b[39m*\u001b[39minputs[\u001b[39m0\u001b[39m], \u001b[39m*\u001b[39m\u001b[39m*\u001b[39mkwargs[\u001b[39m0\u001b[39m])\n\u001b[1;32m    167\u001b[0m replicas \u001b[39m=\u001b[39m \u001b[39mself\u001b[39m\u001b[39m.\u001b[39mreplicate(\u001b[39mself\u001b[39m\u001b[39m.\u001b[39mmodule, \u001b[39mself\u001b[39m\u001b[39m.\u001b[39mdevice_ids[:\u001b[39mlen\u001b[39m(inputs)])\n\u001b[0;32m--> 168\u001b[0m outputs \u001b[39m=\u001b[39m \u001b[39mself\u001b[39;49m\u001b[39m.\u001b[39;49mparallel_apply(replicas, inputs, kwargs)\n\u001b[1;32m    169\u001b[0m \u001b[39mreturn\u001b[39;00m \u001b[39mself\u001b[39m\u001b[39m.\u001b[39mgather(outputs, \u001b[39mself\u001b[39m\u001b[39m.\u001b[39moutput_device)\n",
      "File \u001b[0;32m~/miniconda/envs/depmbt/lib/python3.9/site-packages/torch/nn/parallel/data_parallel.py:178\u001b[0m, in \u001b[0;36mDataParallel.parallel_apply\u001b[0;34m(self, replicas, inputs, kwargs)\u001b[0m\n\u001b[1;32m    177\u001b[0m \u001b[39mdef\u001b[39;00m \u001b[39mparallel_apply\u001b[39m(\u001b[39mself\u001b[39m, replicas, inputs, kwargs):\n\u001b[0;32m--> 178\u001b[0m     \u001b[39mreturn\u001b[39;00m parallel_apply(replicas, inputs, kwargs, \u001b[39mself\u001b[39;49m\u001b[39m.\u001b[39;49mdevice_ids[:\u001b[39mlen\u001b[39;49m(replicas)])\n",
      "File \u001b[0;32m~/miniconda/envs/depmbt/lib/python3.9/site-packages/torch/nn/parallel/parallel_apply.py:86\u001b[0m, in \u001b[0;36mparallel_apply\u001b[0;34m(modules, inputs, kwargs_tup, devices)\u001b[0m\n\u001b[1;32m     84\u001b[0m     output \u001b[39m=\u001b[39m results[i]\n\u001b[1;32m     85\u001b[0m     \u001b[39mif\u001b[39;00m \u001b[39misinstance\u001b[39m(output, ExceptionWrapper):\n\u001b[0;32m---> 86\u001b[0m         output\u001b[39m.\u001b[39;49mreraise()\n\u001b[1;32m     87\u001b[0m     outputs\u001b[39m.\u001b[39mappend(output)\n\u001b[1;32m     88\u001b[0m \u001b[39mreturn\u001b[39;00m outputs\n",
      "File \u001b[0;32m~/miniconda/envs/depmbt/lib/python3.9/site-packages/torch/_utils.py:434\u001b[0m, in \u001b[0;36mExceptionWrapper.reraise\u001b[0;34m(self)\u001b[0m\n\u001b[1;32m    430\u001b[0m \u001b[39mexcept\u001b[39;00m \u001b[39mTypeError\u001b[39;00m:\n\u001b[1;32m    431\u001b[0m     \u001b[39m# If the exception takes multiple arguments, don't try to\u001b[39;00m\n\u001b[1;32m    432\u001b[0m     \u001b[39m# instantiate since we don't know how to\u001b[39;00m\n\u001b[1;32m    433\u001b[0m     \u001b[39mraise\u001b[39;00m \u001b[39mRuntimeError\u001b[39;00m(msg) \u001b[39mfrom\u001b[39;00m \u001b[39mNone\u001b[39;00m\n\u001b[0;32m--> 434\u001b[0m \u001b[39mraise\u001b[39;00m exception\n",
      "\u001b[0;31mRuntimeError\u001b[0m: Caught RuntimeError in replica 1 on device 1.\nOriginal Traceback (most recent call last):\n  File \"/root/miniconda/envs/depmbt/lib/python3.9/site-packages/torch/nn/parallel/parallel_apply.py\", line 61, in _worker\n    output = module(*input, **kwargs)\n  File \"/root/miniconda/envs/depmbt/lib/python3.9/site-packages/torch/nn/modules/module.py\", line 1102, in _call_impl\n    return forward_call(*input, **kwargs)\n  File \"/root/depmbt/vitmbt.py\", line 193, in forward\n    a  = self.multimodal_audio[i](a)\n  File \"/root/miniconda/envs/depmbt/lib/python3.9/site-packages/torch/nn/modules/module.py\", line 1102, in _call_impl\n    return forward_call(*input, **kwargs)\n  File \"/root/depmbt/vision_transformer.py\", line 153, in forward\n    x = x + self.drop_path1(self.ls1(self.attn(self.norm1(x))))\n  File \"/root/miniconda/envs/depmbt/lib/python3.9/site-packages/torch/nn/modules/module.py\", line 1102, in _call_impl\n    return forward_call(*input, **kwargs)\n  File \"/root/depmbt/vision_transformer.py\", line 82, in forward\n    q, k = self.q_norm(q), self.k_norm(k)\n  File \"/root/miniconda/envs/depmbt/lib/python3.9/site-packages/torch/nn/modules/module.py\", line 1102, in _call_impl\n    return forward_call(*input, **kwargs)\n  File \"/root/miniconda/envs/depmbt/lib/python3.9/site-packages/torch/nn/modules/normalization.py\", line 189, in forward\n    return F.layer_norm(\n  File \"/root/miniconda/envs/depmbt/lib/python3.9/site-packages/torch/nn/functional.py\", line 2347, in layer_norm\n    return torch.layer_norm(input, normalized_shape, weight, bias, eps, torch.backends.cudnn.enabled)\nRuntimeError: CUDA out of memory. Tried to allocate 20.00 MiB (GPU 1; 23.69 GiB total capacity; 19.74 GiB already allocated; 4.69 MiB free; 21.43 GiB reserved in total by PyTorch) If reserved memory is >> allocated memory try setting max_split_size_mb to avoid fragmentation.  See documentation for Memory Management and PYTORCH_CUDA_ALLOC_CONF\n"
     ]
    }
   ],
   "source": [
    "import warnings\n",
    "warnings.filterwarnings('ignore')\n",
    "\n",
    "\n",
    "points2d, labels = do_inference(f\"{DATA_DIR}/Labels/all_pruned.csv\", \"saved_models/mbt_student_val_loss_3395.08605.pth\")"
   ]
  },
  {
   "cell_type": "code",
   "execution_count": 13,
   "metadata": {},
   "outputs": [
    {
     "data": {
      "application/vnd.plotly.v1+json": {
       "config": {
        "plotlyServerURL": "https://plot.ly"
       },
       "data": [
        {
         "hovertemplate": "x=%{x}<br>y=%{y}<extra></extra>",
         "legendgroup": "",
         "marker": {
          "color": "#636efa",
          "symbol": "circle"
         },
         "mode": "markers",
         "name": "",
         "orientation": "v",
         "showlegend": false,
         "type": "scatter",
         "x": [
          -2.2318780422210693,
          -0.20376034080982208,
          -0.10873711109161377,
          0.7146558165550232,
          2.2416818141937256,
          0.5272908806800842,
          1.5241892337799072,
          -2.3815276622772217,
          0.7748973965644836,
          -0.11258648335933685,
          1.4769070148468018,
          0.13325101137161255,
          0.9103341102600098,
          1.9439733028411865,
          -1.48746919631958,
          -0.9619506001472473,
          2.207313060760498,
          -0.10666543245315552,
          -1.5927485227584839,
          -3.609968662261963,
          -2.91493821144104,
          -2.4061758518218994,
          -1.4017874002456665,
          -2.6506707668304443,
          -0.0042444635182619095,
          -0.46790000796318054,
          0.4077252149581909,
          -1.8322819471359253,
          -1.4737128019332886,
          -2.1636178493499756,
          0.4140135645866394,
          1.1507008075714111,
          -1.066698431968689,
          1.226871371269226,
          -1.6890182495117188,
          1.8021495342254639,
          2.6409451961517334,
          -2.7678909301757812,
          -2.7459700107574463,
          -0.28726696968078613,
          0.9589067101478577,
          1.419421911239624,
          2.8996918201446533,
          -1.1568996906280518,
          2.8539066314697266,
          -0.7423839569091797,
          -0.18794162571430206,
          -0.5897248387336731,
          -1.099584698677063,
          0.9667292237281799,
          1.8987821340560913,
          -3.406465530395508,
          -0.2717384099960327,
          -0.6406094431877136,
          0.6512911319732666,
          -2.3219175338745117,
          0.6787961721420288,
          -3.764603853225708,
          2.2447521686553955,
          3.631927251815796,
          1.9111647605895996,
          -0.040877312421798706,
          -3.034367799758911,
          2.975497245788574,
          -1.37326180934906,
          -1.208996295928955,
          1.278780221939087,
          0.2665858864784241,
          1.6232141256332397,
          2.7383697032928467,
          1.091457724571228,
          0.07387103885412216,
          1.3429689407348633,
          1.4103751182556152,
          0.3846433758735657,
          0.535485565662384,
          -0.8857523798942566,
          1.206895351409912,
          0.33288291096687317,
          -0.9329856038093567,
          -0.6925541162490845,
          -0.6417899131774902,
          2.4076476097106934,
          0.020277760922908783,
          0.09179170429706573,
          1.5794512033462524,
          -2.2147583961486816,
          1.44781494140625,
          -0.2062845379114151,
          -0.9838504791259766,
          -0.744099497795105,
          1.3535808324813843,
          0.7224762439727783,
          0.8356468677520752,
          1.0890356302261353,
          1.5455410480499268,
          -2.9449024200439453,
          2.8950510025024414,
          -2.9734694957733154,
          -1.8689401149749756,
          2.0849573612213135,
          -2.2912418842315674,
          -0.5640467405319214,
          0.10844055563211441,
          0.7786502838134766,
          -0.5814923048019409,
          -1.6268467903137207,
          0.5867693424224854,
          0.7299468517303467,
          0.46225231885910034,
          0.44069603085517883,
          -0.11224400997161865,
          -0.6041330099105835,
          -1.7693299055099487,
          0.381736159324646,
          -2.3948073387145996,
          -0.5269790291786194,
          2.0735394954681396,
          2.023299217224121,
          1.0605065822601318,
          -1.6266926527023315,
          0.4301060438156128,
          0.6198007464408875,
          -2.093366861343384,
          2.4678385257720947,
          -0.5495257377624512,
          -0.19154837727546692,
          -0.5794095396995544,
          0.7720156908035278,
          -0.532442569732666,
          0.13673007488250732,
          -1.628135323524475,
          -0.645715057849884,
          -2.216491460800171,
          0.3446519672870636,
          0.31638896465301514,
          -0.33249029517173767,
          -0.8651699423789978,
          3.3747806549072266,
          2.2663347721099854,
          -3.719600200653076,
          1.1187188625335693,
          -2.8078179359436035,
          -0.47895652055740356,
          0.3418333828449249,
          -1.2551367282867432,
          -1.2588392496109009,
          0.7661735415458679,
          2.137928009033203,
          1.1035720109939575,
          -0.2899707555770874,
          -2.7886664867401123,
          2.8163580894470215,
          1.2045482397079468,
          -0.4278239905834198,
          -1.671279788017273,
          -0.41152459383010864,
          0.4509768784046173,
          -0.06260479241609573,
          3.6683218479156494,
          -0.4811490476131439,
          1.6680022478103638,
          0.15184780955314636,
          -1.1031631231307983,
          -1.6877210140228271,
          -1.888572096824646,
          1.8823013305664062,
          -2.592731237411499,
          -0.848297655582428,
          -2.46504807472229,
          -1.7681471109390259,
          -0.0913495421409607,
          -2.7583792209625244,
          -0.9429322481155396,
          -0.02913205325603485,
          -1.4950659275054932,
          -0.7285294532775879,
          -0.8387162089347839,
          -1.7177363634109497,
          -0.6818681955337524,
          0.7934455871582031,
          -0.051493026316165924,
          -0.8402743339538574,
          -1.9628599882125854,
          2.1631577014923096,
          3.1331093311309814,
          -1.482674479484558,
          -0.49189406633377075,
          1.430848479270935,
          -1.3443413972854614,
          -0.5645925402641296,
          -1.0928046703338623,
          -0.9993621706962585,
          -0.8067623376846313,
          0.18091154098510742,
          -2.3048462867736816,
          -2.549913167953491,
          0.975942850112915,
          0.2571890950202942,
          -1.7952543497085571,
          -1.7645686864852905,
          -1.0039247274398804,
          1.262210726737976,
          -3.3367578983306885,
          -3.454184055328369,
          0.04154076427221298,
          -0.181271031498909,
          0.7585737705230713,
          1.4201604127883911,
          -2.046962022781372,
          0.542019784450531,
          -1.4057344198226929,
          -1.092719316482544,
          -1.2596676349639893,
          0.7133724689483643,
          2.50297212600708,
          0.35791218280792236,
          -0.02818462997674942,
          -2.389289617538452,
          -1.346465826034546,
          -1.1755818128585815,
          2.38997220993042,
          0.15224513411521912,
          -2.756192445755005,
          -1.655875325202942,
          -1.0233771800994873,
          -2.751026153564453,
          2.652331829071045,
          1.0043452978134155,
          -2.557995557785034,
          -0.2799111008644104,
          -0.13679057359695435,
          1.4019629955291748,
          -1.2711026668548584,
          1.0123207569122314,
          -1.6393210887908936,
          -1.686652421951294,
          0.02894432097673416,
          0.43007513880729675,
          -0.7125778794288635,
          -1.035898208618164,
          -2.7873122692108154,
          0.9072015881538391,
          2.207061290740967,
          0.8663719296455383,
          0.6776737570762634,
          0.4633124768733978,
          1.8157634735107422,
          -0.4225212633609772,
          0.5293292999267578,
          2.0275397300720215,
          -1.0680365562438965,
          -1.8738702535629272,
          -0.16990481317043304,
          -0.7711734175682068,
          -3.533271074295044,
          -1.2793207168579102,
          2.01784610748291,
          -1.6004606485366821,
          -2.0558154582977295,
          -1.1151093244552612,
          -0.024530472233891487,
          1.5039219856262207,
          1.05599045753479,
          -0.5330491065979004,
          1.0367867946624756,
          -1.095704197883606,
          -2.106466054916382,
          -0.9822311997413635,
          -0.6413114666938782,
          1.9994515180587769,
          -0.559447169303894,
          0.6348326206207275,
          1.3223658800125122,
          -3.082557439804077,
          1.6130977869033813,
          -1.1181894540786743,
          1.648749589920044,
          1.5440560579299927,
          1.4372555017471313,
          1.0479129552841187,
          0.18832677602767944,
          1.259604573249817,
          2.8216500282287598,
          0.42864224314689636,
          -2.0119223594665527,
          2.3352158069610596,
          1.2886114120483398,
          -0.05886120721697807,
          0.45299893617630005,
          -0.08663096278905869,
          -3.7318496704101562,
          0.9632155895233154,
          0.1405189484357834,
          2.7025890350341797,
          -0.17684608697891235,
          0.7797256708145142,
          1.0680512189865112,
          -0.5060418844223022,
          2.2906758785247803
         ],
         "xaxis": "x",
         "y": [
          0.5885833501815796,
          -2.763495922088623,
          -0.7897455096244812,
          -1.1863902807235718,
          2.4657061100006104,
          -1.8296629190444946,
          -3.3826491832733154,
          -0.644532322883606,
          0.5701181292533875,
          0.5339519381523132,
          -0.2898240089416504,
          -0.003277630778029561,
          0.8492940068244934,
          0.39474180340766907,
          2.006800651550293,
          3.0326385498046875,
          2.827481269836426,
          -0.04978175833821297,
          -1.9431352615356445,
          0.3536279499530792,
          -3.089042901992798,
          -1.868537425994873,
          0.7191762328147888,
          -1.052882194519043,
          0.2410593181848526,
          -1.3642628192901611,
          0.7921010851860046,
          -1.3411191701889038,
          -0.6580745577812195,
          0.09987763315439224,
          0.6014297604560852,
          -1.273594617843628,
          1.6147418022155762,
          -0.09389261901378632,
          -0.048375796526670456,
          -1.4649758338928223,
          -0.26664289832115173,
          0.004520433954894543,
          -1.106208324432373,
          1.6208940744400024,
          2.490205764770508,
          -2.925795793533325,
          -1.8160433769226074,
          1.2340519428253174,
          2.0922937393188477,
          1.820132851600647,
          -3.407837390899658,
          1.6556422710418701,
          -0.6278706192970276,
          -0.22021572291851044,
          -1.736572027206421,
          0.12582218647003174,
          0.35263174772262573,
          -0.2065206915140152,
          -1.8001983165740967,
          0.4761958420276642,
          -2.5630946159362793,
          -0.7421478033065796,
          -0.5244607329368591,
          -0.06943444162607193,
          0.4808098375797272,
          1.4398552179336548,
          -2.1534087657928467,
          -0.23166364431381226,
          0.9117811322212219,
          -1.5695780515670776,
          0.3660549223423004,
          -0.6967999339103699,
          0.04423708841204643,
          1.2125966548919678,
          0.28327903151512146,
          0.043293341994285583,
          -0.7493200898170471,
          2.0134990215301514,
          -2.2302746772766113,
          -0.38964980840682983,
          2.427464485168457,
          -0.9173732399940491,
          0.3763800263404846,
          -0.5233232975006104,
          -2.127511501312256,
          -0.07728615403175354,
          0.9227908849716187,
          1.354741096496582,
          0.09340915828943253,
          2.7807352542877197,
          1.6282708644866943,
          -0.12475018948316574,
          -2.9749338626861572,
          -1.203805923461914,
          1.0409035682678223,
          -1.2015361785888672,
          -0.22717177867889404,
          -0.669441819190979,
          -0.5044083595275879,
          1.0924240350723267,
          0.05333497002720833,
          -1.824041724205017,
          -0.3993969261646271,
          3.156726598739624,
          -0.816279947757721,
          -2.6193835735321045,
          1.096565842628479,
          0.5252507925033569,
          -1.3166677951812744,
          1.0068234205245972,
          0.20106704533100128,
          -1.0086264610290527,
          2.3607964515686035,
          0.18905119597911835,
          1.2738854885101318,
          -1.2723578214645386,
          -2.1506845951080322,
          -0.41414541006088257,
          2.9201161861419678,
          -0.6636344194412231,
          -0.9777716994285583,
          -1.1610338687896729,
          1.503822922706604,
          -3.600423574447632,
          0.27507755160331726,
          1.4483202695846558,
          -3.8644654750823975,
          -3.0389811992645264,
          -2.5406737327575684,
          -0.8281130790710449,
          -0.35793882608413696,
          -1.9673467874526978,
          -0.48869815468788147,
          2.7182559967041016,
          1.855099081993103,
          -1.957316517829895,
          -1.3526095151901245,
          -0.5511958599090576,
          -0.6394490599632263,
          2.25717830657959,
          0.8959636092185974,
          -0.8886515498161316,
          -0.9909382462501526,
          0.7663429379463196,
          1.6153072118759155,
          1.2263567447662354,
          1.195345401763916,
          0.30416133999824524,
          2.776484966278076,
          1.111016035079956,
          -2.0080857276916504,
          0.17716507613658905,
          -1.3366833925247192,
          -2.528244733810425,
          -0.7535021901130676,
          0.7733500003814697,
          0.5148721933364868,
          1.0975500345230103,
          1.1744521856307983,
          -1.3330858945846558,
          1.8732645511627197,
          1.5831496715545654,
          0.639764666557312,
          0.033562298864126205,
          3.65632700920105,
          -1.5220829248428345,
          0.10864575207233429,
          -0.672142505645752,
          -1.1294424533843994,
          2.4373326301574707,
          0.4156741797924042,
          1.1816000938415527,
          -3.819267511367798,
          1.9551376104354858,
          -2.515714168548584,
          0.31478017568588257,
          1.6304378509521484,
          2.1631767749786377,
          -1.2860631942749023,
          2.2545325756073,
          -0.12808720767498016,
          -3.728959560394287,
          -3.3577558994293213,
          -0.9324914216995239,
          -2.1583316326141357,
          -2.1729390621185303,
          0.30342695116996765,
          1.4716215133666992,
          -0.5202087163925171,
          1.1045578718185425,
          2.181983470916748,
          -2.4852633476257324,
          2.1722400188446045,
          -2.42563796043396,
          -1.997885823249817,
          -1.261148452758789,
          0.3994922339916229,
          0.37557560205459595,
          0.6045309901237488,
          -1.7649626731872559,
          2.551331043243408,
          -0.011753953993320465,
          1.5041486024856567,
          -0.8112784028053284,
          -1.9356601238250732,
          0.5670143365859985,
          -3.235638380050659,
          -1.4930737018585205,
          0.9374364018440247,
          2.8304603099823,
          -1.6103399991989136,
          -0.27631279826164246,
          -0.14341211318969727,
          1.074405550956726,
          -0.8333752751350403,
          -2.3847811222076416,
          2.80538272857666,
          2.410006523132324,
          0.6959624290466309,
          -1.0150395631790161,
          -2.692917823791504,
          -1.1253584623336792,
          0.2074214369058609,
          0.5307140946388245,
          -1.3923507928848267,
          0.9880147576332092,
          -1.5070774555206299,
          -1.9320729970932007,
          -0.4993688464164734,
          0.299700528383255,
          1.9035090208053589,
          -2.7624337673187256,
          0.8442977070808411,
          -0.03638281673192978,
          -0.9242315888404846,
          1.97989022731781,
          -1.4287091493606567,
          3.729466438293457,
          1.1985578536987305,
          -0.6057984232902527,
          1.5954312086105347,
          -0.8563339710235596,
          -0.5909722447395325,
          1.644890546798706,
          -0.9154158234596252,
          -1.3458064794540405,
          1.7391703128814697,
          1.6903443336486816,
          -1.61678147315979,
          1.5004640817642212,
          3.4937164783477783,
          -2.124155282974243,
          2.1683552265167236,
          -1.3519139289855957,
          -0.8819611668586731,
          -0.17846378684043884,
          1.5444751977920532,
          -3.1566321849823,
          -1.3205217123031616,
          -0.7936634421348572,
          0.569402277469635,
          0.6218349933624268,
          0.7036802172660828,
          2.3920071125030518,
          -1.811667799949646,
          -1.9807263612747192,
          0.12588928639888763,
          -2.2053372859954834,
          0.8706694841384888,
          -1.792737603187561,
          -2.9345779418945312,
          -1.3456506729125977,
          -2.8956916332244873,
          -0.14631600677967072,
          1.2612338066101074,
          0.4262423813343048,
          -3.477226734161377,
          0.8369024991989136,
          0.3315542936325073,
          1.8659108877182007,
          -0.4404567778110504,
          -2.497999906539917,
          2.212885856628418,
          2.178065299987793,
          -0.014626044780015945,
          -1.7142384052276611,
          3.3522074222564697,
          -1.1734668016433716,
          1.2127997875213623,
          0.34878048300743103,
          -2.4086875915527344,
          -1.935191035270691,
          1.305251121520996,
          -2.4088549613952637,
          3.5121028423309326,
          -0.8545942306518555,
          -1.306609869003296,
          -2.3545114994049072,
          0.34316298365592957,
          2.529890775680542,
          1.6363357305526733,
          3.3325932025909424,
          -1.5491539239883423,
          0.17286112904548645
         ],
         "yaxis": "y"
        }
       ],
       "layout": {
        "autosize": false,
        "height": 800,
        "legend": {
         "tracegroupgap": 0
        },
        "margin": {
         "t": 60
        },
        "template": {
         "data": {
          "bar": [
           {
            "error_x": {
             "color": "rgb(36,36,36)"
            },
            "error_y": {
             "color": "rgb(36,36,36)"
            },
            "marker": {
             "line": {
              "color": "rgb(234,234,242)",
              "width": 0.5
             },
             "pattern": {
              "fillmode": "overlay",
              "size": 10,
              "solidity": 0.2
             }
            },
            "type": "bar"
           }
          ],
          "barpolar": [
           {
            "marker": {
             "line": {
              "color": "rgb(234,234,242)",
              "width": 0.5
             },
             "pattern": {
              "fillmode": "overlay",
              "size": 10,
              "solidity": 0.2
             }
            },
            "type": "barpolar"
           }
          ],
          "carpet": [
           {
            "aaxis": {
             "endlinecolor": "rgb(36,36,36)",
             "gridcolor": "white",
             "linecolor": "white",
             "minorgridcolor": "white",
             "startlinecolor": "rgb(36,36,36)"
            },
            "baxis": {
             "endlinecolor": "rgb(36,36,36)",
             "gridcolor": "white",
             "linecolor": "white",
             "minorgridcolor": "white",
             "startlinecolor": "rgb(36,36,36)"
            },
            "type": "carpet"
           }
          ],
          "choropleth": [
           {
            "colorbar": {
             "outlinewidth": 0,
             "tickcolor": "rgb(36,36,36)",
             "ticklen": 8,
             "ticks": "outside",
             "tickwidth": 2
            },
            "type": "choropleth"
           }
          ],
          "contour": [
           {
            "colorbar": {
             "outlinewidth": 0,
             "tickcolor": "rgb(36,36,36)",
             "ticklen": 8,
             "ticks": "outside",
             "tickwidth": 2
            },
            "colorscale": [
             [
              0,
              "rgb(2,4,25)"
             ],
             [
              0.06274509803921569,
              "rgb(24,15,41)"
             ],
             [
              0.12549019607843137,
              "rgb(47,23,57)"
             ],
             [
              0.18823529411764706,
              "rgb(71,28,72)"
             ],
             [
              0.25098039215686274,
              "rgb(97,30,82)"
             ],
             [
              0.3137254901960784,
              "rgb(123,30,89)"
             ],
             [
              0.3764705882352941,
              "rgb(150,27,91)"
             ],
             [
              0.4392156862745098,
              "rgb(177,22,88)"
             ],
             [
              0.5019607843137255,
              "rgb(203,26,79)"
             ],
             [
              0.5647058823529412,
              "rgb(223,47,67)"
             ],
             [
              0.6274509803921569,
              "rgb(236,76,61)"
             ],
             [
              0.6901960784313725,
              "rgb(242,107,73)"
             ],
             [
              0.7529411764705882,
              "rgb(244,135,95)"
             ],
             [
              0.8156862745098039,
              "rgb(245,162,122)"
             ],
             [
              0.8784313725490196,
              "rgb(246,188,153)"
             ],
             [
              0.9411764705882353,
              "rgb(247,212,187)"
             ],
             [
              1,
              "rgb(250,234,220)"
             ]
            ],
            "type": "contour"
           }
          ],
          "contourcarpet": [
           {
            "colorbar": {
             "outlinewidth": 0,
             "tickcolor": "rgb(36,36,36)",
             "ticklen": 8,
             "ticks": "outside",
             "tickwidth": 2
            },
            "type": "contourcarpet"
           }
          ],
          "heatmap": [
           {
            "colorbar": {
             "outlinewidth": 0,
             "tickcolor": "rgb(36,36,36)",
             "ticklen": 8,
             "ticks": "outside",
             "tickwidth": 2
            },
            "colorscale": [
             [
              0,
              "rgb(2,4,25)"
             ],
             [
              0.06274509803921569,
              "rgb(24,15,41)"
             ],
             [
              0.12549019607843137,
              "rgb(47,23,57)"
             ],
             [
              0.18823529411764706,
              "rgb(71,28,72)"
             ],
             [
              0.25098039215686274,
              "rgb(97,30,82)"
             ],
             [
              0.3137254901960784,
              "rgb(123,30,89)"
             ],
             [
              0.3764705882352941,
              "rgb(150,27,91)"
             ],
             [
              0.4392156862745098,
              "rgb(177,22,88)"
             ],
             [
              0.5019607843137255,
              "rgb(203,26,79)"
             ],
             [
              0.5647058823529412,
              "rgb(223,47,67)"
             ],
             [
              0.6274509803921569,
              "rgb(236,76,61)"
             ],
             [
              0.6901960784313725,
              "rgb(242,107,73)"
             ],
             [
              0.7529411764705882,
              "rgb(244,135,95)"
             ],
             [
              0.8156862745098039,
              "rgb(245,162,122)"
             ],
             [
              0.8784313725490196,
              "rgb(246,188,153)"
             ],
             [
              0.9411764705882353,
              "rgb(247,212,187)"
             ],
             [
              1,
              "rgb(250,234,220)"
             ]
            ],
            "type": "heatmap"
           }
          ],
          "heatmapgl": [
           {
            "colorbar": {
             "outlinewidth": 0,
             "tickcolor": "rgb(36,36,36)",
             "ticklen": 8,
             "ticks": "outside",
             "tickwidth": 2
            },
            "colorscale": [
             [
              0,
              "rgb(2,4,25)"
             ],
             [
              0.06274509803921569,
              "rgb(24,15,41)"
             ],
             [
              0.12549019607843137,
              "rgb(47,23,57)"
             ],
             [
              0.18823529411764706,
              "rgb(71,28,72)"
             ],
             [
              0.25098039215686274,
              "rgb(97,30,82)"
             ],
             [
              0.3137254901960784,
              "rgb(123,30,89)"
             ],
             [
              0.3764705882352941,
              "rgb(150,27,91)"
             ],
             [
              0.4392156862745098,
              "rgb(177,22,88)"
             ],
             [
              0.5019607843137255,
              "rgb(203,26,79)"
             ],
             [
              0.5647058823529412,
              "rgb(223,47,67)"
             ],
             [
              0.6274509803921569,
              "rgb(236,76,61)"
             ],
             [
              0.6901960784313725,
              "rgb(242,107,73)"
             ],
             [
              0.7529411764705882,
              "rgb(244,135,95)"
             ],
             [
              0.8156862745098039,
              "rgb(245,162,122)"
             ],
             [
              0.8784313725490196,
              "rgb(246,188,153)"
             ],
             [
              0.9411764705882353,
              "rgb(247,212,187)"
             ],
             [
              1,
              "rgb(250,234,220)"
             ]
            ],
            "type": "heatmapgl"
           }
          ],
          "histogram": [
           {
            "marker": {
             "pattern": {
              "fillmode": "overlay",
              "size": 10,
              "solidity": 0.2
             }
            },
            "type": "histogram"
           }
          ],
          "histogram2d": [
           {
            "colorbar": {
             "outlinewidth": 0,
             "tickcolor": "rgb(36,36,36)",
             "ticklen": 8,
             "ticks": "outside",
             "tickwidth": 2
            },
            "colorscale": [
             [
              0,
              "rgb(2,4,25)"
             ],
             [
              0.06274509803921569,
              "rgb(24,15,41)"
             ],
             [
              0.12549019607843137,
              "rgb(47,23,57)"
             ],
             [
              0.18823529411764706,
              "rgb(71,28,72)"
             ],
             [
              0.25098039215686274,
              "rgb(97,30,82)"
             ],
             [
              0.3137254901960784,
              "rgb(123,30,89)"
             ],
             [
              0.3764705882352941,
              "rgb(150,27,91)"
             ],
             [
              0.4392156862745098,
              "rgb(177,22,88)"
             ],
             [
              0.5019607843137255,
              "rgb(203,26,79)"
             ],
             [
              0.5647058823529412,
              "rgb(223,47,67)"
             ],
             [
              0.6274509803921569,
              "rgb(236,76,61)"
             ],
             [
              0.6901960784313725,
              "rgb(242,107,73)"
             ],
             [
              0.7529411764705882,
              "rgb(244,135,95)"
             ],
             [
              0.8156862745098039,
              "rgb(245,162,122)"
             ],
             [
              0.8784313725490196,
              "rgb(246,188,153)"
             ],
             [
              0.9411764705882353,
              "rgb(247,212,187)"
             ],
             [
              1,
              "rgb(250,234,220)"
             ]
            ],
            "type": "histogram2d"
           }
          ],
          "histogram2dcontour": [
           {
            "colorbar": {
             "outlinewidth": 0,
             "tickcolor": "rgb(36,36,36)",
             "ticklen": 8,
             "ticks": "outside",
             "tickwidth": 2
            },
            "colorscale": [
             [
              0,
              "rgb(2,4,25)"
             ],
             [
              0.06274509803921569,
              "rgb(24,15,41)"
             ],
             [
              0.12549019607843137,
              "rgb(47,23,57)"
             ],
             [
              0.18823529411764706,
              "rgb(71,28,72)"
             ],
             [
              0.25098039215686274,
              "rgb(97,30,82)"
             ],
             [
              0.3137254901960784,
              "rgb(123,30,89)"
             ],
             [
              0.3764705882352941,
              "rgb(150,27,91)"
             ],
             [
              0.4392156862745098,
              "rgb(177,22,88)"
             ],
             [
              0.5019607843137255,
              "rgb(203,26,79)"
             ],
             [
              0.5647058823529412,
              "rgb(223,47,67)"
             ],
             [
              0.6274509803921569,
              "rgb(236,76,61)"
             ],
             [
              0.6901960784313725,
              "rgb(242,107,73)"
             ],
             [
              0.7529411764705882,
              "rgb(244,135,95)"
             ],
             [
              0.8156862745098039,
              "rgb(245,162,122)"
             ],
             [
              0.8784313725490196,
              "rgb(246,188,153)"
             ],
             [
              0.9411764705882353,
              "rgb(247,212,187)"
             ],
             [
              1,
              "rgb(250,234,220)"
             ]
            ],
            "type": "histogram2dcontour"
           }
          ],
          "mesh3d": [
           {
            "colorbar": {
             "outlinewidth": 0,
             "tickcolor": "rgb(36,36,36)",
             "ticklen": 8,
             "ticks": "outside",
             "tickwidth": 2
            },
            "type": "mesh3d"
           }
          ],
          "parcoords": [
           {
            "line": {
             "colorbar": {
              "outlinewidth": 0,
              "tickcolor": "rgb(36,36,36)",
              "ticklen": 8,
              "ticks": "outside",
              "tickwidth": 2
             }
            },
            "type": "parcoords"
           }
          ],
          "pie": [
           {
            "automargin": true,
            "type": "pie"
           }
          ],
          "scatter": [
           {
            "fillpattern": {
             "fillmode": "overlay",
             "size": 10,
             "solidity": 0.2
            },
            "type": "scatter"
           }
          ],
          "scatter3d": [
           {
            "line": {
             "colorbar": {
              "outlinewidth": 0,
              "tickcolor": "rgb(36,36,36)",
              "ticklen": 8,
              "ticks": "outside",
              "tickwidth": 2
             }
            },
            "marker": {
             "colorbar": {
              "outlinewidth": 0,
              "tickcolor": "rgb(36,36,36)",
              "ticklen": 8,
              "ticks": "outside",
              "tickwidth": 2
             }
            },
            "type": "scatter3d"
           }
          ],
          "scattercarpet": [
           {
            "marker": {
             "colorbar": {
              "outlinewidth": 0,
              "tickcolor": "rgb(36,36,36)",
              "ticklen": 8,
              "ticks": "outside",
              "tickwidth": 2
             }
            },
            "type": "scattercarpet"
           }
          ],
          "scattergeo": [
           {
            "marker": {
             "colorbar": {
              "outlinewidth": 0,
              "tickcolor": "rgb(36,36,36)",
              "ticklen": 8,
              "ticks": "outside",
              "tickwidth": 2
             }
            },
            "type": "scattergeo"
           }
          ],
          "scattergl": [
           {
            "marker": {
             "colorbar": {
              "outlinewidth": 0,
              "tickcolor": "rgb(36,36,36)",
              "ticklen": 8,
              "ticks": "outside",
              "tickwidth": 2
             }
            },
            "type": "scattergl"
           }
          ],
          "scattermapbox": [
           {
            "marker": {
             "colorbar": {
              "outlinewidth": 0,
              "tickcolor": "rgb(36,36,36)",
              "ticklen": 8,
              "ticks": "outside",
              "tickwidth": 2
             }
            },
            "type": "scattermapbox"
           }
          ],
          "scatterpolar": [
           {
            "marker": {
             "colorbar": {
              "outlinewidth": 0,
              "tickcolor": "rgb(36,36,36)",
              "ticklen": 8,
              "ticks": "outside",
              "tickwidth": 2
             }
            },
            "type": "scatterpolar"
           }
          ],
          "scatterpolargl": [
           {
            "marker": {
             "colorbar": {
              "outlinewidth": 0,
              "tickcolor": "rgb(36,36,36)",
              "ticklen": 8,
              "ticks": "outside",
              "tickwidth": 2
             }
            },
            "type": "scatterpolargl"
           }
          ],
          "scatterternary": [
           {
            "marker": {
             "colorbar": {
              "outlinewidth": 0,
              "tickcolor": "rgb(36,36,36)",
              "ticklen": 8,
              "ticks": "outside",
              "tickwidth": 2
             }
            },
            "type": "scatterternary"
           }
          ],
          "surface": [
           {
            "colorbar": {
             "outlinewidth": 0,
             "tickcolor": "rgb(36,36,36)",
             "ticklen": 8,
             "ticks": "outside",
             "tickwidth": 2
            },
            "colorscale": [
             [
              0,
              "rgb(2,4,25)"
             ],
             [
              0.06274509803921569,
              "rgb(24,15,41)"
             ],
             [
              0.12549019607843137,
              "rgb(47,23,57)"
             ],
             [
              0.18823529411764706,
              "rgb(71,28,72)"
             ],
             [
              0.25098039215686274,
              "rgb(97,30,82)"
             ],
             [
              0.3137254901960784,
              "rgb(123,30,89)"
             ],
             [
              0.3764705882352941,
              "rgb(150,27,91)"
             ],
             [
              0.4392156862745098,
              "rgb(177,22,88)"
             ],
             [
              0.5019607843137255,
              "rgb(203,26,79)"
             ],
             [
              0.5647058823529412,
              "rgb(223,47,67)"
             ],
             [
              0.6274509803921569,
              "rgb(236,76,61)"
             ],
             [
              0.6901960784313725,
              "rgb(242,107,73)"
             ],
             [
              0.7529411764705882,
              "rgb(244,135,95)"
             ],
             [
              0.8156862745098039,
              "rgb(245,162,122)"
             ],
             [
              0.8784313725490196,
              "rgb(246,188,153)"
             ],
             [
              0.9411764705882353,
              "rgb(247,212,187)"
             ],
             [
              1,
              "rgb(250,234,220)"
             ]
            ],
            "type": "surface"
           }
          ],
          "table": [
           {
            "cells": {
             "fill": {
              "color": "rgb(231,231,240)"
             },
             "line": {
              "color": "white"
             }
            },
            "header": {
             "fill": {
              "color": "rgb(183,183,191)"
             },
             "line": {
              "color": "white"
             }
            },
            "type": "table"
           }
          ]
         },
         "layout": {
          "annotationdefaults": {
           "arrowcolor": "rgb(67,103,167)"
          },
          "autotypenumbers": "strict",
          "coloraxis": {
           "colorbar": {
            "outlinewidth": 0,
            "tickcolor": "rgb(36,36,36)",
            "ticklen": 8,
            "ticks": "outside",
            "tickwidth": 2
           }
          },
          "colorscale": {
           "sequential": [
            [
             0,
             "rgb(2,4,25)"
            ],
            [
             0.06274509803921569,
             "rgb(24,15,41)"
            ],
            [
             0.12549019607843137,
             "rgb(47,23,57)"
            ],
            [
             0.18823529411764706,
             "rgb(71,28,72)"
            ],
            [
             0.25098039215686274,
             "rgb(97,30,82)"
            ],
            [
             0.3137254901960784,
             "rgb(123,30,89)"
            ],
            [
             0.3764705882352941,
             "rgb(150,27,91)"
            ],
            [
             0.4392156862745098,
             "rgb(177,22,88)"
            ],
            [
             0.5019607843137255,
             "rgb(203,26,79)"
            ],
            [
             0.5647058823529412,
             "rgb(223,47,67)"
            ],
            [
             0.6274509803921569,
             "rgb(236,76,61)"
            ],
            [
             0.6901960784313725,
             "rgb(242,107,73)"
            ],
            [
             0.7529411764705882,
             "rgb(244,135,95)"
            ],
            [
             0.8156862745098039,
             "rgb(245,162,122)"
            ],
            [
             0.8784313725490196,
             "rgb(246,188,153)"
            ],
            [
             0.9411764705882353,
             "rgb(247,212,187)"
            ],
            [
             1,
             "rgb(250,234,220)"
            ]
           ],
           "sequentialminus": [
            [
             0,
             "rgb(2,4,25)"
            ],
            [
             0.06274509803921569,
             "rgb(24,15,41)"
            ],
            [
             0.12549019607843137,
             "rgb(47,23,57)"
            ],
            [
             0.18823529411764706,
             "rgb(71,28,72)"
            ],
            [
             0.25098039215686274,
             "rgb(97,30,82)"
            ],
            [
             0.3137254901960784,
             "rgb(123,30,89)"
            ],
            [
             0.3764705882352941,
             "rgb(150,27,91)"
            ],
            [
             0.4392156862745098,
             "rgb(177,22,88)"
            ],
            [
             0.5019607843137255,
             "rgb(203,26,79)"
            ],
            [
             0.5647058823529412,
             "rgb(223,47,67)"
            ],
            [
             0.6274509803921569,
             "rgb(236,76,61)"
            ],
            [
             0.6901960784313725,
             "rgb(242,107,73)"
            ],
            [
             0.7529411764705882,
             "rgb(244,135,95)"
            ],
            [
             0.8156862745098039,
             "rgb(245,162,122)"
            ],
            [
             0.8784313725490196,
             "rgb(246,188,153)"
            ],
            [
             0.9411764705882353,
             "rgb(247,212,187)"
            ],
            [
             1,
             "rgb(250,234,220)"
            ]
           ]
          },
          "colorway": [
           "rgb(76,114,176)",
           "rgb(221,132,82)",
           "rgb(85,168,104)",
           "rgb(196,78,82)",
           "rgb(129,114,179)",
           "rgb(147,120,96)",
           "rgb(218,139,195)",
           "rgb(140,140,140)",
           "rgb(204,185,116)",
           "rgb(100,181,205)"
          ],
          "font": {
           "color": "rgb(36,36,36)"
          },
          "geo": {
           "bgcolor": "white",
           "lakecolor": "white",
           "landcolor": "rgb(234,234,242)",
           "showlakes": true,
           "showland": true,
           "subunitcolor": "white"
          },
          "hoverlabel": {
           "align": "left"
          },
          "hovermode": "closest",
          "paper_bgcolor": "white",
          "plot_bgcolor": "rgb(234,234,242)",
          "polar": {
           "angularaxis": {
            "gridcolor": "white",
            "linecolor": "white",
            "showgrid": true,
            "ticks": ""
           },
           "bgcolor": "rgb(234,234,242)",
           "radialaxis": {
            "gridcolor": "white",
            "linecolor": "white",
            "showgrid": true,
            "ticks": ""
           }
          },
          "scene": {
           "xaxis": {
            "backgroundcolor": "rgb(234,234,242)",
            "gridcolor": "white",
            "gridwidth": 2,
            "linecolor": "white",
            "showbackground": true,
            "showgrid": true,
            "ticks": "",
            "zerolinecolor": "white"
           },
           "yaxis": {
            "backgroundcolor": "rgb(234,234,242)",
            "gridcolor": "white",
            "gridwidth": 2,
            "linecolor": "white",
            "showbackground": true,
            "showgrid": true,
            "ticks": "",
            "zerolinecolor": "white"
           },
           "zaxis": {
            "backgroundcolor": "rgb(234,234,242)",
            "gridcolor": "white",
            "gridwidth": 2,
            "linecolor": "white",
            "showbackground": true,
            "showgrid": true,
            "ticks": "",
            "zerolinecolor": "white"
           }
          },
          "shapedefaults": {
           "fillcolor": "rgb(67,103,167)",
           "line": {
            "width": 0
           },
           "opacity": 0.5
          },
          "ternary": {
           "aaxis": {
            "gridcolor": "white",
            "linecolor": "white",
            "showgrid": true,
            "ticks": ""
           },
           "baxis": {
            "gridcolor": "white",
            "linecolor": "white",
            "showgrid": true,
            "ticks": ""
           },
           "bgcolor": "rgb(234,234,242)",
           "caxis": {
            "gridcolor": "white",
            "linecolor": "white",
            "showgrid": true,
            "ticks": ""
           }
          },
          "xaxis": {
           "automargin": true,
           "gridcolor": "white",
           "linecolor": "white",
           "showgrid": true,
           "ticks": "",
           "title": {
            "standoff": 15
           },
           "zerolinecolor": "white"
          },
          "yaxis": {
           "automargin": true,
           "gridcolor": "white",
           "linecolor": "white",
           "showgrid": true,
           "ticks": "",
           "title": {
            "standoff": 15
           },
           "zerolinecolor": "white"
          }
         }
        },
        "width": 800,
        "xaxis": {
         "anchor": "y",
         "domain": [
          0,
          1
         ],
         "title": {
          "text": "x"
         }
        },
        "yaxis": {
         "anchor": "x",
         "domain": [
          0,
          1
         ],
         "title": {
          "text": "y"
         }
        }
       }
      },
      "text/html": [
       "<div>                            <div id=\"ab132d91-c5f8-4c4c-ad62-069f60b74822\" class=\"plotly-graph-div\" style=\"height:800px; width:800px;\"></div>            <script type=\"text/javascript\">                require([\"plotly\"], function(Plotly) {                    window.PLOTLYENV=window.PLOTLYENV || {};                                    if (document.getElementById(\"ab132d91-c5f8-4c4c-ad62-069f60b74822\")) {                    Plotly.newPlot(                        \"ab132d91-c5f8-4c4c-ad62-069f60b74822\",                        [{\"hovertemplate\":\"x=%{x}\\u003cbr\\u003ey=%{y}\\u003cextra\\u003e\\u003c\\u002fextra\\u003e\",\"legendgroup\":\"\",\"marker\":{\"color\":\"#636efa\",\"symbol\":\"circle\"},\"mode\":\"markers\",\"name\":\"\",\"orientation\":\"v\",\"showlegend\":false,\"x\":[-2.2318780422210693,-0.20376034080982208,-0.10873711109161377,0.7146558165550232,2.2416818141937256,0.5272908806800842,1.5241892337799072,-2.3815276622772217,0.7748973965644836,-0.11258648335933685,1.4769070148468018,0.13325101137161255,0.9103341102600098,1.9439733028411865,-1.48746919631958,-0.9619506001472473,2.207313060760498,-0.10666543245315552,-1.5927485227584839,-3.609968662261963,-2.91493821144104,-2.4061758518218994,-1.4017874002456665,-2.6506707668304443,-0.0042444635182619095,-0.46790000796318054,0.4077252149581909,-1.8322819471359253,-1.4737128019332886,-2.1636178493499756,0.4140135645866394,1.1507008075714111,-1.066698431968689,1.226871371269226,-1.6890182495117188,1.8021495342254639,2.6409451961517334,-2.7678909301757812,-2.7459700107574463,-0.28726696968078613,0.9589067101478577,1.419421911239624,2.8996918201446533,-1.1568996906280518,2.8539066314697266,-0.7423839569091797,-0.18794162571430206,-0.5897248387336731,-1.099584698677063,0.9667292237281799,1.8987821340560913,-3.406465530395508,-0.2717384099960327,-0.6406094431877136,0.6512911319732666,-2.3219175338745117,0.6787961721420288,-3.764603853225708,2.2447521686553955,3.631927251815796,1.9111647605895996,-0.040877312421798706,-3.034367799758911,2.975497245788574,-1.37326180934906,-1.208996295928955,1.278780221939087,0.2665858864784241,1.6232141256332397,2.7383697032928467,1.091457724571228,0.07387103885412216,1.3429689407348633,1.4103751182556152,0.3846433758735657,0.535485565662384,-0.8857523798942566,1.206895351409912,0.33288291096687317,-0.9329856038093567,-0.6925541162490845,-0.6417899131774902,2.4076476097106934,0.020277760922908783,0.09179170429706573,1.5794512033462524,-2.2147583961486816,1.44781494140625,-0.2062845379114151,-0.9838504791259766,-0.744099497795105,1.3535808324813843,0.7224762439727783,0.8356468677520752,1.0890356302261353,1.5455410480499268,-2.9449024200439453,2.8950510025024414,-2.9734694957733154,-1.8689401149749756,2.0849573612213135,-2.2912418842315674,-0.5640467405319214,0.10844055563211441,0.7786502838134766,-0.5814923048019409,-1.6268467903137207,0.5867693424224854,0.7299468517303467,0.46225231885910034,0.44069603085517883,-0.11224400997161865,-0.6041330099105835,-1.7693299055099487,0.381736159324646,-2.3948073387145996,-0.5269790291786194,2.0735394954681396,2.023299217224121,1.0605065822601318,-1.6266926527023315,0.4301060438156128,0.6198007464408875,-2.093366861343384,2.4678385257720947,-0.5495257377624512,-0.19154837727546692,-0.5794095396995544,0.7720156908035278,-0.532442569732666,0.13673007488250732,-1.628135323524475,-0.645715057849884,-2.216491460800171,0.3446519672870636,0.31638896465301514,-0.33249029517173767,-0.8651699423789978,3.3747806549072266,2.2663347721099854,-3.719600200653076,1.1187188625335693,-2.8078179359436035,-0.47895652055740356,0.3418333828449249,-1.2551367282867432,-1.2588392496109009,0.7661735415458679,2.137928009033203,1.1035720109939575,-0.2899707555770874,-2.7886664867401123,2.8163580894470215,1.2045482397079468,-0.4278239905834198,-1.671279788017273,-0.41152459383010864,0.4509768784046173,-0.06260479241609573,3.6683218479156494,-0.4811490476131439,1.6680022478103638,0.15184780955314636,-1.1031631231307983,-1.6877210140228271,-1.888572096824646,1.8823013305664062,-2.592731237411499,-0.848297655582428,-2.46504807472229,-1.7681471109390259,-0.0913495421409607,-2.7583792209625244,-0.9429322481155396,-0.02913205325603485,-1.4950659275054932,-0.7285294532775879,-0.8387162089347839,-1.7177363634109497,-0.6818681955337524,0.7934455871582031,-0.051493026316165924,-0.8402743339538574,-1.9628599882125854,2.1631577014923096,3.1331093311309814,-1.482674479484558,-0.49189406633377075,1.430848479270935,-1.3443413972854614,-0.5645925402641296,-1.0928046703338623,-0.9993621706962585,-0.8067623376846313,0.18091154098510742,-2.3048462867736816,-2.549913167953491,0.975942850112915,0.2571890950202942,-1.7952543497085571,-1.7645686864852905,-1.0039247274398804,1.262210726737976,-3.3367578983306885,-3.454184055328369,0.04154076427221298,-0.181271031498909,0.7585737705230713,1.4201604127883911,-2.046962022781372,0.542019784450531,-1.4057344198226929,-1.092719316482544,-1.2596676349639893,0.7133724689483643,2.50297212600708,0.35791218280792236,-0.02818462997674942,-2.389289617538452,-1.346465826034546,-1.1755818128585815,2.38997220993042,0.15224513411521912,-2.756192445755005,-1.655875325202942,-1.0233771800994873,-2.751026153564453,2.652331829071045,1.0043452978134155,-2.557995557785034,-0.2799111008644104,-0.13679057359695435,1.4019629955291748,-1.2711026668548584,1.0123207569122314,-1.6393210887908936,-1.686652421951294,0.02894432097673416,0.43007513880729675,-0.7125778794288635,-1.035898208618164,-2.7873122692108154,0.9072015881538391,2.207061290740967,0.8663719296455383,0.6776737570762634,0.4633124768733978,1.8157634735107422,-0.4225212633609772,0.5293292999267578,2.0275397300720215,-1.0680365562438965,-1.8738702535629272,-0.16990481317043304,-0.7711734175682068,-3.533271074295044,-1.2793207168579102,2.01784610748291,-1.6004606485366821,-2.0558154582977295,-1.1151093244552612,-0.024530472233891487,1.5039219856262207,1.05599045753479,-0.5330491065979004,1.0367867946624756,-1.095704197883606,-2.106466054916382,-0.9822311997413635,-0.6413114666938782,1.9994515180587769,-0.559447169303894,0.6348326206207275,1.3223658800125122,-3.082557439804077,1.6130977869033813,-1.1181894540786743,1.648749589920044,1.5440560579299927,1.4372555017471313,1.0479129552841187,0.18832677602767944,1.259604573249817,2.8216500282287598,0.42864224314689636,-2.0119223594665527,2.3352158069610596,1.2886114120483398,-0.05886120721697807,0.45299893617630005,-0.08663096278905869,-3.7318496704101562,0.9632155895233154,0.1405189484357834,2.7025890350341797,-0.17684608697891235,0.7797256708145142,1.0680512189865112,-0.5060418844223022,2.2906758785247803],\"xaxis\":\"x\",\"y\":[0.5885833501815796,-2.763495922088623,-0.7897455096244812,-1.1863902807235718,2.4657061100006104,-1.8296629190444946,-3.3826491832733154,-0.644532322883606,0.5701181292533875,0.5339519381523132,-0.2898240089416504,-0.003277630778029561,0.8492940068244934,0.39474180340766907,2.006800651550293,3.0326385498046875,2.827481269836426,-0.04978175833821297,-1.9431352615356445,0.3536279499530792,-3.089042901992798,-1.868537425994873,0.7191762328147888,-1.052882194519043,0.2410593181848526,-1.3642628192901611,0.7921010851860046,-1.3411191701889038,-0.6580745577812195,0.09987763315439224,0.6014297604560852,-1.273594617843628,1.6147418022155762,-0.09389261901378632,-0.048375796526670456,-1.4649758338928223,-0.26664289832115173,0.004520433954894543,-1.106208324432373,1.6208940744400024,2.490205764770508,-2.925795793533325,-1.8160433769226074,1.2340519428253174,2.0922937393188477,1.820132851600647,-3.407837390899658,1.6556422710418701,-0.6278706192970276,-0.22021572291851044,-1.736572027206421,0.12582218647003174,0.35263174772262573,-0.2065206915140152,-1.8001983165740967,0.4761958420276642,-2.5630946159362793,-0.7421478033065796,-0.5244607329368591,-0.06943444162607193,0.4808098375797272,1.4398552179336548,-2.1534087657928467,-0.23166364431381226,0.9117811322212219,-1.5695780515670776,0.3660549223423004,-0.6967999339103699,0.04423708841204643,1.2125966548919678,0.28327903151512146,0.043293341994285583,-0.7493200898170471,2.0134990215301514,-2.2302746772766113,-0.38964980840682983,2.427464485168457,-0.9173732399940491,0.3763800263404846,-0.5233232975006104,-2.127511501312256,-0.07728615403175354,0.9227908849716187,1.354741096496582,0.09340915828943253,2.7807352542877197,1.6282708644866943,-0.12475018948316574,-2.9749338626861572,-1.203805923461914,1.0409035682678223,-1.2015361785888672,-0.22717177867889404,-0.669441819190979,-0.5044083595275879,1.0924240350723267,0.05333497002720833,-1.824041724205017,-0.3993969261646271,3.156726598739624,-0.816279947757721,-2.6193835735321045,1.096565842628479,0.5252507925033569,-1.3166677951812744,1.0068234205245972,0.20106704533100128,-1.0086264610290527,2.3607964515686035,0.18905119597911835,1.2738854885101318,-1.2723578214645386,-2.1506845951080322,-0.41414541006088257,2.9201161861419678,-0.6636344194412231,-0.9777716994285583,-1.1610338687896729,1.503822922706604,-3.600423574447632,0.27507755160331726,1.4483202695846558,-3.8644654750823975,-3.0389811992645264,-2.5406737327575684,-0.8281130790710449,-0.35793882608413696,-1.9673467874526978,-0.48869815468788147,2.7182559967041016,1.855099081993103,-1.957316517829895,-1.3526095151901245,-0.5511958599090576,-0.6394490599632263,2.25717830657959,0.8959636092185974,-0.8886515498161316,-0.9909382462501526,0.7663429379463196,1.6153072118759155,1.2263567447662354,1.195345401763916,0.30416133999824524,2.776484966278076,1.111016035079956,-2.0080857276916504,0.17716507613658905,-1.3366833925247192,-2.528244733810425,-0.7535021901130676,0.7733500003814697,0.5148721933364868,1.0975500345230103,1.1744521856307983,-1.3330858945846558,1.8732645511627197,1.5831496715545654,0.639764666557312,0.033562298864126205,3.65632700920105,-1.5220829248428345,0.10864575207233429,-0.672142505645752,-1.1294424533843994,2.4373326301574707,0.4156741797924042,1.1816000938415527,-3.819267511367798,1.9551376104354858,-2.515714168548584,0.31478017568588257,1.6304378509521484,2.1631767749786377,-1.2860631942749023,2.2545325756073,-0.12808720767498016,-3.728959560394287,-3.3577558994293213,-0.9324914216995239,-2.1583316326141357,-2.1729390621185303,0.30342695116996765,1.4716215133666992,-0.5202087163925171,1.1045578718185425,2.181983470916748,-2.4852633476257324,2.1722400188446045,-2.42563796043396,-1.997885823249817,-1.261148452758789,0.3994922339916229,0.37557560205459595,0.6045309901237488,-1.7649626731872559,2.551331043243408,-0.011753953993320465,1.5041486024856567,-0.8112784028053284,-1.9356601238250732,0.5670143365859985,-3.235638380050659,-1.4930737018585205,0.9374364018440247,2.8304603099823,-1.6103399991989136,-0.27631279826164246,-0.14341211318969727,1.074405550956726,-0.8333752751350403,-2.3847811222076416,2.80538272857666,2.410006523132324,0.6959624290466309,-1.0150395631790161,-2.692917823791504,-1.1253584623336792,0.2074214369058609,0.5307140946388245,-1.3923507928848267,0.9880147576332092,-1.5070774555206299,-1.9320729970932007,-0.4993688464164734,0.299700528383255,1.9035090208053589,-2.7624337673187256,0.8442977070808411,-0.03638281673192978,-0.9242315888404846,1.97989022731781,-1.4287091493606567,3.729466438293457,1.1985578536987305,-0.6057984232902527,1.5954312086105347,-0.8563339710235596,-0.5909722447395325,1.644890546798706,-0.9154158234596252,-1.3458064794540405,1.7391703128814697,1.6903443336486816,-1.61678147315979,1.5004640817642212,3.4937164783477783,-2.124155282974243,2.1683552265167236,-1.3519139289855957,-0.8819611668586731,-0.17846378684043884,1.5444751977920532,-3.1566321849823,-1.3205217123031616,-0.7936634421348572,0.569402277469635,0.6218349933624268,0.7036802172660828,2.3920071125030518,-1.811667799949646,-1.9807263612747192,0.12588928639888763,-2.2053372859954834,0.8706694841384888,-1.792737603187561,-2.9345779418945312,-1.3456506729125977,-2.8956916332244873,-0.14631600677967072,1.2612338066101074,0.4262423813343048,-3.477226734161377,0.8369024991989136,0.3315542936325073,1.8659108877182007,-0.4404567778110504,-2.497999906539917,2.212885856628418,2.178065299987793,-0.014626044780015945,-1.7142384052276611,3.3522074222564697,-1.1734668016433716,1.2127997875213623,0.34878048300743103,-2.4086875915527344,-1.935191035270691,1.305251121520996,-2.4088549613952637,3.5121028423309326,-0.8545942306518555,-1.306609869003296,-2.3545114994049072,0.34316298365592957,2.529890775680542,1.6363357305526733,3.3325932025909424,-1.5491539239883423,0.17286112904548645],\"yaxis\":\"y\",\"type\":\"scatter\"}],                        {\"template\":{\"data\":{\"barpolar\":[{\"marker\":{\"line\":{\"color\":\"rgb(234,234,242)\",\"width\":0.5},\"pattern\":{\"fillmode\":\"overlay\",\"size\":10,\"solidity\":0.2}},\"type\":\"barpolar\"}],\"bar\":[{\"error_x\":{\"color\":\"rgb(36,36,36)\"},\"error_y\":{\"color\":\"rgb(36,36,36)\"},\"marker\":{\"line\":{\"color\":\"rgb(234,234,242)\",\"width\":0.5},\"pattern\":{\"fillmode\":\"overlay\",\"size\":10,\"solidity\":0.2}},\"type\":\"bar\"}],\"carpet\":[{\"aaxis\":{\"endlinecolor\":\"rgb(36,36,36)\",\"gridcolor\":\"white\",\"linecolor\":\"white\",\"minorgridcolor\":\"white\",\"startlinecolor\":\"rgb(36,36,36)\"},\"baxis\":{\"endlinecolor\":\"rgb(36,36,36)\",\"gridcolor\":\"white\",\"linecolor\":\"white\",\"minorgridcolor\":\"white\",\"startlinecolor\":\"rgb(36,36,36)\"},\"type\":\"carpet\"}],\"choropleth\":[{\"colorbar\":{\"outlinewidth\":0,\"tickcolor\":\"rgb(36,36,36)\",\"ticklen\":8,\"ticks\":\"outside\",\"tickwidth\":2},\"type\":\"choropleth\"}],\"contourcarpet\":[{\"colorbar\":{\"outlinewidth\":0,\"tickcolor\":\"rgb(36,36,36)\",\"ticklen\":8,\"ticks\":\"outside\",\"tickwidth\":2},\"type\":\"contourcarpet\"}],\"contour\":[{\"colorbar\":{\"outlinewidth\":0,\"tickcolor\":\"rgb(36,36,36)\",\"ticklen\":8,\"ticks\":\"outside\",\"tickwidth\":2},\"colorscale\":[[0.0,\"rgb(2,4,25)\"],[0.06274509803921569,\"rgb(24,15,41)\"],[0.12549019607843137,\"rgb(47,23,57)\"],[0.18823529411764706,\"rgb(71,28,72)\"],[0.25098039215686274,\"rgb(97,30,82)\"],[0.3137254901960784,\"rgb(123,30,89)\"],[0.3764705882352941,\"rgb(150,27,91)\"],[0.4392156862745098,\"rgb(177,22,88)\"],[0.5019607843137255,\"rgb(203,26,79)\"],[0.5647058823529412,\"rgb(223,47,67)\"],[0.6274509803921569,\"rgb(236,76,61)\"],[0.6901960784313725,\"rgb(242,107,73)\"],[0.7529411764705882,\"rgb(244,135,95)\"],[0.8156862745098039,\"rgb(245,162,122)\"],[0.8784313725490196,\"rgb(246,188,153)\"],[0.9411764705882353,\"rgb(247,212,187)\"],[1.0,\"rgb(250,234,220)\"]],\"type\":\"contour\"}],\"heatmapgl\":[{\"colorbar\":{\"outlinewidth\":0,\"tickcolor\":\"rgb(36,36,36)\",\"ticklen\":8,\"ticks\":\"outside\",\"tickwidth\":2},\"colorscale\":[[0.0,\"rgb(2,4,25)\"],[0.06274509803921569,\"rgb(24,15,41)\"],[0.12549019607843137,\"rgb(47,23,57)\"],[0.18823529411764706,\"rgb(71,28,72)\"],[0.25098039215686274,\"rgb(97,30,82)\"],[0.3137254901960784,\"rgb(123,30,89)\"],[0.3764705882352941,\"rgb(150,27,91)\"],[0.4392156862745098,\"rgb(177,22,88)\"],[0.5019607843137255,\"rgb(203,26,79)\"],[0.5647058823529412,\"rgb(223,47,67)\"],[0.6274509803921569,\"rgb(236,76,61)\"],[0.6901960784313725,\"rgb(242,107,73)\"],[0.7529411764705882,\"rgb(244,135,95)\"],[0.8156862745098039,\"rgb(245,162,122)\"],[0.8784313725490196,\"rgb(246,188,153)\"],[0.9411764705882353,\"rgb(247,212,187)\"],[1.0,\"rgb(250,234,220)\"]],\"type\":\"heatmapgl\"}],\"heatmap\":[{\"colorbar\":{\"outlinewidth\":0,\"tickcolor\":\"rgb(36,36,36)\",\"ticklen\":8,\"ticks\":\"outside\",\"tickwidth\":2},\"colorscale\":[[0.0,\"rgb(2,4,25)\"],[0.06274509803921569,\"rgb(24,15,41)\"],[0.12549019607843137,\"rgb(47,23,57)\"],[0.18823529411764706,\"rgb(71,28,72)\"],[0.25098039215686274,\"rgb(97,30,82)\"],[0.3137254901960784,\"rgb(123,30,89)\"],[0.3764705882352941,\"rgb(150,27,91)\"],[0.4392156862745098,\"rgb(177,22,88)\"],[0.5019607843137255,\"rgb(203,26,79)\"],[0.5647058823529412,\"rgb(223,47,67)\"],[0.6274509803921569,\"rgb(236,76,61)\"],[0.6901960784313725,\"rgb(242,107,73)\"],[0.7529411764705882,\"rgb(244,135,95)\"],[0.8156862745098039,\"rgb(245,162,122)\"],[0.8784313725490196,\"rgb(246,188,153)\"],[0.9411764705882353,\"rgb(247,212,187)\"],[1.0,\"rgb(250,234,220)\"]],\"type\":\"heatmap\"}],\"histogram2dcontour\":[{\"colorbar\":{\"outlinewidth\":0,\"tickcolor\":\"rgb(36,36,36)\",\"ticklen\":8,\"ticks\":\"outside\",\"tickwidth\":2},\"colorscale\":[[0.0,\"rgb(2,4,25)\"],[0.06274509803921569,\"rgb(24,15,41)\"],[0.12549019607843137,\"rgb(47,23,57)\"],[0.18823529411764706,\"rgb(71,28,72)\"],[0.25098039215686274,\"rgb(97,30,82)\"],[0.3137254901960784,\"rgb(123,30,89)\"],[0.3764705882352941,\"rgb(150,27,91)\"],[0.4392156862745098,\"rgb(177,22,88)\"],[0.5019607843137255,\"rgb(203,26,79)\"],[0.5647058823529412,\"rgb(223,47,67)\"],[0.6274509803921569,\"rgb(236,76,61)\"],[0.6901960784313725,\"rgb(242,107,73)\"],[0.7529411764705882,\"rgb(244,135,95)\"],[0.8156862745098039,\"rgb(245,162,122)\"],[0.8784313725490196,\"rgb(246,188,153)\"],[0.9411764705882353,\"rgb(247,212,187)\"],[1.0,\"rgb(250,234,220)\"]],\"type\":\"histogram2dcontour\"}],\"histogram2d\":[{\"colorbar\":{\"outlinewidth\":0,\"tickcolor\":\"rgb(36,36,36)\",\"ticklen\":8,\"ticks\":\"outside\",\"tickwidth\":2},\"colorscale\":[[0.0,\"rgb(2,4,25)\"],[0.06274509803921569,\"rgb(24,15,41)\"],[0.12549019607843137,\"rgb(47,23,57)\"],[0.18823529411764706,\"rgb(71,28,72)\"],[0.25098039215686274,\"rgb(97,30,82)\"],[0.3137254901960784,\"rgb(123,30,89)\"],[0.3764705882352941,\"rgb(150,27,91)\"],[0.4392156862745098,\"rgb(177,22,88)\"],[0.5019607843137255,\"rgb(203,26,79)\"],[0.5647058823529412,\"rgb(223,47,67)\"],[0.6274509803921569,\"rgb(236,76,61)\"],[0.6901960784313725,\"rgb(242,107,73)\"],[0.7529411764705882,\"rgb(244,135,95)\"],[0.8156862745098039,\"rgb(245,162,122)\"],[0.8784313725490196,\"rgb(246,188,153)\"],[0.9411764705882353,\"rgb(247,212,187)\"],[1.0,\"rgb(250,234,220)\"]],\"type\":\"histogram2d\"}],\"histogram\":[{\"marker\":{\"pattern\":{\"fillmode\":\"overlay\",\"size\":10,\"solidity\":0.2}},\"type\":\"histogram\"}],\"mesh3d\":[{\"colorbar\":{\"outlinewidth\":0,\"tickcolor\":\"rgb(36,36,36)\",\"ticklen\":8,\"ticks\":\"outside\",\"tickwidth\":2},\"type\":\"mesh3d\"}],\"parcoords\":[{\"line\":{\"colorbar\":{\"outlinewidth\":0,\"tickcolor\":\"rgb(36,36,36)\",\"ticklen\":8,\"ticks\":\"outside\",\"tickwidth\":2}},\"type\":\"parcoords\"}],\"pie\":[{\"automargin\":true,\"type\":\"pie\"}],\"scatter3d\":[{\"line\":{\"colorbar\":{\"outlinewidth\":0,\"tickcolor\":\"rgb(36,36,36)\",\"ticklen\":8,\"ticks\":\"outside\",\"tickwidth\":2}},\"marker\":{\"colorbar\":{\"outlinewidth\":0,\"tickcolor\":\"rgb(36,36,36)\",\"ticklen\":8,\"ticks\":\"outside\",\"tickwidth\":2}},\"type\":\"scatter3d\"}],\"scattercarpet\":[{\"marker\":{\"colorbar\":{\"outlinewidth\":0,\"tickcolor\":\"rgb(36,36,36)\",\"ticklen\":8,\"ticks\":\"outside\",\"tickwidth\":2}},\"type\":\"scattercarpet\"}],\"scattergeo\":[{\"marker\":{\"colorbar\":{\"outlinewidth\":0,\"tickcolor\":\"rgb(36,36,36)\",\"ticklen\":8,\"ticks\":\"outside\",\"tickwidth\":2}},\"type\":\"scattergeo\"}],\"scattergl\":[{\"marker\":{\"colorbar\":{\"outlinewidth\":0,\"tickcolor\":\"rgb(36,36,36)\",\"ticklen\":8,\"ticks\":\"outside\",\"tickwidth\":2}},\"type\":\"scattergl\"}],\"scattermapbox\":[{\"marker\":{\"colorbar\":{\"outlinewidth\":0,\"tickcolor\":\"rgb(36,36,36)\",\"ticklen\":8,\"ticks\":\"outside\",\"tickwidth\":2}},\"type\":\"scattermapbox\"}],\"scatterpolargl\":[{\"marker\":{\"colorbar\":{\"outlinewidth\":0,\"tickcolor\":\"rgb(36,36,36)\",\"ticklen\":8,\"ticks\":\"outside\",\"tickwidth\":2}},\"type\":\"scatterpolargl\"}],\"scatterpolar\":[{\"marker\":{\"colorbar\":{\"outlinewidth\":0,\"tickcolor\":\"rgb(36,36,36)\",\"ticklen\":8,\"ticks\":\"outside\",\"tickwidth\":2}},\"type\":\"scatterpolar\"}],\"scatter\":[{\"fillpattern\":{\"fillmode\":\"overlay\",\"size\":10,\"solidity\":0.2},\"type\":\"scatter\"}],\"scatterternary\":[{\"marker\":{\"colorbar\":{\"outlinewidth\":0,\"tickcolor\":\"rgb(36,36,36)\",\"ticklen\":8,\"ticks\":\"outside\",\"tickwidth\":2}},\"type\":\"scatterternary\"}],\"surface\":[{\"colorbar\":{\"outlinewidth\":0,\"tickcolor\":\"rgb(36,36,36)\",\"ticklen\":8,\"ticks\":\"outside\",\"tickwidth\":2},\"colorscale\":[[0.0,\"rgb(2,4,25)\"],[0.06274509803921569,\"rgb(24,15,41)\"],[0.12549019607843137,\"rgb(47,23,57)\"],[0.18823529411764706,\"rgb(71,28,72)\"],[0.25098039215686274,\"rgb(97,30,82)\"],[0.3137254901960784,\"rgb(123,30,89)\"],[0.3764705882352941,\"rgb(150,27,91)\"],[0.4392156862745098,\"rgb(177,22,88)\"],[0.5019607843137255,\"rgb(203,26,79)\"],[0.5647058823529412,\"rgb(223,47,67)\"],[0.6274509803921569,\"rgb(236,76,61)\"],[0.6901960784313725,\"rgb(242,107,73)\"],[0.7529411764705882,\"rgb(244,135,95)\"],[0.8156862745098039,\"rgb(245,162,122)\"],[0.8784313725490196,\"rgb(246,188,153)\"],[0.9411764705882353,\"rgb(247,212,187)\"],[1.0,\"rgb(250,234,220)\"]],\"type\":\"surface\"}],\"table\":[{\"cells\":{\"fill\":{\"color\":\"rgb(231,231,240)\"},\"line\":{\"color\":\"white\"}},\"header\":{\"fill\":{\"color\":\"rgb(183,183,191)\"},\"line\":{\"color\":\"white\"}},\"type\":\"table\"}]},\"layout\":{\"annotationdefaults\":{\"arrowcolor\":\"rgb(67,103,167)\"},\"autotypenumbers\":\"strict\",\"coloraxis\":{\"colorbar\":{\"outlinewidth\":0,\"tickcolor\":\"rgb(36,36,36)\",\"ticklen\":8,\"ticks\":\"outside\",\"tickwidth\":2}},\"colorscale\":{\"sequential\":[[0.0,\"rgb(2,4,25)\"],[0.06274509803921569,\"rgb(24,15,41)\"],[0.12549019607843137,\"rgb(47,23,57)\"],[0.18823529411764706,\"rgb(71,28,72)\"],[0.25098039215686274,\"rgb(97,30,82)\"],[0.3137254901960784,\"rgb(123,30,89)\"],[0.3764705882352941,\"rgb(150,27,91)\"],[0.4392156862745098,\"rgb(177,22,88)\"],[0.5019607843137255,\"rgb(203,26,79)\"],[0.5647058823529412,\"rgb(223,47,67)\"],[0.6274509803921569,\"rgb(236,76,61)\"],[0.6901960784313725,\"rgb(242,107,73)\"],[0.7529411764705882,\"rgb(244,135,95)\"],[0.8156862745098039,\"rgb(245,162,122)\"],[0.8784313725490196,\"rgb(246,188,153)\"],[0.9411764705882353,\"rgb(247,212,187)\"],[1.0,\"rgb(250,234,220)\"]],\"sequentialminus\":[[0.0,\"rgb(2,4,25)\"],[0.06274509803921569,\"rgb(24,15,41)\"],[0.12549019607843137,\"rgb(47,23,57)\"],[0.18823529411764706,\"rgb(71,28,72)\"],[0.25098039215686274,\"rgb(97,30,82)\"],[0.3137254901960784,\"rgb(123,30,89)\"],[0.3764705882352941,\"rgb(150,27,91)\"],[0.4392156862745098,\"rgb(177,22,88)\"],[0.5019607843137255,\"rgb(203,26,79)\"],[0.5647058823529412,\"rgb(223,47,67)\"],[0.6274509803921569,\"rgb(236,76,61)\"],[0.6901960784313725,\"rgb(242,107,73)\"],[0.7529411764705882,\"rgb(244,135,95)\"],[0.8156862745098039,\"rgb(245,162,122)\"],[0.8784313725490196,\"rgb(246,188,153)\"],[0.9411764705882353,\"rgb(247,212,187)\"],[1.0,\"rgb(250,234,220)\"]]},\"colorway\":[\"rgb(76,114,176)\",\"rgb(221,132,82)\",\"rgb(85,168,104)\",\"rgb(196,78,82)\",\"rgb(129,114,179)\",\"rgb(147,120,96)\",\"rgb(218,139,195)\",\"rgb(140,140,140)\",\"rgb(204,185,116)\",\"rgb(100,181,205)\"],\"font\":{\"color\":\"rgb(36,36,36)\"},\"geo\":{\"bgcolor\":\"white\",\"lakecolor\":\"white\",\"landcolor\":\"rgb(234,234,242)\",\"showlakes\":true,\"showland\":true,\"subunitcolor\":\"white\"},\"hoverlabel\":{\"align\":\"left\"},\"hovermode\":\"closest\",\"paper_bgcolor\":\"white\",\"plot_bgcolor\":\"rgb(234,234,242)\",\"polar\":{\"angularaxis\":{\"gridcolor\":\"white\",\"linecolor\":\"white\",\"showgrid\":true,\"ticks\":\"\"},\"bgcolor\":\"rgb(234,234,242)\",\"radialaxis\":{\"gridcolor\":\"white\",\"linecolor\":\"white\",\"showgrid\":true,\"ticks\":\"\"}},\"scene\":{\"xaxis\":{\"backgroundcolor\":\"rgb(234,234,242)\",\"gridcolor\":\"white\",\"gridwidth\":2,\"linecolor\":\"white\",\"showbackground\":true,\"showgrid\":true,\"ticks\":\"\",\"zerolinecolor\":\"white\"},\"yaxis\":{\"backgroundcolor\":\"rgb(234,234,242)\",\"gridcolor\":\"white\",\"gridwidth\":2,\"linecolor\":\"white\",\"showbackground\":true,\"showgrid\":true,\"ticks\":\"\",\"zerolinecolor\":\"white\"},\"zaxis\":{\"backgroundcolor\":\"rgb(234,234,242)\",\"gridcolor\":\"white\",\"gridwidth\":2,\"linecolor\":\"white\",\"showbackground\":true,\"showgrid\":true,\"ticks\":\"\",\"zerolinecolor\":\"white\"}},\"shapedefaults\":{\"fillcolor\":\"rgb(67,103,167)\",\"line\":{\"width\":0},\"opacity\":0.5},\"ternary\":{\"aaxis\":{\"gridcolor\":\"white\",\"linecolor\":\"white\",\"showgrid\":true,\"ticks\":\"\"},\"baxis\":{\"gridcolor\":\"white\",\"linecolor\":\"white\",\"showgrid\":true,\"ticks\":\"\"},\"bgcolor\":\"rgb(234,234,242)\",\"caxis\":{\"gridcolor\":\"white\",\"linecolor\":\"white\",\"showgrid\":true,\"ticks\":\"\"}},\"xaxis\":{\"automargin\":true,\"gridcolor\":\"white\",\"linecolor\":\"white\",\"showgrid\":true,\"ticks\":\"\",\"title\":{\"standoff\":15},\"zerolinecolor\":\"white\"},\"yaxis\":{\"automargin\":true,\"gridcolor\":\"white\",\"linecolor\":\"white\",\"showgrid\":true,\"ticks\":\"\",\"title\":{\"standoff\":15},\"zerolinecolor\":\"white\"}}},\"xaxis\":{\"anchor\":\"y\",\"domain\":[0.0,1.0],\"title\":{\"text\":\"x\"}},\"yaxis\":{\"anchor\":\"x\",\"domain\":[0.0,1.0],\"title\":{\"text\":\"y\"}},\"legend\":{\"tracegroupgap\":0},\"margin\":{\"t\":60},\"autosize\":false,\"width\":800,\"height\":800},                        {\"responsive\": true}                    ).then(function(){\n",
       "                            \n",
       "var gd = document.getElementById('ab132d91-c5f8-4c4c-ad62-069f60b74822');\n",
       "var x = new MutationObserver(function (mutations, observer) {{\n",
       "        var display = window.getComputedStyle(gd).display;\n",
       "        if (!display || display === 'none') {{\n",
       "            console.log([gd, 'removed!']);\n",
       "            Plotly.purge(gd);\n",
       "            observer.disconnect();\n",
       "        }}\n",
       "}});\n",
       "\n",
       "// Listen for the removal of the full notebook cells\n",
       "var notebookContainer = gd.closest('#notebook-container');\n",
       "if (notebookContainer) {{\n",
       "    x.observe(notebookContainer, {childList: true});\n",
       "}}\n",
       "\n",
       "// Listen for the clearing of the current output cell\n",
       "var outputEl = gd.closest('.output');\n",
       "if (outputEl) {{\n",
       "    x.observe(outputEl, {childList: true});\n",
       "}}\n",
       "\n",
       "                        })                };                });            </script>        </div>"
      ]
     },
     "metadata": {},
     "output_type": "display_data"
    }
   ],
   "source": [
    "test = np.random.rand(300, 8, 4, 1024)\n",
    "points = get_tsne_points(test)\n",
    "plot_points(points)"
   ]
  },
  {
   "cell_type": "code",
   "execution_count": null,
   "metadata": {},
   "outputs": [],
   "source": []
  }
 ],
 "metadata": {
  "kernelspec": {
   "display_name": "depmbt",
   "language": "python",
   "name": "python3"
  },
  "language_info": {
   "codemirror_mode": {
    "name": "ipython",
    "version": 3
   },
   "file_extension": ".py",
   "mimetype": "text/x-python",
   "name": "python",
   "nbconvert_exporter": "python",
   "pygments_lexer": "ipython3",
   "version": "3.9.16"
  },
  "orig_nbformat": 4
 },
 "nbformat": 4,
 "nbformat_minor": 2
}
