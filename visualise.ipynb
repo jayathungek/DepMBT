{
 "cells": [
  {
   "cell_type": "code",
   "execution_count": 1,
   "metadata": {},
   "outputs": [
    {
     "data": {
      "text/html": [
       "        <script type=\"text/javascript\">\n",
       "        window.PlotlyConfig = {MathJaxConfig: 'local'};\n",
       "        if (window.MathJax && window.MathJax.Hub && window.MathJax.Hub.Config) {window.MathJax.Hub.Config({SVG: {font: \"STIX-Web\"}});}\n",
       "        if (typeof require !== 'undefined') {\n",
       "        require.undef(\"plotly\");\n",
       "        requirejs.config({\n",
       "            paths: {\n",
       "                'plotly': ['https://cdn.plot.ly/plotly-2.26.0.min']\n",
       "            }\n",
       "        });\n",
       "        require(['plotly'], function(Plotly) {\n",
       "            window._Plotly = Plotly;\n",
       "        });\n",
       "        }\n",
       "        </script>\n",
       "        "
      ]
     },
     "metadata": {},
     "output_type": "display_data"
    }
   ],
   "source": [
    "import pickle\n",
    "\n",
    "import numpy as np\n",
    "import plotly.express as px\n",
    "from plotly.offline import init_notebook_mode\n",
    "from importlib import reload\n",
    "import visualise\n",
    "import constants\n",
    "reload(visualise)\n",
    "reload(constants)\n",
    "from constants import *\n",
    "\n",
    "init_notebook_mode(connected=True)"
   ]
  },
  {
   "cell_type": "code",
   "execution_count": 4,
   "metadata": {},
   "outputs": [],
   "source": [
    "import pandas as pd\n",
    "from visualise import get_tsne_points\n",
    "\n",
    "\n",
    "def clean_nans(embeddings_obj):\n",
    "    clean_records = []\n",
    "    clean_labels = []\n",
    "    records = embeddings_obj[\"embeddings\"]\n",
    "    print(f\"Got {records.shape[0]} records before cleaning\")\n",
    "    for i, record in enumerate(records):\n",
    "        if not np.isnan(record).any():\n",
    "            clean_records.append(record)\n",
    "            clean_labels.append(embeddings_obj[\"labels\"][i])\n",
    "    records = np.stack(clean_records, axis=0)\n",
    "    print(f\"Got {records.shape[0]} records after cleaning\")\n",
    "    return {\n",
    "        \"embeddings\": records,\n",
    "        \"labels\": clean_labels\n",
    "    }\n",
    "\n",
    "def points2dataframe(points, labels):\n",
    "    columns = [\"x\", \"y\"]\n",
    "    points_df = pd.DataFrame(points, columns=columns)\n",
    "    labels = [\", \".join(l) for l in labels]\n",
    "    points_df[\"labels\"] = labels\n",
    "    return points_df\n",
    "\n",
    "def plot_embeddings(embeddings_cleaned, model_name):\n",
    "    embeddings = embeddings_cleaned[\"embeddings\"]\n",
    "    points2d = get_tsne_points(embeddings)\n",
    "    embeddings_df = points2dataframe(points2d, embeddings_cleaned[\"labels\"])\n",
    "    fig = px.scatter(embeddings_df, x=\"x\", y=\"y\", hover_data=\"labels\")\n",
    "    fig.update_layout(\n",
    "        autosize=False,\n",
    "        width=800,\n",
    "        height=800,\n",
    "        template='seaborn',\n",
    "        title=model_name\n",
    "    )\n",
    "    fig.show()\n",
    "\n"
   ]
  },
  {
   "cell_type": "code",
   "execution_count": 5,
   "metadata": {},
   "outputs": [
    {
     "name": "stdout",
     "output_type": "stream",
     "text": [
      "Got 324 records before cleaning\n",
      "Got 312 records after cleaning\n"
     ]
    }
   ],
   "source": [
    "chkpt_name = \"mbt_student_val_loss_5720.63920\"\n",
    "pkl_path = f\"saved_models/{chkpt_name}.pkl\"\n",
    "with open(pkl_path, \"rb\") as fh:\n",
    "    embeddings_obj = pickle.load(fh)\n",
    "\n",
    "embeddings_cleaned = clean_nans(embeddings_obj)"
   ]
  },
  {
   "cell_type": "code",
   "execution_count": 6,
   "metadata": {},
   "outputs": [
    {
     "data": {
      "application/vnd.plotly.v1+json": {
       "config": {
        "plotlyServerURL": "https://plot.ly"
       },
       "data": [
        {
         "customdata": [
          [
           "None"
          ],
          [
           "Curiosity, Happiness, Frustration"
          ],
          [
           "None"
          ],
          [
           "Excitement, Happiness"
          ],
          [
           "Curiosity, Uncertainty, Surprise, Frustration"
          ],
          [
           "Curiosity, Happiness"
          ],
          [
           "Happiness"
          ],
          [
           "None"
          ],
          [
           "None"
          ],
          [
           "Curiosity, Happiness, Frustration"
          ],
          [
           "None"
          ],
          [
           "Excitement, Happiness"
          ],
          [
           "Curiosity, Uncertainty, Surprise, Frustration"
          ],
          [
           "Curiosity, Happiness"
          ],
          [
           "Happiness"
          ],
          [
           "None"
          ],
          [
           "None"
          ],
          [
           "Curiosity, Happiness, Frustration"
          ],
          [
           "None"
          ],
          [
           "Excitement, Happiness"
          ],
          [
           "Curiosity, Uncertainty, Surprise, Frustration"
          ],
          [
           "Curiosity, Happiness"
          ],
          [
           "Happiness"
          ],
          [
           "None"
          ],
          [
           "None"
          ],
          [
           "None"
          ],
          [
           "Uncertainty, Excitement, Happiness, Disgust"
          ],
          [
           "Uncertainty, Excitement, Surprise, Disgust, Fear, Frustration"
          ],
          [
           "Curiosity, Uncertainty, Fear"
          ],
          [
           "Excitement, Happiness"
          ],
          [
           "Curiosity, Happiness, Surprise"
          ],
          [
           "Curiosity, Uncertainty"
          ],
          [
           "None"
          ],
          [
           "None"
          ],
          [
           "Uncertainty, Excitement, Happiness, Disgust"
          ],
          [
           "Uncertainty, Excitement, Surprise, Disgust, Fear, Frustration"
          ],
          [
           "Curiosity, Uncertainty, Fear"
          ],
          [
           "Excitement, Happiness"
          ],
          [
           "Curiosity, Happiness, Surprise"
          ],
          [
           "Curiosity, Uncertainty"
          ],
          [
           "None"
          ],
          [
           "None"
          ],
          [
           "Uncertainty, Excitement, Happiness, Disgust"
          ],
          [
           "Uncertainty, Excitement, Surprise, Disgust, Fear, Frustration"
          ],
          [
           "Curiosity, Uncertainty, Fear"
          ],
          [
           "Excitement, Happiness"
          ],
          [
           "Curiosity, Happiness, Surprise"
          ],
          [
           "Curiosity, Uncertainty"
          ],
          [
           "Happiness"
          ],
          [
           "Uncertainty"
          ],
          [
           "Curiosity, Uncertainty, Excitement, Happiness, Surprise"
          ],
          [
           "Excitement"
          ],
          [
           "None"
          ],
          [
           "Curiosity"
          ],
          [
           "Happiness"
          ],
          [
           "Curiosity, Uncertainty, Happiness"
          ],
          [
           "Happiness"
          ],
          [
           "Uncertainty"
          ],
          [
           "Curiosity, Uncertainty, Excitement, Happiness, Surprise"
          ],
          [
           "Excitement"
          ],
          [
           "None"
          ],
          [
           "Curiosity"
          ],
          [
           "Happiness"
          ],
          [
           "Curiosity, Uncertainty, Happiness"
          ],
          [
           "Happiness"
          ],
          [
           "Uncertainty"
          ],
          [
           "Curiosity, Uncertainty, Excitement, Happiness, Surprise"
          ],
          [
           "Excitement"
          ],
          [
           "None"
          ],
          [
           "Curiosity"
          ],
          [
           "Happiness"
          ],
          [
           "Curiosity, Uncertainty, Happiness"
          ],
          [
           "None"
          ],
          [
           "Curiosity, Uncertainty, Frustration"
          ],
          [
           "Curiosity, Uncertainty, Surprise, Frustration"
          ],
          [
           "Curiosity, Uncertainty, Happiness, Surprise"
          ],
          [
           "None"
          ],
          [
           "Uncertainty, Disgust, Fear"
          ],
          [
           "Uncertainty, Disgust, Fear"
          ],
          [
           "Uncertainty, Happiness, Surprise, Frustration"
          ],
          [
           "None"
          ],
          [
           "Curiosity, Uncertainty, Frustration"
          ],
          [
           "Curiosity, Uncertainty, Surprise, Frustration"
          ],
          [
           "Curiosity, Uncertainty, Happiness, Surprise"
          ],
          [
           "None"
          ],
          [
           "Uncertainty, Disgust, Fear"
          ],
          [
           "Uncertainty, Disgust, Fear"
          ],
          [
           "Uncertainty, Happiness, Surprise, Frustration"
          ],
          [
           "None"
          ],
          [
           "Curiosity, Uncertainty, Frustration"
          ],
          [
           "Curiosity, Uncertainty, Surprise, Frustration"
          ],
          [
           "Curiosity, Uncertainty, Happiness, Surprise"
          ],
          [
           "None"
          ],
          [
           "Uncertainty, Disgust, Fear"
          ],
          [
           "Uncertainty, Disgust, Fear"
          ],
          [
           "Uncertainty, Happiness, Surprise, Frustration"
          ],
          [
           "Curiosity, Excitement, Surprise"
          ],
          [
           "Curiosity, Uncertainty, Happiness"
          ],
          [
           "Curiosity, Uncertainty, Happiness, Surprise, Fear"
          ],
          [
           "Excitement, Happiness"
          ],
          [
           "Curiosity, Happiness"
          ],
          [
           "Curiosity, Uncertainty, Happiness, Surprise"
          ],
          [
           "Happiness"
          ],
          [
           "Excitement, Happiness, Disgust"
          ],
          [
           "Curiosity, Excitement, Surprise"
          ],
          [
           "Curiosity, Uncertainty, Happiness"
          ],
          [
           "Curiosity, Uncertainty, Happiness, Surprise, Fear"
          ],
          [
           "Excitement, Happiness"
          ],
          [
           "Curiosity, Happiness"
          ],
          [
           "Curiosity, Uncertainty, Happiness, Surprise"
          ],
          [
           "Happiness"
          ],
          [
           "Excitement, Happiness, Disgust"
          ],
          [
           "Curiosity, Excitement, Surprise"
          ],
          [
           "Curiosity, Uncertainty, Happiness"
          ],
          [
           "Curiosity, Uncertainty, Happiness, Surprise, Fear"
          ],
          [
           "Excitement, Happiness"
          ],
          [
           "Curiosity, Happiness"
          ],
          [
           "Curiosity, Uncertainty, Happiness, Surprise"
          ],
          [
           "Happiness"
          ],
          [
           "Excitement, Happiness, Disgust"
          ],
          [
           "Curiosity, Uncertainty"
          ],
          [
           "Curiosity, Surprise"
          ],
          [
           "None"
          ],
          [
           "Curiosity, Excitement, Happiness, Surprise"
          ],
          [
           "Excitement, Happiness"
          ],
          [
           "Uncertainty, Disgust"
          ],
          [
           "Uncertainty, Happiness"
          ],
          [
           "Curiosity, Excitement, Happiness"
          ],
          [
           "Curiosity, Uncertainty"
          ],
          [
           "Curiosity, Surprise"
          ],
          [
           "None"
          ],
          [
           "Curiosity, Excitement, Happiness, Surprise"
          ],
          [
           "Excitement, Happiness"
          ],
          [
           "Uncertainty, Disgust"
          ],
          [
           "Uncertainty, Happiness"
          ],
          [
           "Curiosity, Excitement, Happiness"
          ],
          [
           "Curiosity, Uncertainty"
          ],
          [
           "Curiosity, Surprise"
          ],
          [
           "None"
          ],
          [
           "Curiosity, Excitement, Happiness, Surprise"
          ],
          [
           "Excitement, Happiness"
          ],
          [
           "Uncertainty, Disgust"
          ],
          [
           "Uncertainty, Happiness"
          ],
          [
           "Curiosity, Excitement, Happiness"
          ],
          [
           "Curiosity, Uncertainty, Excitement, Happiness"
          ],
          [
           "Curiosity, Happiness, Surprise"
          ],
          [
           "Curiosity"
          ],
          [
           "Excitement, Happiness"
          ],
          [
           "Disgust, Fear, Frustration"
          ],
          [
           "Excitement, Happiness"
          ],
          [
           "Curiosity, Uncertainty"
          ],
          [
           "None"
          ],
          [
           "Curiosity, Uncertainty, Excitement, Happiness"
          ],
          [
           "Curiosity, Happiness, Surprise"
          ],
          [
           "Curiosity"
          ],
          [
           "Excitement, Happiness"
          ],
          [
           "Disgust, Fear, Frustration"
          ],
          [
           "Excitement, Happiness"
          ],
          [
           "Curiosity, Uncertainty"
          ],
          [
           "None"
          ],
          [
           "Curiosity, Uncertainty, Excitement, Happiness"
          ],
          [
           "Curiosity, Happiness, Surprise"
          ],
          [
           "Curiosity"
          ],
          [
           "Excitement, Happiness"
          ],
          [
           "Disgust, Fear, Frustration"
          ],
          [
           "Excitement, Happiness"
          ],
          [
           "Curiosity, Uncertainty"
          ],
          [
           "None"
          ],
          [
           "Excitement, Happiness"
          ],
          [
           "Excitement, Happiness, Surprise"
          ],
          [
           "Happiness"
          ],
          [
           "Curiosity, Uncertainty, Surprise"
          ],
          [
           "Excitement, Frustration"
          ],
          [
           "Curiosity, Excitement, Happiness"
          ],
          [
           "Curiosity, Uncertainty, Surprise, Frustration"
          ],
          [
           "Curiosity"
          ],
          [
           "Excitement, Happiness"
          ],
          [
           "Excitement, Happiness, Surprise"
          ],
          [
           "Happiness"
          ],
          [
           "Curiosity, Uncertainty, Surprise"
          ],
          [
           "Excitement, Frustration"
          ],
          [
           "Curiosity, Excitement, Happiness"
          ],
          [
           "Curiosity, Uncertainty, Surprise, Frustration"
          ],
          [
           "Curiosity"
          ],
          [
           "Excitement, Happiness"
          ],
          [
           "Excitement, Happiness, Surprise"
          ],
          [
           "Happiness"
          ],
          [
           "Curiosity, Uncertainty, Surprise"
          ],
          [
           "Excitement, Frustration"
          ],
          [
           "Curiosity, Excitement, Happiness"
          ],
          [
           "Curiosity, Uncertainty, Surprise, Frustration"
          ],
          [
           "Curiosity"
          ],
          [
           "Curiosity, Excitement, Happiness, Surprise"
          ],
          [
           "None"
          ],
          [
           "None"
          ],
          [
           "Curiosity, Happiness, Surprise"
          ],
          [
           "Curiosity, Uncertainty, Excitement, Happiness, Surprise"
          ],
          [
           "Curiosity, Excitement, Happiness, Surprise"
          ],
          [
           "Excitement, Happiness"
          ],
          [
           "None"
          ],
          [
           "Curiosity, Excitement, Happiness, Surprise"
          ],
          [
           "None"
          ],
          [
           "None"
          ],
          [
           "Curiosity, Happiness, Surprise"
          ],
          [
           "Curiosity, Uncertainty, Excitement, Happiness, Surprise"
          ],
          [
           "Curiosity, Excitement, Happiness, Surprise"
          ],
          [
           "Excitement, Happiness"
          ],
          [
           "None"
          ],
          [
           "Curiosity, Excitement, Happiness, Surprise"
          ],
          [
           "None"
          ],
          [
           "None"
          ],
          [
           "Curiosity, Happiness, Surprise"
          ],
          [
           "Curiosity, Uncertainty, Excitement, Happiness, Surprise"
          ],
          [
           "Curiosity, Excitement, Happiness, Surprise"
          ],
          [
           "Excitement, Happiness"
          ],
          [
           "None"
          ],
          [
           "Frustration"
          ],
          [
           "Curiosity, Uncertainty, Surprise"
          ],
          [
           "None"
          ],
          [
           "Happiness"
          ],
          [
           "Happiness, Surprise"
          ],
          [
           "Happiness"
          ],
          [
           "Curiosity, Uncertainty, Excitement, Happiness, Surprise, Fear"
          ],
          [
           "Curiosity, Happiness"
          ],
          [
           "Frustration"
          ],
          [
           "Curiosity, Uncertainty, Surprise"
          ],
          [
           "None"
          ],
          [
           "Happiness"
          ],
          [
           "Happiness, Surprise"
          ],
          [
           "Happiness"
          ],
          [
           "Curiosity, Uncertainty, Excitement, Happiness, Surprise, Fear"
          ],
          [
           "Curiosity, Happiness"
          ],
          [
           "Frustration"
          ],
          [
           "Curiosity, Uncertainty, Surprise"
          ],
          [
           "None"
          ],
          [
           "Happiness"
          ],
          [
           "Happiness, Surprise"
          ],
          [
           "Happiness"
          ],
          [
           "Curiosity, Uncertainty, Excitement, Happiness, Surprise, Fear"
          ],
          [
           "Curiosity, Happiness"
          ],
          [
           "Disgust, Fear"
          ],
          [
           "Curiosity, Uncertainty, Happiness, Surprise"
          ],
          [
           "Disgust"
          ],
          [
           "Happiness"
          ],
          [
           "Curiosity, Excitement, Happiness, Surprise"
          ],
          [
           "None"
          ],
          [
           "None"
          ],
          [
           "Disgust, Frustration"
          ],
          [
           "Disgust, Fear"
          ],
          [
           "Curiosity, Uncertainty, Happiness, Surprise"
          ],
          [
           "Disgust"
          ],
          [
           "Happiness"
          ],
          [
           "Curiosity, Excitement, Happiness, Surprise"
          ],
          [
           "None"
          ],
          [
           "None"
          ],
          [
           "Disgust, Frustration"
          ],
          [
           "Disgust, Fear"
          ],
          [
           "Curiosity, Uncertainty, Happiness, Surprise"
          ],
          [
           "Disgust"
          ],
          [
           "Happiness"
          ],
          [
           "Curiosity, Excitement, Happiness, Surprise"
          ],
          [
           "None"
          ],
          [
           "None"
          ],
          [
           "Disgust, Frustration"
          ],
          [
           "Curiosity, Uncertainty"
          ],
          [
           "Happiness, Frustration"
          ],
          [
           "None"
          ],
          [
           "None"
          ],
          [
           "Uncertainty, Surprise, Disgust"
          ],
          [
           "Uncertainty, Excitement"
          ],
          [
           "None"
          ],
          [
           "Curiosity, Excitement, Happiness, Surprise"
          ],
          [
           "Curiosity, Uncertainty"
          ],
          [
           "Happiness, Frustration"
          ],
          [
           "None"
          ],
          [
           "None"
          ],
          [
           "Uncertainty, Surprise, Disgust"
          ],
          [
           "Uncertainty, Excitement"
          ],
          [
           "None"
          ],
          [
           "Curiosity, Excitement, Happiness, Surprise"
          ],
          [
           "Curiosity, Uncertainty"
          ],
          [
           "Happiness, Frustration"
          ],
          [
           "None"
          ],
          [
           "None"
          ],
          [
           "Uncertainty, Surprise, Disgust"
          ],
          [
           "Uncertainty, Excitement"
          ],
          [
           "None"
          ],
          [
           "Curiosity, Excitement, Happiness, Surprise"
          ],
          [
           "Excitement, Frustration"
          ],
          [
           "Curiosity, Uncertainty, Happiness, Surprise, Frustration"
          ],
          [
           "Surprise, Disgust"
          ],
          [
           "Curiosity, Uncertainty, Happiness, Surprise"
          ],
          [
           "Uncertainty, Surprise"
          ],
          [
           "Uncertainty, Happiness, Surprise"
          ],
          [
           "None"
          ],
          [
           "None"
          ],
          [
           "Excitement, Frustration"
          ],
          [
           "Curiosity, Uncertainty, Happiness, Surprise, Frustration"
          ],
          [
           "Surprise, Disgust"
          ],
          [
           "Curiosity, Uncertainty, Happiness, Surprise"
          ],
          [
           "Uncertainty, Surprise"
          ],
          [
           "Uncertainty, Happiness, Surprise"
          ],
          [
           "None"
          ],
          [
           "None"
          ],
          [
           "Excitement, Frustration"
          ],
          [
           "Curiosity, Uncertainty, Happiness, Surprise, Frustration"
          ],
          [
           "Surprise, Disgust"
          ],
          [
           "Curiosity, Uncertainty, Happiness, Surprise"
          ],
          [
           "Uncertainty, Surprise"
          ],
          [
           "Uncertainty, Happiness, Surprise"
          ],
          [
           "None"
          ],
          [
           "None"
          ]
         ],
         "hovertemplate": "x=%{x}<br>y=%{y}<br>labels=%{customdata[0]}<extra></extra>",
         "legendgroup": "",
         "marker": {
          "color": "#636efa",
          "symbol": "circle"
         },
         "mode": "markers",
         "name": "",
         "orientation": "v",
         "showlegend": false,
         "type": "scatter",
         "x": [
          22.734027862548828,
          18.627880096435547,
          15.422697067260742,
          -8.503775596618652,
          15.750158309936523,
          -8.503775596618652,
          22.72528648376465,
          -8.503775596618652,
          27.232620239257812,
          27.153839111328125,
          23.4475154876709,
          19.235986709594727,
          23.416967391967773,
          19.68686866760254,
          26.79776382446289,
          19.381227493286133,
          -7.894491672515869,
          -7.894491672515869,
          -8.785796165466309,
          -8.785796165466309,
          -8.785796165466309,
          -7.894491672515869,
          -9.630133628845215,
          -9.630133628845215,
          -9.630133628845215,
          -6.863401889801025,
          -6.863401889801025,
          -9.630133628845215,
          -7.2629475593566895,
          -7.894491672515869,
          -8.503775596618652,
          -7.462869167327881,
          21.427406311035156,
          25.711402893066406,
          26.353561401367188,
          21.107521057128906,
          18.391515731811523,
          21.255430221557617,
          22.73866844177246,
          26.06442642211914,
          -7.503935813903809,
          15.572856903076172,
          15.985820770263672,
          -7.6212897300720215,
          -7.503935813903809,
          -7.172009468078613,
          -7.6212897300720215,
          -9.986985206604004,
          26.882640838623047,
          21.654062271118164,
          23.44119644165039,
          23.45347785949707,
          25.26000213623047,
          26.54315757751465,
          24.651264190673828,
          25.271831512451172,
          16.62017822265625,
          -8.87507152557373,
          -7.6212897300720215,
          -7.587225914001465,
          -8.87507152557373,
          -8.87507152557373,
          -8.87507152557373,
          -8.87507152557373,
          26.391756057739258,
          16.02263641357422,
          19.14472007751465,
          18.85929298400879,
          21.09298324584961,
          22.99716567993164,
          19.44957733154297,
          21.051525115966797,
          -8.87507152557373,
          -8.87507152557373,
          -8.87507152557373,
          -8.87507152557373,
          -8.87507152557373,
          14.405717849731445,
          -8.87507152557373,
          -8.87507152557373,
          -8.87507152557373,
          -8.87507152557373,
          -8.503775596618652,
          -8.87507152557373,
          -8.87507152557373,
          -8.87507152557373,
          -8.87507152557373,
          -8.503775596618652,
          -8.503775596618652,
          -9.99088191986084,
          -8.87507152557373,
          -7.587225914001465,
          -7.5127153396606445,
          -6.832929611206055,
          -8.503775596618652,
          -6.992137908935547,
          -6.302954196929932,
          -6.832929611206055,
          -8.87507152557373,
          -8.87507152557373,
          -10.579824447631836,
          -10.579824447631836,
          -7.6212897300720215,
          24.42583465576172,
          -8.503775596618652,
          -6.832929611206055,
          -8.52950382232666,
          21.11907958984375,
          -7.172009468078613,
          -9.99088191986084,
          -8.503775596618652,
          25.34160041809082,
          20.666683197021484,
          23.97834587097168,
          21.225061416625977,
          26.74476432800293,
          18.35749626159668,
          16.169307708740234,
          19.24998664855957,
          27.183774948120117,
          -6.992137908935547,
          -10.579858779907227,
          -7.260722637176514,
          -6.863401889801025,
          -7.587225914001465,
          -8.503775596618652,
          -9.630133628845215,
          -8.52950382232666,
          -9.630133628845215,
          -8.52950382232666,
          -8.785796165466309,
          -7.587225914001465,
          -7.894491672515869,
          -7.894491672515869,
          -7.587225914001465,
          -9.99088191986084,
          -8.503775596618652,
          -8.503775596618652,
          -8.52950382232666,
          -8.503775596618652,
          -8.52950382232666,
          19.653039932250977,
          14.451213836669922,
          14.974050521850586,
          13.929400444030762,
          15.946768760681152,
          18.228960037231445,
          14.710724830627441,
          26.700075149536133,
          19.198572158813477,
          26.906633377075195,
          19.1562557220459,
          -8.52950382232666,
          -8.52950382232666,
          -8.52950382232666,
          -11.11661148071289,
          14.010581016540527,
          -11.11661148071289,
          16.30742073059082,
          -11.11661148071289,
          -11.11661148071289,
          -11.11661148071289,
          -11.11661148071289,
          -11.11661148071289,
          23.164392471313477,
          15.66318416595459,
          24.619239807128906,
          14.7145357131958,
          20.58509635925293,
          27.295679092407227,
          16.51317024230957,
          27.220802307128906,
          16.62318992614746,
          26.81667137145996,
          26.60392189025879,
          26.79161262512207,
          -11.11661148071289,
          18.1998291015625,
          -11.11661148071289,
          23.85629653930664,
          -11.11661148071289,
          15.877099990844727,
          27.183860778808594,
          17.974550247192383,
          22.9987850189209,
          26.5662841796875,
          20.27141571044922,
          26.608861923217773,
          20.515893936157227,
          27.262983322143555,
          26.872827529907227,
          26.424137115478516,
          -11.11661148071289,
          -11.11661148071289,
          -11.11661148071289,
          -11.11661148071289,
          -11.11661148071289,
          -11.11661148071289,
          -11.11661148071289,
          -11.11661148071289,
          -11.11661148071289,
          -11.11661148071289,
          -11.11661148071289,
          -11.11661148071289,
          -11.11661148071289,
          14.360047340393066,
          -11.11661148071289,
          -11.11661148071289,
          -11.11661148071289,
          23.775070190429688,
          25.795677185058594,
          23.065494537353516,
          -11.11661148071289,
          25.97439956665039,
          18.76442527770996,
          20.90952491760254,
          -11.11661148071289,
          -11.11661148071289,
          -11.11661148071289,
          -11.11661148071289,
          -11.11661148071289,
          -11.11661148071289,
          20.945383071899414,
          -11.11661148071289,
          21.286678314208984,
          21.53563690185547,
          -11.11661148071289,
          -11.11661148071289,
          15.11861801147461,
          -11.11661148071289,
          26.396696090698242,
          -11.11661148071289,
          21.333126068115234,
          22.6466007232666,
          -11.11661148071289,
          -11.11661148071289,
          15.676615715026855,
          -11.11661148071289,
          26.13976287841797,
          -11.11661148071289,
          -11.11661148071289,
          -11.11661148071289,
          -11.11661148071289,
          -11.11661148071289,
          -11.11661148071289,
          -11.11661148071289,
          -11.11661148071289,
          -11.11661148071289,
          19.08243179321289,
          18.117952346801758,
          21.85308265686035,
          16.099586486816406,
          26.2708683013916,
          25.57975959777832,
          21.312646865844727,
          13.570033073425293,
          -11.11661148071289,
          -11.11661148071289,
          -11.11661148071289,
          -11.11661148071289,
          -11.11661148071289,
          -11.11661148071289,
          -11.11661148071289,
          -11.11661148071289,
          -11.11661148071289,
          -11.11661148071289,
          -11.11661148071289,
          -11.11661148071289,
          -11.11661148071289,
          -11.11661148071289,
          -11.11661148071289,
          -11.11661148071289,
          -11.11661148071289,
          -11.11661148071289,
          -11.11661148071289,
          -11.11661148071289,
          -11.11661148071289,
          -11.11661148071289,
          16.655229568481445,
          -11.11661148071289,
          -11.11661148071289,
          -11.11661148071289,
          -11.11661148071289,
          -11.11661148071289,
          -11.11661148071289,
          -11.11661148071289,
          -11.11661148071289,
          -11.11661148071289,
          -11.11661148071289,
          -11.11661148071289,
          22.774866104125977,
          21.08698081970215,
          26.34833526611328,
          -11.11661148071289,
          18.853832244873047,
          -11.11661148071289,
          15.501938819885254,
          15.000414848327637,
          25.0991268157959,
          23.884668350219727,
          25.520092010498047,
          14.461280822753906,
          22.466915130615234,
          15.402729034423828,
          -11.11661148071289,
          -11.11661148071289,
          -11.11661148071289,
          -11.11661148071289,
          25.158098220825195,
          -11.11661148071289,
          -11.11661148071289,
          -11.11661148071289
         ],
         "xaxis": "x",
         "y": [
          0.4718286395072937,
          5.194235324859619,
          7.780819416046143,
          -2.1597092151641846,
          7.678861141204834,
          -2.1597092151641846,
          0.4838477671146393,
          -2.1597092151641846,
          -5.701663017272949,
          -6.188672065734863,
          -0.5435048937797546,
          4.608575344085693,
          -0.498139888048172,
          4.140556812286377,
          -5.186863899230957,
          4.4597086906433105,
          -1.000516414642334,
          -1.000516414642334,
          -1.1804016828536987,
          -1.1804016828536987,
          -1.1804016828536987,
          -1.000516414642334,
          1.3669772148132324,
          1.3669772148132324,
          1.3669772148132324,
          -1.0859143733978271,
          -1.0859143733978271,
          1.3669772148132324,
          -2.0947420597076416,
          -1.000516414642334,
          -2.1597092151641846,
          -1.4983785152435303,
          2.198699951171875,
          -3.9752490520477295,
          -4.9715094566345215,
          2.6144638061523438,
          5.407489776611328,
          2.396221160888672,
          0.4654037356376648,
          -4.50904655456543,
          -0.4817209541797638,
          7.583714962005615,
          7.405176639556885,
          0.07179617136716843,
          -0.4817209541797638,
          -1.6415650844573975,
          0.07179617136716843,
          0.5731052160263062,
          -5.247276782989502,
          1.9192383289337158,
          -0.5343318581581116,
          -0.5524258017539978,
          -3.295722484588623,
          -5.707298278808594,
          -2.3606879711151123,
          -3.3142049312591553,
          6.912956714630127,
          -0.06012840196490288,
          0.07179617136716843,
          0.9156326651573181,
          -0.06012840196490288,
          -0.06012840196490288,
          -0.06012840196490288,
          -0.06012840196490288,
          -5.373992443084717,
          7.377061367034912,
          4.70045804977417,
          4.978958606719971,
          2.4634580612182617,
          0.10606209188699722,
          4.3931989669799805,
          2.662611722946167,
          -0.06012840196490288,
          -0.06012840196490288,
          -0.06012840196490288,
          -0.06012840196490288,
          -0.06012840196490288,
          8.334990501403809,
          -0.06012840196490288,
          -0.06012840196490288,
          -0.06012840196490288,
          -0.06012840196490288,
          -2.1597092151641846,
          -0.06012840196490288,
          -0.06012840196490288,
          -0.06012840196490288,
          -0.06012840196490288,
          -2.1597092151641846,
          -2.1597092151641846,
          0.5729094743728638,
          -0.06012840196490288,
          0.9156326651573181,
          -2.6097798347473145,
          -0.37315815687179565,
          -2.1597092151641846,
          0.32344675064086914,
          0.7482409477233887,
          -0.37315815687179565,
          -0.06012840196490288,
          -0.06012840196490288,
          1.0491185188293457,
          1.0491185188293457,
          0.07179617136716843,
          -2.0149030685424805,
          -2.1597092151641846,
          -0.37315815687179565,
          1.3409191370010376,
          2.6222729682922363,
          -1.6415650844573975,
          0.5729094743728638,
          -2.1597092151641846,
          -3.422619104385376,
          3.0749826431274414,
          -1.334686279296875,
          2.6157219409942627,
          -5.15483283996582,
          5.436501979827881,
          7.265617847442627,
          4.593173027038574,
          -5.616754055023193,
          0.32344675064086914,
          1.048860788345337,
          -2.081510305404663,
          -1.0859143733978271,
          0.9156326651573181,
          -2.1597092151641846,
          1.3669772148132324,
          1.3409191370010376,
          1.3669772148132324,
          1.3409191370010376,
          -1.1804016828536987,
          0.9156326651573181,
          -1.000516414642334,
          -1.000516414642334,
          0.9156326651573181,
          0.5729094743728638,
          -2.1597092151641846,
          -2.1597092151641846,
          1.3409191370010376,
          -2.1597092151641846,
          1.3409191370010376,
          4.177801132202148,
          8.312896728515625,
          8.036399841308594,
          8.552292823791504,
          7.43412971496582,
          5.550220489501953,
          8.18063735961914,
          -5.869564533233643,
          4.650938987731934,
          -6.060164928436279,
          4.688830852508545,
          1.3409191370010376,
          1.3409191370010376,
          1.3409191370010376,
          -1.5436415672302246,
          8.517199516296387,
          -1.5436415672302246,
          7.1697258949279785,
          -1.5436415672302246,
          -1.5436415672302246,
          -1.5436415672302246,
          -1.5436415672302246,
          -1.5436415672302246,
          -0.13216662406921387,
          7.71533203125,
          -2.3114588260650635,
          8.17894458770752,
          3.1681571006774902,
          -5.90010929107666,
          6.999000549316406,
          -6.189808368682861,
          6.910439491271973,
          -5.193379878997803,
          -5.772862434387207,
          -5.172898292541504,
          -1.5436415672302246,
          5.575197696685791,
          -1.5436415672302246,
          -1.1507238149642944,
          -1.5436415672302246,
          7.5005998611450195,
          -5.617805480957031,
          5.769242763519287,
          0.10358522087335587,
          -5.718848705291748,
          3.515953540802002,
          -5.807101249694824,
          3.245234489440918,
          -6.11078405380249,
          -6.045559406280518,
          -5.141824245452881,
          -1.5436415672302246,
          -1.5436415672302246,
          -1.5436415672302246,
          -1.5436415672302246,
          -1.5436415672302246,
          -1.5436415672302246,
          -1.5436415672302246,
          -1.5436415672302246,
          -1.5436415672302246,
          -1.5436415672302246,
          -1.5436415672302246,
          -1.5436415672302246,
          -1.5436415672302246,
          8.3572998046875,
          -1.5436415672302246,
          -1.5436415672302246,
          -1.5436415672302246,
          -1.029201865196228,
          -4.102820873260498,
          0.008961169049143791,
          -1.5436415672302246,
          -4.3736252784729,
          5.068061828613281,
          2.816418409347534,
          -1.5436415672302246,
          -1.5436415672302246,
          -1.5436415672302246,
          -1.5436415672302246,
          -1.5436415672302246,
          -1.5436415672302246,
          2.7753796577453613,
          -1.5436415672302246,
          2.4677560329437256,
          2.0652029514312744,
          -1.5436415672302246,
          -1.5436415672302246,
          7.948895454406738,
          -1.5436415672302246,
          -5.349165439605713,
          -1.5436415672302246,
          2.3178462982177734,
          0.5911425948143005,
          -1.5436415672302246,
          -1.5436415672302246,
          7.485174179077148,
          -1.5436415672302246,
          -4.625529766082764,
          -1.5436415672302246,
          -1.5436415672302246,
          -1.5436415672302246,
          -1.5436415672302246,
          -1.5436415672302246,
          -1.5436415672302246,
          -1.5436415672302246,
          -1.5436415672302246,
          -1.5436415672302246,
          4.762727737426758,
          5.646114826202393,
          1.652238130569458,
          7.320394992828369,
          -4.825375080108643,
          -3.7805519104003906,
          2.341789484024048,
          8.703858375549316,
          -1.5436415672302246,
          -1.5436415672302246,
          -1.5436415672302246,
          -1.5436415672302246,
          -1.5436415672302246,
          -1.5436415672302246,
          -1.5436415672302246,
          -1.5436415672302246,
          -1.5436415672302246,
          -1.5436415672302246,
          -1.5436415672302246,
          -1.5436415672302246,
          -1.5436415672302246,
          -1.5436415672302246,
          -1.5436415672302246,
          -1.5436415672302246,
          -1.5436415672302246,
          -1.5436415672302246,
          -1.5436415672302246,
          -1.5436415672302246,
          -1.5436415672302246,
          -1.5436415672302246,
          6.883494853973389,
          -1.5436415672302246,
          -1.5436415672302246,
          -1.5436415672302246,
          -1.5436415672302246,
          -1.5436415672302246,
          -1.5436415672302246,
          -1.5436415672302246,
          -1.5436415672302246,
          -1.5436415672302246,
          -1.5436415672302246,
          -1.5436415672302246,
          0.41583049297332764,
          2.4650282859802246,
          -5.164207935333252,
          -1.5436415672302246,
          4.983822345733643,
          -1.5436415672302246,
          7.7415313720703125,
          8.0208101272583,
          -3.0508081912994385,
          -1.193013310432434,
          -3.68937087059021,
          8.307836532592773,
          0.8315045237541199,
          7.7873334884643555,
          -1.5436415672302246,
          -1.5436415672302246,
          -1.5436415672302246,
          -1.5436415672302246,
          -3.1426217555999756,
          -1.5436415672302246,
          -1.5436415672302246,
          -1.5436415672302246
         ],
         "yaxis": "y"
        }
       ],
       "layout": {
        "autosize": false,
        "height": 800,
        "legend": {
         "tracegroupgap": 0
        },
        "margin": {
         "t": 60
        },
        "template": {
         "data": {
          "bar": [
           {
            "error_x": {
             "color": "rgb(36,36,36)"
            },
            "error_y": {
             "color": "rgb(36,36,36)"
            },
            "marker": {
             "line": {
              "color": "rgb(234,234,242)",
              "width": 0.5
             },
             "pattern": {
              "fillmode": "overlay",
              "size": 10,
              "solidity": 0.2
             }
            },
            "type": "bar"
           }
          ],
          "barpolar": [
           {
            "marker": {
             "line": {
              "color": "rgb(234,234,242)",
              "width": 0.5
             },
             "pattern": {
              "fillmode": "overlay",
              "size": 10,
              "solidity": 0.2
             }
            },
            "type": "barpolar"
           }
          ],
          "carpet": [
           {
            "aaxis": {
             "endlinecolor": "rgb(36,36,36)",
             "gridcolor": "white",
             "linecolor": "white",
             "minorgridcolor": "white",
             "startlinecolor": "rgb(36,36,36)"
            },
            "baxis": {
             "endlinecolor": "rgb(36,36,36)",
             "gridcolor": "white",
             "linecolor": "white",
             "minorgridcolor": "white",
             "startlinecolor": "rgb(36,36,36)"
            },
            "type": "carpet"
           }
          ],
          "choropleth": [
           {
            "colorbar": {
             "outlinewidth": 0,
             "tickcolor": "rgb(36,36,36)",
             "ticklen": 8,
             "ticks": "outside",
             "tickwidth": 2
            },
            "type": "choropleth"
           }
          ],
          "contour": [
           {
            "colorbar": {
             "outlinewidth": 0,
             "tickcolor": "rgb(36,36,36)",
             "ticklen": 8,
             "ticks": "outside",
             "tickwidth": 2
            },
            "colorscale": [
             [
              0,
              "rgb(2,4,25)"
             ],
             [
              0.06274509803921569,
              "rgb(24,15,41)"
             ],
             [
              0.12549019607843137,
              "rgb(47,23,57)"
             ],
             [
              0.18823529411764706,
              "rgb(71,28,72)"
             ],
             [
              0.25098039215686274,
              "rgb(97,30,82)"
             ],
             [
              0.3137254901960784,
              "rgb(123,30,89)"
             ],
             [
              0.3764705882352941,
              "rgb(150,27,91)"
             ],
             [
              0.4392156862745098,
              "rgb(177,22,88)"
             ],
             [
              0.5019607843137255,
              "rgb(203,26,79)"
             ],
             [
              0.5647058823529412,
              "rgb(223,47,67)"
             ],
             [
              0.6274509803921569,
              "rgb(236,76,61)"
             ],
             [
              0.6901960784313725,
              "rgb(242,107,73)"
             ],
             [
              0.7529411764705882,
              "rgb(244,135,95)"
             ],
             [
              0.8156862745098039,
              "rgb(245,162,122)"
             ],
             [
              0.8784313725490196,
              "rgb(246,188,153)"
             ],
             [
              0.9411764705882353,
              "rgb(247,212,187)"
             ],
             [
              1,
              "rgb(250,234,220)"
             ]
            ],
            "type": "contour"
           }
          ],
          "contourcarpet": [
           {
            "colorbar": {
             "outlinewidth": 0,
             "tickcolor": "rgb(36,36,36)",
             "ticklen": 8,
             "ticks": "outside",
             "tickwidth": 2
            },
            "type": "contourcarpet"
           }
          ],
          "heatmap": [
           {
            "colorbar": {
             "outlinewidth": 0,
             "tickcolor": "rgb(36,36,36)",
             "ticklen": 8,
             "ticks": "outside",
             "tickwidth": 2
            },
            "colorscale": [
             [
              0,
              "rgb(2,4,25)"
             ],
             [
              0.06274509803921569,
              "rgb(24,15,41)"
             ],
             [
              0.12549019607843137,
              "rgb(47,23,57)"
             ],
             [
              0.18823529411764706,
              "rgb(71,28,72)"
             ],
             [
              0.25098039215686274,
              "rgb(97,30,82)"
             ],
             [
              0.3137254901960784,
              "rgb(123,30,89)"
             ],
             [
              0.3764705882352941,
              "rgb(150,27,91)"
             ],
             [
              0.4392156862745098,
              "rgb(177,22,88)"
             ],
             [
              0.5019607843137255,
              "rgb(203,26,79)"
             ],
             [
              0.5647058823529412,
              "rgb(223,47,67)"
             ],
             [
              0.6274509803921569,
              "rgb(236,76,61)"
             ],
             [
              0.6901960784313725,
              "rgb(242,107,73)"
             ],
             [
              0.7529411764705882,
              "rgb(244,135,95)"
             ],
             [
              0.8156862745098039,
              "rgb(245,162,122)"
             ],
             [
              0.8784313725490196,
              "rgb(246,188,153)"
             ],
             [
              0.9411764705882353,
              "rgb(247,212,187)"
             ],
             [
              1,
              "rgb(250,234,220)"
             ]
            ],
            "type": "heatmap"
           }
          ],
          "heatmapgl": [
           {
            "colorbar": {
             "outlinewidth": 0,
             "tickcolor": "rgb(36,36,36)",
             "ticklen": 8,
             "ticks": "outside",
             "tickwidth": 2
            },
            "colorscale": [
             [
              0,
              "rgb(2,4,25)"
             ],
             [
              0.06274509803921569,
              "rgb(24,15,41)"
             ],
             [
              0.12549019607843137,
              "rgb(47,23,57)"
             ],
             [
              0.18823529411764706,
              "rgb(71,28,72)"
             ],
             [
              0.25098039215686274,
              "rgb(97,30,82)"
             ],
             [
              0.3137254901960784,
              "rgb(123,30,89)"
             ],
             [
              0.3764705882352941,
              "rgb(150,27,91)"
             ],
             [
              0.4392156862745098,
              "rgb(177,22,88)"
             ],
             [
              0.5019607843137255,
              "rgb(203,26,79)"
             ],
             [
              0.5647058823529412,
              "rgb(223,47,67)"
             ],
             [
              0.6274509803921569,
              "rgb(236,76,61)"
             ],
             [
              0.6901960784313725,
              "rgb(242,107,73)"
             ],
             [
              0.7529411764705882,
              "rgb(244,135,95)"
             ],
             [
              0.8156862745098039,
              "rgb(245,162,122)"
             ],
             [
              0.8784313725490196,
              "rgb(246,188,153)"
             ],
             [
              0.9411764705882353,
              "rgb(247,212,187)"
             ],
             [
              1,
              "rgb(250,234,220)"
             ]
            ],
            "type": "heatmapgl"
           }
          ],
          "histogram": [
           {
            "marker": {
             "pattern": {
              "fillmode": "overlay",
              "size": 10,
              "solidity": 0.2
             }
            },
            "type": "histogram"
           }
          ],
          "histogram2d": [
           {
            "colorbar": {
             "outlinewidth": 0,
             "tickcolor": "rgb(36,36,36)",
             "ticklen": 8,
             "ticks": "outside",
             "tickwidth": 2
            },
            "colorscale": [
             [
              0,
              "rgb(2,4,25)"
             ],
             [
              0.06274509803921569,
              "rgb(24,15,41)"
             ],
             [
              0.12549019607843137,
              "rgb(47,23,57)"
             ],
             [
              0.18823529411764706,
              "rgb(71,28,72)"
             ],
             [
              0.25098039215686274,
              "rgb(97,30,82)"
             ],
             [
              0.3137254901960784,
              "rgb(123,30,89)"
             ],
             [
              0.3764705882352941,
              "rgb(150,27,91)"
             ],
             [
              0.4392156862745098,
              "rgb(177,22,88)"
             ],
             [
              0.5019607843137255,
              "rgb(203,26,79)"
             ],
             [
              0.5647058823529412,
              "rgb(223,47,67)"
             ],
             [
              0.6274509803921569,
              "rgb(236,76,61)"
             ],
             [
              0.6901960784313725,
              "rgb(242,107,73)"
             ],
             [
              0.7529411764705882,
              "rgb(244,135,95)"
             ],
             [
              0.8156862745098039,
              "rgb(245,162,122)"
             ],
             [
              0.8784313725490196,
              "rgb(246,188,153)"
             ],
             [
              0.9411764705882353,
              "rgb(247,212,187)"
             ],
             [
              1,
              "rgb(250,234,220)"
             ]
            ],
            "type": "histogram2d"
           }
          ],
          "histogram2dcontour": [
           {
            "colorbar": {
             "outlinewidth": 0,
             "tickcolor": "rgb(36,36,36)",
             "ticklen": 8,
             "ticks": "outside",
             "tickwidth": 2
            },
            "colorscale": [
             [
              0,
              "rgb(2,4,25)"
             ],
             [
              0.06274509803921569,
              "rgb(24,15,41)"
             ],
             [
              0.12549019607843137,
              "rgb(47,23,57)"
             ],
             [
              0.18823529411764706,
              "rgb(71,28,72)"
             ],
             [
              0.25098039215686274,
              "rgb(97,30,82)"
             ],
             [
              0.3137254901960784,
              "rgb(123,30,89)"
             ],
             [
              0.3764705882352941,
              "rgb(150,27,91)"
             ],
             [
              0.4392156862745098,
              "rgb(177,22,88)"
             ],
             [
              0.5019607843137255,
              "rgb(203,26,79)"
             ],
             [
              0.5647058823529412,
              "rgb(223,47,67)"
             ],
             [
              0.6274509803921569,
              "rgb(236,76,61)"
             ],
             [
              0.6901960784313725,
              "rgb(242,107,73)"
             ],
             [
              0.7529411764705882,
              "rgb(244,135,95)"
             ],
             [
              0.8156862745098039,
              "rgb(245,162,122)"
             ],
             [
              0.8784313725490196,
              "rgb(246,188,153)"
             ],
             [
              0.9411764705882353,
              "rgb(247,212,187)"
             ],
             [
              1,
              "rgb(250,234,220)"
             ]
            ],
            "type": "histogram2dcontour"
           }
          ],
          "mesh3d": [
           {
            "colorbar": {
             "outlinewidth": 0,
             "tickcolor": "rgb(36,36,36)",
             "ticklen": 8,
             "ticks": "outside",
             "tickwidth": 2
            },
            "type": "mesh3d"
           }
          ],
          "parcoords": [
           {
            "line": {
             "colorbar": {
              "outlinewidth": 0,
              "tickcolor": "rgb(36,36,36)",
              "ticklen": 8,
              "ticks": "outside",
              "tickwidth": 2
             }
            },
            "type": "parcoords"
           }
          ],
          "pie": [
           {
            "automargin": true,
            "type": "pie"
           }
          ],
          "scatter": [
           {
            "fillpattern": {
             "fillmode": "overlay",
             "size": 10,
             "solidity": 0.2
            },
            "type": "scatter"
           }
          ],
          "scatter3d": [
           {
            "line": {
             "colorbar": {
              "outlinewidth": 0,
              "tickcolor": "rgb(36,36,36)",
              "ticklen": 8,
              "ticks": "outside",
              "tickwidth": 2
             }
            },
            "marker": {
             "colorbar": {
              "outlinewidth": 0,
              "tickcolor": "rgb(36,36,36)",
              "ticklen": 8,
              "ticks": "outside",
              "tickwidth": 2
             }
            },
            "type": "scatter3d"
           }
          ],
          "scattercarpet": [
           {
            "marker": {
             "colorbar": {
              "outlinewidth": 0,
              "tickcolor": "rgb(36,36,36)",
              "ticklen": 8,
              "ticks": "outside",
              "tickwidth": 2
             }
            },
            "type": "scattercarpet"
           }
          ],
          "scattergeo": [
           {
            "marker": {
             "colorbar": {
              "outlinewidth": 0,
              "tickcolor": "rgb(36,36,36)",
              "ticklen": 8,
              "ticks": "outside",
              "tickwidth": 2
             }
            },
            "type": "scattergeo"
           }
          ],
          "scattergl": [
           {
            "marker": {
             "colorbar": {
              "outlinewidth": 0,
              "tickcolor": "rgb(36,36,36)",
              "ticklen": 8,
              "ticks": "outside",
              "tickwidth": 2
             }
            },
            "type": "scattergl"
           }
          ],
          "scattermapbox": [
           {
            "marker": {
             "colorbar": {
              "outlinewidth": 0,
              "tickcolor": "rgb(36,36,36)",
              "ticklen": 8,
              "ticks": "outside",
              "tickwidth": 2
             }
            },
            "type": "scattermapbox"
           }
          ],
          "scatterpolar": [
           {
            "marker": {
             "colorbar": {
              "outlinewidth": 0,
              "tickcolor": "rgb(36,36,36)",
              "ticklen": 8,
              "ticks": "outside",
              "tickwidth": 2
             }
            },
            "type": "scatterpolar"
           }
          ],
          "scatterpolargl": [
           {
            "marker": {
             "colorbar": {
              "outlinewidth": 0,
              "tickcolor": "rgb(36,36,36)",
              "ticklen": 8,
              "ticks": "outside",
              "tickwidth": 2
             }
            },
            "type": "scatterpolargl"
           }
          ],
          "scatterternary": [
           {
            "marker": {
             "colorbar": {
              "outlinewidth": 0,
              "tickcolor": "rgb(36,36,36)",
              "ticklen": 8,
              "ticks": "outside",
              "tickwidth": 2
             }
            },
            "type": "scatterternary"
           }
          ],
          "surface": [
           {
            "colorbar": {
             "outlinewidth": 0,
             "tickcolor": "rgb(36,36,36)",
             "ticklen": 8,
             "ticks": "outside",
             "tickwidth": 2
            },
            "colorscale": [
             [
              0,
              "rgb(2,4,25)"
             ],
             [
              0.06274509803921569,
              "rgb(24,15,41)"
             ],
             [
              0.12549019607843137,
              "rgb(47,23,57)"
             ],
             [
              0.18823529411764706,
              "rgb(71,28,72)"
             ],
             [
              0.25098039215686274,
              "rgb(97,30,82)"
             ],
             [
              0.3137254901960784,
              "rgb(123,30,89)"
             ],
             [
              0.3764705882352941,
              "rgb(150,27,91)"
             ],
             [
              0.4392156862745098,
              "rgb(177,22,88)"
             ],
             [
              0.5019607843137255,
              "rgb(203,26,79)"
             ],
             [
              0.5647058823529412,
              "rgb(223,47,67)"
             ],
             [
              0.6274509803921569,
              "rgb(236,76,61)"
             ],
             [
              0.6901960784313725,
              "rgb(242,107,73)"
             ],
             [
              0.7529411764705882,
              "rgb(244,135,95)"
             ],
             [
              0.8156862745098039,
              "rgb(245,162,122)"
             ],
             [
              0.8784313725490196,
              "rgb(246,188,153)"
             ],
             [
              0.9411764705882353,
              "rgb(247,212,187)"
             ],
             [
              1,
              "rgb(250,234,220)"
             ]
            ],
            "type": "surface"
           }
          ],
          "table": [
           {
            "cells": {
             "fill": {
              "color": "rgb(231,231,240)"
             },
             "line": {
              "color": "white"
             }
            },
            "header": {
             "fill": {
              "color": "rgb(183,183,191)"
             },
             "line": {
              "color": "white"
             }
            },
            "type": "table"
           }
          ]
         },
         "layout": {
          "annotationdefaults": {
           "arrowcolor": "rgb(67,103,167)"
          },
          "autotypenumbers": "strict",
          "coloraxis": {
           "colorbar": {
            "outlinewidth": 0,
            "tickcolor": "rgb(36,36,36)",
            "ticklen": 8,
            "ticks": "outside",
            "tickwidth": 2
           }
          },
          "colorscale": {
           "sequential": [
            [
             0,
             "rgb(2,4,25)"
            ],
            [
             0.06274509803921569,
             "rgb(24,15,41)"
            ],
            [
             0.12549019607843137,
             "rgb(47,23,57)"
            ],
            [
             0.18823529411764706,
             "rgb(71,28,72)"
            ],
            [
             0.25098039215686274,
             "rgb(97,30,82)"
            ],
            [
             0.3137254901960784,
             "rgb(123,30,89)"
            ],
            [
             0.3764705882352941,
             "rgb(150,27,91)"
            ],
            [
             0.4392156862745098,
             "rgb(177,22,88)"
            ],
            [
             0.5019607843137255,
             "rgb(203,26,79)"
            ],
            [
             0.5647058823529412,
             "rgb(223,47,67)"
            ],
            [
             0.6274509803921569,
             "rgb(236,76,61)"
            ],
            [
             0.6901960784313725,
             "rgb(242,107,73)"
            ],
            [
             0.7529411764705882,
             "rgb(244,135,95)"
            ],
            [
             0.8156862745098039,
             "rgb(245,162,122)"
            ],
            [
             0.8784313725490196,
             "rgb(246,188,153)"
            ],
            [
             0.9411764705882353,
             "rgb(247,212,187)"
            ],
            [
             1,
             "rgb(250,234,220)"
            ]
           ],
           "sequentialminus": [
            [
             0,
             "rgb(2,4,25)"
            ],
            [
             0.06274509803921569,
             "rgb(24,15,41)"
            ],
            [
             0.12549019607843137,
             "rgb(47,23,57)"
            ],
            [
             0.18823529411764706,
             "rgb(71,28,72)"
            ],
            [
             0.25098039215686274,
             "rgb(97,30,82)"
            ],
            [
             0.3137254901960784,
             "rgb(123,30,89)"
            ],
            [
             0.3764705882352941,
             "rgb(150,27,91)"
            ],
            [
             0.4392156862745098,
             "rgb(177,22,88)"
            ],
            [
             0.5019607843137255,
             "rgb(203,26,79)"
            ],
            [
             0.5647058823529412,
             "rgb(223,47,67)"
            ],
            [
             0.6274509803921569,
             "rgb(236,76,61)"
            ],
            [
             0.6901960784313725,
             "rgb(242,107,73)"
            ],
            [
             0.7529411764705882,
             "rgb(244,135,95)"
            ],
            [
             0.8156862745098039,
             "rgb(245,162,122)"
            ],
            [
             0.8784313725490196,
             "rgb(246,188,153)"
            ],
            [
             0.9411764705882353,
             "rgb(247,212,187)"
            ],
            [
             1,
             "rgb(250,234,220)"
            ]
           ]
          },
          "colorway": [
           "rgb(76,114,176)",
           "rgb(221,132,82)",
           "rgb(85,168,104)",
           "rgb(196,78,82)",
           "rgb(129,114,179)",
           "rgb(147,120,96)",
           "rgb(218,139,195)",
           "rgb(140,140,140)",
           "rgb(204,185,116)",
           "rgb(100,181,205)"
          ],
          "font": {
           "color": "rgb(36,36,36)"
          },
          "geo": {
           "bgcolor": "white",
           "lakecolor": "white",
           "landcolor": "rgb(234,234,242)",
           "showlakes": true,
           "showland": true,
           "subunitcolor": "white"
          },
          "hoverlabel": {
           "align": "left"
          },
          "hovermode": "closest",
          "paper_bgcolor": "white",
          "plot_bgcolor": "rgb(234,234,242)",
          "polar": {
           "angularaxis": {
            "gridcolor": "white",
            "linecolor": "white",
            "showgrid": true,
            "ticks": ""
           },
           "bgcolor": "rgb(234,234,242)",
           "radialaxis": {
            "gridcolor": "white",
            "linecolor": "white",
            "showgrid": true,
            "ticks": ""
           }
          },
          "scene": {
           "xaxis": {
            "backgroundcolor": "rgb(234,234,242)",
            "gridcolor": "white",
            "gridwidth": 2,
            "linecolor": "white",
            "showbackground": true,
            "showgrid": true,
            "ticks": "",
            "zerolinecolor": "white"
           },
           "yaxis": {
            "backgroundcolor": "rgb(234,234,242)",
            "gridcolor": "white",
            "gridwidth": 2,
            "linecolor": "white",
            "showbackground": true,
            "showgrid": true,
            "ticks": "",
            "zerolinecolor": "white"
           },
           "zaxis": {
            "backgroundcolor": "rgb(234,234,242)",
            "gridcolor": "white",
            "gridwidth": 2,
            "linecolor": "white",
            "showbackground": true,
            "showgrid": true,
            "ticks": "",
            "zerolinecolor": "white"
           }
          },
          "shapedefaults": {
           "fillcolor": "rgb(67,103,167)",
           "line": {
            "width": 0
           },
           "opacity": 0.5
          },
          "ternary": {
           "aaxis": {
            "gridcolor": "white",
            "linecolor": "white",
            "showgrid": true,
            "ticks": ""
           },
           "baxis": {
            "gridcolor": "white",
            "linecolor": "white",
            "showgrid": true,
            "ticks": ""
           },
           "bgcolor": "rgb(234,234,242)",
           "caxis": {
            "gridcolor": "white",
            "linecolor": "white",
            "showgrid": true,
            "ticks": ""
           }
          },
          "xaxis": {
           "automargin": true,
           "gridcolor": "white",
           "linecolor": "white",
           "showgrid": true,
           "ticks": "",
           "title": {
            "standoff": 15
           },
           "zerolinecolor": "white"
          },
          "yaxis": {
           "automargin": true,
           "gridcolor": "white",
           "linecolor": "white",
           "showgrid": true,
           "ticks": "",
           "title": {
            "standoff": 15
           },
           "zerolinecolor": "white"
          }
         }
        },
        "title": {
         "text": "mbt_student_val_loss_5720.63920"
        },
        "width": 800,
        "xaxis": {
         "anchor": "y",
         "domain": [
          0,
          1
         ],
         "title": {
          "text": "x"
         }
        },
        "yaxis": {
         "anchor": "x",
         "domain": [
          0,
          1
         ],
         "title": {
          "text": "y"
         }
        }
       }
      },
      "text/html": [
       "<div>                            <div id=\"bdbd2827-c319-4294-b29f-d2406382f8eb\" class=\"plotly-graph-div\" style=\"height:800px; width:800px;\"></div>            <script type=\"text/javascript\">                require([\"plotly\"], function(Plotly) {                    window.PLOTLYENV=window.PLOTLYENV || {};                                    if (document.getElementById(\"bdbd2827-c319-4294-b29f-d2406382f8eb\")) {                    Plotly.newPlot(                        \"bdbd2827-c319-4294-b29f-d2406382f8eb\",                        [{\"customdata\":[[\"None\"],[\"Curiosity, Happiness, Frustration\"],[\"None\"],[\"Excitement, Happiness\"],[\"Curiosity, Uncertainty, Surprise, Frustration\"],[\"Curiosity, Happiness\"],[\"Happiness\"],[\"None\"],[\"None\"],[\"Curiosity, Happiness, Frustration\"],[\"None\"],[\"Excitement, Happiness\"],[\"Curiosity, Uncertainty, Surprise, Frustration\"],[\"Curiosity, Happiness\"],[\"Happiness\"],[\"None\"],[\"None\"],[\"Curiosity, Happiness, Frustration\"],[\"None\"],[\"Excitement, Happiness\"],[\"Curiosity, Uncertainty, Surprise, Frustration\"],[\"Curiosity, Happiness\"],[\"Happiness\"],[\"None\"],[\"None\"],[\"None\"],[\"Uncertainty, Excitement, Happiness, Disgust\"],[\"Uncertainty, Excitement, Surprise, Disgust, Fear, Frustration\"],[\"Curiosity, Uncertainty, Fear\"],[\"Excitement, Happiness\"],[\"Curiosity, Happiness, Surprise\"],[\"Curiosity, Uncertainty\"],[\"None\"],[\"None\"],[\"Uncertainty, Excitement, Happiness, Disgust\"],[\"Uncertainty, Excitement, Surprise, Disgust, Fear, Frustration\"],[\"Curiosity, Uncertainty, Fear\"],[\"Excitement, Happiness\"],[\"Curiosity, Happiness, Surprise\"],[\"Curiosity, Uncertainty\"],[\"None\"],[\"None\"],[\"Uncertainty, Excitement, Happiness, Disgust\"],[\"Uncertainty, Excitement, Surprise, Disgust, Fear, Frustration\"],[\"Curiosity, Uncertainty, Fear\"],[\"Excitement, Happiness\"],[\"Curiosity, Happiness, Surprise\"],[\"Curiosity, Uncertainty\"],[\"Happiness\"],[\"Uncertainty\"],[\"Curiosity, Uncertainty, Excitement, Happiness, Surprise\"],[\"Excitement\"],[\"None\"],[\"Curiosity\"],[\"Happiness\"],[\"Curiosity, Uncertainty, Happiness\"],[\"Happiness\"],[\"Uncertainty\"],[\"Curiosity, Uncertainty, Excitement, Happiness, Surprise\"],[\"Excitement\"],[\"None\"],[\"Curiosity\"],[\"Happiness\"],[\"Curiosity, Uncertainty, Happiness\"],[\"Happiness\"],[\"Uncertainty\"],[\"Curiosity, Uncertainty, Excitement, Happiness, Surprise\"],[\"Excitement\"],[\"None\"],[\"Curiosity\"],[\"Happiness\"],[\"Curiosity, Uncertainty, Happiness\"],[\"None\"],[\"Curiosity, Uncertainty, Frustration\"],[\"Curiosity, Uncertainty, Surprise, Frustration\"],[\"Curiosity, Uncertainty, Happiness, Surprise\"],[\"None\"],[\"Uncertainty, Disgust, Fear\"],[\"Uncertainty, Disgust, Fear\"],[\"Uncertainty, Happiness, Surprise, Frustration\"],[\"None\"],[\"Curiosity, Uncertainty, Frustration\"],[\"Curiosity, Uncertainty, Surprise, Frustration\"],[\"Curiosity, Uncertainty, Happiness, Surprise\"],[\"None\"],[\"Uncertainty, Disgust, Fear\"],[\"Uncertainty, Disgust, Fear\"],[\"Uncertainty, Happiness, Surprise, Frustration\"],[\"None\"],[\"Curiosity, Uncertainty, Frustration\"],[\"Curiosity, Uncertainty, Surprise, Frustration\"],[\"Curiosity, Uncertainty, Happiness, Surprise\"],[\"None\"],[\"Uncertainty, Disgust, Fear\"],[\"Uncertainty, Disgust, Fear\"],[\"Uncertainty, Happiness, Surprise, Frustration\"],[\"Curiosity, Excitement, Surprise\"],[\"Curiosity, Uncertainty, Happiness\"],[\"Curiosity, Uncertainty, Happiness, Surprise, Fear\"],[\"Excitement, Happiness\"],[\"Curiosity, Happiness\"],[\"Curiosity, Uncertainty, Happiness, Surprise\"],[\"Happiness\"],[\"Excitement, Happiness, Disgust\"],[\"Curiosity, Excitement, Surprise\"],[\"Curiosity, Uncertainty, Happiness\"],[\"Curiosity, Uncertainty, Happiness, Surprise, Fear\"],[\"Excitement, Happiness\"],[\"Curiosity, Happiness\"],[\"Curiosity, Uncertainty, Happiness, Surprise\"],[\"Happiness\"],[\"Excitement, Happiness, Disgust\"],[\"Curiosity, Excitement, Surprise\"],[\"Curiosity, Uncertainty, Happiness\"],[\"Curiosity, Uncertainty, Happiness, Surprise, Fear\"],[\"Excitement, Happiness\"],[\"Curiosity, Happiness\"],[\"Curiosity, Uncertainty, Happiness, Surprise\"],[\"Happiness\"],[\"Excitement, Happiness, Disgust\"],[\"Curiosity, Uncertainty\"],[\"Curiosity, Surprise\"],[\"None\"],[\"Curiosity, Excitement, Happiness, Surprise\"],[\"Excitement, Happiness\"],[\"Uncertainty, Disgust\"],[\"Uncertainty, Happiness\"],[\"Curiosity, Excitement, Happiness\"],[\"Curiosity, Uncertainty\"],[\"Curiosity, Surprise\"],[\"None\"],[\"Curiosity, Excitement, Happiness, Surprise\"],[\"Excitement, Happiness\"],[\"Uncertainty, Disgust\"],[\"Uncertainty, Happiness\"],[\"Curiosity, Excitement, Happiness\"],[\"Curiosity, Uncertainty\"],[\"Curiosity, Surprise\"],[\"None\"],[\"Curiosity, Excitement, Happiness, Surprise\"],[\"Excitement, Happiness\"],[\"Uncertainty, Disgust\"],[\"Uncertainty, Happiness\"],[\"Curiosity, Excitement, Happiness\"],[\"Curiosity, Uncertainty, Excitement, Happiness\"],[\"Curiosity, Happiness, Surprise\"],[\"Curiosity\"],[\"Excitement, Happiness\"],[\"Disgust, Fear, Frustration\"],[\"Excitement, Happiness\"],[\"Curiosity, Uncertainty\"],[\"None\"],[\"Curiosity, Uncertainty, Excitement, Happiness\"],[\"Curiosity, Happiness, Surprise\"],[\"Curiosity\"],[\"Excitement, Happiness\"],[\"Disgust, Fear, Frustration\"],[\"Excitement, Happiness\"],[\"Curiosity, Uncertainty\"],[\"None\"],[\"Curiosity, Uncertainty, Excitement, Happiness\"],[\"Curiosity, Happiness, Surprise\"],[\"Curiosity\"],[\"Excitement, Happiness\"],[\"Disgust, Fear, Frustration\"],[\"Excitement, Happiness\"],[\"Curiosity, Uncertainty\"],[\"None\"],[\"Excitement, Happiness\"],[\"Excitement, Happiness, Surprise\"],[\"Happiness\"],[\"Curiosity, Uncertainty, Surprise\"],[\"Excitement, Frustration\"],[\"Curiosity, Excitement, Happiness\"],[\"Curiosity, Uncertainty, Surprise, Frustration\"],[\"Curiosity\"],[\"Excitement, Happiness\"],[\"Excitement, Happiness, Surprise\"],[\"Happiness\"],[\"Curiosity, Uncertainty, Surprise\"],[\"Excitement, Frustration\"],[\"Curiosity, Excitement, Happiness\"],[\"Curiosity, Uncertainty, Surprise, Frustration\"],[\"Curiosity\"],[\"Excitement, Happiness\"],[\"Excitement, Happiness, Surprise\"],[\"Happiness\"],[\"Curiosity, Uncertainty, Surprise\"],[\"Excitement, Frustration\"],[\"Curiosity, Excitement, Happiness\"],[\"Curiosity, Uncertainty, Surprise, Frustration\"],[\"Curiosity\"],[\"Curiosity, Excitement, Happiness, Surprise\"],[\"None\"],[\"None\"],[\"Curiosity, Happiness, Surprise\"],[\"Curiosity, Uncertainty, Excitement, Happiness, Surprise\"],[\"Curiosity, Excitement, Happiness, Surprise\"],[\"Excitement, Happiness\"],[\"None\"],[\"Curiosity, Excitement, Happiness, Surprise\"],[\"None\"],[\"None\"],[\"Curiosity, Happiness, Surprise\"],[\"Curiosity, Uncertainty, Excitement, Happiness, Surprise\"],[\"Curiosity, Excitement, Happiness, Surprise\"],[\"Excitement, Happiness\"],[\"None\"],[\"Curiosity, Excitement, Happiness, Surprise\"],[\"None\"],[\"None\"],[\"Curiosity, Happiness, Surprise\"],[\"Curiosity, Uncertainty, Excitement, Happiness, Surprise\"],[\"Curiosity, Excitement, Happiness, Surprise\"],[\"Excitement, Happiness\"],[\"None\"],[\"Frustration\"],[\"Curiosity, Uncertainty, Surprise\"],[\"None\"],[\"Happiness\"],[\"Happiness, Surprise\"],[\"Happiness\"],[\"Curiosity, Uncertainty, Excitement, Happiness, Surprise, Fear\"],[\"Curiosity, Happiness\"],[\"Frustration\"],[\"Curiosity, Uncertainty, Surprise\"],[\"None\"],[\"Happiness\"],[\"Happiness, Surprise\"],[\"Happiness\"],[\"Curiosity, Uncertainty, Excitement, Happiness, Surprise, Fear\"],[\"Curiosity, Happiness\"],[\"Frustration\"],[\"Curiosity, Uncertainty, Surprise\"],[\"None\"],[\"Happiness\"],[\"Happiness, Surprise\"],[\"Happiness\"],[\"Curiosity, Uncertainty, Excitement, Happiness, Surprise, Fear\"],[\"Curiosity, Happiness\"],[\"Disgust, Fear\"],[\"Curiosity, Uncertainty, Happiness, Surprise\"],[\"Disgust\"],[\"Happiness\"],[\"Curiosity, Excitement, Happiness, Surprise\"],[\"None\"],[\"None\"],[\"Disgust, Frustration\"],[\"Disgust, Fear\"],[\"Curiosity, Uncertainty, Happiness, Surprise\"],[\"Disgust\"],[\"Happiness\"],[\"Curiosity, Excitement, Happiness, Surprise\"],[\"None\"],[\"None\"],[\"Disgust, Frustration\"],[\"Disgust, Fear\"],[\"Curiosity, Uncertainty, Happiness, Surprise\"],[\"Disgust\"],[\"Happiness\"],[\"Curiosity, Excitement, Happiness, Surprise\"],[\"None\"],[\"None\"],[\"Disgust, Frustration\"],[\"Curiosity, Uncertainty\"],[\"Happiness, Frustration\"],[\"None\"],[\"None\"],[\"Uncertainty, Surprise, Disgust\"],[\"Uncertainty, Excitement\"],[\"None\"],[\"Curiosity, Excitement, Happiness, Surprise\"],[\"Curiosity, Uncertainty\"],[\"Happiness, Frustration\"],[\"None\"],[\"None\"],[\"Uncertainty, Surprise, Disgust\"],[\"Uncertainty, Excitement\"],[\"None\"],[\"Curiosity, Excitement, Happiness, Surprise\"],[\"Curiosity, Uncertainty\"],[\"Happiness, Frustration\"],[\"None\"],[\"None\"],[\"Uncertainty, Surprise, Disgust\"],[\"Uncertainty, Excitement\"],[\"None\"],[\"Curiosity, Excitement, Happiness, Surprise\"],[\"Excitement, Frustration\"],[\"Curiosity, Uncertainty, Happiness, Surprise, Frustration\"],[\"Surprise, Disgust\"],[\"Curiosity, Uncertainty, Happiness, Surprise\"],[\"Uncertainty, Surprise\"],[\"Uncertainty, Happiness, Surprise\"],[\"None\"],[\"None\"],[\"Excitement, Frustration\"],[\"Curiosity, Uncertainty, Happiness, Surprise, Frustration\"],[\"Surprise, Disgust\"],[\"Curiosity, Uncertainty, Happiness, Surprise\"],[\"Uncertainty, Surprise\"],[\"Uncertainty, Happiness, Surprise\"],[\"None\"],[\"None\"],[\"Excitement, Frustration\"],[\"Curiosity, Uncertainty, Happiness, Surprise, Frustration\"],[\"Surprise, Disgust\"],[\"Curiosity, Uncertainty, Happiness, Surprise\"],[\"Uncertainty, Surprise\"],[\"Uncertainty, Happiness, Surprise\"],[\"None\"],[\"None\"]],\"hovertemplate\":\"x=%{x}\\u003cbr\\u003ey=%{y}\\u003cbr\\u003elabels=%{customdata[0]}\\u003cextra\\u003e\\u003c\\u002fextra\\u003e\",\"legendgroup\":\"\",\"marker\":{\"color\":\"#636efa\",\"symbol\":\"circle\"},\"mode\":\"markers\",\"name\":\"\",\"orientation\":\"v\",\"showlegend\":false,\"x\":[22.734027862548828,18.627880096435547,15.422697067260742,-8.503775596618652,15.750158309936523,-8.503775596618652,22.72528648376465,-8.503775596618652,27.232620239257812,27.153839111328125,23.4475154876709,19.235986709594727,23.416967391967773,19.68686866760254,26.79776382446289,19.381227493286133,-7.894491672515869,-7.894491672515869,-8.785796165466309,-8.785796165466309,-8.785796165466309,-7.894491672515869,-9.630133628845215,-9.630133628845215,-9.630133628845215,-6.863401889801025,-6.863401889801025,-9.630133628845215,-7.2629475593566895,-7.894491672515869,-8.503775596618652,-7.462869167327881,21.427406311035156,25.711402893066406,26.353561401367188,21.107521057128906,18.391515731811523,21.255430221557617,22.73866844177246,26.06442642211914,-7.503935813903809,15.572856903076172,15.985820770263672,-7.6212897300720215,-7.503935813903809,-7.172009468078613,-7.6212897300720215,-9.986985206604004,26.882640838623047,21.654062271118164,23.44119644165039,23.45347785949707,25.26000213623047,26.54315757751465,24.651264190673828,25.271831512451172,16.62017822265625,-8.87507152557373,-7.6212897300720215,-7.587225914001465,-8.87507152557373,-8.87507152557373,-8.87507152557373,-8.87507152557373,26.391756057739258,16.02263641357422,19.14472007751465,18.85929298400879,21.09298324584961,22.99716567993164,19.44957733154297,21.051525115966797,-8.87507152557373,-8.87507152557373,-8.87507152557373,-8.87507152557373,-8.87507152557373,14.405717849731445,-8.87507152557373,-8.87507152557373,-8.87507152557373,-8.87507152557373,-8.503775596618652,-8.87507152557373,-8.87507152557373,-8.87507152557373,-8.87507152557373,-8.503775596618652,-8.503775596618652,-9.99088191986084,-8.87507152557373,-7.587225914001465,-7.5127153396606445,-6.832929611206055,-8.503775596618652,-6.992137908935547,-6.302954196929932,-6.832929611206055,-8.87507152557373,-8.87507152557373,-10.579824447631836,-10.579824447631836,-7.6212897300720215,24.42583465576172,-8.503775596618652,-6.832929611206055,-8.52950382232666,21.11907958984375,-7.172009468078613,-9.99088191986084,-8.503775596618652,25.34160041809082,20.666683197021484,23.97834587097168,21.225061416625977,26.74476432800293,18.35749626159668,16.169307708740234,19.24998664855957,27.183774948120117,-6.992137908935547,-10.579858779907227,-7.260722637176514,-6.863401889801025,-7.587225914001465,-8.503775596618652,-9.630133628845215,-8.52950382232666,-9.630133628845215,-8.52950382232666,-8.785796165466309,-7.587225914001465,-7.894491672515869,-7.894491672515869,-7.587225914001465,-9.99088191986084,-8.503775596618652,-8.503775596618652,-8.52950382232666,-8.503775596618652,-8.52950382232666,19.653039932250977,14.451213836669922,14.974050521850586,13.929400444030762,15.946768760681152,18.228960037231445,14.710724830627441,26.700075149536133,19.198572158813477,26.906633377075195,19.1562557220459,-8.52950382232666,-8.52950382232666,-8.52950382232666,-11.11661148071289,14.010581016540527,-11.11661148071289,16.30742073059082,-11.11661148071289,-11.11661148071289,-11.11661148071289,-11.11661148071289,-11.11661148071289,23.164392471313477,15.66318416595459,24.619239807128906,14.7145357131958,20.58509635925293,27.295679092407227,16.51317024230957,27.220802307128906,16.62318992614746,26.81667137145996,26.60392189025879,26.79161262512207,-11.11661148071289,18.1998291015625,-11.11661148071289,23.85629653930664,-11.11661148071289,15.877099990844727,27.183860778808594,17.974550247192383,22.9987850189209,26.5662841796875,20.27141571044922,26.608861923217773,20.515893936157227,27.262983322143555,26.872827529907227,26.424137115478516,-11.11661148071289,-11.11661148071289,-11.11661148071289,-11.11661148071289,-11.11661148071289,-11.11661148071289,-11.11661148071289,-11.11661148071289,-11.11661148071289,-11.11661148071289,-11.11661148071289,-11.11661148071289,-11.11661148071289,14.360047340393066,-11.11661148071289,-11.11661148071289,-11.11661148071289,23.775070190429688,25.795677185058594,23.065494537353516,-11.11661148071289,25.97439956665039,18.76442527770996,20.90952491760254,-11.11661148071289,-11.11661148071289,-11.11661148071289,-11.11661148071289,-11.11661148071289,-11.11661148071289,20.945383071899414,-11.11661148071289,21.286678314208984,21.53563690185547,-11.11661148071289,-11.11661148071289,15.11861801147461,-11.11661148071289,26.396696090698242,-11.11661148071289,21.333126068115234,22.6466007232666,-11.11661148071289,-11.11661148071289,15.676615715026855,-11.11661148071289,26.13976287841797,-11.11661148071289,-11.11661148071289,-11.11661148071289,-11.11661148071289,-11.11661148071289,-11.11661148071289,-11.11661148071289,-11.11661148071289,-11.11661148071289,19.08243179321289,18.117952346801758,21.85308265686035,16.099586486816406,26.2708683013916,25.57975959777832,21.312646865844727,13.570033073425293,-11.11661148071289,-11.11661148071289,-11.11661148071289,-11.11661148071289,-11.11661148071289,-11.11661148071289,-11.11661148071289,-11.11661148071289,-11.11661148071289,-11.11661148071289,-11.11661148071289,-11.11661148071289,-11.11661148071289,-11.11661148071289,-11.11661148071289,-11.11661148071289,-11.11661148071289,-11.11661148071289,-11.11661148071289,-11.11661148071289,-11.11661148071289,-11.11661148071289,16.655229568481445,-11.11661148071289,-11.11661148071289,-11.11661148071289,-11.11661148071289,-11.11661148071289,-11.11661148071289,-11.11661148071289,-11.11661148071289,-11.11661148071289,-11.11661148071289,-11.11661148071289,22.774866104125977,21.08698081970215,26.34833526611328,-11.11661148071289,18.853832244873047,-11.11661148071289,15.501938819885254,15.000414848327637,25.0991268157959,23.884668350219727,25.520092010498047,14.461280822753906,22.466915130615234,15.402729034423828,-11.11661148071289,-11.11661148071289,-11.11661148071289,-11.11661148071289,25.158098220825195,-11.11661148071289,-11.11661148071289,-11.11661148071289],\"xaxis\":\"x\",\"y\":[0.4718286395072937,5.194235324859619,7.780819416046143,-2.1597092151641846,7.678861141204834,-2.1597092151641846,0.4838477671146393,-2.1597092151641846,-5.701663017272949,-6.188672065734863,-0.5435048937797546,4.608575344085693,-0.498139888048172,4.140556812286377,-5.186863899230957,4.4597086906433105,-1.000516414642334,-1.000516414642334,-1.1804016828536987,-1.1804016828536987,-1.1804016828536987,-1.000516414642334,1.3669772148132324,1.3669772148132324,1.3669772148132324,-1.0859143733978271,-1.0859143733978271,1.3669772148132324,-2.0947420597076416,-1.000516414642334,-2.1597092151641846,-1.4983785152435303,2.198699951171875,-3.9752490520477295,-4.9715094566345215,2.6144638061523438,5.407489776611328,2.396221160888672,0.4654037356376648,-4.50904655456543,-0.4817209541797638,7.583714962005615,7.405176639556885,0.07179617136716843,-0.4817209541797638,-1.6415650844573975,0.07179617136716843,0.5731052160263062,-5.247276782989502,1.9192383289337158,-0.5343318581581116,-0.5524258017539978,-3.295722484588623,-5.707298278808594,-2.3606879711151123,-3.3142049312591553,6.912956714630127,-0.06012840196490288,0.07179617136716843,0.9156326651573181,-0.06012840196490288,-0.06012840196490288,-0.06012840196490288,-0.06012840196490288,-5.373992443084717,7.377061367034912,4.70045804977417,4.978958606719971,2.4634580612182617,0.10606209188699722,4.3931989669799805,2.662611722946167,-0.06012840196490288,-0.06012840196490288,-0.06012840196490288,-0.06012840196490288,-0.06012840196490288,8.334990501403809,-0.06012840196490288,-0.06012840196490288,-0.06012840196490288,-0.06012840196490288,-2.1597092151641846,-0.06012840196490288,-0.06012840196490288,-0.06012840196490288,-0.06012840196490288,-2.1597092151641846,-2.1597092151641846,0.5729094743728638,-0.06012840196490288,0.9156326651573181,-2.6097798347473145,-0.37315815687179565,-2.1597092151641846,0.32344675064086914,0.7482409477233887,-0.37315815687179565,-0.06012840196490288,-0.06012840196490288,1.0491185188293457,1.0491185188293457,0.07179617136716843,-2.0149030685424805,-2.1597092151641846,-0.37315815687179565,1.3409191370010376,2.6222729682922363,-1.6415650844573975,0.5729094743728638,-2.1597092151641846,-3.422619104385376,3.0749826431274414,-1.334686279296875,2.6157219409942627,-5.15483283996582,5.436501979827881,7.265617847442627,4.593173027038574,-5.616754055023193,0.32344675064086914,1.048860788345337,-2.081510305404663,-1.0859143733978271,0.9156326651573181,-2.1597092151641846,1.3669772148132324,1.3409191370010376,1.3669772148132324,1.3409191370010376,-1.1804016828536987,0.9156326651573181,-1.000516414642334,-1.000516414642334,0.9156326651573181,0.5729094743728638,-2.1597092151641846,-2.1597092151641846,1.3409191370010376,-2.1597092151641846,1.3409191370010376,4.177801132202148,8.312896728515625,8.036399841308594,8.552292823791504,7.43412971496582,5.550220489501953,8.18063735961914,-5.869564533233643,4.650938987731934,-6.060164928436279,4.688830852508545,1.3409191370010376,1.3409191370010376,1.3409191370010376,-1.5436415672302246,8.517199516296387,-1.5436415672302246,7.1697258949279785,-1.5436415672302246,-1.5436415672302246,-1.5436415672302246,-1.5436415672302246,-1.5436415672302246,-0.13216662406921387,7.71533203125,-2.3114588260650635,8.17894458770752,3.1681571006774902,-5.90010929107666,6.999000549316406,-6.189808368682861,6.910439491271973,-5.193379878997803,-5.772862434387207,-5.172898292541504,-1.5436415672302246,5.575197696685791,-1.5436415672302246,-1.1507238149642944,-1.5436415672302246,7.5005998611450195,-5.617805480957031,5.769242763519287,0.10358522087335587,-5.718848705291748,3.515953540802002,-5.807101249694824,3.245234489440918,-6.11078405380249,-6.045559406280518,-5.141824245452881,-1.5436415672302246,-1.5436415672302246,-1.5436415672302246,-1.5436415672302246,-1.5436415672302246,-1.5436415672302246,-1.5436415672302246,-1.5436415672302246,-1.5436415672302246,-1.5436415672302246,-1.5436415672302246,-1.5436415672302246,-1.5436415672302246,8.3572998046875,-1.5436415672302246,-1.5436415672302246,-1.5436415672302246,-1.029201865196228,-4.102820873260498,0.008961169049143791,-1.5436415672302246,-4.3736252784729,5.068061828613281,2.816418409347534,-1.5436415672302246,-1.5436415672302246,-1.5436415672302246,-1.5436415672302246,-1.5436415672302246,-1.5436415672302246,2.7753796577453613,-1.5436415672302246,2.4677560329437256,2.0652029514312744,-1.5436415672302246,-1.5436415672302246,7.948895454406738,-1.5436415672302246,-5.349165439605713,-1.5436415672302246,2.3178462982177734,0.5911425948143005,-1.5436415672302246,-1.5436415672302246,7.485174179077148,-1.5436415672302246,-4.625529766082764,-1.5436415672302246,-1.5436415672302246,-1.5436415672302246,-1.5436415672302246,-1.5436415672302246,-1.5436415672302246,-1.5436415672302246,-1.5436415672302246,-1.5436415672302246,4.762727737426758,5.646114826202393,1.652238130569458,7.320394992828369,-4.825375080108643,-3.7805519104003906,2.341789484024048,8.703858375549316,-1.5436415672302246,-1.5436415672302246,-1.5436415672302246,-1.5436415672302246,-1.5436415672302246,-1.5436415672302246,-1.5436415672302246,-1.5436415672302246,-1.5436415672302246,-1.5436415672302246,-1.5436415672302246,-1.5436415672302246,-1.5436415672302246,-1.5436415672302246,-1.5436415672302246,-1.5436415672302246,-1.5436415672302246,-1.5436415672302246,-1.5436415672302246,-1.5436415672302246,-1.5436415672302246,-1.5436415672302246,6.883494853973389,-1.5436415672302246,-1.5436415672302246,-1.5436415672302246,-1.5436415672302246,-1.5436415672302246,-1.5436415672302246,-1.5436415672302246,-1.5436415672302246,-1.5436415672302246,-1.5436415672302246,-1.5436415672302246,0.41583049297332764,2.4650282859802246,-5.164207935333252,-1.5436415672302246,4.983822345733643,-1.5436415672302246,7.7415313720703125,8.0208101272583,-3.0508081912994385,-1.193013310432434,-3.68937087059021,8.307836532592773,0.8315045237541199,7.7873334884643555,-1.5436415672302246,-1.5436415672302246,-1.5436415672302246,-1.5436415672302246,-3.1426217555999756,-1.5436415672302246,-1.5436415672302246,-1.5436415672302246],\"yaxis\":\"y\",\"type\":\"scatter\"}],                        {\"template\":{\"data\":{\"barpolar\":[{\"marker\":{\"line\":{\"color\":\"rgb(234,234,242)\",\"width\":0.5},\"pattern\":{\"fillmode\":\"overlay\",\"size\":10,\"solidity\":0.2}},\"type\":\"barpolar\"}],\"bar\":[{\"error_x\":{\"color\":\"rgb(36,36,36)\"},\"error_y\":{\"color\":\"rgb(36,36,36)\"},\"marker\":{\"line\":{\"color\":\"rgb(234,234,242)\",\"width\":0.5},\"pattern\":{\"fillmode\":\"overlay\",\"size\":10,\"solidity\":0.2}},\"type\":\"bar\"}],\"carpet\":[{\"aaxis\":{\"endlinecolor\":\"rgb(36,36,36)\",\"gridcolor\":\"white\",\"linecolor\":\"white\",\"minorgridcolor\":\"white\",\"startlinecolor\":\"rgb(36,36,36)\"},\"baxis\":{\"endlinecolor\":\"rgb(36,36,36)\",\"gridcolor\":\"white\",\"linecolor\":\"white\",\"minorgridcolor\":\"white\",\"startlinecolor\":\"rgb(36,36,36)\"},\"type\":\"carpet\"}],\"choropleth\":[{\"colorbar\":{\"outlinewidth\":0,\"tickcolor\":\"rgb(36,36,36)\",\"ticklen\":8,\"ticks\":\"outside\",\"tickwidth\":2},\"type\":\"choropleth\"}],\"contourcarpet\":[{\"colorbar\":{\"outlinewidth\":0,\"tickcolor\":\"rgb(36,36,36)\",\"ticklen\":8,\"ticks\":\"outside\",\"tickwidth\":2},\"type\":\"contourcarpet\"}],\"contour\":[{\"colorbar\":{\"outlinewidth\":0,\"tickcolor\":\"rgb(36,36,36)\",\"ticklen\":8,\"ticks\":\"outside\",\"tickwidth\":2},\"colorscale\":[[0.0,\"rgb(2,4,25)\"],[0.06274509803921569,\"rgb(24,15,41)\"],[0.12549019607843137,\"rgb(47,23,57)\"],[0.18823529411764706,\"rgb(71,28,72)\"],[0.25098039215686274,\"rgb(97,30,82)\"],[0.3137254901960784,\"rgb(123,30,89)\"],[0.3764705882352941,\"rgb(150,27,91)\"],[0.4392156862745098,\"rgb(177,22,88)\"],[0.5019607843137255,\"rgb(203,26,79)\"],[0.5647058823529412,\"rgb(223,47,67)\"],[0.6274509803921569,\"rgb(236,76,61)\"],[0.6901960784313725,\"rgb(242,107,73)\"],[0.7529411764705882,\"rgb(244,135,95)\"],[0.8156862745098039,\"rgb(245,162,122)\"],[0.8784313725490196,\"rgb(246,188,153)\"],[0.9411764705882353,\"rgb(247,212,187)\"],[1.0,\"rgb(250,234,220)\"]],\"type\":\"contour\"}],\"heatmapgl\":[{\"colorbar\":{\"outlinewidth\":0,\"tickcolor\":\"rgb(36,36,36)\",\"ticklen\":8,\"ticks\":\"outside\",\"tickwidth\":2},\"colorscale\":[[0.0,\"rgb(2,4,25)\"],[0.06274509803921569,\"rgb(24,15,41)\"],[0.12549019607843137,\"rgb(47,23,57)\"],[0.18823529411764706,\"rgb(71,28,72)\"],[0.25098039215686274,\"rgb(97,30,82)\"],[0.3137254901960784,\"rgb(123,30,89)\"],[0.3764705882352941,\"rgb(150,27,91)\"],[0.4392156862745098,\"rgb(177,22,88)\"],[0.5019607843137255,\"rgb(203,26,79)\"],[0.5647058823529412,\"rgb(223,47,67)\"],[0.6274509803921569,\"rgb(236,76,61)\"],[0.6901960784313725,\"rgb(242,107,73)\"],[0.7529411764705882,\"rgb(244,135,95)\"],[0.8156862745098039,\"rgb(245,162,122)\"],[0.8784313725490196,\"rgb(246,188,153)\"],[0.9411764705882353,\"rgb(247,212,187)\"],[1.0,\"rgb(250,234,220)\"]],\"type\":\"heatmapgl\"}],\"heatmap\":[{\"colorbar\":{\"outlinewidth\":0,\"tickcolor\":\"rgb(36,36,36)\",\"ticklen\":8,\"ticks\":\"outside\",\"tickwidth\":2},\"colorscale\":[[0.0,\"rgb(2,4,25)\"],[0.06274509803921569,\"rgb(24,15,41)\"],[0.12549019607843137,\"rgb(47,23,57)\"],[0.18823529411764706,\"rgb(71,28,72)\"],[0.25098039215686274,\"rgb(97,30,82)\"],[0.3137254901960784,\"rgb(123,30,89)\"],[0.3764705882352941,\"rgb(150,27,91)\"],[0.4392156862745098,\"rgb(177,22,88)\"],[0.5019607843137255,\"rgb(203,26,79)\"],[0.5647058823529412,\"rgb(223,47,67)\"],[0.6274509803921569,\"rgb(236,76,61)\"],[0.6901960784313725,\"rgb(242,107,73)\"],[0.7529411764705882,\"rgb(244,135,95)\"],[0.8156862745098039,\"rgb(245,162,122)\"],[0.8784313725490196,\"rgb(246,188,153)\"],[0.9411764705882353,\"rgb(247,212,187)\"],[1.0,\"rgb(250,234,220)\"]],\"type\":\"heatmap\"}],\"histogram2dcontour\":[{\"colorbar\":{\"outlinewidth\":0,\"tickcolor\":\"rgb(36,36,36)\",\"ticklen\":8,\"ticks\":\"outside\",\"tickwidth\":2},\"colorscale\":[[0.0,\"rgb(2,4,25)\"],[0.06274509803921569,\"rgb(24,15,41)\"],[0.12549019607843137,\"rgb(47,23,57)\"],[0.18823529411764706,\"rgb(71,28,72)\"],[0.25098039215686274,\"rgb(97,30,82)\"],[0.3137254901960784,\"rgb(123,30,89)\"],[0.3764705882352941,\"rgb(150,27,91)\"],[0.4392156862745098,\"rgb(177,22,88)\"],[0.5019607843137255,\"rgb(203,26,79)\"],[0.5647058823529412,\"rgb(223,47,67)\"],[0.6274509803921569,\"rgb(236,76,61)\"],[0.6901960784313725,\"rgb(242,107,73)\"],[0.7529411764705882,\"rgb(244,135,95)\"],[0.8156862745098039,\"rgb(245,162,122)\"],[0.8784313725490196,\"rgb(246,188,153)\"],[0.9411764705882353,\"rgb(247,212,187)\"],[1.0,\"rgb(250,234,220)\"]],\"type\":\"histogram2dcontour\"}],\"histogram2d\":[{\"colorbar\":{\"outlinewidth\":0,\"tickcolor\":\"rgb(36,36,36)\",\"ticklen\":8,\"ticks\":\"outside\",\"tickwidth\":2},\"colorscale\":[[0.0,\"rgb(2,4,25)\"],[0.06274509803921569,\"rgb(24,15,41)\"],[0.12549019607843137,\"rgb(47,23,57)\"],[0.18823529411764706,\"rgb(71,28,72)\"],[0.25098039215686274,\"rgb(97,30,82)\"],[0.3137254901960784,\"rgb(123,30,89)\"],[0.3764705882352941,\"rgb(150,27,91)\"],[0.4392156862745098,\"rgb(177,22,88)\"],[0.5019607843137255,\"rgb(203,26,79)\"],[0.5647058823529412,\"rgb(223,47,67)\"],[0.6274509803921569,\"rgb(236,76,61)\"],[0.6901960784313725,\"rgb(242,107,73)\"],[0.7529411764705882,\"rgb(244,135,95)\"],[0.8156862745098039,\"rgb(245,162,122)\"],[0.8784313725490196,\"rgb(246,188,153)\"],[0.9411764705882353,\"rgb(247,212,187)\"],[1.0,\"rgb(250,234,220)\"]],\"type\":\"histogram2d\"}],\"histogram\":[{\"marker\":{\"pattern\":{\"fillmode\":\"overlay\",\"size\":10,\"solidity\":0.2}},\"type\":\"histogram\"}],\"mesh3d\":[{\"colorbar\":{\"outlinewidth\":0,\"tickcolor\":\"rgb(36,36,36)\",\"ticklen\":8,\"ticks\":\"outside\",\"tickwidth\":2},\"type\":\"mesh3d\"}],\"parcoords\":[{\"line\":{\"colorbar\":{\"outlinewidth\":0,\"tickcolor\":\"rgb(36,36,36)\",\"ticklen\":8,\"ticks\":\"outside\",\"tickwidth\":2}},\"type\":\"parcoords\"}],\"pie\":[{\"automargin\":true,\"type\":\"pie\"}],\"scatter3d\":[{\"line\":{\"colorbar\":{\"outlinewidth\":0,\"tickcolor\":\"rgb(36,36,36)\",\"ticklen\":8,\"ticks\":\"outside\",\"tickwidth\":2}},\"marker\":{\"colorbar\":{\"outlinewidth\":0,\"tickcolor\":\"rgb(36,36,36)\",\"ticklen\":8,\"ticks\":\"outside\",\"tickwidth\":2}},\"type\":\"scatter3d\"}],\"scattercarpet\":[{\"marker\":{\"colorbar\":{\"outlinewidth\":0,\"tickcolor\":\"rgb(36,36,36)\",\"ticklen\":8,\"ticks\":\"outside\",\"tickwidth\":2}},\"type\":\"scattercarpet\"}],\"scattergeo\":[{\"marker\":{\"colorbar\":{\"outlinewidth\":0,\"tickcolor\":\"rgb(36,36,36)\",\"ticklen\":8,\"ticks\":\"outside\",\"tickwidth\":2}},\"type\":\"scattergeo\"}],\"scattergl\":[{\"marker\":{\"colorbar\":{\"outlinewidth\":0,\"tickcolor\":\"rgb(36,36,36)\",\"ticklen\":8,\"ticks\":\"outside\",\"tickwidth\":2}},\"type\":\"scattergl\"}],\"scattermapbox\":[{\"marker\":{\"colorbar\":{\"outlinewidth\":0,\"tickcolor\":\"rgb(36,36,36)\",\"ticklen\":8,\"ticks\":\"outside\",\"tickwidth\":2}},\"type\":\"scattermapbox\"}],\"scatterpolargl\":[{\"marker\":{\"colorbar\":{\"outlinewidth\":0,\"tickcolor\":\"rgb(36,36,36)\",\"ticklen\":8,\"ticks\":\"outside\",\"tickwidth\":2}},\"type\":\"scatterpolargl\"}],\"scatterpolar\":[{\"marker\":{\"colorbar\":{\"outlinewidth\":0,\"tickcolor\":\"rgb(36,36,36)\",\"ticklen\":8,\"ticks\":\"outside\",\"tickwidth\":2}},\"type\":\"scatterpolar\"}],\"scatter\":[{\"fillpattern\":{\"fillmode\":\"overlay\",\"size\":10,\"solidity\":0.2},\"type\":\"scatter\"}],\"scatterternary\":[{\"marker\":{\"colorbar\":{\"outlinewidth\":0,\"tickcolor\":\"rgb(36,36,36)\",\"ticklen\":8,\"ticks\":\"outside\",\"tickwidth\":2}},\"type\":\"scatterternary\"}],\"surface\":[{\"colorbar\":{\"outlinewidth\":0,\"tickcolor\":\"rgb(36,36,36)\",\"ticklen\":8,\"ticks\":\"outside\",\"tickwidth\":2},\"colorscale\":[[0.0,\"rgb(2,4,25)\"],[0.06274509803921569,\"rgb(24,15,41)\"],[0.12549019607843137,\"rgb(47,23,57)\"],[0.18823529411764706,\"rgb(71,28,72)\"],[0.25098039215686274,\"rgb(97,30,82)\"],[0.3137254901960784,\"rgb(123,30,89)\"],[0.3764705882352941,\"rgb(150,27,91)\"],[0.4392156862745098,\"rgb(177,22,88)\"],[0.5019607843137255,\"rgb(203,26,79)\"],[0.5647058823529412,\"rgb(223,47,67)\"],[0.6274509803921569,\"rgb(236,76,61)\"],[0.6901960784313725,\"rgb(242,107,73)\"],[0.7529411764705882,\"rgb(244,135,95)\"],[0.8156862745098039,\"rgb(245,162,122)\"],[0.8784313725490196,\"rgb(246,188,153)\"],[0.9411764705882353,\"rgb(247,212,187)\"],[1.0,\"rgb(250,234,220)\"]],\"type\":\"surface\"}],\"table\":[{\"cells\":{\"fill\":{\"color\":\"rgb(231,231,240)\"},\"line\":{\"color\":\"white\"}},\"header\":{\"fill\":{\"color\":\"rgb(183,183,191)\"},\"line\":{\"color\":\"white\"}},\"type\":\"table\"}]},\"layout\":{\"annotationdefaults\":{\"arrowcolor\":\"rgb(67,103,167)\"},\"autotypenumbers\":\"strict\",\"coloraxis\":{\"colorbar\":{\"outlinewidth\":0,\"tickcolor\":\"rgb(36,36,36)\",\"ticklen\":8,\"ticks\":\"outside\",\"tickwidth\":2}},\"colorscale\":{\"sequential\":[[0.0,\"rgb(2,4,25)\"],[0.06274509803921569,\"rgb(24,15,41)\"],[0.12549019607843137,\"rgb(47,23,57)\"],[0.18823529411764706,\"rgb(71,28,72)\"],[0.25098039215686274,\"rgb(97,30,82)\"],[0.3137254901960784,\"rgb(123,30,89)\"],[0.3764705882352941,\"rgb(150,27,91)\"],[0.4392156862745098,\"rgb(177,22,88)\"],[0.5019607843137255,\"rgb(203,26,79)\"],[0.5647058823529412,\"rgb(223,47,67)\"],[0.6274509803921569,\"rgb(236,76,61)\"],[0.6901960784313725,\"rgb(242,107,73)\"],[0.7529411764705882,\"rgb(244,135,95)\"],[0.8156862745098039,\"rgb(245,162,122)\"],[0.8784313725490196,\"rgb(246,188,153)\"],[0.9411764705882353,\"rgb(247,212,187)\"],[1.0,\"rgb(250,234,220)\"]],\"sequentialminus\":[[0.0,\"rgb(2,4,25)\"],[0.06274509803921569,\"rgb(24,15,41)\"],[0.12549019607843137,\"rgb(47,23,57)\"],[0.18823529411764706,\"rgb(71,28,72)\"],[0.25098039215686274,\"rgb(97,30,82)\"],[0.3137254901960784,\"rgb(123,30,89)\"],[0.3764705882352941,\"rgb(150,27,91)\"],[0.4392156862745098,\"rgb(177,22,88)\"],[0.5019607843137255,\"rgb(203,26,79)\"],[0.5647058823529412,\"rgb(223,47,67)\"],[0.6274509803921569,\"rgb(236,76,61)\"],[0.6901960784313725,\"rgb(242,107,73)\"],[0.7529411764705882,\"rgb(244,135,95)\"],[0.8156862745098039,\"rgb(245,162,122)\"],[0.8784313725490196,\"rgb(246,188,153)\"],[0.9411764705882353,\"rgb(247,212,187)\"],[1.0,\"rgb(250,234,220)\"]]},\"colorway\":[\"rgb(76,114,176)\",\"rgb(221,132,82)\",\"rgb(85,168,104)\",\"rgb(196,78,82)\",\"rgb(129,114,179)\",\"rgb(147,120,96)\",\"rgb(218,139,195)\",\"rgb(140,140,140)\",\"rgb(204,185,116)\",\"rgb(100,181,205)\"],\"font\":{\"color\":\"rgb(36,36,36)\"},\"geo\":{\"bgcolor\":\"white\",\"lakecolor\":\"white\",\"landcolor\":\"rgb(234,234,242)\",\"showlakes\":true,\"showland\":true,\"subunitcolor\":\"white\"},\"hoverlabel\":{\"align\":\"left\"},\"hovermode\":\"closest\",\"paper_bgcolor\":\"white\",\"plot_bgcolor\":\"rgb(234,234,242)\",\"polar\":{\"angularaxis\":{\"gridcolor\":\"white\",\"linecolor\":\"white\",\"showgrid\":true,\"ticks\":\"\"},\"bgcolor\":\"rgb(234,234,242)\",\"radialaxis\":{\"gridcolor\":\"white\",\"linecolor\":\"white\",\"showgrid\":true,\"ticks\":\"\"}},\"scene\":{\"xaxis\":{\"backgroundcolor\":\"rgb(234,234,242)\",\"gridcolor\":\"white\",\"gridwidth\":2,\"linecolor\":\"white\",\"showbackground\":true,\"showgrid\":true,\"ticks\":\"\",\"zerolinecolor\":\"white\"},\"yaxis\":{\"backgroundcolor\":\"rgb(234,234,242)\",\"gridcolor\":\"white\",\"gridwidth\":2,\"linecolor\":\"white\",\"showbackground\":true,\"showgrid\":true,\"ticks\":\"\",\"zerolinecolor\":\"white\"},\"zaxis\":{\"backgroundcolor\":\"rgb(234,234,242)\",\"gridcolor\":\"white\",\"gridwidth\":2,\"linecolor\":\"white\",\"showbackground\":true,\"showgrid\":true,\"ticks\":\"\",\"zerolinecolor\":\"white\"}},\"shapedefaults\":{\"fillcolor\":\"rgb(67,103,167)\",\"line\":{\"width\":0},\"opacity\":0.5},\"ternary\":{\"aaxis\":{\"gridcolor\":\"white\",\"linecolor\":\"white\",\"showgrid\":true,\"ticks\":\"\"},\"baxis\":{\"gridcolor\":\"white\",\"linecolor\":\"white\",\"showgrid\":true,\"ticks\":\"\"},\"bgcolor\":\"rgb(234,234,242)\",\"caxis\":{\"gridcolor\":\"white\",\"linecolor\":\"white\",\"showgrid\":true,\"ticks\":\"\"}},\"xaxis\":{\"automargin\":true,\"gridcolor\":\"white\",\"linecolor\":\"white\",\"showgrid\":true,\"ticks\":\"\",\"title\":{\"standoff\":15},\"zerolinecolor\":\"white\"},\"yaxis\":{\"automargin\":true,\"gridcolor\":\"white\",\"linecolor\":\"white\",\"showgrid\":true,\"ticks\":\"\",\"title\":{\"standoff\":15},\"zerolinecolor\":\"white\"}}},\"xaxis\":{\"anchor\":\"y\",\"domain\":[0.0,1.0],\"title\":{\"text\":\"x\"}},\"yaxis\":{\"anchor\":\"x\",\"domain\":[0.0,1.0],\"title\":{\"text\":\"y\"}},\"legend\":{\"tracegroupgap\":0},\"margin\":{\"t\":60},\"autosize\":false,\"width\":800,\"height\":800,\"title\":{\"text\":\"mbt_student_val_loss_5720.63920\"}},                        {\"responsive\": true}                    ).then(function(){\n",
       "                            \n",
       "var gd = document.getElementById('bdbd2827-c319-4294-b29f-d2406382f8eb');\n",
       "var x = new MutationObserver(function (mutations, observer) {{\n",
       "        var display = window.getComputedStyle(gd).display;\n",
       "        if (!display || display === 'none') {{\n",
       "            console.log([gd, 'removed!']);\n",
       "            Plotly.purge(gd);\n",
       "            observer.disconnect();\n",
       "        }}\n",
       "}});\n",
       "\n",
       "// Listen for the removal of the full notebook cells\n",
       "var notebookContainer = gd.closest('#notebook-container');\n",
       "if (notebookContainer) {{\n",
       "    x.observe(notebookContainer, {childList: true});\n",
       "}}\n",
       "\n",
       "// Listen for the clearing of the current output cell\n",
       "var outputEl = gd.closest('.output');\n",
       "if (outputEl) {{\n",
       "    x.observe(outputEl, {childList: true});\n",
       "}}\n",
       "\n",
       "                        })                };                });            </script>        </div>"
      ]
     },
     "metadata": {},
     "output_type": "display_data"
    }
   ],
   "source": [
    "plot_embeddings(embeddings_cleaned, chkpt_name)"
   ]
  },
  {
   "cell_type": "code",
   "execution_count": 32,
   "metadata": {},
   "outputs": [
    {
     "name": "stdout",
     "output_type": "stream",
     "text": [
      "Got 324 records before cleaning\n",
      "Got 324 records after cleaning\n"
     ]
    }
   ],
   "source": [
    "\n",
    "chkpt_name = \"mbt_student_val_loss_5697.87571\"\n",
    "pkl_path = f\"saved_models/{chkpt_name}.pkl\"\n",
    "with open(pkl_path, \"rb\") as fh:\n",
    "    embeddings_obj = pickle.load(fh)\n",
    "\n",
    "embeddings_cleaned = clean_nans(embeddings_obj)"
   ]
  },
  {
   "cell_type": "code",
   "execution_count": 7,
   "metadata": {},
   "outputs": [
    {
     "data": {
      "application/vnd.plotly.v1+json": {
       "config": {
        "plotlyServerURL": "https://plot.ly"
       },
       "data": [
        {
         "customdata": [
          [
           "None"
          ],
          [
           "Curiosity, Happiness, Frustration"
          ],
          [
           "None"
          ],
          [
           "Excitement, Happiness"
          ],
          [
           "Curiosity, Uncertainty, Surprise, Frustration"
          ],
          [
           "Curiosity, Happiness"
          ],
          [
           "Happiness"
          ],
          [
           "None"
          ],
          [
           "None"
          ],
          [
           "Curiosity, Happiness, Frustration"
          ],
          [
           "None"
          ],
          [
           "Excitement, Happiness"
          ],
          [
           "Curiosity, Uncertainty, Surprise, Frustration"
          ],
          [
           "Curiosity, Happiness"
          ],
          [
           "Happiness"
          ],
          [
           "None"
          ],
          [
           "None"
          ],
          [
           "Curiosity, Happiness, Frustration"
          ],
          [
           "None"
          ],
          [
           "Excitement, Happiness"
          ],
          [
           "Curiosity, Uncertainty, Surprise, Frustration"
          ],
          [
           "Curiosity, Happiness"
          ],
          [
           "Happiness"
          ],
          [
           "None"
          ],
          [
           "None"
          ],
          [
           "None"
          ],
          [
           "Uncertainty, Excitement, Happiness, Disgust"
          ],
          [
           "Uncertainty, Excitement, Surprise, Disgust, Fear, Frustration"
          ],
          [
           "Curiosity, Uncertainty, Fear"
          ],
          [
           "Excitement, Happiness"
          ],
          [
           "Curiosity, Happiness, Surprise"
          ],
          [
           "Curiosity, Uncertainty"
          ],
          [
           "None"
          ],
          [
           "None"
          ],
          [
           "Uncertainty, Excitement, Happiness, Disgust"
          ],
          [
           "Uncertainty, Excitement, Surprise, Disgust, Fear, Frustration"
          ],
          [
           "Curiosity, Uncertainty, Fear"
          ],
          [
           "Excitement, Happiness"
          ],
          [
           "Curiosity, Happiness, Surprise"
          ],
          [
           "Curiosity, Uncertainty"
          ],
          [
           "None"
          ],
          [
           "None"
          ],
          [
           "Uncertainty, Excitement, Happiness, Disgust"
          ],
          [
           "Uncertainty, Excitement, Surprise, Disgust, Fear, Frustration"
          ],
          [
           "Curiosity, Uncertainty, Fear"
          ],
          [
           "Excitement, Happiness"
          ],
          [
           "Curiosity, Happiness, Surprise"
          ],
          [
           "Curiosity, Uncertainty"
          ],
          [
           "Happiness"
          ],
          [
           "Uncertainty"
          ],
          [
           "Curiosity, Uncertainty, Excitement, Happiness, Surprise"
          ],
          [
           "Excitement"
          ],
          [
           "None"
          ],
          [
           "Curiosity"
          ],
          [
           "Happiness"
          ],
          [
           "Curiosity, Uncertainty, Happiness"
          ],
          [
           "Happiness"
          ],
          [
           "Uncertainty"
          ],
          [
           "Curiosity, Uncertainty, Excitement, Happiness, Surprise"
          ],
          [
           "Excitement"
          ],
          [
           "None"
          ],
          [
           "Curiosity"
          ],
          [
           "Happiness"
          ],
          [
           "Curiosity, Uncertainty, Happiness"
          ],
          [
           "Happiness"
          ],
          [
           "Uncertainty"
          ],
          [
           "Curiosity, Uncertainty, Excitement, Happiness, Surprise"
          ],
          [
           "Excitement"
          ],
          [
           "None"
          ],
          [
           "Curiosity"
          ],
          [
           "Happiness"
          ],
          [
           "Curiosity, Uncertainty, Happiness"
          ],
          [
           "None"
          ],
          [
           "Curiosity, Uncertainty, Frustration"
          ],
          [
           "Curiosity, Uncertainty, Surprise, Frustration"
          ],
          [
           "Curiosity, Uncertainty, Happiness, Surprise"
          ],
          [
           "None"
          ],
          [
           "Uncertainty, Disgust, Fear"
          ],
          [
           "Uncertainty, Disgust, Fear"
          ],
          [
           "Uncertainty, Happiness, Surprise, Frustration"
          ],
          [
           "None"
          ],
          [
           "Curiosity, Uncertainty, Frustration"
          ],
          [
           "Curiosity, Uncertainty, Surprise, Frustration"
          ],
          [
           "Curiosity, Uncertainty, Happiness, Surprise"
          ],
          [
           "None"
          ],
          [
           "Uncertainty, Disgust, Fear"
          ],
          [
           "Uncertainty, Disgust, Fear"
          ],
          [
           "Uncertainty, Happiness, Surprise, Frustration"
          ],
          [
           "None"
          ],
          [
           "Curiosity, Uncertainty, Frustration"
          ],
          [
           "Curiosity, Uncertainty, Surprise, Frustration"
          ],
          [
           "Curiosity, Uncertainty, Happiness, Surprise"
          ],
          [
           "None"
          ],
          [
           "Uncertainty, Disgust, Fear"
          ],
          [
           "Uncertainty, Disgust, Fear"
          ],
          [
           "Uncertainty, Happiness, Surprise, Frustration"
          ],
          [
           "Curiosity, Excitement, Surprise"
          ],
          [
           "Curiosity, Uncertainty, Happiness"
          ],
          [
           "Curiosity, Uncertainty, Happiness, Surprise, Fear"
          ],
          [
           "Excitement, Happiness"
          ],
          [
           "Curiosity, Happiness"
          ],
          [
           "Curiosity, Uncertainty, Happiness, Surprise"
          ],
          [
           "Happiness"
          ],
          [
           "Excitement, Happiness, Disgust"
          ],
          [
           "Curiosity, Excitement, Surprise"
          ],
          [
           "Curiosity, Uncertainty, Happiness"
          ],
          [
           "Curiosity, Uncertainty, Happiness, Surprise, Fear"
          ],
          [
           "Excitement, Happiness"
          ],
          [
           "Curiosity, Happiness"
          ],
          [
           "Curiosity, Uncertainty, Happiness, Surprise"
          ],
          [
           "Happiness"
          ],
          [
           "Excitement, Happiness, Disgust"
          ],
          [
           "Curiosity, Excitement, Surprise"
          ],
          [
           "Curiosity, Uncertainty, Happiness"
          ],
          [
           "Curiosity, Uncertainty, Happiness, Surprise, Fear"
          ],
          [
           "Excitement, Happiness"
          ],
          [
           "Curiosity, Happiness"
          ],
          [
           "Curiosity, Uncertainty, Happiness, Surprise"
          ],
          [
           "Happiness"
          ],
          [
           "Excitement, Happiness, Disgust"
          ],
          [
           "Curiosity, Uncertainty"
          ],
          [
           "Curiosity, Surprise"
          ],
          [
           "None"
          ],
          [
           "Curiosity, Excitement, Happiness, Surprise"
          ],
          [
           "Excitement, Happiness"
          ],
          [
           "Uncertainty, Disgust"
          ],
          [
           "Uncertainty, Happiness"
          ],
          [
           "Curiosity, Excitement, Happiness"
          ],
          [
           "Curiosity, Uncertainty"
          ],
          [
           "Curiosity, Surprise"
          ],
          [
           "None"
          ],
          [
           "Curiosity, Excitement, Happiness, Surprise"
          ],
          [
           "Excitement, Happiness"
          ],
          [
           "Uncertainty, Disgust"
          ],
          [
           "Uncertainty, Happiness"
          ],
          [
           "Curiosity, Excitement, Happiness"
          ],
          [
           "Curiosity, Uncertainty"
          ],
          [
           "Curiosity, Surprise"
          ],
          [
           "None"
          ],
          [
           "Curiosity, Excitement, Happiness, Surprise"
          ],
          [
           "Excitement, Happiness"
          ],
          [
           "Uncertainty, Disgust"
          ],
          [
           "Uncertainty, Happiness"
          ],
          [
           "Curiosity, Excitement, Happiness"
          ],
          [
           "Curiosity, Uncertainty, Excitement, Happiness"
          ],
          [
           "Curiosity, Happiness, Surprise"
          ],
          [
           "Curiosity"
          ],
          [
           "Excitement, Happiness"
          ],
          [
           "Disgust, Fear, Frustration"
          ],
          [
           "Excitement, Happiness"
          ],
          [
           "Curiosity, Uncertainty"
          ],
          [
           "None"
          ],
          [
           "Curiosity, Uncertainty, Excitement, Happiness"
          ],
          [
           "Curiosity, Happiness, Surprise"
          ],
          [
           "Curiosity"
          ],
          [
           "Excitement, Happiness"
          ],
          [
           "Disgust, Fear, Frustration"
          ],
          [
           "Excitement, Happiness"
          ],
          [
           "Curiosity, Uncertainty"
          ],
          [
           "None"
          ],
          [
           "Curiosity, Uncertainty, Excitement, Happiness"
          ],
          [
           "Curiosity, Happiness, Surprise"
          ],
          [
           "Curiosity"
          ],
          [
           "Excitement, Happiness"
          ],
          [
           "Disgust, Fear, Frustration"
          ],
          [
           "Excitement, Happiness"
          ],
          [
           "Curiosity, Uncertainty"
          ],
          [
           "None"
          ],
          [
           "Excitement, Happiness"
          ],
          [
           "Excitement, Happiness, Surprise"
          ],
          [
           "Happiness"
          ],
          [
           "Curiosity, Uncertainty, Surprise"
          ],
          [
           "Excitement, Frustration"
          ],
          [
           "Curiosity, Excitement, Happiness"
          ],
          [
           "Curiosity, Uncertainty, Surprise, Frustration"
          ],
          [
           "Curiosity"
          ],
          [
           "Excitement, Happiness"
          ],
          [
           "Excitement, Happiness, Surprise"
          ],
          [
           "Happiness"
          ],
          [
           "Curiosity, Uncertainty, Surprise"
          ],
          [
           "Excitement, Frustration"
          ],
          [
           "Curiosity, Excitement, Happiness"
          ],
          [
           "Curiosity, Uncertainty, Surprise, Frustration"
          ],
          [
           "Curiosity"
          ],
          [
           "Excitement, Happiness"
          ],
          [
           "Excitement, Happiness, Surprise"
          ],
          [
           "Happiness"
          ],
          [
           "Curiosity, Uncertainty, Surprise"
          ],
          [
           "Excitement, Frustration"
          ],
          [
           "Curiosity, Excitement, Happiness"
          ],
          [
           "Curiosity, Uncertainty, Surprise, Frustration"
          ],
          [
           "Curiosity"
          ],
          [
           "Curiosity, Excitement, Happiness, Surprise"
          ],
          [
           "None"
          ],
          [
           "None"
          ],
          [
           "Curiosity, Happiness, Surprise"
          ],
          [
           "Curiosity, Uncertainty, Excitement, Happiness, Surprise"
          ],
          [
           "Curiosity, Excitement, Happiness, Surprise"
          ],
          [
           "Excitement, Happiness"
          ],
          [
           "None"
          ],
          [
           "Curiosity, Excitement, Happiness, Surprise"
          ],
          [
           "None"
          ],
          [
           "None"
          ],
          [
           "Curiosity, Happiness, Surprise"
          ],
          [
           "Curiosity, Uncertainty, Excitement, Happiness, Surprise"
          ],
          [
           "Curiosity, Excitement, Happiness, Surprise"
          ],
          [
           "Excitement, Happiness"
          ],
          [
           "None"
          ],
          [
           "Curiosity, Excitement, Happiness, Surprise"
          ],
          [
           "None"
          ],
          [
           "None"
          ],
          [
           "Curiosity, Happiness, Surprise"
          ],
          [
           "Curiosity, Uncertainty, Excitement, Happiness, Surprise"
          ],
          [
           "Curiosity, Excitement, Happiness, Surprise"
          ],
          [
           "Excitement, Happiness"
          ],
          [
           "None"
          ],
          [
           "Frustration"
          ],
          [
           "Curiosity, Uncertainty, Surprise"
          ],
          [
           "None"
          ],
          [
           "Happiness"
          ],
          [
           "Happiness, Surprise"
          ],
          [
           "Happiness"
          ],
          [
           "Curiosity, Uncertainty, Excitement, Happiness, Surprise, Fear"
          ],
          [
           "Curiosity, Happiness"
          ],
          [
           "Frustration"
          ],
          [
           "Curiosity, Uncertainty, Surprise"
          ],
          [
           "None"
          ],
          [
           "Happiness"
          ],
          [
           "Happiness, Surprise"
          ],
          [
           "Happiness"
          ],
          [
           "Curiosity, Uncertainty, Excitement, Happiness, Surprise, Fear"
          ],
          [
           "Curiosity, Happiness"
          ],
          [
           "Frustration"
          ],
          [
           "Curiosity, Uncertainty, Surprise"
          ],
          [
           "None"
          ],
          [
           "Happiness"
          ],
          [
           "Happiness, Surprise"
          ],
          [
           "Happiness"
          ],
          [
           "Curiosity, Uncertainty, Excitement, Happiness, Surprise, Fear"
          ],
          [
           "Curiosity, Happiness"
          ],
          [
           "Disgust, Fear"
          ],
          [
           "Curiosity, Uncertainty, Happiness, Surprise"
          ],
          [
           "Disgust"
          ],
          [
           "Happiness"
          ],
          [
           "Curiosity, Excitement, Happiness, Surprise"
          ],
          [
           "None"
          ],
          [
           "None"
          ],
          [
           "Disgust, Frustration"
          ],
          [
           "Disgust, Fear"
          ],
          [
           "Curiosity, Uncertainty, Happiness, Surprise"
          ],
          [
           "Disgust"
          ],
          [
           "Happiness"
          ],
          [
           "Curiosity, Excitement, Happiness, Surprise"
          ],
          [
           "None"
          ],
          [
           "None"
          ],
          [
           "Disgust, Frustration"
          ],
          [
           "Disgust, Fear"
          ],
          [
           "Curiosity, Uncertainty, Happiness, Surprise"
          ],
          [
           "Disgust"
          ],
          [
           "Happiness"
          ],
          [
           "Curiosity, Excitement, Happiness, Surprise"
          ],
          [
           "None"
          ],
          [
           "None"
          ],
          [
           "Disgust, Frustration"
          ],
          [
           "Curiosity, Uncertainty"
          ],
          [
           "Happiness, Frustration"
          ],
          [
           "None"
          ],
          [
           "None"
          ],
          [
           "Uncertainty, Surprise, Disgust"
          ],
          [
           "Uncertainty, Excitement"
          ],
          [
           "None"
          ],
          [
           "Curiosity, Excitement, Happiness, Surprise"
          ],
          [
           "Curiosity, Uncertainty"
          ],
          [
           "Happiness, Frustration"
          ],
          [
           "None"
          ],
          [
           "None"
          ],
          [
           "Uncertainty, Surprise, Disgust"
          ],
          [
           "Uncertainty, Excitement"
          ],
          [
           "None"
          ],
          [
           "Curiosity, Excitement, Happiness, Surprise"
          ],
          [
           "Curiosity, Uncertainty"
          ],
          [
           "Happiness, Frustration"
          ],
          [
           "None"
          ],
          [
           "None"
          ],
          [
           "Uncertainty, Surprise, Disgust"
          ],
          [
           "Uncertainty, Excitement"
          ],
          [
           "None"
          ],
          [
           "Curiosity, Excitement, Happiness, Surprise"
          ],
          [
           "Excitement, Frustration"
          ],
          [
           "Curiosity, Uncertainty, Happiness, Surprise, Frustration"
          ],
          [
           "Surprise, Disgust"
          ],
          [
           "Curiosity, Uncertainty, Happiness, Surprise"
          ],
          [
           "Uncertainty, Surprise"
          ],
          [
           "Uncertainty, Happiness, Surprise"
          ],
          [
           "None"
          ],
          [
           "None"
          ],
          [
           "Excitement, Frustration"
          ],
          [
           "Curiosity, Uncertainty, Happiness, Surprise, Frustration"
          ],
          [
           "Surprise, Disgust"
          ],
          [
           "Curiosity, Uncertainty, Happiness, Surprise"
          ],
          [
           "Uncertainty, Surprise"
          ],
          [
           "Uncertainty, Happiness, Surprise"
          ],
          [
           "None"
          ],
          [
           "None"
          ],
          [
           "Excitement, Frustration"
          ],
          [
           "Curiosity, Uncertainty, Happiness, Surprise, Frustration"
          ],
          [
           "Surprise, Disgust"
          ],
          [
           "Curiosity, Uncertainty, Happiness, Surprise"
          ],
          [
           "Uncertainty, Surprise"
          ],
          [
           "Uncertainty, Happiness, Surprise"
          ],
          [
           "None"
          ],
          [
           "None"
          ]
         ],
         "hovertemplate": "x=%{x}<br>y=%{y}<br>labels=%{customdata[0]}<extra></extra>",
         "legendgroup": "",
         "marker": {
          "color": "#636efa",
          "symbol": "circle"
         },
         "mode": "markers",
         "name": "",
         "orientation": "v",
         "showlegend": false,
         "type": "scatter",
         "x": [
          19.933349609375,
          15.872784614562988,
          12.652488708496094,
          -11.460112571716309,
          13.032383918762207,
          -11.460112571716309,
          19.924795150756836,
          -11.460112571716309,
          24.22059440612793,
          24.269807815551758,
          20.62036895751953,
          16.48686408996582,
          20.590608596801758,
          16.942096710205078,
          23.79901123046875,
          16.636791229248047,
          -10.395538330078125,
          -10.395538330078125,
          -10.18171215057373,
          -10.18171215057373,
          -10.18171215057373,
          -10.395538330078125,
          -10.50887393951416,
          -10.50887393951416,
          -10.50887393951416,
          -12.514444351196289,
          -12.514444351196289,
          -10.50887393951416,
          -13.026095390319824,
          -10.395538330078125,
          -11.460112571716309,
          -10.984752655029297,
          18.673397064208984,
          22.744373321533203,
          23.3568115234375,
          18.256221771240234,
          15.635245323181152,
          18.43058967590332,
          19.93811798095703,
          23.076704025268555,
          -10.542041778564453,
          12.79716682434082,
          13.272703170776367,
          -12.542440414428711,
          -10.542041778564453,
          -12.368921279907227,
          -12.542440414428711,
          -12.51443862915039,
          23.876296997070312,
          18.889707565307617,
          20.6142578125,
          20.626075744628906,
          22.318523406982422,
          23.5002384185791,
          21.7500057220459,
          22.32982063293457,
          13.893122673034668,
          -11.857527732849121,
          -12.542440414428711,
          -11.051321983337402,
          -11.857527732849121,
          -11.857527732849121,
          -11.857527732849121,
          -11.857527732849121,
          23.360395431518555,
          13.289705276489258,
          16.39402961730957,
          16.10569190979004,
          18.303007125854492,
          20.189395904541016,
          16.70530891418457,
          18.334701538085938,
          -11.857527732849121,
          -11.857527732849121,
          -11.857527732849121,
          -11.857527732849121,
          -11.857527732849121,
          11.642313957214355,
          -11.857527732849121,
          -11.857527732849121,
          -11.857527732849121,
          -11.857527732849121,
          -11.460112571716309,
          -11.857527732849121,
          -11.857527732849121,
          -11.857527732849121,
          -11.857527732849121,
          -11.460112571716309,
          -11.460112571716309,
          -11.549031257629395,
          -11.857527732849121,
          -11.051321983337402,
          -12.390604972839355,
          -11.634864807128906,
          -11.460112571716309,
          -13.24743938446045,
          -9.210745811462402,
          -11.634864807128906,
          -11.857527732849121,
          -11.857527732849121,
          -12.73947811126709,
          -12.73947811126709,
          -12.542440414428711,
          21.539447784423828,
          -11.460112571716309,
          -11.634864807128906,
          -12.434782028198242,
          18.26133155822754,
          -12.368921279907227,
          -11.549031257629395,
          -11.460112571716309,
          22.395383834838867,
          17.914608001708984,
          21.123735427856445,
          18.50196647644043,
          23.374998092651367,
          15.602023124694824,
          13.444053649902344,
          16.502168655395508,
          24.171417236328125,
          -13.24743938446045,
          -13.239768028259277,
          -9.830458641052246,
          -12.514444351196289,
          -11.051321983337402,
          -11.460112571716309,
          -10.50887393951416,
          -12.434782028198242,
          -10.50887393951416,
          -12.434782028198242,
          -10.18171215057373,
          -11.051321983337402,
          -10.395538330078125,
          -10.395538330078125,
          -11.051321983337402,
          -11.549031257629395,
          -11.460112571716309,
          -11.460112571716309,
          -12.434782028198242,
          -11.460112571716309,
          -12.434782028198242,
          16.90760612487793,
          11.688325881958008,
          12.228888511657715,
          11.156266212463379,
          13.17440128326416,
          15.470955848693848,
          11.952020645141602,
          23.625614166259766,
          16.45032501220703,
          23.834272384643555,
          16.40607452392578,
          -12.434782028198242,
          -12.434782028198242,
          -12.434782028198242,
          -14.586968421936035,
          11.238885879516602,
          -14.586968421936035,
          13.574254035949707,
          -14.586968421936035,
          -14.586968421936035,
          -14.586968421936035,
          -14.586968421936035,
          -14.586968421936035,
          20.34925079345703,
          12.948419570922852,
          21.720216751098633,
          11.955482482910156,
          17.83152961730957,
          23.961585998535156,
          13.784356117248535,
          24.184616088867188,
          13.896145820617676,
          23.815189361572266,
          23.554109573364258,
          23.793930053710938,
          -14.586968421936035,
          15.441827774047852,
          -14.586968421936035,
          21.007966995239258,
          -14.586968421936035,
          13.054337501525879,
          24.171201705932617,
          15.214882850646973,
          20.19092559814453,
          24.02301597595215,
          17.514711380004883,
          23.558778762817383,
          17.761014938354492,
          24.278305053710938,
          23.803035736083984,
          23.55923843383789,
          -14.586968421936035,
          -14.586968421936035,
          -14.586968421936035,
          -14.586968421936035,
          -14.586968421936035,
          -14.586968421936035,
          -14.586968421936035,
          -14.586968421936035,
          -14.586968421936035,
          -14.586968421936035,
          -14.586968421936035,
          -14.586968421936035,
          -14.586968421936035,
          11.594836235046387,
          -14.586968421936035,
          -14.586968421936035,
          -14.586968421936035,
          20.931486129760742,
          22.824283599853516,
          20.255104064941406,
          -14.586968421936035,
          22.992225646972656,
          16.009553909301758,
          18.15591812133789,
          -14.586968421936035,
          -14.586968421936035,
          -14.586968421936035,
          -14.586968421936035,
          -14.586968421936035,
          -14.586968421936035,
          18.192752838134766,
          -14.586968421936035,
          18.573944091796875,
          18.7814998626709,
          -14.586968421936035,
          -14.586968421936035,
          12.384252548217773,
          -14.586968421936035,
          23.375490188598633,
          -14.586968421936035,
          18.579647064208984,
          19.847806930541992,
          -14.586968421936035,
          -14.586968421936035,
          13.07207202911377,
          -14.586968421936035,
          23.146379470825195,
          -14.586968421936035,
          -14.586968421936035,
          -14.586968421936035,
          -14.586968421936035,
          -14.586968421936035,
          -14.586968421936035,
          -14.586968421936035,
          -14.586968421936035,
          -14.586968421936035,
          16.33098030090332,
          15.357927322387695,
          19.084522247314453,
          13.372730255126953,
          23.271163940429688,
          22.6203670501709,
          18.5567569732666,
          10.788785934448242,
          -14.586968421936035,
          -14.586968421936035,
          -14.586968421936035,
          -14.586968421936035,
          -14.586968421936035,
          -14.586968421936035,
          -14.586968421936035,
          -14.586968421936035,
          -14.586968421936035,
          -14.586968421936035,
          -14.586968421936035,
          -14.586968421936035,
          -14.586968421936035,
          -14.586968421936035,
          -14.586968421936035,
          -14.586968421936035,
          -14.586968421936035,
          -14.586968421936035,
          -14.586968421936035,
          -14.586968421936035,
          -14.586968421936035,
          -14.586968421936035,
          13.92877197265625,
          -14.586968421936035,
          -14.586968421936035,
          -14.586968421936035,
          -14.586968421936035,
          -14.586968421936035,
          -14.586968421936035,
          -14.586968421936035,
          -14.586968421936035,
          -14.586968421936035,
          -14.586968421936035,
          -14.586968421936035,
          19.973663330078125,
          18.506183624267578,
          23.310016632080078,
          -14.586968421936035,
          16.09990119934082,
          -14.586968421936035,
          12.70927906036377,
          12.256129264831543,
          22.16644287109375,
          21.035036087036133,
          22.564672470092773,
          11.69867992401123,
          19.674697875976562,
          12.663623809814453,
          -14.586968421936035,
          -14.586968421936035,
          -14.586968421936035,
          -14.586968421936035,
          22.221546173095703,
          -14.586968421936035,
          -14.586968421936035,
          -14.586968421936035
         ],
         "xaxis": "x",
         "y": [
          0.9103536009788513,
          5.776544570922852,
          8.354366302490234,
          -0.20035304129123688,
          8.323263168334961,
          -0.20035304129123688,
          0.9232481122016907,
          -0.20035304129123688,
          -5.5647292137146,
          -5.943365097045898,
          -0.15368185937404633,
          5.169111728668213,
          -0.10590777546167374,
          4.684243202209473,
          -5.00020170211792,
          5.011417865753174,
          -2.171619176864624,
          -2.171619176864624,
          -0.3094540536403656,
          -0.3094540536403656,
          -0.3094540536403656,
          -2.171619176864624,
          -1.1658203601837158,
          -1.1658203601837158,
          -1.1658203601837158,
          -0.4802238941192627,
          -0.4802238941192627,
          -1.1658203601837158,
          -3.5999083518981934,
          -2.171619176864624,
          -0.20035304129123688,
          0.8773501515388489,
          2.688710927963257,
          -3.7279293537139893,
          -4.760416030883789,
          3.0436437129974365,
          5.994655132293701,
          2.8422610759735107,
          0.9035264253616333,
          -4.284927845001221,
          0.5129565596580505,
          8.140067100524902,
          8.039565086364746,
          0.4986359477043152,
          0.5129565596580505,
          1.1720683574676514,
          0.4986359477043152,
          -0.48021721839904785,
          -5.06950569152832,
          2.395900011062622,
          -0.14405225217342377,
          -0.16313396394252777,
          -3.0164942741394043,
          -5.539665699005127,
          -2.0421030521392822,
          -3.036022663116455,
          7.502600193023682,
          -1.646898865699768,
          0.4986359477043152,
          -2.8530638217926025,
          -1.646898865699768,
          -1.646898865699768,
          -1.646898865699768,
          -1.646898865699768,
          -5.19317102432251,
          7.979944229125977,
          5.264853000640869,
          5.554762840270996,
          2.9436981678009033,
          0.5257108807563782,
          4.943582057952881,
          3.208153009414673,
          -1.646898865699768,
          -1.646898865699768,
          -1.646898865699768,
          -1.646898865699768,
          -1.646898865699768,
          8.960565567016602,
          -1.646898865699768,
          -1.646898865699768,
          -1.646898865699768,
          -1.646898865699768,
          -0.20035304129123688,
          -1.646898865699768,
          -1.646898865699768,
          -1.646898865699768,
          -1.646898865699768,
          -0.20035304129123688,
          -0.20035304129123688,
          -3.4489519596099854,
          -1.646898865699768,
          -2.8530638217926025,
          -3.7899084091186523,
          1.0058685541152954,
          -0.20035304129123688,
          0.8940706253051758,
          -1.0215579271316528,
          1.0058685541152954,
          -1.646898865699768,
          -1.646898865699768,
          0.03378090634942055,
          0.03378090634942055,
          0.4986359477043152,
          -1.6839370727539062,
          -0.20035304129123688,
          1.0058685541152954,
          -2.9396443367004395,
          3.046398162841797,
          1.1720683574676514,
          -3.4489519596099854,
          -0.20035304129123688,
          -3.150644063949585,
          3.605407238006592,
          -0.9811846613883972,
          3.1468420028686523,
          -5.19854211807251,
          6.025263786315918,
          7.870360374450684,
          5.153704643249512,
          -5.478130340576172,
          0.8940706253051758,
          0.7172479033470154,
          -1.4659478664398193,
          -0.4802238941192627,
          -2.8530638217926025,
          -0.20035304129123688,
          -1.1658203601837158,
          -2.9396443367004395,
          -1.1658203601837158,
          -2.9396443367004395,
          -0.3094540536403656,
          -2.8530638217926025,
          -2.171619176864624,
          -2.171619176864624,
          -2.8530638217926025,
          -3.4489519596099854,
          -0.20035304129123688,
          -0.20035304129123688,
          -2.9396443367004395,
          -0.20035304129123688,
          -2.9396443367004395,
          4.720672130584717,
          8.93728256225586,
          8.664885520935059,
          9.184663772583008,
          7.9872636795043945,
          6.142612457275391,
          8.798641204833984,
          -5.711402416229248,
          5.215066432952881,
          -5.918820858001709,
          5.252649307250977,
          -2.9396443367004395,
          -2.9396443367004395,
          -2.9396443367004395,
          -1.4399176836013794,
          9.148797035217285,
          -1.4399176836013794,
          7.7644362449646,
          -1.4399176836013794,
          -1.4399176836013794,
          -1.4399176836013794,
          -1.4399176836013794,
          -1.4399176836013794,
          0.2765538990497589,
          8.369471549987793,
          -1.9910825490951538,
          8.796052932739258,
          3.699843168258667,
          -5.999459266662598,
          7.59277868270874,
          -6.061797142028809,
          7.499772071838379,
          -5.007590293884277,
          -5.606043338775635,
          -4.985531330108643,
          -1.4399176836013794,
          6.168086051940918,
          -1.4399176836013794,
          -0.7881592512130737,
          -1.4399176836013794,
          7.98756217956543,
          -5.479320526123047,
          6.368125915527344,
          0.5232073068618774,
          -5.246929168701172,
          4.049368381500244,
          -5.638547420501709,
          3.776413679122925,
          -5.940935134887695,
          -5.898989200592041,
          -4.85421895980835,
          -1.4399176836013794,
          -1.4399176836013794,
          -1.4399176836013794,
          -1.4399176836013794,
          -1.4399176836013794,
          -1.4399176836013794,
          -1.4399176836013794,
          -1.4399176836013794,
          -1.4399176836013794,
          -1.4399176836013794,
          -1.4399176836013794,
          -1.4399176836013794,
          -1.4399176836013794,
          8.983877182006836,
          -1.4399176836013794,
          -1.4399176836013794,
          -1.4399176836013794,
          -0.6611970663070679,
          -3.860246419906616,
          0.42359790205955505,
          -1.4399176836013794,
          -4.143342018127441,
          5.646850109100342,
          3.3391335010528564,
          -1.4399176836013794,
          -1.4399176836013794,
          -1.4399176836013794,
          -1.4399176836013794,
          -1.4399176836013794,
          -1.4399176836013794,
          3.2979178428649902,
          -1.4399176836013794,
          3.0022637844085693,
          2.5480740070343018,
          -1.4399176836013794,
          -1.4399176836013794,
          8.587986946105957,
          -1.4399176836013794,
          -5.161722660064697,
          -1.4399176836013794,
          2.8119421005249023,
          1.0349535942077637,
          -1.4399176836013794,
          -1.4399176836013794,
          8.299198150634766,
          -1.4399176836013794,
          -4.406576633453369,
          -1.4399176836013794,
          -1.4399176836013794,
          -1.4399176836013794,
          -1.4399176836013794,
          -1.4399176836013794,
          -1.4399176836013794,
          -1.4399176836013794,
          -1.4399176836013794,
          -1.4399176836013794,
          5.330420017242432,
          6.241065979003906,
          2.1214137077331543,
          7.9273295402526855,
          -4.615198135375977,
          -3.523897647857666,
          2.835101842880249,
          9.340045928955078,
          -1.4399176836013794,
          -1.4399176836013794,
          -1.4399176836013794,
          -1.4399176836013794,
          -1.4399176836013794,
          -1.4399176836013794,
          -1.4399176836013794,
          -1.4399176836013794,
          -1.4399176836013794,
          -1.4399176836013794,
          -1.4399176836013794,
          -1.4399176836013794,
          -1.4399176836013794,
          -1.4399176836013794,
          -1.4399176836013794,
          -1.4399176836013794,
          -1.4399176836013794,
          -1.4399176836013794,
          -1.4399176836013794,
          -1.4399176836013794,
          -1.4399176836013794,
          -1.4399176836013794,
          7.471915245056152,
          -1.4399176836013794,
          -1.4399176836013794,
          -1.4399176836013794,
          -1.4399176836013794,
          -1.4399176836013794,
          -1.4399176836013794,
          -1.4399176836013794,
          -1.4399176836013794,
          -1.4399176836013794,
          -1.4399176836013794,
          -1.4399176836013794,
          0.8510174751281738,
          3.117250680923462,
          -4.97943115234375,
          -1.4399176836013794,
          5.55980110168457,
          -1.4399176836013794,
          8.277645111083984,
          8.648274421691895,
          -2.7563724517822266,
          -0.8327896595001221,
          -3.4285900592803955,
          8.93179988861084,
          1.2857576608657837,
          8.408495903015137,
          -1.4399176836013794,
          -1.4399176836013794,
          -1.4399176836013794,
          -1.4399176836013794,
          -2.8522214889526367,
          -1.4399176836013794,
          -1.4399176836013794,
          -1.4399176836013794
         ],
         "yaxis": "y"
        }
       ],
       "layout": {
        "autosize": false,
        "height": 800,
        "legend": {
         "tracegroupgap": 0
        },
        "margin": {
         "t": 60
        },
        "template": {
         "data": {
          "bar": [
           {
            "error_x": {
             "color": "rgb(36,36,36)"
            },
            "error_y": {
             "color": "rgb(36,36,36)"
            },
            "marker": {
             "line": {
              "color": "rgb(234,234,242)",
              "width": 0.5
             },
             "pattern": {
              "fillmode": "overlay",
              "size": 10,
              "solidity": 0.2
             }
            },
            "type": "bar"
           }
          ],
          "barpolar": [
           {
            "marker": {
             "line": {
              "color": "rgb(234,234,242)",
              "width": 0.5
             },
             "pattern": {
              "fillmode": "overlay",
              "size": 10,
              "solidity": 0.2
             }
            },
            "type": "barpolar"
           }
          ],
          "carpet": [
           {
            "aaxis": {
             "endlinecolor": "rgb(36,36,36)",
             "gridcolor": "white",
             "linecolor": "white",
             "minorgridcolor": "white",
             "startlinecolor": "rgb(36,36,36)"
            },
            "baxis": {
             "endlinecolor": "rgb(36,36,36)",
             "gridcolor": "white",
             "linecolor": "white",
             "minorgridcolor": "white",
             "startlinecolor": "rgb(36,36,36)"
            },
            "type": "carpet"
           }
          ],
          "choropleth": [
           {
            "colorbar": {
             "outlinewidth": 0,
             "tickcolor": "rgb(36,36,36)",
             "ticklen": 8,
             "ticks": "outside",
             "tickwidth": 2
            },
            "type": "choropleth"
           }
          ],
          "contour": [
           {
            "colorbar": {
             "outlinewidth": 0,
             "tickcolor": "rgb(36,36,36)",
             "ticklen": 8,
             "ticks": "outside",
             "tickwidth": 2
            },
            "colorscale": [
             [
              0,
              "rgb(2,4,25)"
             ],
             [
              0.06274509803921569,
              "rgb(24,15,41)"
             ],
             [
              0.12549019607843137,
              "rgb(47,23,57)"
             ],
             [
              0.18823529411764706,
              "rgb(71,28,72)"
             ],
             [
              0.25098039215686274,
              "rgb(97,30,82)"
             ],
             [
              0.3137254901960784,
              "rgb(123,30,89)"
             ],
             [
              0.3764705882352941,
              "rgb(150,27,91)"
             ],
             [
              0.4392156862745098,
              "rgb(177,22,88)"
             ],
             [
              0.5019607843137255,
              "rgb(203,26,79)"
             ],
             [
              0.5647058823529412,
              "rgb(223,47,67)"
             ],
             [
              0.6274509803921569,
              "rgb(236,76,61)"
             ],
             [
              0.6901960784313725,
              "rgb(242,107,73)"
             ],
             [
              0.7529411764705882,
              "rgb(244,135,95)"
             ],
             [
              0.8156862745098039,
              "rgb(245,162,122)"
             ],
             [
              0.8784313725490196,
              "rgb(246,188,153)"
             ],
             [
              0.9411764705882353,
              "rgb(247,212,187)"
             ],
             [
              1,
              "rgb(250,234,220)"
             ]
            ],
            "type": "contour"
           }
          ],
          "contourcarpet": [
           {
            "colorbar": {
             "outlinewidth": 0,
             "tickcolor": "rgb(36,36,36)",
             "ticklen": 8,
             "ticks": "outside",
             "tickwidth": 2
            },
            "type": "contourcarpet"
           }
          ],
          "heatmap": [
           {
            "colorbar": {
             "outlinewidth": 0,
             "tickcolor": "rgb(36,36,36)",
             "ticklen": 8,
             "ticks": "outside",
             "tickwidth": 2
            },
            "colorscale": [
             [
              0,
              "rgb(2,4,25)"
             ],
             [
              0.06274509803921569,
              "rgb(24,15,41)"
             ],
             [
              0.12549019607843137,
              "rgb(47,23,57)"
             ],
             [
              0.18823529411764706,
              "rgb(71,28,72)"
             ],
             [
              0.25098039215686274,
              "rgb(97,30,82)"
             ],
             [
              0.3137254901960784,
              "rgb(123,30,89)"
             ],
             [
              0.3764705882352941,
              "rgb(150,27,91)"
             ],
             [
              0.4392156862745098,
              "rgb(177,22,88)"
             ],
             [
              0.5019607843137255,
              "rgb(203,26,79)"
             ],
             [
              0.5647058823529412,
              "rgb(223,47,67)"
             ],
             [
              0.6274509803921569,
              "rgb(236,76,61)"
             ],
             [
              0.6901960784313725,
              "rgb(242,107,73)"
             ],
             [
              0.7529411764705882,
              "rgb(244,135,95)"
             ],
             [
              0.8156862745098039,
              "rgb(245,162,122)"
             ],
             [
              0.8784313725490196,
              "rgb(246,188,153)"
             ],
             [
              0.9411764705882353,
              "rgb(247,212,187)"
             ],
             [
              1,
              "rgb(250,234,220)"
             ]
            ],
            "type": "heatmap"
           }
          ],
          "heatmapgl": [
           {
            "colorbar": {
             "outlinewidth": 0,
             "tickcolor": "rgb(36,36,36)",
             "ticklen": 8,
             "ticks": "outside",
             "tickwidth": 2
            },
            "colorscale": [
             [
              0,
              "rgb(2,4,25)"
             ],
             [
              0.06274509803921569,
              "rgb(24,15,41)"
             ],
             [
              0.12549019607843137,
              "rgb(47,23,57)"
             ],
             [
              0.18823529411764706,
              "rgb(71,28,72)"
             ],
             [
              0.25098039215686274,
              "rgb(97,30,82)"
             ],
             [
              0.3137254901960784,
              "rgb(123,30,89)"
             ],
             [
              0.3764705882352941,
              "rgb(150,27,91)"
             ],
             [
              0.4392156862745098,
              "rgb(177,22,88)"
             ],
             [
              0.5019607843137255,
              "rgb(203,26,79)"
             ],
             [
              0.5647058823529412,
              "rgb(223,47,67)"
             ],
             [
              0.6274509803921569,
              "rgb(236,76,61)"
             ],
             [
              0.6901960784313725,
              "rgb(242,107,73)"
             ],
             [
              0.7529411764705882,
              "rgb(244,135,95)"
             ],
             [
              0.8156862745098039,
              "rgb(245,162,122)"
             ],
             [
              0.8784313725490196,
              "rgb(246,188,153)"
             ],
             [
              0.9411764705882353,
              "rgb(247,212,187)"
             ],
             [
              1,
              "rgb(250,234,220)"
             ]
            ],
            "type": "heatmapgl"
           }
          ],
          "histogram": [
           {
            "marker": {
             "pattern": {
              "fillmode": "overlay",
              "size": 10,
              "solidity": 0.2
             }
            },
            "type": "histogram"
           }
          ],
          "histogram2d": [
           {
            "colorbar": {
             "outlinewidth": 0,
             "tickcolor": "rgb(36,36,36)",
             "ticklen": 8,
             "ticks": "outside",
             "tickwidth": 2
            },
            "colorscale": [
             [
              0,
              "rgb(2,4,25)"
             ],
             [
              0.06274509803921569,
              "rgb(24,15,41)"
             ],
             [
              0.12549019607843137,
              "rgb(47,23,57)"
             ],
             [
              0.18823529411764706,
              "rgb(71,28,72)"
             ],
             [
              0.25098039215686274,
              "rgb(97,30,82)"
             ],
             [
              0.3137254901960784,
              "rgb(123,30,89)"
             ],
             [
              0.3764705882352941,
              "rgb(150,27,91)"
             ],
             [
              0.4392156862745098,
              "rgb(177,22,88)"
             ],
             [
              0.5019607843137255,
              "rgb(203,26,79)"
             ],
             [
              0.5647058823529412,
              "rgb(223,47,67)"
             ],
             [
              0.6274509803921569,
              "rgb(236,76,61)"
             ],
             [
              0.6901960784313725,
              "rgb(242,107,73)"
             ],
             [
              0.7529411764705882,
              "rgb(244,135,95)"
             ],
             [
              0.8156862745098039,
              "rgb(245,162,122)"
             ],
             [
              0.8784313725490196,
              "rgb(246,188,153)"
             ],
             [
              0.9411764705882353,
              "rgb(247,212,187)"
             ],
             [
              1,
              "rgb(250,234,220)"
             ]
            ],
            "type": "histogram2d"
           }
          ],
          "histogram2dcontour": [
           {
            "colorbar": {
             "outlinewidth": 0,
             "tickcolor": "rgb(36,36,36)",
             "ticklen": 8,
             "ticks": "outside",
             "tickwidth": 2
            },
            "colorscale": [
             [
              0,
              "rgb(2,4,25)"
             ],
             [
              0.06274509803921569,
              "rgb(24,15,41)"
             ],
             [
              0.12549019607843137,
              "rgb(47,23,57)"
             ],
             [
              0.18823529411764706,
              "rgb(71,28,72)"
             ],
             [
              0.25098039215686274,
              "rgb(97,30,82)"
             ],
             [
              0.3137254901960784,
              "rgb(123,30,89)"
             ],
             [
              0.3764705882352941,
              "rgb(150,27,91)"
             ],
             [
              0.4392156862745098,
              "rgb(177,22,88)"
             ],
             [
              0.5019607843137255,
              "rgb(203,26,79)"
             ],
             [
              0.5647058823529412,
              "rgb(223,47,67)"
             ],
             [
              0.6274509803921569,
              "rgb(236,76,61)"
             ],
             [
              0.6901960784313725,
              "rgb(242,107,73)"
             ],
             [
              0.7529411764705882,
              "rgb(244,135,95)"
             ],
             [
              0.8156862745098039,
              "rgb(245,162,122)"
             ],
             [
              0.8784313725490196,
              "rgb(246,188,153)"
             ],
             [
              0.9411764705882353,
              "rgb(247,212,187)"
             ],
             [
              1,
              "rgb(250,234,220)"
             ]
            ],
            "type": "histogram2dcontour"
           }
          ],
          "mesh3d": [
           {
            "colorbar": {
             "outlinewidth": 0,
             "tickcolor": "rgb(36,36,36)",
             "ticklen": 8,
             "ticks": "outside",
             "tickwidth": 2
            },
            "type": "mesh3d"
           }
          ],
          "parcoords": [
           {
            "line": {
             "colorbar": {
              "outlinewidth": 0,
              "tickcolor": "rgb(36,36,36)",
              "ticklen": 8,
              "ticks": "outside",
              "tickwidth": 2
             }
            },
            "type": "parcoords"
           }
          ],
          "pie": [
           {
            "automargin": true,
            "type": "pie"
           }
          ],
          "scatter": [
           {
            "fillpattern": {
             "fillmode": "overlay",
             "size": 10,
             "solidity": 0.2
            },
            "type": "scatter"
           }
          ],
          "scatter3d": [
           {
            "line": {
             "colorbar": {
              "outlinewidth": 0,
              "tickcolor": "rgb(36,36,36)",
              "ticklen": 8,
              "ticks": "outside",
              "tickwidth": 2
             }
            },
            "marker": {
             "colorbar": {
              "outlinewidth": 0,
              "tickcolor": "rgb(36,36,36)",
              "ticklen": 8,
              "ticks": "outside",
              "tickwidth": 2
             }
            },
            "type": "scatter3d"
           }
          ],
          "scattercarpet": [
           {
            "marker": {
             "colorbar": {
              "outlinewidth": 0,
              "tickcolor": "rgb(36,36,36)",
              "ticklen": 8,
              "ticks": "outside",
              "tickwidth": 2
             }
            },
            "type": "scattercarpet"
           }
          ],
          "scattergeo": [
           {
            "marker": {
             "colorbar": {
              "outlinewidth": 0,
              "tickcolor": "rgb(36,36,36)",
              "ticklen": 8,
              "ticks": "outside",
              "tickwidth": 2
             }
            },
            "type": "scattergeo"
           }
          ],
          "scattergl": [
           {
            "marker": {
             "colorbar": {
              "outlinewidth": 0,
              "tickcolor": "rgb(36,36,36)",
              "ticklen": 8,
              "ticks": "outside",
              "tickwidth": 2
             }
            },
            "type": "scattergl"
           }
          ],
          "scattermapbox": [
           {
            "marker": {
             "colorbar": {
              "outlinewidth": 0,
              "tickcolor": "rgb(36,36,36)",
              "ticklen": 8,
              "ticks": "outside",
              "tickwidth": 2
             }
            },
            "type": "scattermapbox"
           }
          ],
          "scatterpolar": [
           {
            "marker": {
             "colorbar": {
              "outlinewidth": 0,
              "tickcolor": "rgb(36,36,36)",
              "ticklen": 8,
              "ticks": "outside",
              "tickwidth": 2
             }
            },
            "type": "scatterpolar"
           }
          ],
          "scatterpolargl": [
           {
            "marker": {
             "colorbar": {
              "outlinewidth": 0,
              "tickcolor": "rgb(36,36,36)",
              "ticklen": 8,
              "ticks": "outside",
              "tickwidth": 2
             }
            },
            "type": "scatterpolargl"
           }
          ],
          "scatterternary": [
           {
            "marker": {
             "colorbar": {
              "outlinewidth": 0,
              "tickcolor": "rgb(36,36,36)",
              "ticklen": 8,
              "ticks": "outside",
              "tickwidth": 2
             }
            },
            "type": "scatterternary"
           }
          ],
          "surface": [
           {
            "colorbar": {
             "outlinewidth": 0,
             "tickcolor": "rgb(36,36,36)",
             "ticklen": 8,
             "ticks": "outside",
             "tickwidth": 2
            },
            "colorscale": [
             [
              0,
              "rgb(2,4,25)"
             ],
             [
              0.06274509803921569,
              "rgb(24,15,41)"
             ],
             [
              0.12549019607843137,
              "rgb(47,23,57)"
             ],
             [
              0.18823529411764706,
              "rgb(71,28,72)"
             ],
             [
              0.25098039215686274,
              "rgb(97,30,82)"
             ],
             [
              0.3137254901960784,
              "rgb(123,30,89)"
             ],
             [
              0.3764705882352941,
              "rgb(150,27,91)"
             ],
             [
              0.4392156862745098,
              "rgb(177,22,88)"
             ],
             [
              0.5019607843137255,
              "rgb(203,26,79)"
             ],
             [
              0.5647058823529412,
              "rgb(223,47,67)"
             ],
             [
              0.6274509803921569,
              "rgb(236,76,61)"
             ],
             [
              0.6901960784313725,
              "rgb(242,107,73)"
             ],
             [
              0.7529411764705882,
              "rgb(244,135,95)"
             ],
             [
              0.8156862745098039,
              "rgb(245,162,122)"
             ],
             [
              0.8784313725490196,
              "rgb(246,188,153)"
             ],
             [
              0.9411764705882353,
              "rgb(247,212,187)"
             ],
             [
              1,
              "rgb(250,234,220)"
             ]
            ],
            "type": "surface"
           }
          ],
          "table": [
           {
            "cells": {
             "fill": {
              "color": "rgb(231,231,240)"
             },
             "line": {
              "color": "white"
             }
            },
            "header": {
             "fill": {
              "color": "rgb(183,183,191)"
             },
             "line": {
              "color": "white"
             }
            },
            "type": "table"
           }
          ]
         },
         "layout": {
          "annotationdefaults": {
           "arrowcolor": "rgb(67,103,167)"
          },
          "autotypenumbers": "strict",
          "coloraxis": {
           "colorbar": {
            "outlinewidth": 0,
            "tickcolor": "rgb(36,36,36)",
            "ticklen": 8,
            "ticks": "outside",
            "tickwidth": 2
           }
          },
          "colorscale": {
           "sequential": [
            [
             0,
             "rgb(2,4,25)"
            ],
            [
             0.06274509803921569,
             "rgb(24,15,41)"
            ],
            [
             0.12549019607843137,
             "rgb(47,23,57)"
            ],
            [
             0.18823529411764706,
             "rgb(71,28,72)"
            ],
            [
             0.25098039215686274,
             "rgb(97,30,82)"
            ],
            [
             0.3137254901960784,
             "rgb(123,30,89)"
            ],
            [
             0.3764705882352941,
             "rgb(150,27,91)"
            ],
            [
             0.4392156862745098,
             "rgb(177,22,88)"
            ],
            [
             0.5019607843137255,
             "rgb(203,26,79)"
            ],
            [
             0.5647058823529412,
             "rgb(223,47,67)"
            ],
            [
             0.6274509803921569,
             "rgb(236,76,61)"
            ],
            [
             0.6901960784313725,
             "rgb(242,107,73)"
            ],
            [
             0.7529411764705882,
             "rgb(244,135,95)"
            ],
            [
             0.8156862745098039,
             "rgb(245,162,122)"
            ],
            [
             0.8784313725490196,
             "rgb(246,188,153)"
            ],
            [
             0.9411764705882353,
             "rgb(247,212,187)"
            ],
            [
             1,
             "rgb(250,234,220)"
            ]
           ],
           "sequentialminus": [
            [
             0,
             "rgb(2,4,25)"
            ],
            [
             0.06274509803921569,
             "rgb(24,15,41)"
            ],
            [
             0.12549019607843137,
             "rgb(47,23,57)"
            ],
            [
             0.18823529411764706,
             "rgb(71,28,72)"
            ],
            [
             0.25098039215686274,
             "rgb(97,30,82)"
            ],
            [
             0.3137254901960784,
             "rgb(123,30,89)"
            ],
            [
             0.3764705882352941,
             "rgb(150,27,91)"
            ],
            [
             0.4392156862745098,
             "rgb(177,22,88)"
            ],
            [
             0.5019607843137255,
             "rgb(203,26,79)"
            ],
            [
             0.5647058823529412,
             "rgb(223,47,67)"
            ],
            [
             0.6274509803921569,
             "rgb(236,76,61)"
            ],
            [
             0.6901960784313725,
             "rgb(242,107,73)"
            ],
            [
             0.7529411764705882,
             "rgb(244,135,95)"
            ],
            [
             0.8156862745098039,
             "rgb(245,162,122)"
            ],
            [
             0.8784313725490196,
             "rgb(246,188,153)"
            ],
            [
             0.9411764705882353,
             "rgb(247,212,187)"
            ],
            [
             1,
             "rgb(250,234,220)"
            ]
           ]
          },
          "colorway": [
           "rgb(76,114,176)",
           "rgb(221,132,82)",
           "rgb(85,168,104)",
           "rgb(196,78,82)",
           "rgb(129,114,179)",
           "rgb(147,120,96)",
           "rgb(218,139,195)",
           "rgb(140,140,140)",
           "rgb(204,185,116)",
           "rgb(100,181,205)"
          ],
          "font": {
           "color": "rgb(36,36,36)"
          },
          "geo": {
           "bgcolor": "white",
           "lakecolor": "white",
           "landcolor": "rgb(234,234,242)",
           "showlakes": true,
           "showland": true,
           "subunitcolor": "white"
          },
          "hoverlabel": {
           "align": "left"
          },
          "hovermode": "closest",
          "paper_bgcolor": "white",
          "plot_bgcolor": "rgb(234,234,242)",
          "polar": {
           "angularaxis": {
            "gridcolor": "white",
            "linecolor": "white",
            "showgrid": true,
            "ticks": ""
           },
           "bgcolor": "rgb(234,234,242)",
           "radialaxis": {
            "gridcolor": "white",
            "linecolor": "white",
            "showgrid": true,
            "ticks": ""
           }
          },
          "scene": {
           "xaxis": {
            "backgroundcolor": "rgb(234,234,242)",
            "gridcolor": "white",
            "gridwidth": 2,
            "linecolor": "white",
            "showbackground": true,
            "showgrid": true,
            "ticks": "",
            "zerolinecolor": "white"
           },
           "yaxis": {
            "backgroundcolor": "rgb(234,234,242)",
            "gridcolor": "white",
            "gridwidth": 2,
            "linecolor": "white",
            "showbackground": true,
            "showgrid": true,
            "ticks": "",
            "zerolinecolor": "white"
           },
           "zaxis": {
            "backgroundcolor": "rgb(234,234,242)",
            "gridcolor": "white",
            "gridwidth": 2,
            "linecolor": "white",
            "showbackground": true,
            "showgrid": true,
            "ticks": "",
            "zerolinecolor": "white"
           }
          },
          "shapedefaults": {
           "fillcolor": "rgb(67,103,167)",
           "line": {
            "width": 0
           },
           "opacity": 0.5
          },
          "ternary": {
           "aaxis": {
            "gridcolor": "white",
            "linecolor": "white",
            "showgrid": true,
            "ticks": ""
           },
           "baxis": {
            "gridcolor": "white",
            "linecolor": "white",
            "showgrid": true,
            "ticks": ""
           },
           "bgcolor": "rgb(234,234,242)",
           "caxis": {
            "gridcolor": "white",
            "linecolor": "white",
            "showgrid": true,
            "ticks": ""
           }
          },
          "xaxis": {
           "automargin": true,
           "gridcolor": "white",
           "linecolor": "white",
           "showgrid": true,
           "ticks": "",
           "title": {
            "standoff": 15
           },
           "zerolinecolor": "white"
          },
          "yaxis": {
           "automargin": true,
           "gridcolor": "white",
           "linecolor": "white",
           "showgrid": true,
           "ticks": "",
           "title": {
            "standoff": 15
           },
           "zerolinecolor": "white"
          }
         }
        },
        "title": {
         "text": "mbt_student_val_loss_5720.63920"
        },
        "width": 800,
        "xaxis": {
         "anchor": "y",
         "domain": [
          0,
          1
         ],
         "title": {
          "text": "x"
         }
        },
        "yaxis": {
         "anchor": "x",
         "domain": [
          0,
          1
         ],
         "title": {
          "text": "y"
         }
        }
       }
      },
      "text/html": [
       "<div>                            <div id=\"0ce44486-9056-4674-801d-256168ccf6cb\" class=\"plotly-graph-div\" style=\"height:800px; width:800px;\"></div>            <script type=\"text/javascript\">                require([\"plotly\"], function(Plotly) {                    window.PLOTLYENV=window.PLOTLYENV || {};                                    if (document.getElementById(\"0ce44486-9056-4674-801d-256168ccf6cb\")) {                    Plotly.newPlot(                        \"0ce44486-9056-4674-801d-256168ccf6cb\",                        [{\"customdata\":[[\"None\"],[\"Curiosity, Happiness, Frustration\"],[\"None\"],[\"Excitement, Happiness\"],[\"Curiosity, Uncertainty, Surprise, Frustration\"],[\"Curiosity, Happiness\"],[\"Happiness\"],[\"None\"],[\"None\"],[\"Curiosity, Happiness, Frustration\"],[\"None\"],[\"Excitement, Happiness\"],[\"Curiosity, Uncertainty, Surprise, Frustration\"],[\"Curiosity, Happiness\"],[\"Happiness\"],[\"None\"],[\"None\"],[\"Curiosity, Happiness, Frustration\"],[\"None\"],[\"Excitement, Happiness\"],[\"Curiosity, Uncertainty, Surprise, Frustration\"],[\"Curiosity, Happiness\"],[\"Happiness\"],[\"None\"],[\"None\"],[\"None\"],[\"Uncertainty, Excitement, Happiness, Disgust\"],[\"Uncertainty, Excitement, Surprise, Disgust, Fear, Frustration\"],[\"Curiosity, Uncertainty, Fear\"],[\"Excitement, Happiness\"],[\"Curiosity, Happiness, Surprise\"],[\"Curiosity, Uncertainty\"],[\"None\"],[\"None\"],[\"Uncertainty, Excitement, Happiness, Disgust\"],[\"Uncertainty, Excitement, Surprise, Disgust, Fear, Frustration\"],[\"Curiosity, Uncertainty, Fear\"],[\"Excitement, Happiness\"],[\"Curiosity, Happiness, Surprise\"],[\"Curiosity, Uncertainty\"],[\"None\"],[\"None\"],[\"Uncertainty, Excitement, Happiness, Disgust\"],[\"Uncertainty, Excitement, Surprise, Disgust, Fear, Frustration\"],[\"Curiosity, Uncertainty, Fear\"],[\"Excitement, Happiness\"],[\"Curiosity, Happiness, Surprise\"],[\"Curiosity, Uncertainty\"],[\"Happiness\"],[\"Uncertainty\"],[\"Curiosity, Uncertainty, Excitement, Happiness, Surprise\"],[\"Excitement\"],[\"None\"],[\"Curiosity\"],[\"Happiness\"],[\"Curiosity, Uncertainty, Happiness\"],[\"Happiness\"],[\"Uncertainty\"],[\"Curiosity, Uncertainty, Excitement, Happiness, Surprise\"],[\"Excitement\"],[\"None\"],[\"Curiosity\"],[\"Happiness\"],[\"Curiosity, Uncertainty, Happiness\"],[\"Happiness\"],[\"Uncertainty\"],[\"Curiosity, Uncertainty, Excitement, Happiness, Surprise\"],[\"Excitement\"],[\"None\"],[\"Curiosity\"],[\"Happiness\"],[\"Curiosity, Uncertainty, Happiness\"],[\"None\"],[\"Curiosity, Uncertainty, Frustration\"],[\"Curiosity, Uncertainty, Surprise, Frustration\"],[\"Curiosity, Uncertainty, Happiness, Surprise\"],[\"None\"],[\"Uncertainty, Disgust, Fear\"],[\"Uncertainty, Disgust, Fear\"],[\"Uncertainty, Happiness, Surprise, Frustration\"],[\"None\"],[\"Curiosity, Uncertainty, Frustration\"],[\"Curiosity, Uncertainty, Surprise, Frustration\"],[\"Curiosity, Uncertainty, Happiness, Surprise\"],[\"None\"],[\"Uncertainty, Disgust, Fear\"],[\"Uncertainty, Disgust, Fear\"],[\"Uncertainty, Happiness, Surprise, Frustration\"],[\"None\"],[\"Curiosity, Uncertainty, Frustration\"],[\"Curiosity, Uncertainty, Surprise, Frustration\"],[\"Curiosity, Uncertainty, Happiness, Surprise\"],[\"None\"],[\"Uncertainty, Disgust, Fear\"],[\"Uncertainty, Disgust, Fear\"],[\"Uncertainty, Happiness, Surprise, Frustration\"],[\"Curiosity, Excitement, Surprise\"],[\"Curiosity, Uncertainty, Happiness\"],[\"Curiosity, Uncertainty, Happiness, Surprise, Fear\"],[\"Excitement, Happiness\"],[\"Curiosity, Happiness\"],[\"Curiosity, Uncertainty, Happiness, Surprise\"],[\"Happiness\"],[\"Excitement, Happiness, Disgust\"],[\"Curiosity, Excitement, Surprise\"],[\"Curiosity, Uncertainty, Happiness\"],[\"Curiosity, Uncertainty, Happiness, Surprise, Fear\"],[\"Excitement, Happiness\"],[\"Curiosity, Happiness\"],[\"Curiosity, Uncertainty, Happiness, Surprise\"],[\"Happiness\"],[\"Excitement, Happiness, Disgust\"],[\"Curiosity, Excitement, Surprise\"],[\"Curiosity, Uncertainty, Happiness\"],[\"Curiosity, Uncertainty, Happiness, Surprise, Fear\"],[\"Excitement, Happiness\"],[\"Curiosity, Happiness\"],[\"Curiosity, Uncertainty, Happiness, Surprise\"],[\"Happiness\"],[\"Excitement, Happiness, Disgust\"],[\"Curiosity, Uncertainty\"],[\"Curiosity, Surprise\"],[\"None\"],[\"Curiosity, Excitement, Happiness, Surprise\"],[\"Excitement, Happiness\"],[\"Uncertainty, Disgust\"],[\"Uncertainty, Happiness\"],[\"Curiosity, Excitement, Happiness\"],[\"Curiosity, Uncertainty\"],[\"Curiosity, Surprise\"],[\"None\"],[\"Curiosity, Excitement, Happiness, Surprise\"],[\"Excitement, Happiness\"],[\"Uncertainty, Disgust\"],[\"Uncertainty, Happiness\"],[\"Curiosity, Excitement, Happiness\"],[\"Curiosity, Uncertainty\"],[\"Curiosity, Surprise\"],[\"None\"],[\"Curiosity, Excitement, Happiness, Surprise\"],[\"Excitement, Happiness\"],[\"Uncertainty, Disgust\"],[\"Uncertainty, Happiness\"],[\"Curiosity, Excitement, Happiness\"],[\"Curiosity, Uncertainty, Excitement, Happiness\"],[\"Curiosity, Happiness, Surprise\"],[\"Curiosity\"],[\"Excitement, Happiness\"],[\"Disgust, Fear, Frustration\"],[\"Excitement, Happiness\"],[\"Curiosity, Uncertainty\"],[\"None\"],[\"Curiosity, Uncertainty, Excitement, Happiness\"],[\"Curiosity, Happiness, Surprise\"],[\"Curiosity\"],[\"Excitement, Happiness\"],[\"Disgust, Fear, Frustration\"],[\"Excitement, Happiness\"],[\"Curiosity, Uncertainty\"],[\"None\"],[\"Curiosity, Uncertainty, Excitement, Happiness\"],[\"Curiosity, Happiness, Surprise\"],[\"Curiosity\"],[\"Excitement, Happiness\"],[\"Disgust, Fear, Frustration\"],[\"Excitement, Happiness\"],[\"Curiosity, Uncertainty\"],[\"None\"],[\"Excitement, Happiness\"],[\"Excitement, Happiness, Surprise\"],[\"Happiness\"],[\"Curiosity, Uncertainty, Surprise\"],[\"Excitement, Frustration\"],[\"Curiosity, Excitement, Happiness\"],[\"Curiosity, Uncertainty, Surprise, Frustration\"],[\"Curiosity\"],[\"Excitement, Happiness\"],[\"Excitement, Happiness, Surprise\"],[\"Happiness\"],[\"Curiosity, Uncertainty, Surprise\"],[\"Excitement, Frustration\"],[\"Curiosity, Excitement, Happiness\"],[\"Curiosity, Uncertainty, Surprise, Frustration\"],[\"Curiosity\"],[\"Excitement, Happiness\"],[\"Excitement, Happiness, Surprise\"],[\"Happiness\"],[\"Curiosity, Uncertainty, Surprise\"],[\"Excitement, Frustration\"],[\"Curiosity, Excitement, Happiness\"],[\"Curiosity, Uncertainty, Surprise, Frustration\"],[\"Curiosity\"],[\"Curiosity, Excitement, Happiness, Surprise\"],[\"None\"],[\"None\"],[\"Curiosity, Happiness, Surprise\"],[\"Curiosity, Uncertainty, Excitement, Happiness, Surprise\"],[\"Curiosity, Excitement, Happiness, Surprise\"],[\"Excitement, Happiness\"],[\"None\"],[\"Curiosity, Excitement, Happiness, Surprise\"],[\"None\"],[\"None\"],[\"Curiosity, Happiness, Surprise\"],[\"Curiosity, Uncertainty, Excitement, Happiness, Surprise\"],[\"Curiosity, Excitement, Happiness, Surprise\"],[\"Excitement, Happiness\"],[\"None\"],[\"Curiosity, Excitement, Happiness, Surprise\"],[\"None\"],[\"None\"],[\"Curiosity, Happiness, Surprise\"],[\"Curiosity, Uncertainty, Excitement, Happiness, Surprise\"],[\"Curiosity, Excitement, Happiness, Surprise\"],[\"Excitement, Happiness\"],[\"None\"],[\"Frustration\"],[\"Curiosity, Uncertainty, Surprise\"],[\"None\"],[\"Happiness\"],[\"Happiness, Surprise\"],[\"Happiness\"],[\"Curiosity, Uncertainty, Excitement, Happiness, Surprise, Fear\"],[\"Curiosity, Happiness\"],[\"Frustration\"],[\"Curiosity, Uncertainty, Surprise\"],[\"None\"],[\"Happiness\"],[\"Happiness, Surprise\"],[\"Happiness\"],[\"Curiosity, Uncertainty, Excitement, Happiness, Surprise, Fear\"],[\"Curiosity, Happiness\"],[\"Frustration\"],[\"Curiosity, Uncertainty, Surprise\"],[\"None\"],[\"Happiness\"],[\"Happiness, Surprise\"],[\"Happiness\"],[\"Curiosity, Uncertainty, Excitement, Happiness, Surprise, Fear\"],[\"Curiosity, Happiness\"],[\"Disgust, Fear\"],[\"Curiosity, Uncertainty, Happiness, Surprise\"],[\"Disgust\"],[\"Happiness\"],[\"Curiosity, Excitement, Happiness, Surprise\"],[\"None\"],[\"None\"],[\"Disgust, Frustration\"],[\"Disgust, Fear\"],[\"Curiosity, Uncertainty, Happiness, Surprise\"],[\"Disgust\"],[\"Happiness\"],[\"Curiosity, Excitement, Happiness, Surprise\"],[\"None\"],[\"None\"],[\"Disgust, Frustration\"],[\"Disgust, Fear\"],[\"Curiosity, Uncertainty, Happiness, Surprise\"],[\"Disgust\"],[\"Happiness\"],[\"Curiosity, Excitement, Happiness, Surprise\"],[\"None\"],[\"None\"],[\"Disgust, Frustration\"],[\"Curiosity, Uncertainty\"],[\"Happiness, Frustration\"],[\"None\"],[\"None\"],[\"Uncertainty, Surprise, Disgust\"],[\"Uncertainty, Excitement\"],[\"None\"],[\"Curiosity, Excitement, Happiness, Surprise\"],[\"Curiosity, Uncertainty\"],[\"Happiness, Frustration\"],[\"None\"],[\"None\"],[\"Uncertainty, Surprise, Disgust\"],[\"Uncertainty, Excitement\"],[\"None\"],[\"Curiosity, Excitement, Happiness, Surprise\"],[\"Curiosity, Uncertainty\"],[\"Happiness, Frustration\"],[\"None\"],[\"None\"],[\"Uncertainty, Surprise, Disgust\"],[\"Uncertainty, Excitement\"],[\"None\"],[\"Curiosity, Excitement, Happiness, Surprise\"],[\"Excitement, Frustration\"],[\"Curiosity, Uncertainty, Happiness, Surprise, Frustration\"],[\"Surprise, Disgust\"],[\"Curiosity, Uncertainty, Happiness, Surprise\"],[\"Uncertainty, Surprise\"],[\"Uncertainty, Happiness, Surprise\"],[\"None\"],[\"None\"],[\"Excitement, Frustration\"],[\"Curiosity, Uncertainty, Happiness, Surprise, Frustration\"],[\"Surprise, Disgust\"],[\"Curiosity, Uncertainty, Happiness, Surprise\"],[\"Uncertainty, Surprise\"],[\"Uncertainty, Happiness, Surprise\"],[\"None\"],[\"None\"],[\"Excitement, Frustration\"],[\"Curiosity, Uncertainty, Happiness, Surprise, Frustration\"],[\"Surprise, Disgust\"],[\"Curiosity, Uncertainty, Happiness, Surprise\"],[\"Uncertainty, Surprise\"],[\"Uncertainty, Happiness, Surprise\"],[\"None\"],[\"None\"]],\"hovertemplate\":\"x=%{x}\\u003cbr\\u003ey=%{y}\\u003cbr\\u003elabels=%{customdata[0]}\\u003cextra\\u003e\\u003c\\u002fextra\\u003e\",\"legendgroup\":\"\",\"marker\":{\"color\":\"#636efa\",\"symbol\":\"circle\"},\"mode\":\"markers\",\"name\":\"\",\"orientation\":\"v\",\"showlegend\":false,\"x\":[19.933349609375,15.872784614562988,12.652488708496094,-11.460112571716309,13.032383918762207,-11.460112571716309,19.924795150756836,-11.460112571716309,24.22059440612793,24.269807815551758,20.62036895751953,16.48686408996582,20.590608596801758,16.942096710205078,23.79901123046875,16.636791229248047,-10.395538330078125,-10.395538330078125,-10.18171215057373,-10.18171215057373,-10.18171215057373,-10.395538330078125,-10.50887393951416,-10.50887393951416,-10.50887393951416,-12.514444351196289,-12.514444351196289,-10.50887393951416,-13.026095390319824,-10.395538330078125,-11.460112571716309,-10.984752655029297,18.673397064208984,22.744373321533203,23.3568115234375,18.256221771240234,15.635245323181152,18.43058967590332,19.93811798095703,23.076704025268555,-10.542041778564453,12.79716682434082,13.272703170776367,-12.542440414428711,-10.542041778564453,-12.368921279907227,-12.542440414428711,-12.51443862915039,23.876296997070312,18.889707565307617,20.6142578125,20.626075744628906,22.318523406982422,23.5002384185791,21.7500057220459,22.32982063293457,13.893122673034668,-11.857527732849121,-12.542440414428711,-11.051321983337402,-11.857527732849121,-11.857527732849121,-11.857527732849121,-11.857527732849121,23.360395431518555,13.289705276489258,16.39402961730957,16.10569190979004,18.303007125854492,20.189395904541016,16.70530891418457,18.334701538085938,-11.857527732849121,-11.857527732849121,-11.857527732849121,-11.857527732849121,-11.857527732849121,11.642313957214355,-11.857527732849121,-11.857527732849121,-11.857527732849121,-11.857527732849121,-11.460112571716309,-11.857527732849121,-11.857527732849121,-11.857527732849121,-11.857527732849121,-11.460112571716309,-11.460112571716309,-11.549031257629395,-11.857527732849121,-11.051321983337402,-12.390604972839355,-11.634864807128906,-11.460112571716309,-13.24743938446045,-9.210745811462402,-11.634864807128906,-11.857527732849121,-11.857527732849121,-12.73947811126709,-12.73947811126709,-12.542440414428711,21.539447784423828,-11.460112571716309,-11.634864807128906,-12.434782028198242,18.26133155822754,-12.368921279907227,-11.549031257629395,-11.460112571716309,22.395383834838867,17.914608001708984,21.123735427856445,18.50196647644043,23.374998092651367,15.602023124694824,13.444053649902344,16.502168655395508,24.171417236328125,-13.24743938446045,-13.239768028259277,-9.830458641052246,-12.514444351196289,-11.051321983337402,-11.460112571716309,-10.50887393951416,-12.434782028198242,-10.50887393951416,-12.434782028198242,-10.18171215057373,-11.051321983337402,-10.395538330078125,-10.395538330078125,-11.051321983337402,-11.549031257629395,-11.460112571716309,-11.460112571716309,-12.434782028198242,-11.460112571716309,-12.434782028198242,16.90760612487793,11.688325881958008,12.228888511657715,11.156266212463379,13.17440128326416,15.470955848693848,11.952020645141602,23.625614166259766,16.45032501220703,23.834272384643555,16.40607452392578,-12.434782028198242,-12.434782028198242,-12.434782028198242,-14.586968421936035,11.238885879516602,-14.586968421936035,13.574254035949707,-14.586968421936035,-14.586968421936035,-14.586968421936035,-14.586968421936035,-14.586968421936035,20.34925079345703,12.948419570922852,21.720216751098633,11.955482482910156,17.83152961730957,23.961585998535156,13.784356117248535,24.184616088867188,13.896145820617676,23.815189361572266,23.554109573364258,23.793930053710938,-14.586968421936035,15.441827774047852,-14.586968421936035,21.007966995239258,-14.586968421936035,13.054337501525879,24.171201705932617,15.214882850646973,20.19092559814453,24.02301597595215,17.514711380004883,23.558778762817383,17.761014938354492,24.278305053710938,23.803035736083984,23.55923843383789,-14.586968421936035,-14.586968421936035,-14.586968421936035,-14.586968421936035,-14.586968421936035,-14.586968421936035,-14.586968421936035,-14.586968421936035,-14.586968421936035,-14.586968421936035,-14.586968421936035,-14.586968421936035,-14.586968421936035,11.594836235046387,-14.586968421936035,-14.586968421936035,-14.586968421936035,20.931486129760742,22.824283599853516,20.255104064941406,-14.586968421936035,22.992225646972656,16.009553909301758,18.15591812133789,-14.586968421936035,-14.586968421936035,-14.586968421936035,-14.586968421936035,-14.586968421936035,-14.586968421936035,18.192752838134766,-14.586968421936035,18.573944091796875,18.7814998626709,-14.586968421936035,-14.586968421936035,12.384252548217773,-14.586968421936035,23.375490188598633,-14.586968421936035,18.579647064208984,19.847806930541992,-14.586968421936035,-14.586968421936035,13.07207202911377,-14.586968421936035,23.146379470825195,-14.586968421936035,-14.586968421936035,-14.586968421936035,-14.586968421936035,-14.586968421936035,-14.586968421936035,-14.586968421936035,-14.586968421936035,-14.586968421936035,16.33098030090332,15.357927322387695,19.084522247314453,13.372730255126953,23.271163940429688,22.6203670501709,18.5567569732666,10.788785934448242,-14.586968421936035,-14.586968421936035,-14.586968421936035,-14.586968421936035,-14.586968421936035,-14.586968421936035,-14.586968421936035,-14.586968421936035,-14.586968421936035,-14.586968421936035,-14.586968421936035,-14.586968421936035,-14.586968421936035,-14.586968421936035,-14.586968421936035,-14.586968421936035,-14.586968421936035,-14.586968421936035,-14.586968421936035,-14.586968421936035,-14.586968421936035,-14.586968421936035,13.92877197265625,-14.586968421936035,-14.586968421936035,-14.586968421936035,-14.586968421936035,-14.586968421936035,-14.586968421936035,-14.586968421936035,-14.586968421936035,-14.586968421936035,-14.586968421936035,-14.586968421936035,19.973663330078125,18.506183624267578,23.310016632080078,-14.586968421936035,16.09990119934082,-14.586968421936035,12.70927906036377,12.256129264831543,22.16644287109375,21.035036087036133,22.564672470092773,11.69867992401123,19.674697875976562,12.663623809814453,-14.586968421936035,-14.586968421936035,-14.586968421936035,-14.586968421936035,22.221546173095703,-14.586968421936035,-14.586968421936035,-14.586968421936035],\"xaxis\":\"x\",\"y\":[0.9103536009788513,5.776544570922852,8.354366302490234,-0.20035304129123688,8.323263168334961,-0.20035304129123688,0.9232481122016907,-0.20035304129123688,-5.5647292137146,-5.943365097045898,-0.15368185937404633,5.169111728668213,-0.10590777546167374,4.684243202209473,-5.00020170211792,5.011417865753174,-2.171619176864624,-2.171619176864624,-0.3094540536403656,-0.3094540536403656,-0.3094540536403656,-2.171619176864624,-1.1658203601837158,-1.1658203601837158,-1.1658203601837158,-0.4802238941192627,-0.4802238941192627,-1.1658203601837158,-3.5999083518981934,-2.171619176864624,-0.20035304129123688,0.8773501515388489,2.688710927963257,-3.7279293537139893,-4.760416030883789,3.0436437129974365,5.994655132293701,2.8422610759735107,0.9035264253616333,-4.284927845001221,0.5129565596580505,8.140067100524902,8.039565086364746,0.4986359477043152,0.5129565596580505,1.1720683574676514,0.4986359477043152,-0.48021721839904785,-5.06950569152832,2.395900011062622,-0.14405225217342377,-0.16313396394252777,-3.0164942741394043,-5.539665699005127,-2.0421030521392822,-3.036022663116455,7.502600193023682,-1.646898865699768,0.4986359477043152,-2.8530638217926025,-1.646898865699768,-1.646898865699768,-1.646898865699768,-1.646898865699768,-5.19317102432251,7.979944229125977,5.264853000640869,5.554762840270996,2.9436981678009033,0.5257108807563782,4.943582057952881,3.208153009414673,-1.646898865699768,-1.646898865699768,-1.646898865699768,-1.646898865699768,-1.646898865699768,8.960565567016602,-1.646898865699768,-1.646898865699768,-1.646898865699768,-1.646898865699768,-0.20035304129123688,-1.646898865699768,-1.646898865699768,-1.646898865699768,-1.646898865699768,-0.20035304129123688,-0.20035304129123688,-3.4489519596099854,-1.646898865699768,-2.8530638217926025,-3.7899084091186523,1.0058685541152954,-0.20035304129123688,0.8940706253051758,-1.0215579271316528,1.0058685541152954,-1.646898865699768,-1.646898865699768,0.03378090634942055,0.03378090634942055,0.4986359477043152,-1.6839370727539062,-0.20035304129123688,1.0058685541152954,-2.9396443367004395,3.046398162841797,1.1720683574676514,-3.4489519596099854,-0.20035304129123688,-3.150644063949585,3.605407238006592,-0.9811846613883972,3.1468420028686523,-5.19854211807251,6.025263786315918,7.870360374450684,5.153704643249512,-5.478130340576172,0.8940706253051758,0.7172479033470154,-1.4659478664398193,-0.4802238941192627,-2.8530638217926025,-0.20035304129123688,-1.1658203601837158,-2.9396443367004395,-1.1658203601837158,-2.9396443367004395,-0.3094540536403656,-2.8530638217926025,-2.171619176864624,-2.171619176864624,-2.8530638217926025,-3.4489519596099854,-0.20035304129123688,-0.20035304129123688,-2.9396443367004395,-0.20035304129123688,-2.9396443367004395,4.720672130584717,8.93728256225586,8.664885520935059,9.184663772583008,7.9872636795043945,6.142612457275391,8.798641204833984,-5.711402416229248,5.215066432952881,-5.918820858001709,5.252649307250977,-2.9396443367004395,-2.9396443367004395,-2.9396443367004395,-1.4399176836013794,9.148797035217285,-1.4399176836013794,7.7644362449646,-1.4399176836013794,-1.4399176836013794,-1.4399176836013794,-1.4399176836013794,-1.4399176836013794,0.2765538990497589,8.369471549987793,-1.9910825490951538,8.796052932739258,3.699843168258667,-5.999459266662598,7.59277868270874,-6.061797142028809,7.499772071838379,-5.007590293884277,-5.606043338775635,-4.985531330108643,-1.4399176836013794,6.168086051940918,-1.4399176836013794,-0.7881592512130737,-1.4399176836013794,7.98756217956543,-5.479320526123047,6.368125915527344,0.5232073068618774,-5.246929168701172,4.049368381500244,-5.638547420501709,3.776413679122925,-5.940935134887695,-5.898989200592041,-4.85421895980835,-1.4399176836013794,-1.4399176836013794,-1.4399176836013794,-1.4399176836013794,-1.4399176836013794,-1.4399176836013794,-1.4399176836013794,-1.4399176836013794,-1.4399176836013794,-1.4399176836013794,-1.4399176836013794,-1.4399176836013794,-1.4399176836013794,8.983877182006836,-1.4399176836013794,-1.4399176836013794,-1.4399176836013794,-0.6611970663070679,-3.860246419906616,0.42359790205955505,-1.4399176836013794,-4.143342018127441,5.646850109100342,3.3391335010528564,-1.4399176836013794,-1.4399176836013794,-1.4399176836013794,-1.4399176836013794,-1.4399176836013794,-1.4399176836013794,3.2979178428649902,-1.4399176836013794,3.0022637844085693,2.5480740070343018,-1.4399176836013794,-1.4399176836013794,8.587986946105957,-1.4399176836013794,-5.161722660064697,-1.4399176836013794,2.8119421005249023,1.0349535942077637,-1.4399176836013794,-1.4399176836013794,8.299198150634766,-1.4399176836013794,-4.406576633453369,-1.4399176836013794,-1.4399176836013794,-1.4399176836013794,-1.4399176836013794,-1.4399176836013794,-1.4399176836013794,-1.4399176836013794,-1.4399176836013794,-1.4399176836013794,5.330420017242432,6.241065979003906,2.1214137077331543,7.9273295402526855,-4.615198135375977,-3.523897647857666,2.835101842880249,9.340045928955078,-1.4399176836013794,-1.4399176836013794,-1.4399176836013794,-1.4399176836013794,-1.4399176836013794,-1.4399176836013794,-1.4399176836013794,-1.4399176836013794,-1.4399176836013794,-1.4399176836013794,-1.4399176836013794,-1.4399176836013794,-1.4399176836013794,-1.4399176836013794,-1.4399176836013794,-1.4399176836013794,-1.4399176836013794,-1.4399176836013794,-1.4399176836013794,-1.4399176836013794,-1.4399176836013794,-1.4399176836013794,7.471915245056152,-1.4399176836013794,-1.4399176836013794,-1.4399176836013794,-1.4399176836013794,-1.4399176836013794,-1.4399176836013794,-1.4399176836013794,-1.4399176836013794,-1.4399176836013794,-1.4399176836013794,-1.4399176836013794,0.8510174751281738,3.117250680923462,-4.97943115234375,-1.4399176836013794,5.55980110168457,-1.4399176836013794,8.277645111083984,8.648274421691895,-2.7563724517822266,-0.8327896595001221,-3.4285900592803955,8.93179988861084,1.2857576608657837,8.408495903015137,-1.4399176836013794,-1.4399176836013794,-1.4399176836013794,-1.4399176836013794,-2.8522214889526367,-1.4399176836013794,-1.4399176836013794,-1.4399176836013794],\"yaxis\":\"y\",\"type\":\"scatter\"}],                        {\"template\":{\"data\":{\"barpolar\":[{\"marker\":{\"line\":{\"color\":\"rgb(234,234,242)\",\"width\":0.5},\"pattern\":{\"fillmode\":\"overlay\",\"size\":10,\"solidity\":0.2}},\"type\":\"barpolar\"}],\"bar\":[{\"error_x\":{\"color\":\"rgb(36,36,36)\"},\"error_y\":{\"color\":\"rgb(36,36,36)\"},\"marker\":{\"line\":{\"color\":\"rgb(234,234,242)\",\"width\":0.5},\"pattern\":{\"fillmode\":\"overlay\",\"size\":10,\"solidity\":0.2}},\"type\":\"bar\"}],\"carpet\":[{\"aaxis\":{\"endlinecolor\":\"rgb(36,36,36)\",\"gridcolor\":\"white\",\"linecolor\":\"white\",\"minorgridcolor\":\"white\",\"startlinecolor\":\"rgb(36,36,36)\"},\"baxis\":{\"endlinecolor\":\"rgb(36,36,36)\",\"gridcolor\":\"white\",\"linecolor\":\"white\",\"minorgridcolor\":\"white\",\"startlinecolor\":\"rgb(36,36,36)\"},\"type\":\"carpet\"}],\"choropleth\":[{\"colorbar\":{\"outlinewidth\":0,\"tickcolor\":\"rgb(36,36,36)\",\"ticklen\":8,\"ticks\":\"outside\",\"tickwidth\":2},\"type\":\"choropleth\"}],\"contourcarpet\":[{\"colorbar\":{\"outlinewidth\":0,\"tickcolor\":\"rgb(36,36,36)\",\"ticklen\":8,\"ticks\":\"outside\",\"tickwidth\":2},\"type\":\"contourcarpet\"}],\"contour\":[{\"colorbar\":{\"outlinewidth\":0,\"tickcolor\":\"rgb(36,36,36)\",\"ticklen\":8,\"ticks\":\"outside\",\"tickwidth\":2},\"colorscale\":[[0.0,\"rgb(2,4,25)\"],[0.06274509803921569,\"rgb(24,15,41)\"],[0.12549019607843137,\"rgb(47,23,57)\"],[0.18823529411764706,\"rgb(71,28,72)\"],[0.25098039215686274,\"rgb(97,30,82)\"],[0.3137254901960784,\"rgb(123,30,89)\"],[0.3764705882352941,\"rgb(150,27,91)\"],[0.4392156862745098,\"rgb(177,22,88)\"],[0.5019607843137255,\"rgb(203,26,79)\"],[0.5647058823529412,\"rgb(223,47,67)\"],[0.6274509803921569,\"rgb(236,76,61)\"],[0.6901960784313725,\"rgb(242,107,73)\"],[0.7529411764705882,\"rgb(244,135,95)\"],[0.8156862745098039,\"rgb(245,162,122)\"],[0.8784313725490196,\"rgb(246,188,153)\"],[0.9411764705882353,\"rgb(247,212,187)\"],[1.0,\"rgb(250,234,220)\"]],\"type\":\"contour\"}],\"heatmapgl\":[{\"colorbar\":{\"outlinewidth\":0,\"tickcolor\":\"rgb(36,36,36)\",\"ticklen\":8,\"ticks\":\"outside\",\"tickwidth\":2},\"colorscale\":[[0.0,\"rgb(2,4,25)\"],[0.06274509803921569,\"rgb(24,15,41)\"],[0.12549019607843137,\"rgb(47,23,57)\"],[0.18823529411764706,\"rgb(71,28,72)\"],[0.25098039215686274,\"rgb(97,30,82)\"],[0.3137254901960784,\"rgb(123,30,89)\"],[0.3764705882352941,\"rgb(150,27,91)\"],[0.4392156862745098,\"rgb(177,22,88)\"],[0.5019607843137255,\"rgb(203,26,79)\"],[0.5647058823529412,\"rgb(223,47,67)\"],[0.6274509803921569,\"rgb(236,76,61)\"],[0.6901960784313725,\"rgb(242,107,73)\"],[0.7529411764705882,\"rgb(244,135,95)\"],[0.8156862745098039,\"rgb(245,162,122)\"],[0.8784313725490196,\"rgb(246,188,153)\"],[0.9411764705882353,\"rgb(247,212,187)\"],[1.0,\"rgb(250,234,220)\"]],\"type\":\"heatmapgl\"}],\"heatmap\":[{\"colorbar\":{\"outlinewidth\":0,\"tickcolor\":\"rgb(36,36,36)\",\"ticklen\":8,\"ticks\":\"outside\",\"tickwidth\":2},\"colorscale\":[[0.0,\"rgb(2,4,25)\"],[0.06274509803921569,\"rgb(24,15,41)\"],[0.12549019607843137,\"rgb(47,23,57)\"],[0.18823529411764706,\"rgb(71,28,72)\"],[0.25098039215686274,\"rgb(97,30,82)\"],[0.3137254901960784,\"rgb(123,30,89)\"],[0.3764705882352941,\"rgb(150,27,91)\"],[0.4392156862745098,\"rgb(177,22,88)\"],[0.5019607843137255,\"rgb(203,26,79)\"],[0.5647058823529412,\"rgb(223,47,67)\"],[0.6274509803921569,\"rgb(236,76,61)\"],[0.6901960784313725,\"rgb(242,107,73)\"],[0.7529411764705882,\"rgb(244,135,95)\"],[0.8156862745098039,\"rgb(245,162,122)\"],[0.8784313725490196,\"rgb(246,188,153)\"],[0.9411764705882353,\"rgb(247,212,187)\"],[1.0,\"rgb(250,234,220)\"]],\"type\":\"heatmap\"}],\"histogram2dcontour\":[{\"colorbar\":{\"outlinewidth\":0,\"tickcolor\":\"rgb(36,36,36)\",\"ticklen\":8,\"ticks\":\"outside\",\"tickwidth\":2},\"colorscale\":[[0.0,\"rgb(2,4,25)\"],[0.06274509803921569,\"rgb(24,15,41)\"],[0.12549019607843137,\"rgb(47,23,57)\"],[0.18823529411764706,\"rgb(71,28,72)\"],[0.25098039215686274,\"rgb(97,30,82)\"],[0.3137254901960784,\"rgb(123,30,89)\"],[0.3764705882352941,\"rgb(150,27,91)\"],[0.4392156862745098,\"rgb(177,22,88)\"],[0.5019607843137255,\"rgb(203,26,79)\"],[0.5647058823529412,\"rgb(223,47,67)\"],[0.6274509803921569,\"rgb(236,76,61)\"],[0.6901960784313725,\"rgb(242,107,73)\"],[0.7529411764705882,\"rgb(244,135,95)\"],[0.8156862745098039,\"rgb(245,162,122)\"],[0.8784313725490196,\"rgb(246,188,153)\"],[0.9411764705882353,\"rgb(247,212,187)\"],[1.0,\"rgb(250,234,220)\"]],\"type\":\"histogram2dcontour\"}],\"histogram2d\":[{\"colorbar\":{\"outlinewidth\":0,\"tickcolor\":\"rgb(36,36,36)\",\"ticklen\":8,\"ticks\":\"outside\",\"tickwidth\":2},\"colorscale\":[[0.0,\"rgb(2,4,25)\"],[0.06274509803921569,\"rgb(24,15,41)\"],[0.12549019607843137,\"rgb(47,23,57)\"],[0.18823529411764706,\"rgb(71,28,72)\"],[0.25098039215686274,\"rgb(97,30,82)\"],[0.3137254901960784,\"rgb(123,30,89)\"],[0.3764705882352941,\"rgb(150,27,91)\"],[0.4392156862745098,\"rgb(177,22,88)\"],[0.5019607843137255,\"rgb(203,26,79)\"],[0.5647058823529412,\"rgb(223,47,67)\"],[0.6274509803921569,\"rgb(236,76,61)\"],[0.6901960784313725,\"rgb(242,107,73)\"],[0.7529411764705882,\"rgb(244,135,95)\"],[0.8156862745098039,\"rgb(245,162,122)\"],[0.8784313725490196,\"rgb(246,188,153)\"],[0.9411764705882353,\"rgb(247,212,187)\"],[1.0,\"rgb(250,234,220)\"]],\"type\":\"histogram2d\"}],\"histogram\":[{\"marker\":{\"pattern\":{\"fillmode\":\"overlay\",\"size\":10,\"solidity\":0.2}},\"type\":\"histogram\"}],\"mesh3d\":[{\"colorbar\":{\"outlinewidth\":0,\"tickcolor\":\"rgb(36,36,36)\",\"ticklen\":8,\"ticks\":\"outside\",\"tickwidth\":2},\"type\":\"mesh3d\"}],\"parcoords\":[{\"line\":{\"colorbar\":{\"outlinewidth\":0,\"tickcolor\":\"rgb(36,36,36)\",\"ticklen\":8,\"ticks\":\"outside\",\"tickwidth\":2}},\"type\":\"parcoords\"}],\"pie\":[{\"automargin\":true,\"type\":\"pie\"}],\"scatter3d\":[{\"line\":{\"colorbar\":{\"outlinewidth\":0,\"tickcolor\":\"rgb(36,36,36)\",\"ticklen\":8,\"ticks\":\"outside\",\"tickwidth\":2}},\"marker\":{\"colorbar\":{\"outlinewidth\":0,\"tickcolor\":\"rgb(36,36,36)\",\"ticklen\":8,\"ticks\":\"outside\",\"tickwidth\":2}},\"type\":\"scatter3d\"}],\"scattercarpet\":[{\"marker\":{\"colorbar\":{\"outlinewidth\":0,\"tickcolor\":\"rgb(36,36,36)\",\"ticklen\":8,\"ticks\":\"outside\",\"tickwidth\":2}},\"type\":\"scattercarpet\"}],\"scattergeo\":[{\"marker\":{\"colorbar\":{\"outlinewidth\":0,\"tickcolor\":\"rgb(36,36,36)\",\"ticklen\":8,\"ticks\":\"outside\",\"tickwidth\":2}},\"type\":\"scattergeo\"}],\"scattergl\":[{\"marker\":{\"colorbar\":{\"outlinewidth\":0,\"tickcolor\":\"rgb(36,36,36)\",\"ticklen\":8,\"ticks\":\"outside\",\"tickwidth\":2}},\"type\":\"scattergl\"}],\"scattermapbox\":[{\"marker\":{\"colorbar\":{\"outlinewidth\":0,\"tickcolor\":\"rgb(36,36,36)\",\"ticklen\":8,\"ticks\":\"outside\",\"tickwidth\":2}},\"type\":\"scattermapbox\"}],\"scatterpolargl\":[{\"marker\":{\"colorbar\":{\"outlinewidth\":0,\"tickcolor\":\"rgb(36,36,36)\",\"ticklen\":8,\"ticks\":\"outside\",\"tickwidth\":2}},\"type\":\"scatterpolargl\"}],\"scatterpolar\":[{\"marker\":{\"colorbar\":{\"outlinewidth\":0,\"tickcolor\":\"rgb(36,36,36)\",\"ticklen\":8,\"ticks\":\"outside\",\"tickwidth\":2}},\"type\":\"scatterpolar\"}],\"scatter\":[{\"fillpattern\":{\"fillmode\":\"overlay\",\"size\":10,\"solidity\":0.2},\"type\":\"scatter\"}],\"scatterternary\":[{\"marker\":{\"colorbar\":{\"outlinewidth\":0,\"tickcolor\":\"rgb(36,36,36)\",\"ticklen\":8,\"ticks\":\"outside\",\"tickwidth\":2}},\"type\":\"scatterternary\"}],\"surface\":[{\"colorbar\":{\"outlinewidth\":0,\"tickcolor\":\"rgb(36,36,36)\",\"ticklen\":8,\"ticks\":\"outside\",\"tickwidth\":2},\"colorscale\":[[0.0,\"rgb(2,4,25)\"],[0.06274509803921569,\"rgb(24,15,41)\"],[0.12549019607843137,\"rgb(47,23,57)\"],[0.18823529411764706,\"rgb(71,28,72)\"],[0.25098039215686274,\"rgb(97,30,82)\"],[0.3137254901960784,\"rgb(123,30,89)\"],[0.3764705882352941,\"rgb(150,27,91)\"],[0.4392156862745098,\"rgb(177,22,88)\"],[0.5019607843137255,\"rgb(203,26,79)\"],[0.5647058823529412,\"rgb(223,47,67)\"],[0.6274509803921569,\"rgb(236,76,61)\"],[0.6901960784313725,\"rgb(242,107,73)\"],[0.7529411764705882,\"rgb(244,135,95)\"],[0.8156862745098039,\"rgb(245,162,122)\"],[0.8784313725490196,\"rgb(246,188,153)\"],[0.9411764705882353,\"rgb(247,212,187)\"],[1.0,\"rgb(250,234,220)\"]],\"type\":\"surface\"}],\"table\":[{\"cells\":{\"fill\":{\"color\":\"rgb(231,231,240)\"},\"line\":{\"color\":\"white\"}},\"header\":{\"fill\":{\"color\":\"rgb(183,183,191)\"},\"line\":{\"color\":\"white\"}},\"type\":\"table\"}]},\"layout\":{\"annotationdefaults\":{\"arrowcolor\":\"rgb(67,103,167)\"},\"autotypenumbers\":\"strict\",\"coloraxis\":{\"colorbar\":{\"outlinewidth\":0,\"tickcolor\":\"rgb(36,36,36)\",\"ticklen\":8,\"ticks\":\"outside\",\"tickwidth\":2}},\"colorscale\":{\"sequential\":[[0.0,\"rgb(2,4,25)\"],[0.06274509803921569,\"rgb(24,15,41)\"],[0.12549019607843137,\"rgb(47,23,57)\"],[0.18823529411764706,\"rgb(71,28,72)\"],[0.25098039215686274,\"rgb(97,30,82)\"],[0.3137254901960784,\"rgb(123,30,89)\"],[0.3764705882352941,\"rgb(150,27,91)\"],[0.4392156862745098,\"rgb(177,22,88)\"],[0.5019607843137255,\"rgb(203,26,79)\"],[0.5647058823529412,\"rgb(223,47,67)\"],[0.6274509803921569,\"rgb(236,76,61)\"],[0.6901960784313725,\"rgb(242,107,73)\"],[0.7529411764705882,\"rgb(244,135,95)\"],[0.8156862745098039,\"rgb(245,162,122)\"],[0.8784313725490196,\"rgb(246,188,153)\"],[0.9411764705882353,\"rgb(247,212,187)\"],[1.0,\"rgb(250,234,220)\"]],\"sequentialminus\":[[0.0,\"rgb(2,4,25)\"],[0.06274509803921569,\"rgb(24,15,41)\"],[0.12549019607843137,\"rgb(47,23,57)\"],[0.18823529411764706,\"rgb(71,28,72)\"],[0.25098039215686274,\"rgb(97,30,82)\"],[0.3137254901960784,\"rgb(123,30,89)\"],[0.3764705882352941,\"rgb(150,27,91)\"],[0.4392156862745098,\"rgb(177,22,88)\"],[0.5019607843137255,\"rgb(203,26,79)\"],[0.5647058823529412,\"rgb(223,47,67)\"],[0.6274509803921569,\"rgb(236,76,61)\"],[0.6901960784313725,\"rgb(242,107,73)\"],[0.7529411764705882,\"rgb(244,135,95)\"],[0.8156862745098039,\"rgb(245,162,122)\"],[0.8784313725490196,\"rgb(246,188,153)\"],[0.9411764705882353,\"rgb(247,212,187)\"],[1.0,\"rgb(250,234,220)\"]]},\"colorway\":[\"rgb(76,114,176)\",\"rgb(221,132,82)\",\"rgb(85,168,104)\",\"rgb(196,78,82)\",\"rgb(129,114,179)\",\"rgb(147,120,96)\",\"rgb(218,139,195)\",\"rgb(140,140,140)\",\"rgb(204,185,116)\",\"rgb(100,181,205)\"],\"font\":{\"color\":\"rgb(36,36,36)\"},\"geo\":{\"bgcolor\":\"white\",\"lakecolor\":\"white\",\"landcolor\":\"rgb(234,234,242)\",\"showlakes\":true,\"showland\":true,\"subunitcolor\":\"white\"},\"hoverlabel\":{\"align\":\"left\"},\"hovermode\":\"closest\",\"paper_bgcolor\":\"white\",\"plot_bgcolor\":\"rgb(234,234,242)\",\"polar\":{\"angularaxis\":{\"gridcolor\":\"white\",\"linecolor\":\"white\",\"showgrid\":true,\"ticks\":\"\"},\"bgcolor\":\"rgb(234,234,242)\",\"radialaxis\":{\"gridcolor\":\"white\",\"linecolor\":\"white\",\"showgrid\":true,\"ticks\":\"\"}},\"scene\":{\"xaxis\":{\"backgroundcolor\":\"rgb(234,234,242)\",\"gridcolor\":\"white\",\"gridwidth\":2,\"linecolor\":\"white\",\"showbackground\":true,\"showgrid\":true,\"ticks\":\"\",\"zerolinecolor\":\"white\"},\"yaxis\":{\"backgroundcolor\":\"rgb(234,234,242)\",\"gridcolor\":\"white\",\"gridwidth\":2,\"linecolor\":\"white\",\"showbackground\":true,\"showgrid\":true,\"ticks\":\"\",\"zerolinecolor\":\"white\"},\"zaxis\":{\"backgroundcolor\":\"rgb(234,234,242)\",\"gridcolor\":\"white\",\"gridwidth\":2,\"linecolor\":\"white\",\"showbackground\":true,\"showgrid\":true,\"ticks\":\"\",\"zerolinecolor\":\"white\"}},\"shapedefaults\":{\"fillcolor\":\"rgb(67,103,167)\",\"line\":{\"width\":0},\"opacity\":0.5},\"ternary\":{\"aaxis\":{\"gridcolor\":\"white\",\"linecolor\":\"white\",\"showgrid\":true,\"ticks\":\"\"},\"baxis\":{\"gridcolor\":\"white\",\"linecolor\":\"white\",\"showgrid\":true,\"ticks\":\"\"},\"bgcolor\":\"rgb(234,234,242)\",\"caxis\":{\"gridcolor\":\"white\",\"linecolor\":\"white\",\"showgrid\":true,\"ticks\":\"\"}},\"xaxis\":{\"automargin\":true,\"gridcolor\":\"white\",\"linecolor\":\"white\",\"showgrid\":true,\"ticks\":\"\",\"title\":{\"standoff\":15},\"zerolinecolor\":\"white\"},\"yaxis\":{\"automargin\":true,\"gridcolor\":\"white\",\"linecolor\":\"white\",\"showgrid\":true,\"ticks\":\"\",\"title\":{\"standoff\":15},\"zerolinecolor\":\"white\"}}},\"xaxis\":{\"anchor\":\"y\",\"domain\":[0.0,1.0],\"title\":{\"text\":\"x\"}},\"yaxis\":{\"anchor\":\"x\",\"domain\":[0.0,1.0],\"title\":{\"text\":\"y\"}},\"legend\":{\"tracegroupgap\":0},\"margin\":{\"t\":60},\"autosize\":false,\"width\":800,\"height\":800,\"title\":{\"text\":\"mbt_student_val_loss_5720.63920\"}},                        {\"responsive\": true}                    ).then(function(){\n",
       "                            \n",
       "var gd = document.getElementById('0ce44486-9056-4674-801d-256168ccf6cb');\n",
       "var x = new MutationObserver(function (mutations, observer) {{\n",
       "        var display = window.getComputedStyle(gd).display;\n",
       "        if (!display || display === 'none') {{\n",
       "            console.log([gd, 'removed!']);\n",
       "            Plotly.purge(gd);\n",
       "            observer.disconnect();\n",
       "        }}\n",
       "}});\n",
       "\n",
       "// Listen for the removal of the full notebook cells\n",
       "var notebookContainer = gd.closest('#notebook-container');\n",
       "if (notebookContainer) {{\n",
       "    x.observe(notebookContainer, {childList: true});\n",
       "}}\n",
       "\n",
       "// Listen for the clearing of the current output cell\n",
       "var outputEl = gd.closest('.output');\n",
       "if (outputEl) {{\n",
       "    x.observe(outputEl, {childList: true});\n",
       "}}\n",
       "\n",
       "                        })                };                });            </script>        </div>"
      ]
     },
     "metadata": {},
     "output_type": "display_data"
    }
   ],
   "source": [
    "plot_embeddings(embeddings_cleaned, chkpt_name)"
   ]
  },
  {
   "cell_type": "code",
   "execution_count": 8,
   "metadata": {},
   "outputs": [
    {
     "name": "stdout",
     "output_type": "stream",
     "text": [
      "Got 324 records before cleaning\n",
      "Got 321 records after cleaning\n"
     ]
    }
   ],
   "source": [
    "chkpt_name = \"experiment_35epochs/mbt_student_val_loss_2917.26574\"\n",
    "pkl_path = f\"saved_models/{chkpt_name}.pkl\"\n",
    "with open(pkl_path, \"rb\") as fh:\n",
    "    embeddings_obj = pickle.load(fh)\n",
    "\n",
    "embeddings_cleaned = clean_nans(embeddings_obj)"
   ]
  },
  {
   "cell_type": "code",
   "execution_count": 9,
   "metadata": {},
   "outputs": [
    {
     "data": {
      "application/vnd.plotly.v1+json": {
       "config": {
        "plotlyServerURL": "https://plot.ly"
       },
       "data": [
        {
         "customdata": [
          [
           "Curiosity, Uncertainty, Surprise, Disgust"
          ],
          [
           "Curiosity, Excitement, Happiness, Surprise"
          ],
          [
           "None"
          ],
          [
           "Curiosity, Uncertainty, Happiness"
          ],
          [
           "Curiosity, Excitement, Happiness, Surprise"
          ],
          [
           "Excitement, Happiness"
          ],
          [
           "Happiness, Frustration"
          ],
          [
           "None"
          ],
          [
           "Curiosity, Uncertainty, Surprise, Disgust"
          ],
          [
           "Curiosity, Excitement, Happiness, Surprise"
          ],
          [
           "None"
          ],
          [
           "Curiosity, Uncertainty, Happiness"
          ],
          [
           "Curiosity, Excitement, Happiness, Surprise"
          ],
          [
           "Excitement, Happiness"
          ],
          [
           "Happiness, Frustration"
          ],
          [
           "None"
          ],
          [
           "Curiosity, Uncertainty, Surprise, Disgust"
          ],
          [
           "Curiosity, Excitement, Happiness, Surprise"
          ],
          [
           "None"
          ],
          [
           "Curiosity, Uncertainty, Happiness"
          ],
          [
           "Curiosity, Excitement, Happiness, Surprise"
          ],
          [
           "Excitement, Happiness"
          ],
          [
           "Happiness, Frustration"
          ],
          [
           "None"
          ],
          [
           "Excitement, Happiness"
          ],
          [
           "Curiosity, Uncertainty, Excitement, Happiness"
          ],
          [
           "Excitement, Happiness"
          ],
          [
           "Uncertainty, Disgust"
          ],
          [
           "Curiosity, Excitement, Happiness, Surprise"
          ],
          [
           "Happiness"
          ],
          [
           "Excitement, Happiness"
          ],
          [
           "Excitement, Happiness"
          ],
          [
           "Excitement, Happiness"
          ],
          [
           "Curiosity, Uncertainty, Excitement, Happiness"
          ],
          [
           "Excitement, Happiness"
          ],
          [
           "Uncertainty, Disgust"
          ],
          [
           "Curiosity, Excitement, Happiness, Surprise"
          ],
          [
           "Happiness"
          ],
          [
           "Excitement, Happiness"
          ],
          [
           "Excitement, Happiness"
          ],
          [
           "Excitement, Happiness"
          ],
          [
           "Curiosity, Uncertainty, Excitement, Happiness"
          ],
          [
           "Excitement, Happiness"
          ],
          [
           "Uncertainty, Disgust"
          ],
          [
           "Curiosity, Excitement, Happiness, Surprise"
          ],
          [
           "Happiness"
          ],
          [
           "Excitement, Happiness"
          ],
          [
           "Excitement, Happiness"
          ],
          [
           "Curiosity, Uncertainty, Excitement, Surprise, Disgust"
          ],
          [
           "Uncertainty, Fear, Frustration"
          ],
          [
           "Excitement, Happiness"
          ],
          [
           "Curiosity, Uncertainty"
          ],
          [
           "Uncertainty, Happiness, Surprise"
          ],
          [
           "None"
          ],
          [
           "Curiosity, Uncertainty, Happiness, Surprise, Disgust"
          ],
          [
           "Frustration"
          ],
          [
           "Curiosity, Uncertainty, Excitement, Surprise, Disgust"
          ],
          [
           "Uncertainty, Fear, Frustration"
          ],
          [
           "Excitement, Happiness"
          ],
          [
           "Curiosity, Uncertainty"
          ],
          [
           "Uncertainty, Happiness, Surprise"
          ],
          [
           "None"
          ],
          [
           "Curiosity, Uncertainty, Happiness, Surprise, Disgust"
          ],
          [
           "Frustration"
          ],
          [
           "Curiosity, Uncertainty, Excitement, Surprise, Disgust"
          ],
          [
           "Uncertainty, Fear, Frustration"
          ],
          [
           "Excitement, Happiness"
          ],
          [
           "Curiosity, Uncertainty"
          ],
          [
           "Uncertainty, Happiness, Surprise"
          ],
          [
           "None"
          ],
          [
           "Curiosity, Uncertainty, Happiness, Surprise, Disgust"
          ],
          [
           "Frustration"
          ],
          [
           "Excitement, Happiness, Surprise"
          ],
          [
           "None"
          ],
          [
           "Uncertainty, Disgust, Fear"
          ],
          [
           "Excitement, Frustration"
          ],
          [
           "Uncertainty, Happiness"
          ],
          [
           "Curiosity, Uncertainty, Fear"
          ],
          [
           "Uncertainty, Surprise, Disgust"
          ],
          [
           "Curiosity, Uncertainty, Surprise, Fear, Frustration"
          ],
          [
           "Excitement, Happiness, Surprise"
          ],
          [
           "None"
          ],
          [
           "Uncertainty, Disgust, Fear"
          ],
          [
           "Excitement, Frustration"
          ],
          [
           "Uncertainty, Happiness"
          ],
          [
           "Curiosity, Uncertainty, Fear"
          ],
          [
           "Uncertainty, Surprise, Disgust"
          ],
          [
           "Curiosity, Uncertainty, Surprise, Fear, Frustration"
          ],
          [
           "Excitement, Happiness, Surprise"
          ],
          [
           "None"
          ],
          [
           "Uncertainty, Disgust, Fear"
          ],
          [
           "Excitement, Frustration"
          ],
          [
           "Uncertainty, Happiness"
          ],
          [
           "Curiosity, Uncertainty, Fear"
          ],
          [
           "Uncertainty, Surprise, Disgust"
          ],
          [
           "Curiosity, Uncertainty, Surprise, Fear, Frustration"
          ],
          [
           "Curiosity, Excitement, Happiness, Surprise"
          ],
          [
           "Uncertainty, Excitement"
          ],
          [
           "Curiosity, Excitement, Surprise"
          ],
          [
           "Uncertainty, Disgust, Fear"
          ],
          [
           "Curiosity, Uncertainty, Excitement, Happiness, Surprise, Frustration"
          ],
          [
           "Excitement, Happiness, Surprise"
          ],
          [
           "Curiosity, Uncertainty, Happiness, Frustration"
          ],
          [
           "Excitement, Happiness"
          ],
          [
           "Curiosity, Excitement, Happiness, Surprise"
          ],
          [
           "Uncertainty, Excitement"
          ],
          [
           "Curiosity, Excitement, Surprise"
          ],
          [
           "Uncertainty, Disgust, Fear"
          ],
          [
           "Curiosity, Uncertainty, Excitement, Happiness, Surprise, Frustration"
          ],
          [
           "Excitement, Happiness, Surprise"
          ],
          [
           "Curiosity, Uncertainty, Happiness, Frustration"
          ],
          [
           "Excitement, Happiness"
          ],
          [
           "Curiosity, Excitement, Happiness, Surprise"
          ],
          [
           "Uncertainty, Excitement"
          ],
          [
           "Curiosity, Excitement, Surprise"
          ],
          [
           "Uncertainty, Disgust, Fear"
          ],
          [
           "Curiosity, Uncertainty, Excitement, Happiness, Surprise, Frustration"
          ],
          [
           "Excitement, Happiness, Surprise"
          ],
          [
           "Curiosity, Uncertainty, Happiness, Frustration"
          ],
          [
           "Excitement, Happiness"
          ],
          [
           "Curiosity, Surprise"
          ],
          [
           "Curiosity, Uncertainty, Excitement, Happiness"
          ],
          [
           "Happiness"
          ],
          [
           "Excitement, Happiness, Disgust"
          ],
          [
           "Excitement, Happiness"
          ],
          [
           "Curiosity, Excitement"
          ],
          [
           "Curiosity"
          ],
          [
           "None"
          ],
          [
           "Curiosity, Surprise"
          ],
          [
           "Curiosity, Uncertainty, Excitement, Happiness"
          ],
          [
           "Happiness"
          ],
          [
           "Excitement, Happiness, Disgust"
          ],
          [
           "Excitement, Happiness"
          ],
          [
           "Curiosity, Excitement"
          ],
          [
           "Curiosity"
          ],
          [
           "None"
          ],
          [
           "Curiosity, Surprise"
          ],
          [
           "Curiosity, Uncertainty, Excitement, Happiness"
          ],
          [
           "Happiness"
          ],
          [
           "Excitement, Happiness, Disgust"
          ],
          [
           "Excitement, Happiness"
          ],
          [
           "Curiosity, Excitement"
          ],
          [
           "Curiosity"
          ],
          [
           "None"
          ],
          [
           "Happiness"
          ],
          [
           "Happiness"
          ],
          [
           "Curiosity, Happiness"
          ],
          [
           "Happiness"
          ],
          [
           "None"
          ],
          [
           "Surprise"
          ],
          [
           "Curiosity, Excitement, Happiness, Surprise"
          ],
          [
           "Uncertainty, Excitement, Disgust, Fear"
          ],
          [
           "Happiness"
          ],
          [
           "Happiness"
          ],
          [
           "Curiosity, Happiness"
          ],
          [
           "Happiness"
          ],
          [
           "None"
          ],
          [
           "Surprise"
          ],
          [
           "Curiosity, Excitement, Happiness, Surprise"
          ],
          [
           "Uncertainty, Excitement, Disgust, Fear"
          ],
          [
           "Happiness"
          ],
          [
           "Happiness"
          ],
          [
           "Curiosity, Happiness"
          ],
          [
           "Happiness"
          ],
          [
           "None"
          ],
          [
           "Surprise"
          ],
          [
           "Curiosity, Excitement, Happiness, Surprise"
          ],
          [
           "Uncertainty, Excitement, Disgust, Fear"
          ],
          [
           "Surprise, Disgust"
          ],
          [
           "Curiosity, Uncertainty"
          ],
          [
           "Uncertainty, Disgust, Fear"
          ],
          [
           "None"
          ],
          [
           "Uncertainty, Disgust"
          ],
          [
           "Excitement, Happiness"
          ],
          [
           "Disgust"
          ],
          [
           "None"
          ],
          [
           "Surprise, Disgust"
          ],
          [
           "Curiosity, Uncertainty"
          ],
          [
           "Uncertainty, Disgust, Fear"
          ],
          [
           "None"
          ],
          [
           "Uncertainty, Disgust"
          ],
          [
           "Excitement, Happiness"
          ],
          [
           "Disgust"
          ],
          [
           "None"
          ],
          [
           "Surprise, Disgust"
          ],
          [
           "Curiosity, Uncertainty"
          ],
          [
           "Uncertainty, Disgust, Fear"
          ],
          [
           "None"
          ],
          [
           "Uncertainty, Disgust"
          ],
          [
           "Excitement, Happiness"
          ],
          [
           "Disgust"
          ],
          [
           "None"
          ],
          [
           "Curiosity, Uncertainty, Happiness"
          ],
          [
           "Surprise, Disgust"
          ],
          [
           "Excitement, Happiness"
          ],
          [
           "Curiosity, Excitement, Happiness, Surprise"
          ],
          [
           "Curiosity, Frustration"
          ],
          [
           "Happiness"
          ],
          [
           "Curiosity, Excitement, Happiness, Surprise"
          ],
          [
           "Excitement, Happiness, Surprise"
          ],
          [
           "Curiosity, Uncertainty, Happiness"
          ],
          [
           "Surprise, Disgust"
          ],
          [
           "Excitement, Happiness"
          ],
          [
           "Curiosity, Excitement, Happiness, Surprise"
          ],
          [
           "Curiosity, Frustration"
          ],
          [
           "Happiness"
          ],
          [
           "Curiosity, Excitement, Happiness, Surprise"
          ],
          [
           "Excitement, Happiness, Surprise"
          ],
          [
           "Curiosity, Uncertainty, Happiness"
          ],
          [
           "Surprise, Disgust"
          ],
          [
           "Excitement, Happiness"
          ],
          [
           "Curiosity, Excitement, Happiness, Surprise"
          ],
          [
           "Curiosity, Frustration"
          ],
          [
           "Happiness"
          ],
          [
           "Curiosity, Excitement, Happiness, Surprise"
          ],
          [
           "Excitement, Happiness, Surprise"
          ],
          [
           "Happiness, Frustration"
          ],
          [
           "Happiness"
          ],
          [
           "Uncertainty"
          ],
          [
           "Happiness, Surprise"
          ],
          [
           "Curiosity, Uncertainty, Surprise, Frustration"
          ],
          [
           "Happiness, Disgust"
          ],
          [
           "Curiosity, Uncertainty, Happiness, Surprise"
          ],
          [
           "Curiosity, Happiness, Surprise"
          ],
          [
           "Happiness, Frustration"
          ],
          [
           "Happiness"
          ],
          [
           "Uncertainty"
          ],
          [
           "Happiness, Surprise"
          ],
          [
           "Curiosity, Uncertainty, Surprise, Frustration"
          ],
          [
           "Happiness, Disgust"
          ],
          [
           "Curiosity, Uncertainty, Happiness, Surprise"
          ],
          [
           "Curiosity, Happiness, Surprise"
          ],
          [
           "Happiness, Frustration"
          ],
          [
           "Happiness"
          ],
          [
           "Uncertainty"
          ],
          [
           "Happiness, Surprise"
          ],
          [
           "Curiosity, Uncertainty, Surprise, Frustration"
          ],
          [
           "Happiness, Disgust"
          ],
          [
           "Curiosity, Uncertainty, Happiness, Surprise"
          ],
          [
           "Curiosity, Happiness, Surprise"
          ],
          [
           "Curiosity, Excitement, Happiness"
          ],
          [
           "Curiosity, Excitement, Happiness, Surprise"
          ],
          [
           "Curiosity, Uncertainty, Fear"
          ],
          [
           "None"
          ],
          [
           "Curiosity, Uncertainty, Excitement, Happiness, Surprise, Frustration"
          ],
          [
           "Curiosity, Uncertainty"
          ],
          [
           "Curiosity, Happiness"
          ],
          [
           "Curiosity, Uncertainty"
          ],
          [
           "Curiosity, Excitement, Happiness"
          ],
          [
           "Curiosity, Excitement, Happiness, Surprise"
          ],
          [
           "Curiosity, Uncertainty, Fear"
          ],
          [
           "None"
          ],
          [
           "Curiosity, Uncertainty, Excitement, Happiness, Surprise, Frustration"
          ],
          [
           "Curiosity, Uncertainty"
          ],
          [
           "Curiosity, Happiness"
          ],
          [
           "Curiosity, Uncertainty"
          ],
          [
           "Curiosity, Excitement, Happiness"
          ],
          [
           "Curiosity, Excitement, Happiness, Surprise"
          ],
          [
           "Curiosity, Uncertainty, Fear"
          ],
          [
           "None"
          ],
          [
           "Curiosity, Uncertainty, Excitement, Happiness, Surprise, Frustration"
          ],
          [
           "Curiosity, Uncertainty"
          ],
          [
           "Curiosity, Happiness"
          ],
          [
           "Curiosity, Uncertainty"
          ],
          [
           "Disgust"
          ],
          [
           "Curiosity, Uncertainty, Excitement, Happiness, Surprise"
          ],
          [
           "Excitement, Happiness"
          ],
          [
           "Excitement, Happiness"
          ],
          [
           "Curiosity, Uncertainty, Surprise, Frustration"
          ],
          [
           "Uncertainty, Happiness"
          ],
          [
           "Uncertainty, Disgust, Fear"
          ],
          [
           "Surprise"
          ],
          [
           "Disgust"
          ],
          [
           "Curiosity, Uncertainty, Excitement, Happiness, Surprise"
          ],
          [
           "Excitement, Happiness"
          ],
          [
           "Excitement, Happiness"
          ],
          [
           "Curiosity, Uncertainty, Surprise, Frustration"
          ],
          [
           "Uncertainty, Happiness"
          ],
          [
           "Uncertainty, Disgust, Fear"
          ],
          [
           "Surprise"
          ],
          [
           "Disgust"
          ],
          [
           "Curiosity, Uncertainty, Excitement, Happiness, Surprise"
          ],
          [
           "Excitement, Happiness"
          ],
          [
           "Excitement, Happiness"
          ],
          [
           "Curiosity, Uncertainty, Surprise, Frustration"
          ],
          [
           "Uncertainty, Happiness"
          ],
          [
           "Uncertainty, Disgust, Fear"
          ],
          [
           "Surprise"
          ],
          [
           "Curiosity"
          ],
          [
           "Curiosity, Uncertainty, Happiness"
          ],
          [
           "None"
          ],
          [
           "Curiosity, Happiness"
          ],
          [
           "Curiosity, Happiness, Surprise"
          ],
          [
           "Excitement, Happiness"
          ],
          [
           "Curiosity, Excitement, Happiness, Surprise"
          ],
          [
           "Happiness"
          ],
          [
           "Curiosity"
          ],
          [
           "Curiosity, Uncertainty, Happiness"
          ],
          [
           "None"
          ],
          [
           "Curiosity, Happiness"
          ],
          [
           "Curiosity, Happiness, Surprise"
          ],
          [
           "Excitement, Happiness"
          ],
          [
           "Curiosity, Excitement, Happiness, Surprise"
          ],
          [
           "Happiness"
          ],
          [
           "Curiosity"
          ],
          [
           "Curiosity, Uncertainty, Happiness"
          ],
          [
           "None"
          ],
          [
           "Curiosity, Happiness"
          ],
          [
           "Curiosity, Happiness, Surprise"
          ],
          [
           "Excitement, Happiness"
          ],
          [
           "Curiosity, Excitement, Happiness, Surprise"
          ],
          [
           "Happiness"
          ],
          [
           "Excitement, Happiness"
          ],
          [
           "Excitement, Happiness"
          ],
          [
           "Disgust"
          ],
          [
           "Excitement, Happiness"
          ],
          [
           "Excitement, Happiness"
          ],
          [
           "Disgust"
          ],
          [
           "Excitement, Happiness"
          ],
          [
           "Excitement, Happiness"
          ],
          [
           "Disgust"
          ]
         ],
         "hovertemplate": "x=%{x}<br>y=%{y}<br>labels=%{customdata[0]}<extra></extra>",
         "legendgroup": "",
         "marker": {
          "color": "#636efa",
          "symbol": "circle"
         },
         "mode": "markers",
         "name": "",
         "orientation": "v",
         "showlegend": false,
         "type": "scatter",
         "x": [
          -62.08474349975586,
          13.146331787109375,
          -57.215145111083984,
          16.021501541137695,
          14.093619346618652,
          -51.63874435424805,
          -51.63874435424805,
          -11.103381156921387,
          3.007903575897217,
          -13.840929985046387,
          3.007903575897217,
          -9.95155143737793,
          -11.358745574951172,
          -27.969926834106445,
          -57.215145111083984,
          -42.22936248779297,
          -19.512889862060547,
          -42.22936248779297,
          -40.04496765136719,
          -40.04496765136719,
          -40.04496765136719,
          -42.22936248779297,
          -40.04496765136719,
          -40.04496765136719,
          16.535737991333008,
          6.000438690185547,
          11.990456581115723,
          17.22846221923828,
          14.716583251953125,
          6.268179893493652,
          1.0011235475540161,
          14.684754371643066,
          -40.04496765136719,
          -40.04496765136719,
          -40.04496765136719,
          -40.04496765136719,
          -40.04496765136719,
          -40.04496765136719,
          -40.04496765136719,
          -40.04496765136719,
          -9.96673583984375,
          -40.04496765136719,
          -40.04496765136719,
          -9.499485969543457,
          -13.356695175170898,
          -40.04496765136719,
          -40.04496765136719,
          -13.322257041931152,
          12.804423332214355,
          2.8733901977539062,
          23.788061141967773,
          7.098896503448486,
          2.704566478729248,
          3.2423853874206543,
          2.4556009769439697,
          12.618193626403809,
          -13.521696090698242,
          -40.04496765136719,
          18.312002182006836,
          -40.04496765136719,
          -40.04496765136719,
          -40.04496765136719,
          -40.04496765136719,
          -13.539445877075195,
          -10.92105484008789,
          -40.04496765136719,
          19.019126892089844,
          -40.04496765136719,
          -40.04496765136719,
          -40.04496765136719,
          -40.04496765136719,
          -11.346443176269531,
          3.51236891746521,
          8.995306968688965,
          2.169455051422119,
          3.0351665019989014,
          20.301271438598633,
          13.172882080078125,
          2.4255638122558594,
          18.84035873413086,
          -10.686258316040039,
          -5.985584259033203,
          -11.69092082977295,
          -10.68138599395752,
          12.5994873046875,
          -1.4996589422225952,
          -11.02800178527832,
          9.65996265411377,
          0.06606990098953247,
          8.285161972045898,
          -1.070480465888977,
          0.46834081411361694,
          19.595260620117188,
          12.496381759643555,
          -0.8558216691017151,
          17.96293830871582,
          -40.04496765136719,
          -57.215145111083984,
          -57.215145111083984,
          -40.04496765136719,
          -57.215145111083984,
          24.00086784362793,
          23.19512939453125,
          -51.63874435424805,
          0.2065662443637848,
          3.933861017227173,
          6.610727787017822,
          13.96374797821045,
          11.393403053283691,
          24.21579933166504,
          13.439684867858887,
          11.39013385772705,
          -40.04496765136719,
          -40.04496765136719,
          -40.04496765136719,
          -11.957387924194336,
          -14.290432929992676,
          24.02993392944336,
          -11.843171119689941,
          -14.160655975341797,
          -10.284777641296387,
          -40.04496765136719,
          -40.04496765136719,
          -40.04496765136719,
          -40.04496765136719,
          -2.4589643478393555,
          -40.04496765136719,
          -40.04496765136719,
          21.649507522583008,
          5.49068021774292,
          -11.570152282714844,
          15.779718399047852,
          -0.6464589834213257,
          14.412798881530762,
          -6.176887035369873,
          -0.35235729813575745,
          23.50458526611328,
          12.43533706665039,
          -5.071000576019287,
          20.184890747070312,
          10.133410453796387,
          19.34723472595215,
          3.9809463024139404,
          10.55897331237793,
          -9.38711166381836,
          8.876097679138184,
          8.718509674072266,
          21.48295021057129,
          8.156020164489746,
          5.784837245941162,
          -11.33343505859375,
          19.110641479492188,
          -42.22936248779297,
          -9.748684883117676,
          -10.221893310546875,
          13.652843475341797,
          -10.106969833374023,
          -13.781106948852539,
          -10.540112495422363,
          6.56099271774292,
          6.807564735412598,
          18.77094841003418,
          18.829792022705078,
          23.805614471435547,
          18.640207290649414,
          16.909822463989258,
          3.2907052040100098,
          22.887714385986328,
          -11.043181419372559,
          -27.969926834106445,
          -40.04496765136719,
          -51.63874435424805,
          -27.969926834106445,
          -57.215145111083984,
          -51.63874435424805,
          -51.63874435424805,
          23.97821807861328,
          -2.0604817867279053,
          -1.3299816846847534,
          15.7507963180542,
          -4.4456892013549805,
          5.697362422943115,
          5.102466583251953,
          -0.4549338221549988,
          -12.13351058959961,
          -57.215145111083984,
          -51.63874435424805,
          -57.215145111083984,
          -51.63874435424805,
          -57.215145111083984,
          -57.215145111083984,
          -57.215145111083984,
          -57.215145111083984,
          -14.344257354736328,
          -57.215145111083984,
          -13.91325855255127,
          -57.215145111083984,
          -57.215145111083984,
          -57.215145111083984,
          -12.189765930175781,
          -10.875482559204102,
          0.30761706829071045,
          -57.215145111083984,
          0.46996086835861206,
          -57.215145111083984,
          -57.215145111083984,
          -8.555122375488281,
          5.505191802978516,
          -13.791708946228027,
          -1.8804781436920166,
          -57.215145111083984,
          -0.9435737133026123,
          -57.215145111083984,
          -57.215145111083984,
          -9.663705825805664,
          1.921549916267395,
          -8.208417892456055,
          9.735275268554688,
          -8.258559226989746,
          0.48979079723358154,
          -14.204843521118164,
          16.79928970336914,
          -5.504146575927734,
          12.278355598449707,
          7.319664478302002,
          19.16472816467285,
          7.615621089935303,
          15.20678424835205,
          -1.6547743082046509,
          22.180482864379883,
          11.257806777954102,
          20.20719337463379,
          -57.215145111083984,
          -8.698748588562012,
          -57.215145111083984,
          -14.506046295166016,
          -57.215145111083984,
          1.0155171155929565,
          -57.215145111083984,
          -6.07744836807251,
          -57.215145111083984,
          -0.5711320638656616,
          -57.215145111083984,
          -57.215145111083984,
          -57.215145111083984,
          -10.540112495422363,
          -10.540112495422363,
          -10.540112495422363,
          0.9985357522964478,
          19.886945724487305,
          -8.542150497436523,
          -10.540112495422363,
          -11.567062377929688,
          -7.929958820343018,
          -10.540112495422363,
          -2.8104469776153564,
          -0.415332168340683,
          20.127660751342773,
          -9.514272689819336,
          -10.540112495422363,
          -12.259538650512695,
          -9.375384330749512,
          -10.540112495422363,
          -3.9630563259124756,
          -1.519502878189087,
          21.290029525756836,
          -5.267031192779541,
          -5.605027675628662,
          23.954326629638672,
          15.275416374206543,
          -7.927460670471191,
          23.50770378112793,
          -0.49130719900131226,
          20.969575881958008,
          -4.336874008178711,
          -4.847356796264648,
          23.85645866394043,
          15.156020164489746,
          -6.685702323913574,
          23.65956687927246,
          7.572611331939697,
          22.112253189086914,
          2.253028631210327,
          1.99276602268219,
          23.701223373413086,
          18.346412658691406,
          -2.758401393890381,
          23.323760986328125,
          17.033550262451172,
          2.371591329574585,
          19.628849029541016,
          11.93617057800293,
          6.688143730163574,
          1.679917573928833,
          17.998117446899414,
          -3.6708786487579346,
          20.61415672302246,
          10.82030963897705,
          21.95366668701172,
          17.671403884887695,
          13.231731414794922,
          10.73996353149414,
          20.97985076904297,
          6.738395690917969,
          -10.540112495422363,
          -10.540112495422363,
          -10.540112495422363,
          -10.540112495422363,
          -10.540112495422363,
          -10.540112495422363,
          -10.540112495422363,
          -10.540112495422363,
          -6.353501319885254,
          -44.5528450012207,
          -14.374105453491211,
          9.291420936584473,
          -5.2471923828125,
          -1.8583519458770752,
          -7.106197357177734,
          -44.55068588256836,
          -14.414999961853027
         ],
         "xaxis": "x",
         "y": [
          -21.79957389831543,
          2.0910911560058594,
          10.960336685180664,
          1.8017535209655762,
          1.889426350593567,
          41.84271240234375,
          41.84271240234375,
          53.394962310791016,
          -40.692848205566406,
          -6.555903434753418,
          -40.692848205566406,
          -3.564363718032837,
          -4.412734031677246,
          45.8354606628418,
          10.960336685180664,
          -19.842613220214844,
          34.460411071777344,
          -19.842613220214844,
          19.768173217773438,
          19.768173217773438,
          19.768173217773438,
          -19.842613220214844,
          19.768173217773438,
          19.768173217773438,
          1.772611379623413,
          1.7005008459091187,
          1.9151569604873657,
          1.7377787828445435,
          1.8661561012268066,
          1.7549303770065308,
          0.8478147387504578,
          1.8653024435043335,
          19.768173217773438,
          19.768173217773438,
          19.768173217773438,
          19.768173217773438,
          19.768173217773438,
          19.768173217773438,
          19.768173217773438,
          19.768173217773438,
          -4.232703685760498,
          19.768173217773438,
          19.768173217773438,
          -3.5200212001800537,
          -5.990703105926514,
          19.768173217773438,
          19.768173217773438,
          -5.97130012512207,
          1.699377417564392,
          1.3934844732284546,
          0.9458235502243042,
          1.808308482170105,
          1.0705115795135498,
          1.4165475368499756,
          0.9778860807418823,
          1.6914899349212646,
          -6.223670959472656,
          19.768173217773438,
          1.814613938331604,
          19.768173217773438,
          19.768173217773438,
          19.768173217773438,
          19.768173217773438,
          -6.308866024017334,
          -4.185421943664551,
          19.768173217773438,
          1.381606936454773,
          19.768173217773438,
          19.768173217773438,
          19.768173217773438,
          19.768173217773438,
          -4.412265300750732,
          1.3559925556182861,
          1.8849486112594604,
          0.901989221572876,
          1.1707916259765625,
          1.710910439491272,
          2.084442377090454,
          1.4439760446548462,
          1.3863459825515747,
          -4.5764479637146,
          -1.8202928304672241,
          -4.674188137054443,
          -4.172059059143066,
          2.12420654296875,
          -0.14578759670257568,
          -4.883335113525391,
          1.9043596982955933,
          0.4286024272441864,
          1.859938144683838,
          0.4295923113822937,
          0.5216937065124512,
          1.7791180610656738,
          2.1083405017852783,
          0.6236860156059265,
          1.6898607015609741,
          19.768173217773438,
          10.960336685180664,
          10.960336685180664,
          19.768173217773438,
          10.960336685180664,
          1.0626978874206543,
          55.135894775390625,
          41.84271240234375,
          0.918189287185669,
          1.437589406967163,
          1.6604039669036865,
          1.8934975862503052,
          1.933590054512024,
          1.23013436794281,
          1.809031367301941,
          1.9337745904922485,
          19.768173217773438,
          19.768173217773438,
          19.768173217773438,
          -4.924696445465088,
          -6.6579976081848145,
          1.4197911024093628,
          -5.21725606918335,
          -6.666924476623535,
          -3.8737268447875977,
          19.768173217773438,
          19.768173217773438,
          19.768173217773438,
          19.768173217773438,
          44.208133697509766,
          19.768173217773438,
          19.768173217773438,
          1.4605913162231445,
          1.6384742259979248,
          -5.152004718780518,
          1.8140742778778076,
          0.703161895275116,
          1.8804653882980347,
          -1.9148768186569214,
          0.71822589635849,
          1.075744867324829,
          2.087834119796753,
          -1.3789646625518799,
          1.3429371118545532,
          1.914912223815918,
          1.3859549760818481,
          1.4452040195465088,
          1.9164584875106812,
          -3.807539701461792,
          1.8838186264038086,
          1.878312587738037,
          1.4798108339309692,
          1.8595223426818848,
          1.6864659786224365,
          -5.087006092071533,
          1.8952383995056152,
          -19.842613220214844,
          -4.075610637664795,
          -3.868149518966675,
          1.9487173557281494,
          -4.281533241271973,
          -5.961996555328369,
          -65.35861206054688,
          1.981242060661316,
          1.9136635065078735,
          1.4097414016723633,
          1.8794130086898804,
          0.9512608051300049,
          1.8699085712432861,
          1.7523256540298462,
          1.2955360412597656,
          1.3509708642959595,
          -4.907903671264648,
          45.8354606628418,
          19.768173217773438,
          41.84271240234375,
          45.8354606628418,
          10.960336685180664,
          41.84271240234375,
          41.84271240234375,
          1.035805583000183,
          -0.0705295130610466,
          0.4343166947364807,
          1.8138320446014404,
          -1.0930484533309937,
          1.6821023225784302,
          1.6039557456970215,
          0.6937186121940613,
          -5.19260311126709,
          10.960336685180664,
          41.84271240234375,
          10.960336685180664,
          41.84271240234375,
          10.960336685180664,
          10.960336685180664,
          10.960336685180664,
          10.960336685180664,
          -6.503103733062744,
          10.960336685180664,
          -6.617005825042725,
          10.960336685180664,
          10.960336685180664,
          10.960336685180664,
          -5.2785234451293945,
          -4.754199981689453,
          0.5019291639328003,
          10.960336685180664,
          0.809105396270752,
          10.960336685180664,
          10.960336685180664,
          -3.1576883792877197,
          1.6446537971496582,
          -5.984943866729736,
          -0.05898680165410042,
          10.960336685180664,
          0.049392230808734894,
          10.960336685180664,
          10.960336685180664,
          -3.5397634506225586,
          1.1180142164230347,
          -2.9793663024902344,
          1.9060161113739014,
          -3.0085675716400146,
          0.8272925019264221,
          -6.208916664123535,
          1.7599503993988037,
          -1.5833873748779297,
          1.7316557168960571,
          1.8214739561080933,
          1.8557143211364746,
          1.8090134859085083,
          1.8434460163116455,
          0.22293268144130707,
          1.4244996309280396,
          1.9206819534301758,
          1.3440090417861938,
          10.960336685180664,
          -3.244493246078491,
          10.960336685180664,
          -6.636172771453857,
          10.960336685180664,
          0.8381415009498596,
          10.960336685180664,
          -1.8650426864624023,
          10.960336685180664,
          0.1388207972049713,
          10.960336685180664,
          10.960336685180664,
          10.960336685180664,
          -65.35861206054688,
          -65.35861206054688,
          -65.35861206054688,
          0.8378722071647644,
          1.7485319375991821,
          -3.15769362449646,
          -65.35861206054688,
          -4.553323745727539,
          -2.8238203525543213,
          -65.35861206054688,
          -0.3970702290534973,
          0.20129790902137756,
          1.761167049407959,
          -3.933321952819824,
          -65.35861206054688,
          -5.333559036254883,
          -3.5840232372283936,
          -65.35861206054688,
          -0.8809694051742554,
          -0.13147421181201935,
          1.4816033840179443,
          -1.4711602926254272,
          -1.6310505867004395,
          1.4900920391082764,
          1.8390748500823975,
          -2.822214126586914,
          1.0722708702087402,
          0.17600679397583008,
          1.4995793104171753,
          -1.0468013286590576,
          -1.2755258083343506,
          1.5351775884628296,
          1.8464930057525635,
          -2.1779298782348633,
          1.5377510786056519,
          1.827683687210083,
          1.4281160831451416,
          0.9391215443611145,
          1.2669825553894043,
          1.546080470085144,
          1.4897202253341675,
          -0.3735297918319702,
          1.3482964038848877,
          1.7435435056686401,
          1.4288429021835327,
          1.349065899848938,
          1.9609256982803345,
          1.6656270027160645,
          1.0703389644622803,
          1.6644155979156494,
          -0.7541625499725342,
          1.5389928817749023,
          1.9249821901321411,
          1.4374608993530273,
          1.7156578302383423,
          1.7496187686920166,
          1.9241971969604492,
          1.523808240890503,
          1.64628267288208,
          -65.35861206054688,
          -65.35861206054688,
          -65.35861206054688,
          -65.35861206054688,
          -65.35861206054688,
          -65.35861206054688,
          -65.35861206054688,
          -65.35861206054688,
          -2.0030159950256348,
          17.551496505737305,
          -6.3141632080078125,
          1.8956316709518433,
          -1.4605523347854614,
          0.2549457252025604,
          -2.3945436477661133,
          17.551103591918945,
          -6.520511627197266
         ],
         "yaxis": "y"
        }
       ],
       "layout": {
        "autosize": false,
        "height": 800,
        "legend": {
         "tracegroupgap": 0
        },
        "margin": {
         "t": 60
        },
        "template": {
         "data": {
          "bar": [
           {
            "error_x": {
             "color": "rgb(36,36,36)"
            },
            "error_y": {
             "color": "rgb(36,36,36)"
            },
            "marker": {
             "line": {
              "color": "rgb(234,234,242)",
              "width": 0.5
             },
             "pattern": {
              "fillmode": "overlay",
              "size": 10,
              "solidity": 0.2
             }
            },
            "type": "bar"
           }
          ],
          "barpolar": [
           {
            "marker": {
             "line": {
              "color": "rgb(234,234,242)",
              "width": 0.5
             },
             "pattern": {
              "fillmode": "overlay",
              "size": 10,
              "solidity": 0.2
             }
            },
            "type": "barpolar"
           }
          ],
          "carpet": [
           {
            "aaxis": {
             "endlinecolor": "rgb(36,36,36)",
             "gridcolor": "white",
             "linecolor": "white",
             "minorgridcolor": "white",
             "startlinecolor": "rgb(36,36,36)"
            },
            "baxis": {
             "endlinecolor": "rgb(36,36,36)",
             "gridcolor": "white",
             "linecolor": "white",
             "minorgridcolor": "white",
             "startlinecolor": "rgb(36,36,36)"
            },
            "type": "carpet"
           }
          ],
          "choropleth": [
           {
            "colorbar": {
             "outlinewidth": 0,
             "tickcolor": "rgb(36,36,36)",
             "ticklen": 8,
             "ticks": "outside",
             "tickwidth": 2
            },
            "type": "choropleth"
           }
          ],
          "contour": [
           {
            "colorbar": {
             "outlinewidth": 0,
             "tickcolor": "rgb(36,36,36)",
             "ticklen": 8,
             "ticks": "outside",
             "tickwidth": 2
            },
            "colorscale": [
             [
              0,
              "rgb(2,4,25)"
             ],
             [
              0.06274509803921569,
              "rgb(24,15,41)"
             ],
             [
              0.12549019607843137,
              "rgb(47,23,57)"
             ],
             [
              0.18823529411764706,
              "rgb(71,28,72)"
             ],
             [
              0.25098039215686274,
              "rgb(97,30,82)"
             ],
             [
              0.3137254901960784,
              "rgb(123,30,89)"
             ],
             [
              0.3764705882352941,
              "rgb(150,27,91)"
             ],
             [
              0.4392156862745098,
              "rgb(177,22,88)"
             ],
             [
              0.5019607843137255,
              "rgb(203,26,79)"
             ],
             [
              0.5647058823529412,
              "rgb(223,47,67)"
             ],
             [
              0.6274509803921569,
              "rgb(236,76,61)"
             ],
             [
              0.6901960784313725,
              "rgb(242,107,73)"
             ],
             [
              0.7529411764705882,
              "rgb(244,135,95)"
             ],
             [
              0.8156862745098039,
              "rgb(245,162,122)"
             ],
             [
              0.8784313725490196,
              "rgb(246,188,153)"
             ],
             [
              0.9411764705882353,
              "rgb(247,212,187)"
             ],
             [
              1,
              "rgb(250,234,220)"
             ]
            ],
            "type": "contour"
           }
          ],
          "contourcarpet": [
           {
            "colorbar": {
             "outlinewidth": 0,
             "tickcolor": "rgb(36,36,36)",
             "ticklen": 8,
             "ticks": "outside",
             "tickwidth": 2
            },
            "type": "contourcarpet"
           }
          ],
          "heatmap": [
           {
            "colorbar": {
             "outlinewidth": 0,
             "tickcolor": "rgb(36,36,36)",
             "ticklen": 8,
             "ticks": "outside",
             "tickwidth": 2
            },
            "colorscale": [
             [
              0,
              "rgb(2,4,25)"
             ],
             [
              0.06274509803921569,
              "rgb(24,15,41)"
             ],
             [
              0.12549019607843137,
              "rgb(47,23,57)"
             ],
             [
              0.18823529411764706,
              "rgb(71,28,72)"
             ],
             [
              0.25098039215686274,
              "rgb(97,30,82)"
             ],
             [
              0.3137254901960784,
              "rgb(123,30,89)"
             ],
             [
              0.3764705882352941,
              "rgb(150,27,91)"
             ],
             [
              0.4392156862745098,
              "rgb(177,22,88)"
             ],
             [
              0.5019607843137255,
              "rgb(203,26,79)"
             ],
             [
              0.5647058823529412,
              "rgb(223,47,67)"
             ],
             [
              0.6274509803921569,
              "rgb(236,76,61)"
             ],
             [
              0.6901960784313725,
              "rgb(242,107,73)"
             ],
             [
              0.7529411764705882,
              "rgb(244,135,95)"
             ],
             [
              0.8156862745098039,
              "rgb(245,162,122)"
             ],
             [
              0.8784313725490196,
              "rgb(246,188,153)"
             ],
             [
              0.9411764705882353,
              "rgb(247,212,187)"
             ],
             [
              1,
              "rgb(250,234,220)"
             ]
            ],
            "type": "heatmap"
           }
          ],
          "heatmapgl": [
           {
            "colorbar": {
             "outlinewidth": 0,
             "tickcolor": "rgb(36,36,36)",
             "ticklen": 8,
             "ticks": "outside",
             "tickwidth": 2
            },
            "colorscale": [
             [
              0,
              "rgb(2,4,25)"
             ],
             [
              0.06274509803921569,
              "rgb(24,15,41)"
             ],
             [
              0.12549019607843137,
              "rgb(47,23,57)"
             ],
             [
              0.18823529411764706,
              "rgb(71,28,72)"
             ],
             [
              0.25098039215686274,
              "rgb(97,30,82)"
             ],
             [
              0.3137254901960784,
              "rgb(123,30,89)"
             ],
             [
              0.3764705882352941,
              "rgb(150,27,91)"
             ],
             [
              0.4392156862745098,
              "rgb(177,22,88)"
             ],
             [
              0.5019607843137255,
              "rgb(203,26,79)"
             ],
             [
              0.5647058823529412,
              "rgb(223,47,67)"
             ],
             [
              0.6274509803921569,
              "rgb(236,76,61)"
             ],
             [
              0.6901960784313725,
              "rgb(242,107,73)"
             ],
             [
              0.7529411764705882,
              "rgb(244,135,95)"
             ],
             [
              0.8156862745098039,
              "rgb(245,162,122)"
             ],
             [
              0.8784313725490196,
              "rgb(246,188,153)"
             ],
             [
              0.9411764705882353,
              "rgb(247,212,187)"
             ],
             [
              1,
              "rgb(250,234,220)"
             ]
            ],
            "type": "heatmapgl"
           }
          ],
          "histogram": [
           {
            "marker": {
             "pattern": {
              "fillmode": "overlay",
              "size": 10,
              "solidity": 0.2
             }
            },
            "type": "histogram"
           }
          ],
          "histogram2d": [
           {
            "colorbar": {
             "outlinewidth": 0,
             "tickcolor": "rgb(36,36,36)",
             "ticklen": 8,
             "ticks": "outside",
             "tickwidth": 2
            },
            "colorscale": [
             [
              0,
              "rgb(2,4,25)"
             ],
             [
              0.06274509803921569,
              "rgb(24,15,41)"
             ],
             [
              0.12549019607843137,
              "rgb(47,23,57)"
             ],
             [
              0.18823529411764706,
              "rgb(71,28,72)"
             ],
             [
              0.25098039215686274,
              "rgb(97,30,82)"
             ],
             [
              0.3137254901960784,
              "rgb(123,30,89)"
             ],
             [
              0.3764705882352941,
              "rgb(150,27,91)"
             ],
             [
              0.4392156862745098,
              "rgb(177,22,88)"
             ],
             [
              0.5019607843137255,
              "rgb(203,26,79)"
             ],
             [
              0.5647058823529412,
              "rgb(223,47,67)"
             ],
             [
              0.6274509803921569,
              "rgb(236,76,61)"
             ],
             [
              0.6901960784313725,
              "rgb(242,107,73)"
             ],
             [
              0.7529411764705882,
              "rgb(244,135,95)"
             ],
             [
              0.8156862745098039,
              "rgb(245,162,122)"
             ],
             [
              0.8784313725490196,
              "rgb(246,188,153)"
             ],
             [
              0.9411764705882353,
              "rgb(247,212,187)"
             ],
             [
              1,
              "rgb(250,234,220)"
             ]
            ],
            "type": "histogram2d"
           }
          ],
          "histogram2dcontour": [
           {
            "colorbar": {
             "outlinewidth": 0,
             "tickcolor": "rgb(36,36,36)",
             "ticklen": 8,
             "ticks": "outside",
             "tickwidth": 2
            },
            "colorscale": [
             [
              0,
              "rgb(2,4,25)"
             ],
             [
              0.06274509803921569,
              "rgb(24,15,41)"
             ],
             [
              0.12549019607843137,
              "rgb(47,23,57)"
             ],
             [
              0.18823529411764706,
              "rgb(71,28,72)"
             ],
             [
              0.25098039215686274,
              "rgb(97,30,82)"
             ],
             [
              0.3137254901960784,
              "rgb(123,30,89)"
             ],
             [
              0.3764705882352941,
              "rgb(150,27,91)"
             ],
             [
              0.4392156862745098,
              "rgb(177,22,88)"
             ],
             [
              0.5019607843137255,
              "rgb(203,26,79)"
             ],
             [
              0.5647058823529412,
              "rgb(223,47,67)"
             ],
             [
              0.6274509803921569,
              "rgb(236,76,61)"
             ],
             [
              0.6901960784313725,
              "rgb(242,107,73)"
             ],
             [
              0.7529411764705882,
              "rgb(244,135,95)"
             ],
             [
              0.8156862745098039,
              "rgb(245,162,122)"
             ],
             [
              0.8784313725490196,
              "rgb(246,188,153)"
             ],
             [
              0.9411764705882353,
              "rgb(247,212,187)"
             ],
             [
              1,
              "rgb(250,234,220)"
             ]
            ],
            "type": "histogram2dcontour"
           }
          ],
          "mesh3d": [
           {
            "colorbar": {
             "outlinewidth": 0,
             "tickcolor": "rgb(36,36,36)",
             "ticklen": 8,
             "ticks": "outside",
             "tickwidth": 2
            },
            "type": "mesh3d"
           }
          ],
          "parcoords": [
           {
            "line": {
             "colorbar": {
              "outlinewidth": 0,
              "tickcolor": "rgb(36,36,36)",
              "ticklen": 8,
              "ticks": "outside",
              "tickwidth": 2
             }
            },
            "type": "parcoords"
           }
          ],
          "pie": [
           {
            "automargin": true,
            "type": "pie"
           }
          ],
          "scatter": [
           {
            "fillpattern": {
             "fillmode": "overlay",
             "size": 10,
             "solidity": 0.2
            },
            "type": "scatter"
           }
          ],
          "scatter3d": [
           {
            "line": {
             "colorbar": {
              "outlinewidth": 0,
              "tickcolor": "rgb(36,36,36)",
              "ticklen": 8,
              "ticks": "outside",
              "tickwidth": 2
             }
            },
            "marker": {
             "colorbar": {
              "outlinewidth": 0,
              "tickcolor": "rgb(36,36,36)",
              "ticklen": 8,
              "ticks": "outside",
              "tickwidth": 2
             }
            },
            "type": "scatter3d"
           }
          ],
          "scattercarpet": [
           {
            "marker": {
             "colorbar": {
              "outlinewidth": 0,
              "tickcolor": "rgb(36,36,36)",
              "ticklen": 8,
              "ticks": "outside",
              "tickwidth": 2
             }
            },
            "type": "scattercarpet"
           }
          ],
          "scattergeo": [
           {
            "marker": {
             "colorbar": {
              "outlinewidth": 0,
              "tickcolor": "rgb(36,36,36)",
              "ticklen": 8,
              "ticks": "outside",
              "tickwidth": 2
             }
            },
            "type": "scattergeo"
           }
          ],
          "scattergl": [
           {
            "marker": {
             "colorbar": {
              "outlinewidth": 0,
              "tickcolor": "rgb(36,36,36)",
              "ticklen": 8,
              "ticks": "outside",
              "tickwidth": 2
             }
            },
            "type": "scattergl"
           }
          ],
          "scattermapbox": [
           {
            "marker": {
             "colorbar": {
              "outlinewidth": 0,
              "tickcolor": "rgb(36,36,36)",
              "ticklen": 8,
              "ticks": "outside",
              "tickwidth": 2
             }
            },
            "type": "scattermapbox"
           }
          ],
          "scatterpolar": [
           {
            "marker": {
             "colorbar": {
              "outlinewidth": 0,
              "tickcolor": "rgb(36,36,36)",
              "ticklen": 8,
              "ticks": "outside",
              "tickwidth": 2
             }
            },
            "type": "scatterpolar"
           }
          ],
          "scatterpolargl": [
           {
            "marker": {
             "colorbar": {
              "outlinewidth": 0,
              "tickcolor": "rgb(36,36,36)",
              "ticklen": 8,
              "ticks": "outside",
              "tickwidth": 2
             }
            },
            "type": "scatterpolargl"
           }
          ],
          "scatterternary": [
           {
            "marker": {
             "colorbar": {
              "outlinewidth": 0,
              "tickcolor": "rgb(36,36,36)",
              "ticklen": 8,
              "ticks": "outside",
              "tickwidth": 2
             }
            },
            "type": "scatterternary"
           }
          ],
          "surface": [
           {
            "colorbar": {
             "outlinewidth": 0,
             "tickcolor": "rgb(36,36,36)",
             "ticklen": 8,
             "ticks": "outside",
             "tickwidth": 2
            },
            "colorscale": [
             [
              0,
              "rgb(2,4,25)"
             ],
             [
              0.06274509803921569,
              "rgb(24,15,41)"
             ],
             [
              0.12549019607843137,
              "rgb(47,23,57)"
             ],
             [
              0.18823529411764706,
              "rgb(71,28,72)"
             ],
             [
              0.25098039215686274,
              "rgb(97,30,82)"
             ],
             [
              0.3137254901960784,
              "rgb(123,30,89)"
             ],
             [
              0.3764705882352941,
              "rgb(150,27,91)"
             ],
             [
              0.4392156862745098,
              "rgb(177,22,88)"
             ],
             [
              0.5019607843137255,
              "rgb(203,26,79)"
             ],
             [
              0.5647058823529412,
              "rgb(223,47,67)"
             ],
             [
              0.6274509803921569,
              "rgb(236,76,61)"
             ],
             [
              0.6901960784313725,
              "rgb(242,107,73)"
             ],
             [
              0.7529411764705882,
              "rgb(244,135,95)"
             ],
             [
              0.8156862745098039,
              "rgb(245,162,122)"
             ],
             [
              0.8784313725490196,
              "rgb(246,188,153)"
             ],
             [
              0.9411764705882353,
              "rgb(247,212,187)"
             ],
             [
              1,
              "rgb(250,234,220)"
             ]
            ],
            "type": "surface"
           }
          ],
          "table": [
           {
            "cells": {
             "fill": {
              "color": "rgb(231,231,240)"
             },
             "line": {
              "color": "white"
             }
            },
            "header": {
             "fill": {
              "color": "rgb(183,183,191)"
             },
             "line": {
              "color": "white"
             }
            },
            "type": "table"
           }
          ]
         },
         "layout": {
          "annotationdefaults": {
           "arrowcolor": "rgb(67,103,167)"
          },
          "autotypenumbers": "strict",
          "coloraxis": {
           "colorbar": {
            "outlinewidth": 0,
            "tickcolor": "rgb(36,36,36)",
            "ticklen": 8,
            "ticks": "outside",
            "tickwidth": 2
           }
          },
          "colorscale": {
           "sequential": [
            [
             0,
             "rgb(2,4,25)"
            ],
            [
             0.06274509803921569,
             "rgb(24,15,41)"
            ],
            [
             0.12549019607843137,
             "rgb(47,23,57)"
            ],
            [
             0.18823529411764706,
             "rgb(71,28,72)"
            ],
            [
             0.25098039215686274,
             "rgb(97,30,82)"
            ],
            [
             0.3137254901960784,
             "rgb(123,30,89)"
            ],
            [
             0.3764705882352941,
             "rgb(150,27,91)"
            ],
            [
             0.4392156862745098,
             "rgb(177,22,88)"
            ],
            [
             0.5019607843137255,
             "rgb(203,26,79)"
            ],
            [
             0.5647058823529412,
             "rgb(223,47,67)"
            ],
            [
             0.6274509803921569,
             "rgb(236,76,61)"
            ],
            [
             0.6901960784313725,
             "rgb(242,107,73)"
            ],
            [
             0.7529411764705882,
             "rgb(244,135,95)"
            ],
            [
             0.8156862745098039,
             "rgb(245,162,122)"
            ],
            [
             0.8784313725490196,
             "rgb(246,188,153)"
            ],
            [
             0.9411764705882353,
             "rgb(247,212,187)"
            ],
            [
             1,
             "rgb(250,234,220)"
            ]
           ],
           "sequentialminus": [
            [
             0,
             "rgb(2,4,25)"
            ],
            [
             0.06274509803921569,
             "rgb(24,15,41)"
            ],
            [
             0.12549019607843137,
             "rgb(47,23,57)"
            ],
            [
             0.18823529411764706,
             "rgb(71,28,72)"
            ],
            [
             0.25098039215686274,
             "rgb(97,30,82)"
            ],
            [
             0.3137254901960784,
             "rgb(123,30,89)"
            ],
            [
             0.3764705882352941,
             "rgb(150,27,91)"
            ],
            [
             0.4392156862745098,
             "rgb(177,22,88)"
            ],
            [
             0.5019607843137255,
             "rgb(203,26,79)"
            ],
            [
             0.5647058823529412,
             "rgb(223,47,67)"
            ],
            [
             0.6274509803921569,
             "rgb(236,76,61)"
            ],
            [
             0.6901960784313725,
             "rgb(242,107,73)"
            ],
            [
             0.7529411764705882,
             "rgb(244,135,95)"
            ],
            [
             0.8156862745098039,
             "rgb(245,162,122)"
            ],
            [
             0.8784313725490196,
             "rgb(246,188,153)"
            ],
            [
             0.9411764705882353,
             "rgb(247,212,187)"
            ],
            [
             1,
             "rgb(250,234,220)"
            ]
           ]
          },
          "colorway": [
           "rgb(76,114,176)",
           "rgb(221,132,82)",
           "rgb(85,168,104)",
           "rgb(196,78,82)",
           "rgb(129,114,179)",
           "rgb(147,120,96)",
           "rgb(218,139,195)",
           "rgb(140,140,140)",
           "rgb(204,185,116)",
           "rgb(100,181,205)"
          ],
          "font": {
           "color": "rgb(36,36,36)"
          },
          "geo": {
           "bgcolor": "white",
           "lakecolor": "white",
           "landcolor": "rgb(234,234,242)",
           "showlakes": true,
           "showland": true,
           "subunitcolor": "white"
          },
          "hoverlabel": {
           "align": "left"
          },
          "hovermode": "closest",
          "paper_bgcolor": "white",
          "plot_bgcolor": "rgb(234,234,242)",
          "polar": {
           "angularaxis": {
            "gridcolor": "white",
            "linecolor": "white",
            "showgrid": true,
            "ticks": ""
           },
           "bgcolor": "rgb(234,234,242)",
           "radialaxis": {
            "gridcolor": "white",
            "linecolor": "white",
            "showgrid": true,
            "ticks": ""
           }
          },
          "scene": {
           "xaxis": {
            "backgroundcolor": "rgb(234,234,242)",
            "gridcolor": "white",
            "gridwidth": 2,
            "linecolor": "white",
            "showbackground": true,
            "showgrid": true,
            "ticks": "",
            "zerolinecolor": "white"
           },
           "yaxis": {
            "backgroundcolor": "rgb(234,234,242)",
            "gridcolor": "white",
            "gridwidth": 2,
            "linecolor": "white",
            "showbackground": true,
            "showgrid": true,
            "ticks": "",
            "zerolinecolor": "white"
           },
           "zaxis": {
            "backgroundcolor": "rgb(234,234,242)",
            "gridcolor": "white",
            "gridwidth": 2,
            "linecolor": "white",
            "showbackground": true,
            "showgrid": true,
            "ticks": "",
            "zerolinecolor": "white"
           }
          },
          "shapedefaults": {
           "fillcolor": "rgb(67,103,167)",
           "line": {
            "width": 0
           },
           "opacity": 0.5
          },
          "ternary": {
           "aaxis": {
            "gridcolor": "white",
            "linecolor": "white",
            "showgrid": true,
            "ticks": ""
           },
           "baxis": {
            "gridcolor": "white",
            "linecolor": "white",
            "showgrid": true,
            "ticks": ""
           },
           "bgcolor": "rgb(234,234,242)",
           "caxis": {
            "gridcolor": "white",
            "linecolor": "white",
            "showgrid": true,
            "ticks": ""
           }
          },
          "xaxis": {
           "automargin": true,
           "gridcolor": "white",
           "linecolor": "white",
           "showgrid": true,
           "ticks": "",
           "title": {
            "standoff": 15
           },
           "zerolinecolor": "white"
          },
          "yaxis": {
           "automargin": true,
           "gridcolor": "white",
           "linecolor": "white",
           "showgrid": true,
           "ticks": "",
           "title": {
            "standoff": 15
           },
           "zerolinecolor": "white"
          }
         }
        },
        "title": {
         "text": "experiment_35epochs/mbt_student_val_loss_2917.26574"
        },
        "width": 800,
        "xaxis": {
         "anchor": "y",
         "domain": [
          0,
          1
         ],
         "title": {
          "text": "x"
         }
        },
        "yaxis": {
         "anchor": "x",
         "domain": [
          0,
          1
         ],
         "title": {
          "text": "y"
         }
        }
       }
      },
      "text/html": [
       "<div>                            <div id=\"adcc4e0a-0348-4d35-aea8-53539d88a22b\" class=\"plotly-graph-div\" style=\"height:800px; width:800px;\"></div>            <script type=\"text/javascript\">                require([\"plotly\"], function(Plotly) {                    window.PLOTLYENV=window.PLOTLYENV || {};                                    if (document.getElementById(\"adcc4e0a-0348-4d35-aea8-53539d88a22b\")) {                    Plotly.newPlot(                        \"adcc4e0a-0348-4d35-aea8-53539d88a22b\",                        [{\"customdata\":[[\"Curiosity, Uncertainty, Surprise, Disgust\"],[\"Curiosity, Excitement, Happiness, Surprise\"],[\"None\"],[\"Curiosity, Uncertainty, Happiness\"],[\"Curiosity, Excitement, Happiness, Surprise\"],[\"Excitement, Happiness\"],[\"Happiness, Frustration\"],[\"None\"],[\"Curiosity, Uncertainty, Surprise, Disgust\"],[\"Curiosity, Excitement, Happiness, Surprise\"],[\"None\"],[\"Curiosity, Uncertainty, Happiness\"],[\"Curiosity, Excitement, Happiness, Surprise\"],[\"Excitement, Happiness\"],[\"Happiness, Frustration\"],[\"None\"],[\"Curiosity, Uncertainty, Surprise, Disgust\"],[\"Curiosity, Excitement, Happiness, Surprise\"],[\"None\"],[\"Curiosity, Uncertainty, Happiness\"],[\"Curiosity, Excitement, Happiness, Surprise\"],[\"Excitement, Happiness\"],[\"Happiness, Frustration\"],[\"None\"],[\"Excitement, Happiness\"],[\"Curiosity, Uncertainty, Excitement, Happiness\"],[\"Excitement, Happiness\"],[\"Uncertainty, Disgust\"],[\"Curiosity, Excitement, Happiness, Surprise\"],[\"Happiness\"],[\"Excitement, Happiness\"],[\"Excitement, Happiness\"],[\"Excitement, Happiness\"],[\"Curiosity, Uncertainty, Excitement, Happiness\"],[\"Excitement, Happiness\"],[\"Uncertainty, Disgust\"],[\"Curiosity, Excitement, Happiness, Surprise\"],[\"Happiness\"],[\"Excitement, Happiness\"],[\"Excitement, Happiness\"],[\"Excitement, Happiness\"],[\"Curiosity, Uncertainty, Excitement, Happiness\"],[\"Excitement, Happiness\"],[\"Uncertainty, Disgust\"],[\"Curiosity, Excitement, Happiness, Surprise\"],[\"Happiness\"],[\"Excitement, Happiness\"],[\"Excitement, Happiness\"],[\"Curiosity, Uncertainty, Excitement, Surprise, Disgust\"],[\"Uncertainty, Fear, Frustration\"],[\"Excitement, Happiness\"],[\"Curiosity, Uncertainty\"],[\"Uncertainty, Happiness, Surprise\"],[\"None\"],[\"Curiosity, Uncertainty, Happiness, Surprise, Disgust\"],[\"Frustration\"],[\"Curiosity, Uncertainty, Excitement, Surprise, Disgust\"],[\"Uncertainty, Fear, Frustration\"],[\"Excitement, Happiness\"],[\"Curiosity, Uncertainty\"],[\"Uncertainty, Happiness, Surprise\"],[\"None\"],[\"Curiosity, Uncertainty, Happiness, Surprise, Disgust\"],[\"Frustration\"],[\"Curiosity, Uncertainty, Excitement, Surprise, Disgust\"],[\"Uncertainty, Fear, Frustration\"],[\"Excitement, Happiness\"],[\"Curiosity, Uncertainty\"],[\"Uncertainty, Happiness, Surprise\"],[\"None\"],[\"Curiosity, Uncertainty, Happiness, Surprise, Disgust\"],[\"Frustration\"],[\"Excitement, Happiness, Surprise\"],[\"None\"],[\"Uncertainty, Disgust, Fear\"],[\"Excitement, Frustration\"],[\"Uncertainty, Happiness\"],[\"Curiosity, Uncertainty, Fear\"],[\"Uncertainty, Surprise, Disgust\"],[\"Curiosity, Uncertainty, Surprise, Fear, Frustration\"],[\"Excitement, Happiness, Surprise\"],[\"None\"],[\"Uncertainty, Disgust, Fear\"],[\"Excitement, Frustration\"],[\"Uncertainty, Happiness\"],[\"Curiosity, Uncertainty, Fear\"],[\"Uncertainty, Surprise, Disgust\"],[\"Curiosity, Uncertainty, Surprise, Fear, Frustration\"],[\"Excitement, Happiness, Surprise\"],[\"None\"],[\"Uncertainty, Disgust, Fear\"],[\"Excitement, Frustration\"],[\"Uncertainty, Happiness\"],[\"Curiosity, Uncertainty, Fear\"],[\"Uncertainty, Surprise, Disgust\"],[\"Curiosity, Uncertainty, Surprise, Fear, Frustration\"],[\"Curiosity, Excitement, Happiness, Surprise\"],[\"Uncertainty, Excitement\"],[\"Curiosity, Excitement, Surprise\"],[\"Uncertainty, Disgust, Fear\"],[\"Curiosity, Uncertainty, Excitement, Happiness, Surprise, Frustration\"],[\"Excitement, Happiness, Surprise\"],[\"Curiosity, Uncertainty, Happiness, Frustration\"],[\"Excitement, Happiness\"],[\"Curiosity, Excitement, Happiness, Surprise\"],[\"Uncertainty, Excitement\"],[\"Curiosity, Excitement, Surprise\"],[\"Uncertainty, Disgust, Fear\"],[\"Curiosity, Uncertainty, Excitement, Happiness, Surprise, Frustration\"],[\"Excitement, Happiness, Surprise\"],[\"Curiosity, Uncertainty, Happiness, Frustration\"],[\"Excitement, Happiness\"],[\"Curiosity, Excitement, Happiness, Surprise\"],[\"Uncertainty, Excitement\"],[\"Curiosity, Excitement, Surprise\"],[\"Uncertainty, Disgust, Fear\"],[\"Curiosity, Uncertainty, Excitement, Happiness, Surprise, Frustration\"],[\"Excitement, Happiness, Surprise\"],[\"Curiosity, Uncertainty, Happiness, Frustration\"],[\"Excitement, Happiness\"],[\"Curiosity, Surprise\"],[\"Curiosity, Uncertainty, Excitement, Happiness\"],[\"Happiness\"],[\"Excitement, Happiness, Disgust\"],[\"Excitement, Happiness\"],[\"Curiosity, Excitement\"],[\"Curiosity\"],[\"None\"],[\"Curiosity, Surprise\"],[\"Curiosity, Uncertainty, Excitement, Happiness\"],[\"Happiness\"],[\"Excitement, Happiness, Disgust\"],[\"Excitement, Happiness\"],[\"Curiosity, Excitement\"],[\"Curiosity\"],[\"None\"],[\"Curiosity, Surprise\"],[\"Curiosity, Uncertainty, Excitement, Happiness\"],[\"Happiness\"],[\"Excitement, Happiness, Disgust\"],[\"Excitement, Happiness\"],[\"Curiosity, Excitement\"],[\"Curiosity\"],[\"None\"],[\"Happiness\"],[\"Happiness\"],[\"Curiosity, Happiness\"],[\"Happiness\"],[\"None\"],[\"Surprise\"],[\"Curiosity, Excitement, Happiness, Surprise\"],[\"Uncertainty, Excitement, Disgust, Fear\"],[\"Happiness\"],[\"Happiness\"],[\"Curiosity, Happiness\"],[\"Happiness\"],[\"None\"],[\"Surprise\"],[\"Curiosity, Excitement, Happiness, Surprise\"],[\"Uncertainty, Excitement, Disgust, Fear\"],[\"Happiness\"],[\"Happiness\"],[\"Curiosity, Happiness\"],[\"Happiness\"],[\"None\"],[\"Surprise\"],[\"Curiosity, Excitement, Happiness, Surprise\"],[\"Uncertainty, Excitement, Disgust, Fear\"],[\"Surprise, Disgust\"],[\"Curiosity, Uncertainty\"],[\"Uncertainty, Disgust, Fear\"],[\"None\"],[\"Uncertainty, Disgust\"],[\"Excitement, Happiness\"],[\"Disgust\"],[\"None\"],[\"Surprise, Disgust\"],[\"Curiosity, Uncertainty\"],[\"Uncertainty, Disgust, Fear\"],[\"None\"],[\"Uncertainty, Disgust\"],[\"Excitement, Happiness\"],[\"Disgust\"],[\"None\"],[\"Surprise, Disgust\"],[\"Curiosity, Uncertainty\"],[\"Uncertainty, Disgust, Fear\"],[\"None\"],[\"Uncertainty, Disgust\"],[\"Excitement, Happiness\"],[\"Disgust\"],[\"None\"],[\"Curiosity, Uncertainty, Happiness\"],[\"Surprise, Disgust\"],[\"Excitement, Happiness\"],[\"Curiosity, Excitement, Happiness, Surprise\"],[\"Curiosity, Frustration\"],[\"Happiness\"],[\"Curiosity, Excitement, Happiness, Surprise\"],[\"Excitement, Happiness, Surprise\"],[\"Curiosity, Uncertainty, Happiness\"],[\"Surprise, Disgust\"],[\"Excitement, Happiness\"],[\"Curiosity, Excitement, Happiness, Surprise\"],[\"Curiosity, Frustration\"],[\"Happiness\"],[\"Curiosity, Excitement, Happiness, Surprise\"],[\"Excitement, Happiness, Surprise\"],[\"Curiosity, Uncertainty, Happiness\"],[\"Surprise, Disgust\"],[\"Excitement, Happiness\"],[\"Curiosity, Excitement, Happiness, Surprise\"],[\"Curiosity, Frustration\"],[\"Happiness\"],[\"Curiosity, Excitement, Happiness, Surprise\"],[\"Excitement, Happiness, Surprise\"],[\"Happiness, Frustration\"],[\"Happiness\"],[\"Uncertainty\"],[\"Happiness, Surprise\"],[\"Curiosity, Uncertainty, Surprise, Frustration\"],[\"Happiness, Disgust\"],[\"Curiosity, Uncertainty, Happiness, Surprise\"],[\"Curiosity, Happiness, Surprise\"],[\"Happiness, Frustration\"],[\"Happiness\"],[\"Uncertainty\"],[\"Happiness, Surprise\"],[\"Curiosity, Uncertainty, Surprise, Frustration\"],[\"Happiness, Disgust\"],[\"Curiosity, Uncertainty, Happiness, Surprise\"],[\"Curiosity, Happiness, Surprise\"],[\"Happiness, Frustration\"],[\"Happiness\"],[\"Uncertainty\"],[\"Happiness, Surprise\"],[\"Curiosity, Uncertainty, Surprise, Frustration\"],[\"Happiness, Disgust\"],[\"Curiosity, Uncertainty, Happiness, Surprise\"],[\"Curiosity, Happiness, Surprise\"],[\"Curiosity, Excitement, Happiness\"],[\"Curiosity, Excitement, Happiness, Surprise\"],[\"Curiosity, Uncertainty, Fear\"],[\"None\"],[\"Curiosity, Uncertainty, Excitement, Happiness, Surprise, Frustration\"],[\"Curiosity, Uncertainty\"],[\"Curiosity, Happiness\"],[\"Curiosity, Uncertainty\"],[\"Curiosity, Excitement, Happiness\"],[\"Curiosity, Excitement, Happiness, Surprise\"],[\"Curiosity, Uncertainty, Fear\"],[\"None\"],[\"Curiosity, Uncertainty, Excitement, Happiness, Surprise, Frustration\"],[\"Curiosity, Uncertainty\"],[\"Curiosity, Happiness\"],[\"Curiosity, Uncertainty\"],[\"Curiosity, Excitement, Happiness\"],[\"Curiosity, Excitement, Happiness, Surprise\"],[\"Curiosity, Uncertainty, Fear\"],[\"None\"],[\"Curiosity, Uncertainty, Excitement, Happiness, Surprise, Frustration\"],[\"Curiosity, Uncertainty\"],[\"Curiosity, Happiness\"],[\"Curiosity, Uncertainty\"],[\"Disgust\"],[\"Curiosity, Uncertainty, Excitement, Happiness, Surprise\"],[\"Excitement, Happiness\"],[\"Excitement, Happiness\"],[\"Curiosity, Uncertainty, Surprise, Frustration\"],[\"Uncertainty, Happiness\"],[\"Uncertainty, Disgust, Fear\"],[\"Surprise\"],[\"Disgust\"],[\"Curiosity, Uncertainty, Excitement, Happiness, Surprise\"],[\"Excitement, Happiness\"],[\"Excitement, Happiness\"],[\"Curiosity, Uncertainty, Surprise, Frustration\"],[\"Uncertainty, Happiness\"],[\"Uncertainty, Disgust, Fear\"],[\"Surprise\"],[\"Disgust\"],[\"Curiosity, Uncertainty, Excitement, Happiness, Surprise\"],[\"Excitement, Happiness\"],[\"Excitement, Happiness\"],[\"Curiosity, Uncertainty, Surprise, Frustration\"],[\"Uncertainty, Happiness\"],[\"Uncertainty, Disgust, Fear\"],[\"Surprise\"],[\"Curiosity\"],[\"Curiosity, Uncertainty, Happiness\"],[\"None\"],[\"Curiosity, Happiness\"],[\"Curiosity, Happiness, Surprise\"],[\"Excitement, Happiness\"],[\"Curiosity, Excitement, Happiness, Surprise\"],[\"Happiness\"],[\"Curiosity\"],[\"Curiosity, Uncertainty, Happiness\"],[\"None\"],[\"Curiosity, Happiness\"],[\"Curiosity, Happiness, Surprise\"],[\"Excitement, Happiness\"],[\"Curiosity, Excitement, Happiness, Surprise\"],[\"Happiness\"],[\"Curiosity\"],[\"Curiosity, Uncertainty, Happiness\"],[\"None\"],[\"Curiosity, Happiness\"],[\"Curiosity, Happiness, Surprise\"],[\"Excitement, Happiness\"],[\"Curiosity, Excitement, Happiness, Surprise\"],[\"Happiness\"],[\"Excitement, Happiness\"],[\"Excitement, Happiness\"],[\"Disgust\"],[\"Excitement, Happiness\"],[\"Excitement, Happiness\"],[\"Disgust\"],[\"Excitement, Happiness\"],[\"Excitement, Happiness\"],[\"Disgust\"]],\"hovertemplate\":\"x=%{x}\\u003cbr\\u003ey=%{y}\\u003cbr\\u003elabels=%{customdata[0]}\\u003cextra\\u003e\\u003c\\u002fextra\\u003e\",\"legendgroup\":\"\",\"marker\":{\"color\":\"#636efa\",\"symbol\":\"circle\"},\"mode\":\"markers\",\"name\":\"\",\"orientation\":\"v\",\"showlegend\":false,\"x\":[-62.08474349975586,13.146331787109375,-57.215145111083984,16.021501541137695,14.093619346618652,-51.63874435424805,-51.63874435424805,-11.103381156921387,3.007903575897217,-13.840929985046387,3.007903575897217,-9.95155143737793,-11.358745574951172,-27.969926834106445,-57.215145111083984,-42.22936248779297,-19.512889862060547,-42.22936248779297,-40.04496765136719,-40.04496765136719,-40.04496765136719,-42.22936248779297,-40.04496765136719,-40.04496765136719,16.535737991333008,6.000438690185547,11.990456581115723,17.22846221923828,14.716583251953125,6.268179893493652,1.0011235475540161,14.684754371643066,-40.04496765136719,-40.04496765136719,-40.04496765136719,-40.04496765136719,-40.04496765136719,-40.04496765136719,-40.04496765136719,-40.04496765136719,-9.96673583984375,-40.04496765136719,-40.04496765136719,-9.499485969543457,-13.356695175170898,-40.04496765136719,-40.04496765136719,-13.322257041931152,12.804423332214355,2.8733901977539062,23.788061141967773,7.098896503448486,2.704566478729248,3.2423853874206543,2.4556009769439697,12.618193626403809,-13.521696090698242,-40.04496765136719,18.312002182006836,-40.04496765136719,-40.04496765136719,-40.04496765136719,-40.04496765136719,-13.539445877075195,-10.92105484008789,-40.04496765136719,19.019126892089844,-40.04496765136719,-40.04496765136719,-40.04496765136719,-40.04496765136719,-11.346443176269531,3.51236891746521,8.995306968688965,2.169455051422119,3.0351665019989014,20.301271438598633,13.172882080078125,2.4255638122558594,18.84035873413086,-10.686258316040039,-5.985584259033203,-11.69092082977295,-10.68138599395752,12.5994873046875,-1.4996589422225952,-11.02800178527832,9.65996265411377,0.06606990098953247,8.285161972045898,-1.070480465888977,0.46834081411361694,19.595260620117188,12.496381759643555,-0.8558216691017151,17.96293830871582,-40.04496765136719,-57.215145111083984,-57.215145111083984,-40.04496765136719,-57.215145111083984,24.00086784362793,23.19512939453125,-51.63874435424805,0.2065662443637848,3.933861017227173,6.610727787017822,13.96374797821045,11.393403053283691,24.21579933166504,13.439684867858887,11.39013385772705,-40.04496765136719,-40.04496765136719,-40.04496765136719,-11.957387924194336,-14.290432929992676,24.02993392944336,-11.843171119689941,-14.160655975341797,-10.284777641296387,-40.04496765136719,-40.04496765136719,-40.04496765136719,-40.04496765136719,-2.4589643478393555,-40.04496765136719,-40.04496765136719,21.649507522583008,5.49068021774292,-11.570152282714844,15.779718399047852,-0.6464589834213257,14.412798881530762,-6.176887035369873,-0.35235729813575745,23.50458526611328,12.43533706665039,-5.071000576019287,20.184890747070312,10.133410453796387,19.34723472595215,3.9809463024139404,10.55897331237793,-9.38711166381836,8.876097679138184,8.718509674072266,21.48295021057129,8.156020164489746,5.784837245941162,-11.33343505859375,19.110641479492188,-42.22936248779297,-9.748684883117676,-10.221893310546875,13.652843475341797,-10.106969833374023,-13.781106948852539,-10.540112495422363,6.56099271774292,6.807564735412598,18.77094841003418,18.829792022705078,23.805614471435547,18.640207290649414,16.909822463989258,3.2907052040100098,22.887714385986328,-11.043181419372559,-27.969926834106445,-40.04496765136719,-51.63874435424805,-27.969926834106445,-57.215145111083984,-51.63874435424805,-51.63874435424805,23.97821807861328,-2.0604817867279053,-1.3299816846847534,15.7507963180542,-4.4456892013549805,5.697362422943115,5.102466583251953,-0.4549338221549988,-12.13351058959961,-57.215145111083984,-51.63874435424805,-57.215145111083984,-51.63874435424805,-57.215145111083984,-57.215145111083984,-57.215145111083984,-57.215145111083984,-14.344257354736328,-57.215145111083984,-13.91325855255127,-57.215145111083984,-57.215145111083984,-57.215145111083984,-12.189765930175781,-10.875482559204102,0.30761706829071045,-57.215145111083984,0.46996086835861206,-57.215145111083984,-57.215145111083984,-8.555122375488281,5.505191802978516,-13.791708946228027,-1.8804781436920166,-57.215145111083984,-0.9435737133026123,-57.215145111083984,-57.215145111083984,-9.663705825805664,1.921549916267395,-8.208417892456055,9.735275268554688,-8.258559226989746,0.48979079723358154,-14.204843521118164,16.79928970336914,-5.504146575927734,12.278355598449707,7.319664478302002,19.16472816467285,7.615621089935303,15.20678424835205,-1.6547743082046509,22.180482864379883,11.257806777954102,20.20719337463379,-57.215145111083984,-8.698748588562012,-57.215145111083984,-14.506046295166016,-57.215145111083984,1.0155171155929565,-57.215145111083984,-6.07744836807251,-57.215145111083984,-0.5711320638656616,-57.215145111083984,-57.215145111083984,-57.215145111083984,-10.540112495422363,-10.540112495422363,-10.540112495422363,0.9985357522964478,19.886945724487305,-8.542150497436523,-10.540112495422363,-11.567062377929688,-7.929958820343018,-10.540112495422363,-2.8104469776153564,-0.415332168340683,20.127660751342773,-9.514272689819336,-10.540112495422363,-12.259538650512695,-9.375384330749512,-10.540112495422363,-3.9630563259124756,-1.519502878189087,21.290029525756836,-5.267031192779541,-5.605027675628662,23.954326629638672,15.275416374206543,-7.927460670471191,23.50770378112793,-0.49130719900131226,20.969575881958008,-4.336874008178711,-4.847356796264648,23.85645866394043,15.156020164489746,-6.685702323913574,23.65956687927246,7.572611331939697,22.112253189086914,2.253028631210327,1.99276602268219,23.701223373413086,18.346412658691406,-2.758401393890381,23.323760986328125,17.033550262451172,2.371591329574585,19.628849029541016,11.93617057800293,6.688143730163574,1.679917573928833,17.998117446899414,-3.6708786487579346,20.61415672302246,10.82030963897705,21.95366668701172,17.671403884887695,13.231731414794922,10.73996353149414,20.97985076904297,6.738395690917969,-10.540112495422363,-10.540112495422363,-10.540112495422363,-10.540112495422363,-10.540112495422363,-10.540112495422363,-10.540112495422363,-10.540112495422363,-6.353501319885254,-44.5528450012207,-14.374105453491211,9.291420936584473,-5.2471923828125,-1.8583519458770752,-7.106197357177734,-44.55068588256836,-14.414999961853027],\"xaxis\":\"x\",\"y\":[-21.79957389831543,2.0910911560058594,10.960336685180664,1.8017535209655762,1.889426350593567,41.84271240234375,41.84271240234375,53.394962310791016,-40.692848205566406,-6.555903434753418,-40.692848205566406,-3.564363718032837,-4.412734031677246,45.8354606628418,10.960336685180664,-19.842613220214844,34.460411071777344,-19.842613220214844,19.768173217773438,19.768173217773438,19.768173217773438,-19.842613220214844,19.768173217773438,19.768173217773438,1.772611379623413,1.7005008459091187,1.9151569604873657,1.7377787828445435,1.8661561012268066,1.7549303770065308,0.8478147387504578,1.8653024435043335,19.768173217773438,19.768173217773438,19.768173217773438,19.768173217773438,19.768173217773438,19.768173217773438,19.768173217773438,19.768173217773438,-4.232703685760498,19.768173217773438,19.768173217773438,-3.5200212001800537,-5.990703105926514,19.768173217773438,19.768173217773438,-5.97130012512207,1.699377417564392,1.3934844732284546,0.9458235502243042,1.808308482170105,1.0705115795135498,1.4165475368499756,0.9778860807418823,1.6914899349212646,-6.223670959472656,19.768173217773438,1.814613938331604,19.768173217773438,19.768173217773438,19.768173217773438,19.768173217773438,-6.308866024017334,-4.185421943664551,19.768173217773438,1.381606936454773,19.768173217773438,19.768173217773438,19.768173217773438,19.768173217773438,-4.412265300750732,1.3559925556182861,1.8849486112594604,0.901989221572876,1.1707916259765625,1.710910439491272,2.084442377090454,1.4439760446548462,1.3863459825515747,-4.5764479637146,-1.8202928304672241,-4.674188137054443,-4.172059059143066,2.12420654296875,-0.14578759670257568,-4.883335113525391,1.9043596982955933,0.4286024272441864,1.859938144683838,0.4295923113822937,0.5216937065124512,1.7791180610656738,2.1083405017852783,0.6236860156059265,1.6898607015609741,19.768173217773438,10.960336685180664,10.960336685180664,19.768173217773438,10.960336685180664,1.0626978874206543,55.135894775390625,41.84271240234375,0.918189287185669,1.437589406967163,1.6604039669036865,1.8934975862503052,1.933590054512024,1.23013436794281,1.809031367301941,1.9337745904922485,19.768173217773438,19.768173217773438,19.768173217773438,-4.924696445465088,-6.6579976081848145,1.4197911024093628,-5.21725606918335,-6.666924476623535,-3.8737268447875977,19.768173217773438,19.768173217773438,19.768173217773438,19.768173217773438,44.208133697509766,19.768173217773438,19.768173217773438,1.4605913162231445,1.6384742259979248,-5.152004718780518,1.8140742778778076,0.703161895275116,1.8804653882980347,-1.9148768186569214,0.71822589635849,1.075744867324829,2.087834119796753,-1.3789646625518799,1.3429371118545532,1.914912223815918,1.3859549760818481,1.4452040195465088,1.9164584875106812,-3.807539701461792,1.8838186264038086,1.878312587738037,1.4798108339309692,1.8595223426818848,1.6864659786224365,-5.087006092071533,1.8952383995056152,-19.842613220214844,-4.075610637664795,-3.868149518966675,1.9487173557281494,-4.281533241271973,-5.961996555328369,-65.35861206054688,1.981242060661316,1.9136635065078735,1.4097414016723633,1.8794130086898804,0.9512608051300049,1.8699085712432861,1.7523256540298462,1.2955360412597656,1.3509708642959595,-4.907903671264648,45.8354606628418,19.768173217773438,41.84271240234375,45.8354606628418,10.960336685180664,41.84271240234375,41.84271240234375,1.035805583000183,-0.0705295130610466,0.4343166947364807,1.8138320446014404,-1.0930484533309937,1.6821023225784302,1.6039557456970215,0.6937186121940613,-5.19260311126709,10.960336685180664,41.84271240234375,10.960336685180664,41.84271240234375,10.960336685180664,10.960336685180664,10.960336685180664,10.960336685180664,-6.503103733062744,10.960336685180664,-6.617005825042725,10.960336685180664,10.960336685180664,10.960336685180664,-5.2785234451293945,-4.754199981689453,0.5019291639328003,10.960336685180664,0.809105396270752,10.960336685180664,10.960336685180664,-3.1576883792877197,1.6446537971496582,-5.984943866729736,-0.05898680165410042,10.960336685180664,0.049392230808734894,10.960336685180664,10.960336685180664,-3.5397634506225586,1.1180142164230347,-2.9793663024902344,1.9060161113739014,-3.0085675716400146,0.8272925019264221,-6.208916664123535,1.7599503993988037,-1.5833873748779297,1.7316557168960571,1.8214739561080933,1.8557143211364746,1.8090134859085083,1.8434460163116455,0.22293268144130707,1.4244996309280396,1.9206819534301758,1.3440090417861938,10.960336685180664,-3.244493246078491,10.960336685180664,-6.636172771453857,10.960336685180664,0.8381415009498596,10.960336685180664,-1.8650426864624023,10.960336685180664,0.1388207972049713,10.960336685180664,10.960336685180664,10.960336685180664,-65.35861206054688,-65.35861206054688,-65.35861206054688,0.8378722071647644,1.7485319375991821,-3.15769362449646,-65.35861206054688,-4.553323745727539,-2.8238203525543213,-65.35861206054688,-0.3970702290534973,0.20129790902137756,1.761167049407959,-3.933321952819824,-65.35861206054688,-5.333559036254883,-3.5840232372283936,-65.35861206054688,-0.8809694051742554,-0.13147421181201935,1.4816033840179443,-1.4711602926254272,-1.6310505867004395,1.4900920391082764,1.8390748500823975,-2.822214126586914,1.0722708702087402,0.17600679397583008,1.4995793104171753,-1.0468013286590576,-1.2755258083343506,1.5351775884628296,1.8464930057525635,-2.1779298782348633,1.5377510786056519,1.827683687210083,1.4281160831451416,0.9391215443611145,1.2669825553894043,1.546080470085144,1.4897202253341675,-0.3735297918319702,1.3482964038848877,1.7435435056686401,1.4288429021835327,1.349065899848938,1.9609256982803345,1.6656270027160645,1.0703389644622803,1.6644155979156494,-0.7541625499725342,1.5389928817749023,1.9249821901321411,1.4374608993530273,1.7156578302383423,1.7496187686920166,1.9241971969604492,1.523808240890503,1.64628267288208,-65.35861206054688,-65.35861206054688,-65.35861206054688,-65.35861206054688,-65.35861206054688,-65.35861206054688,-65.35861206054688,-65.35861206054688,-2.0030159950256348,17.551496505737305,-6.3141632080078125,1.8956316709518433,-1.4605523347854614,0.2549457252025604,-2.3945436477661133,17.551103591918945,-6.520511627197266],\"yaxis\":\"y\",\"type\":\"scatter\"}],                        {\"template\":{\"data\":{\"barpolar\":[{\"marker\":{\"line\":{\"color\":\"rgb(234,234,242)\",\"width\":0.5},\"pattern\":{\"fillmode\":\"overlay\",\"size\":10,\"solidity\":0.2}},\"type\":\"barpolar\"}],\"bar\":[{\"error_x\":{\"color\":\"rgb(36,36,36)\"},\"error_y\":{\"color\":\"rgb(36,36,36)\"},\"marker\":{\"line\":{\"color\":\"rgb(234,234,242)\",\"width\":0.5},\"pattern\":{\"fillmode\":\"overlay\",\"size\":10,\"solidity\":0.2}},\"type\":\"bar\"}],\"carpet\":[{\"aaxis\":{\"endlinecolor\":\"rgb(36,36,36)\",\"gridcolor\":\"white\",\"linecolor\":\"white\",\"minorgridcolor\":\"white\",\"startlinecolor\":\"rgb(36,36,36)\"},\"baxis\":{\"endlinecolor\":\"rgb(36,36,36)\",\"gridcolor\":\"white\",\"linecolor\":\"white\",\"minorgridcolor\":\"white\",\"startlinecolor\":\"rgb(36,36,36)\"},\"type\":\"carpet\"}],\"choropleth\":[{\"colorbar\":{\"outlinewidth\":0,\"tickcolor\":\"rgb(36,36,36)\",\"ticklen\":8,\"ticks\":\"outside\",\"tickwidth\":2},\"type\":\"choropleth\"}],\"contourcarpet\":[{\"colorbar\":{\"outlinewidth\":0,\"tickcolor\":\"rgb(36,36,36)\",\"ticklen\":8,\"ticks\":\"outside\",\"tickwidth\":2},\"type\":\"contourcarpet\"}],\"contour\":[{\"colorbar\":{\"outlinewidth\":0,\"tickcolor\":\"rgb(36,36,36)\",\"ticklen\":8,\"ticks\":\"outside\",\"tickwidth\":2},\"colorscale\":[[0.0,\"rgb(2,4,25)\"],[0.06274509803921569,\"rgb(24,15,41)\"],[0.12549019607843137,\"rgb(47,23,57)\"],[0.18823529411764706,\"rgb(71,28,72)\"],[0.25098039215686274,\"rgb(97,30,82)\"],[0.3137254901960784,\"rgb(123,30,89)\"],[0.3764705882352941,\"rgb(150,27,91)\"],[0.4392156862745098,\"rgb(177,22,88)\"],[0.5019607843137255,\"rgb(203,26,79)\"],[0.5647058823529412,\"rgb(223,47,67)\"],[0.6274509803921569,\"rgb(236,76,61)\"],[0.6901960784313725,\"rgb(242,107,73)\"],[0.7529411764705882,\"rgb(244,135,95)\"],[0.8156862745098039,\"rgb(245,162,122)\"],[0.8784313725490196,\"rgb(246,188,153)\"],[0.9411764705882353,\"rgb(247,212,187)\"],[1.0,\"rgb(250,234,220)\"]],\"type\":\"contour\"}],\"heatmapgl\":[{\"colorbar\":{\"outlinewidth\":0,\"tickcolor\":\"rgb(36,36,36)\",\"ticklen\":8,\"ticks\":\"outside\",\"tickwidth\":2},\"colorscale\":[[0.0,\"rgb(2,4,25)\"],[0.06274509803921569,\"rgb(24,15,41)\"],[0.12549019607843137,\"rgb(47,23,57)\"],[0.18823529411764706,\"rgb(71,28,72)\"],[0.25098039215686274,\"rgb(97,30,82)\"],[0.3137254901960784,\"rgb(123,30,89)\"],[0.3764705882352941,\"rgb(150,27,91)\"],[0.4392156862745098,\"rgb(177,22,88)\"],[0.5019607843137255,\"rgb(203,26,79)\"],[0.5647058823529412,\"rgb(223,47,67)\"],[0.6274509803921569,\"rgb(236,76,61)\"],[0.6901960784313725,\"rgb(242,107,73)\"],[0.7529411764705882,\"rgb(244,135,95)\"],[0.8156862745098039,\"rgb(245,162,122)\"],[0.8784313725490196,\"rgb(246,188,153)\"],[0.9411764705882353,\"rgb(247,212,187)\"],[1.0,\"rgb(250,234,220)\"]],\"type\":\"heatmapgl\"}],\"heatmap\":[{\"colorbar\":{\"outlinewidth\":0,\"tickcolor\":\"rgb(36,36,36)\",\"ticklen\":8,\"ticks\":\"outside\",\"tickwidth\":2},\"colorscale\":[[0.0,\"rgb(2,4,25)\"],[0.06274509803921569,\"rgb(24,15,41)\"],[0.12549019607843137,\"rgb(47,23,57)\"],[0.18823529411764706,\"rgb(71,28,72)\"],[0.25098039215686274,\"rgb(97,30,82)\"],[0.3137254901960784,\"rgb(123,30,89)\"],[0.3764705882352941,\"rgb(150,27,91)\"],[0.4392156862745098,\"rgb(177,22,88)\"],[0.5019607843137255,\"rgb(203,26,79)\"],[0.5647058823529412,\"rgb(223,47,67)\"],[0.6274509803921569,\"rgb(236,76,61)\"],[0.6901960784313725,\"rgb(242,107,73)\"],[0.7529411764705882,\"rgb(244,135,95)\"],[0.8156862745098039,\"rgb(245,162,122)\"],[0.8784313725490196,\"rgb(246,188,153)\"],[0.9411764705882353,\"rgb(247,212,187)\"],[1.0,\"rgb(250,234,220)\"]],\"type\":\"heatmap\"}],\"histogram2dcontour\":[{\"colorbar\":{\"outlinewidth\":0,\"tickcolor\":\"rgb(36,36,36)\",\"ticklen\":8,\"ticks\":\"outside\",\"tickwidth\":2},\"colorscale\":[[0.0,\"rgb(2,4,25)\"],[0.06274509803921569,\"rgb(24,15,41)\"],[0.12549019607843137,\"rgb(47,23,57)\"],[0.18823529411764706,\"rgb(71,28,72)\"],[0.25098039215686274,\"rgb(97,30,82)\"],[0.3137254901960784,\"rgb(123,30,89)\"],[0.3764705882352941,\"rgb(150,27,91)\"],[0.4392156862745098,\"rgb(177,22,88)\"],[0.5019607843137255,\"rgb(203,26,79)\"],[0.5647058823529412,\"rgb(223,47,67)\"],[0.6274509803921569,\"rgb(236,76,61)\"],[0.6901960784313725,\"rgb(242,107,73)\"],[0.7529411764705882,\"rgb(244,135,95)\"],[0.8156862745098039,\"rgb(245,162,122)\"],[0.8784313725490196,\"rgb(246,188,153)\"],[0.9411764705882353,\"rgb(247,212,187)\"],[1.0,\"rgb(250,234,220)\"]],\"type\":\"histogram2dcontour\"}],\"histogram2d\":[{\"colorbar\":{\"outlinewidth\":0,\"tickcolor\":\"rgb(36,36,36)\",\"ticklen\":8,\"ticks\":\"outside\",\"tickwidth\":2},\"colorscale\":[[0.0,\"rgb(2,4,25)\"],[0.06274509803921569,\"rgb(24,15,41)\"],[0.12549019607843137,\"rgb(47,23,57)\"],[0.18823529411764706,\"rgb(71,28,72)\"],[0.25098039215686274,\"rgb(97,30,82)\"],[0.3137254901960784,\"rgb(123,30,89)\"],[0.3764705882352941,\"rgb(150,27,91)\"],[0.4392156862745098,\"rgb(177,22,88)\"],[0.5019607843137255,\"rgb(203,26,79)\"],[0.5647058823529412,\"rgb(223,47,67)\"],[0.6274509803921569,\"rgb(236,76,61)\"],[0.6901960784313725,\"rgb(242,107,73)\"],[0.7529411764705882,\"rgb(244,135,95)\"],[0.8156862745098039,\"rgb(245,162,122)\"],[0.8784313725490196,\"rgb(246,188,153)\"],[0.9411764705882353,\"rgb(247,212,187)\"],[1.0,\"rgb(250,234,220)\"]],\"type\":\"histogram2d\"}],\"histogram\":[{\"marker\":{\"pattern\":{\"fillmode\":\"overlay\",\"size\":10,\"solidity\":0.2}},\"type\":\"histogram\"}],\"mesh3d\":[{\"colorbar\":{\"outlinewidth\":0,\"tickcolor\":\"rgb(36,36,36)\",\"ticklen\":8,\"ticks\":\"outside\",\"tickwidth\":2},\"type\":\"mesh3d\"}],\"parcoords\":[{\"line\":{\"colorbar\":{\"outlinewidth\":0,\"tickcolor\":\"rgb(36,36,36)\",\"ticklen\":8,\"ticks\":\"outside\",\"tickwidth\":2}},\"type\":\"parcoords\"}],\"pie\":[{\"automargin\":true,\"type\":\"pie\"}],\"scatter3d\":[{\"line\":{\"colorbar\":{\"outlinewidth\":0,\"tickcolor\":\"rgb(36,36,36)\",\"ticklen\":8,\"ticks\":\"outside\",\"tickwidth\":2}},\"marker\":{\"colorbar\":{\"outlinewidth\":0,\"tickcolor\":\"rgb(36,36,36)\",\"ticklen\":8,\"ticks\":\"outside\",\"tickwidth\":2}},\"type\":\"scatter3d\"}],\"scattercarpet\":[{\"marker\":{\"colorbar\":{\"outlinewidth\":0,\"tickcolor\":\"rgb(36,36,36)\",\"ticklen\":8,\"ticks\":\"outside\",\"tickwidth\":2}},\"type\":\"scattercarpet\"}],\"scattergeo\":[{\"marker\":{\"colorbar\":{\"outlinewidth\":0,\"tickcolor\":\"rgb(36,36,36)\",\"ticklen\":8,\"ticks\":\"outside\",\"tickwidth\":2}},\"type\":\"scattergeo\"}],\"scattergl\":[{\"marker\":{\"colorbar\":{\"outlinewidth\":0,\"tickcolor\":\"rgb(36,36,36)\",\"ticklen\":8,\"ticks\":\"outside\",\"tickwidth\":2}},\"type\":\"scattergl\"}],\"scattermapbox\":[{\"marker\":{\"colorbar\":{\"outlinewidth\":0,\"tickcolor\":\"rgb(36,36,36)\",\"ticklen\":8,\"ticks\":\"outside\",\"tickwidth\":2}},\"type\":\"scattermapbox\"}],\"scatterpolargl\":[{\"marker\":{\"colorbar\":{\"outlinewidth\":0,\"tickcolor\":\"rgb(36,36,36)\",\"ticklen\":8,\"ticks\":\"outside\",\"tickwidth\":2}},\"type\":\"scatterpolargl\"}],\"scatterpolar\":[{\"marker\":{\"colorbar\":{\"outlinewidth\":0,\"tickcolor\":\"rgb(36,36,36)\",\"ticklen\":8,\"ticks\":\"outside\",\"tickwidth\":2}},\"type\":\"scatterpolar\"}],\"scatter\":[{\"fillpattern\":{\"fillmode\":\"overlay\",\"size\":10,\"solidity\":0.2},\"type\":\"scatter\"}],\"scatterternary\":[{\"marker\":{\"colorbar\":{\"outlinewidth\":0,\"tickcolor\":\"rgb(36,36,36)\",\"ticklen\":8,\"ticks\":\"outside\",\"tickwidth\":2}},\"type\":\"scatterternary\"}],\"surface\":[{\"colorbar\":{\"outlinewidth\":0,\"tickcolor\":\"rgb(36,36,36)\",\"ticklen\":8,\"ticks\":\"outside\",\"tickwidth\":2},\"colorscale\":[[0.0,\"rgb(2,4,25)\"],[0.06274509803921569,\"rgb(24,15,41)\"],[0.12549019607843137,\"rgb(47,23,57)\"],[0.18823529411764706,\"rgb(71,28,72)\"],[0.25098039215686274,\"rgb(97,30,82)\"],[0.3137254901960784,\"rgb(123,30,89)\"],[0.3764705882352941,\"rgb(150,27,91)\"],[0.4392156862745098,\"rgb(177,22,88)\"],[0.5019607843137255,\"rgb(203,26,79)\"],[0.5647058823529412,\"rgb(223,47,67)\"],[0.6274509803921569,\"rgb(236,76,61)\"],[0.6901960784313725,\"rgb(242,107,73)\"],[0.7529411764705882,\"rgb(244,135,95)\"],[0.8156862745098039,\"rgb(245,162,122)\"],[0.8784313725490196,\"rgb(246,188,153)\"],[0.9411764705882353,\"rgb(247,212,187)\"],[1.0,\"rgb(250,234,220)\"]],\"type\":\"surface\"}],\"table\":[{\"cells\":{\"fill\":{\"color\":\"rgb(231,231,240)\"},\"line\":{\"color\":\"white\"}},\"header\":{\"fill\":{\"color\":\"rgb(183,183,191)\"},\"line\":{\"color\":\"white\"}},\"type\":\"table\"}]},\"layout\":{\"annotationdefaults\":{\"arrowcolor\":\"rgb(67,103,167)\"},\"autotypenumbers\":\"strict\",\"coloraxis\":{\"colorbar\":{\"outlinewidth\":0,\"tickcolor\":\"rgb(36,36,36)\",\"ticklen\":8,\"ticks\":\"outside\",\"tickwidth\":2}},\"colorscale\":{\"sequential\":[[0.0,\"rgb(2,4,25)\"],[0.06274509803921569,\"rgb(24,15,41)\"],[0.12549019607843137,\"rgb(47,23,57)\"],[0.18823529411764706,\"rgb(71,28,72)\"],[0.25098039215686274,\"rgb(97,30,82)\"],[0.3137254901960784,\"rgb(123,30,89)\"],[0.3764705882352941,\"rgb(150,27,91)\"],[0.4392156862745098,\"rgb(177,22,88)\"],[0.5019607843137255,\"rgb(203,26,79)\"],[0.5647058823529412,\"rgb(223,47,67)\"],[0.6274509803921569,\"rgb(236,76,61)\"],[0.6901960784313725,\"rgb(242,107,73)\"],[0.7529411764705882,\"rgb(244,135,95)\"],[0.8156862745098039,\"rgb(245,162,122)\"],[0.8784313725490196,\"rgb(246,188,153)\"],[0.9411764705882353,\"rgb(247,212,187)\"],[1.0,\"rgb(250,234,220)\"]],\"sequentialminus\":[[0.0,\"rgb(2,4,25)\"],[0.06274509803921569,\"rgb(24,15,41)\"],[0.12549019607843137,\"rgb(47,23,57)\"],[0.18823529411764706,\"rgb(71,28,72)\"],[0.25098039215686274,\"rgb(97,30,82)\"],[0.3137254901960784,\"rgb(123,30,89)\"],[0.3764705882352941,\"rgb(150,27,91)\"],[0.4392156862745098,\"rgb(177,22,88)\"],[0.5019607843137255,\"rgb(203,26,79)\"],[0.5647058823529412,\"rgb(223,47,67)\"],[0.6274509803921569,\"rgb(236,76,61)\"],[0.6901960784313725,\"rgb(242,107,73)\"],[0.7529411764705882,\"rgb(244,135,95)\"],[0.8156862745098039,\"rgb(245,162,122)\"],[0.8784313725490196,\"rgb(246,188,153)\"],[0.9411764705882353,\"rgb(247,212,187)\"],[1.0,\"rgb(250,234,220)\"]]},\"colorway\":[\"rgb(76,114,176)\",\"rgb(221,132,82)\",\"rgb(85,168,104)\",\"rgb(196,78,82)\",\"rgb(129,114,179)\",\"rgb(147,120,96)\",\"rgb(218,139,195)\",\"rgb(140,140,140)\",\"rgb(204,185,116)\",\"rgb(100,181,205)\"],\"font\":{\"color\":\"rgb(36,36,36)\"},\"geo\":{\"bgcolor\":\"white\",\"lakecolor\":\"white\",\"landcolor\":\"rgb(234,234,242)\",\"showlakes\":true,\"showland\":true,\"subunitcolor\":\"white\"},\"hoverlabel\":{\"align\":\"left\"},\"hovermode\":\"closest\",\"paper_bgcolor\":\"white\",\"plot_bgcolor\":\"rgb(234,234,242)\",\"polar\":{\"angularaxis\":{\"gridcolor\":\"white\",\"linecolor\":\"white\",\"showgrid\":true,\"ticks\":\"\"},\"bgcolor\":\"rgb(234,234,242)\",\"radialaxis\":{\"gridcolor\":\"white\",\"linecolor\":\"white\",\"showgrid\":true,\"ticks\":\"\"}},\"scene\":{\"xaxis\":{\"backgroundcolor\":\"rgb(234,234,242)\",\"gridcolor\":\"white\",\"gridwidth\":2,\"linecolor\":\"white\",\"showbackground\":true,\"showgrid\":true,\"ticks\":\"\",\"zerolinecolor\":\"white\"},\"yaxis\":{\"backgroundcolor\":\"rgb(234,234,242)\",\"gridcolor\":\"white\",\"gridwidth\":2,\"linecolor\":\"white\",\"showbackground\":true,\"showgrid\":true,\"ticks\":\"\",\"zerolinecolor\":\"white\"},\"zaxis\":{\"backgroundcolor\":\"rgb(234,234,242)\",\"gridcolor\":\"white\",\"gridwidth\":2,\"linecolor\":\"white\",\"showbackground\":true,\"showgrid\":true,\"ticks\":\"\",\"zerolinecolor\":\"white\"}},\"shapedefaults\":{\"fillcolor\":\"rgb(67,103,167)\",\"line\":{\"width\":0},\"opacity\":0.5},\"ternary\":{\"aaxis\":{\"gridcolor\":\"white\",\"linecolor\":\"white\",\"showgrid\":true,\"ticks\":\"\"},\"baxis\":{\"gridcolor\":\"white\",\"linecolor\":\"white\",\"showgrid\":true,\"ticks\":\"\"},\"bgcolor\":\"rgb(234,234,242)\",\"caxis\":{\"gridcolor\":\"white\",\"linecolor\":\"white\",\"showgrid\":true,\"ticks\":\"\"}},\"xaxis\":{\"automargin\":true,\"gridcolor\":\"white\",\"linecolor\":\"white\",\"showgrid\":true,\"ticks\":\"\",\"title\":{\"standoff\":15},\"zerolinecolor\":\"white\"},\"yaxis\":{\"automargin\":true,\"gridcolor\":\"white\",\"linecolor\":\"white\",\"showgrid\":true,\"ticks\":\"\",\"title\":{\"standoff\":15},\"zerolinecolor\":\"white\"}}},\"xaxis\":{\"anchor\":\"y\",\"domain\":[0.0,1.0],\"title\":{\"text\":\"x\"}},\"yaxis\":{\"anchor\":\"x\",\"domain\":[0.0,1.0],\"title\":{\"text\":\"y\"}},\"legend\":{\"tracegroupgap\":0},\"margin\":{\"t\":60},\"autosize\":false,\"width\":800,\"height\":800,\"title\":{\"text\":\"experiment_35epochs\\u002fmbt_student_val_loss_2917.26574\"}},                        {\"responsive\": true}                    ).then(function(){\n",
       "                            \n",
       "var gd = document.getElementById('adcc4e0a-0348-4d35-aea8-53539d88a22b');\n",
       "var x = new MutationObserver(function (mutations, observer) {{\n",
       "        var display = window.getComputedStyle(gd).display;\n",
       "        if (!display || display === 'none') {{\n",
       "            console.log([gd, 'removed!']);\n",
       "            Plotly.purge(gd);\n",
       "            observer.disconnect();\n",
       "        }}\n",
       "}});\n",
       "\n",
       "// Listen for the removal of the full notebook cells\n",
       "var notebookContainer = gd.closest('#notebook-container');\n",
       "if (notebookContainer) {{\n",
       "    x.observe(notebookContainer, {childList: true});\n",
       "}}\n",
       "\n",
       "// Listen for the clearing of the current output cell\n",
       "var outputEl = gd.closest('.output');\n",
       "if (outputEl) {{\n",
       "    x.observe(outputEl, {childList: true});\n",
       "}}\n",
       "\n",
       "                        })                };                });            </script>        </div>"
      ]
     },
     "metadata": {},
     "output_type": "display_data"
    }
   ],
   "source": [
    "plot_embeddings(embeddings_cleaned, chkpt_name)"
   ]
  }
 ],
 "metadata": {
  "kernelspec": {
   "display_name": "depmbt",
   "language": "python",
   "name": "python3"
  },
  "language_info": {
   "codemirror_mode": {
    "name": "ipython",
    "version": 3
   },
   "file_extension": ".py",
   "mimetype": "text/x-python",
   "name": "python",
   "nbconvert_exporter": "python",
   "pygments_lexer": "ipython3",
   "version": "3.9.16"
  },
  "orig_nbformat": 4
 },
 "nbformat": 4,
 "nbformat_minor": 2
}
