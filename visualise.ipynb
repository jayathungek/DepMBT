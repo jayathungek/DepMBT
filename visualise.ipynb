{
 "cells": [
  {
   "cell_type": "code",
   "execution_count": 8,
   "metadata": {},
   "outputs": [
    {
     "data": {
      "text/html": [
       "        <script type=\"text/javascript\">\n",
       "        window.PlotlyConfig = {MathJaxConfig: 'local'};\n",
       "        if (window.MathJax && window.MathJax.Hub && window.MathJax.Hub.Config) {window.MathJax.Hub.Config({SVG: {font: \"STIX-Web\"}});}\n",
       "        if (typeof require !== 'undefined') {\n",
       "        require.undef(\"plotly\");\n",
       "        requirejs.config({\n",
       "            paths: {\n",
       "                'plotly': ['https://cdn.plot.ly/plotly-2.26.0.min']\n",
       "            }\n",
       "        });\n",
       "        require(['plotly'], function(Plotly) {\n",
       "            window._Plotly = Plotly;\n",
       "        });\n",
       "        }\n",
       "        </script>\n",
       "        "
      ]
     },
     "metadata": {},
     "output_type": "display_data"
    }
   ],
   "source": [
    "import pickle\n",
    "from typing import List\n",
    "\n",
    "import numpy as np\n",
    "import plotly.express as px\n",
    "from plotly.offline import init_notebook_mode, iplot\n",
    "import plotly.graph_objs as go\n",
    "from importlib import reload\n",
    "import visualise\n",
    "reload(visualise)\n",
    "from visualise import get_tsne_points, do_inference, PKL_PATH\n",
    "from constants import *\n",
    "\n",
    "init_notebook_mode(connected=True)"
   ]
  },
  {
   "cell_type": "code",
   "execution_count": 9,
   "metadata": {},
   "outputs": [],
   "source": [
    "import pandas as pd\n",
    "\n",
    "\n",
    "def clean_nans(embeddings_obj):\n",
    "    clean_records = []\n",
    "    clean_labels = []\n",
    "    records = embeddings_obj[\"embeddings\"]\n",
    "    print(f\"Got {records.shape[0]} records before cleaning\")\n",
    "    for i, record in enumerate(records):\n",
    "        if not np.isnan(record).any():\n",
    "            clean_records.append(record)\n",
    "            clean_labels.append(embeddings_obj[\"labels\"][i])\n",
    "    records = np.stack(clean_records, axis=0)\n",
    "    print(f\"Got {records.shape[0]} records after cleaning\")\n",
    "    return {\n",
    "        \"embeddings\": records,\n",
    "        \"labels\": clean_labels\n",
    "    }\n",
    "\n",
    "def points2dataframe(points, labels):\n",
    "    columns = [\"x\", \"y\"]\n",
    "    points_df = pd.DataFrame(points, columns=columns)\n",
    "    labels = [\", \".join(l) for l in labels]\n",
    "    points_df[\"labels\"] = labels\n",
    "    return points_df\n",
    "\n",
    "def plot_embeddings(embeddings_df):\n",
    "    fig = px.scatter(embeddings_df, x=\"x\", y=\"y\", hover_data=\"labels\")\n",
    "    fig.update_layout(\n",
    "        autosize=False,\n",
    "        width=800,\n",
    "        height=800,\n",
    "        template='seaborn'\n",
    "        \n",
    "    )\n",
    "    fig.show()\n",
    "\n"
   ]
  },
  {
   "cell_type": "code",
   "execution_count": 10,
   "metadata": {},
   "outputs": [
    {
     "name": "stdout",
     "output_type": "stream",
     "text": [
      "Got 324 records before cleaning\n",
      "Got 312 records after cleaning\n"
     ]
    }
   ],
   "source": [
    "\n",
    "with open(PKL_PATH, \"rb\") as fh:\n",
    "    embeddings_obj = pickle.load(fh)\n",
    "\n",
    "embeddings_cleaned = clean_nans(embeddings_obj)"
   ]
  },
  {
   "cell_type": "code",
   "execution_count": 11,
   "metadata": {},
   "outputs": [
    {
     "data": {
      "application/vnd.plotly.v1+json": {
       "config": {
        "plotlyServerURL": "https://plot.ly"
       },
       "data": [
        {
         "customdata": [
          [
           "None"
          ],
          [
           "Curiosity, Happiness, Frustration"
          ],
          [
           "None"
          ],
          [
           "Excitement, Happiness"
          ],
          [
           "Curiosity, Uncertainty, Surprise, Frustration"
          ],
          [
           "Curiosity, Happiness"
          ],
          [
           "Happiness"
          ],
          [
           "None"
          ],
          [
           "None"
          ],
          [
           "Curiosity, Happiness, Frustration"
          ],
          [
           "None"
          ],
          [
           "Excitement, Happiness"
          ],
          [
           "Curiosity, Uncertainty, Surprise, Frustration"
          ],
          [
           "Curiosity, Happiness"
          ],
          [
           "Happiness"
          ],
          [
           "None"
          ],
          [
           "None"
          ],
          [
           "Curiosity, Happiness, Frustration"
          ],
          [
           "None"
          ],
          [
           "Excitement, Happiness"
          ],
          [
           "Curiosity, Uncertainty, Surprise, Frustration"
          ],
          [
           "Curiosity, Happiness"
          ],
          [
           "Happiness"
          ],
          [
           "None"
          ],
          [
           "None"
          ],
          [
           "None"
          ],
          [
           "Uncertainty, Excitement, Happiness, Disgust"
          ],
          [
           "Uncertainty, Excitement, Surprise, Disgust, Fear, Frustration"
          ],
          [
           "Curiosity, Uncertainty, Fear"
          ],
          [
           "Excitement, Happiness"
          ],
          [
           "Curiosity, Happiness, Surprise"
          ],
          [
           "Curiosity, Uncertainty"
          ],
          [
           "None"
          ],
          [
           "None"
          ],
          [
           "Uncertainty, Excitement, Happiness, Disgust"
          ],
          [
           "Uncertainty, Excitement, Surprise, Disgust, Fear, Frustration"
          ],
          [
           "Curiosity, Uncertainty, Fear"
          ],
          [
           "Excitement, Happiness"
          ],
          [
           "Curiosity, Happiness, Surprise"
          ],
          [
           "Curiosity, Uncertainty"
          ],
          [
           "None"
          ],
          [
           "None"
          ],
          [
           "Uncertainty, Excitement, Happiness, Disgust"
          ],
          [
           "Uncertainty, Excitement, Surprise, Disgust, Fear, Frustration"
          ],
          [
           "Curiosity, Uncertainty, Fear"
          ],
          [
           "Excitement, Happiness"
          ],
          [
           "Curiosity, Happiness, Surprise"
          ],
          [
           "Curiosity, Uncertainty"
          ],
          [
           "Happiness"
          ],
          [
           "Uncertainty"
          ],
          [
           "Curiosity, Uncertainty, Excitement, Happiness, Surprise"
          ],
          [
           "Excitement"
          ],
          [
           "None"
          ],
          [
           "Curiosity"
          ],
          [
           "Happiness"
          ],
          [
           "Curiosity, Uncertainty, Happiness"
          ],
          [
           "Happiness"
          ],
          [
           "Uncertainty"
          ],
          [
           "Curiosity, Uncertainty, Excitement, Happiness, Surprise"
          ],
          [
           "Excitement"
          ],
          [
           "None"
          ],
          [
           "Curiosity"
          ],
          [
           "Happiness"
          ],
          [
           "Curiosity, Uncertainty, Happiness"
          ],
          [
           "Happiness"
          ],
          [
           "Uncertainty"
          ],
          [
           "Curiosity, Uncertainty, Excitement, Happiness, Surprise"
          ],
          [
           "Excitement"
          ],
          [
           "None"
          ],
          [
           "Curiosity"
          ],
          [
           "Happiness"
          ],
          [
           "Curiosity, Uncertainty, Happiness"
          ],
          [
           "None"
          ],
          [
           "Curiosity, Uncertainty, Frustration"
          ],
          [
           "Curiosity, Uncertainty, Surprise, Frustration"
          ],
          [
           "Curiosity, Uncertainty, Happiness, Surprise"
          ],
          [
           "None"
          ],
          [
           "Uncertainty, Disgust, Fear"
          ],
          [
           "Uncertainty, Disgust, Fear"
          ],
          [
           "Uncertainty, Happiness, Surprise, Frustration"
          ],
          [
           "None"
          ],
          [
           "Curiosity, Uncertainty, Frustration"
          ],
          [
           "Curiosity, Uncertainty, Surprise, Frustration"
          ],
          [
           "Curiosity, Uncertainty, Happiness, Surprise"
          ],
          [
           "None"
          ],
          [
           "Uncertainty, Disgust, Fear"
          ],
          [
           "Uncertainty, Disgust, Fear"
          ],
          [
           "Uncertainty, Happiness, Surprise, Frustration"
          ],
          [
           "None"
          ],
          [
           "Curiosity, Uncertainty, Frustration"
          ],
          [
           "Curiosity, Uncertainty, Surprise, Frustration"
          ],
          [
           "Curiosity, Uncertainty, Happiness, Surprise"
          ],
          [
           "None"
          ],
          [
           "Uncertainty, Disgust, Fear"
          ],
          [
           "Uncertainty, Disgust, Fear"
          ],
          [
           "Uncertainty, Happiness, Surprise, Frustration"
          ],
          [
           "Curiosity, Excitement, Surprise"
          ],
          [
           "Curiosity, Uncertainty, Happiness"
          ],
          [
           "Curiosity, Uncertainty, Happiness, Surprise, Fear"
          ],
          [
           "Excitement, Happiness"
          ],
          [
           "Curiosity, Happiness"
          ],
          [
           "Curiosity, Uncertainty, Happiness, Surprise"
          ],
          [
           "Happiness"
          ],
          [
           "Excitement, Happiness, Disgust"
          ],
          [
           "Curiosity, Excitement, Surprise"
          ],
          [
           "Curiosity, Uncertainty, Happiness"
          ],
          [
           "Curiosity, Uncertainty, Happiness, Surprise, Fear"
          ],
          [
           "Excitement, Happiness"
          ],
          [
           "Curiosity, Happiness"
          ],
          [
           "Curiosity, Uncertainty, Happiness, Surprise"
          ],
          [
           "Happiness"
          ],
          [
           "Excitement, Happiness, Disgust"
          ],
          [
           "Curiosity, Excitement, Surprise"
          ],
          [
           "Curiosity, Uncertainty, Happiness"
          ],
          [
           "Curiosity, Uncertainty, Happiness, Surprise, Fear"
          ],
          [
           "Excitement, Happiness"
          ],
          [
           "Curiosity, Happiness"
          ],
          [
           "Curiosity, Uncertainty, Happiness, Surprise"
          ],
          [
           "Happiness"
          ],
          [
           "Excitement, Happiness, Disgust"
          ],
          [
           "Curiosity, Uncertainty"
          ],
          [
           "Curiosity, Surprise"
          ],
          [
           "None"
          ],
          [
           "Curiosity, Excitement, Happiness, Surprise"
          ],
          [
           "Excitement, Happiness"
          ],
          [
           "Uncertainty, Disgust"
          ],
          [
           "Uncertainty, Happiness"
          ],
          [
           "Curiosity, Excitement, Happiness"
          ],
          [
           "Curiosity, Uncertainty"
          ],
          [
           "Curiosity, Surprise"
          ],
          [
           "None"
          ],
          [
           "Curiosity, Excitement, Happiness, Surprise"
          ],
          [
           "Excitement, Happiness"
          ],
          [
           "Uncertainty, Disgust"
          ],
          [
           "Uncertainty, Happiness"
          ],
          [
           "Curiosity, Excitement, Happiness"
          ],
          [
           "Curiosity, Uncertainty"
          ],
          [
           "Curiosity, Surprise"
          ],
          [
           "None"
          ],
          [
           "Curiosity, Excitement, Happiness, Surprise"
          ],
          [
           "Excitement, Happiness"
          ],
          [
           "Uncertainty, Disgust"
          ],
          [
           "Uncertainty, Happiness"
          ],
          [
           "Curiosity, Excitement, Happiness"
          ],
          [
           "Curiosity, Uncertainty, Excitement, Happiness"
          ],
          [
           "Curiosity, Happiness, Surprise"
          ],
          [
           "Curiosity"
          ],
          [
           "Excitement, Happiness"
          ],
          [
           "Disgust, Fear, Frustration"
          ],
          [
           "Excitement, Happiness"
          ],
          [
           "Curiosity, Uncertainty"
          ],
          [
           "None"
          ],
          [
           "Curiosity, Uncertainty, Excitement, Happiness"
          ],
          [
           "Curiosity, Happiness, Surprise"
          ],
          [
           "Curiosity"
          ],
          [
           "Excitement, Happiness"
          ],
          [
           "Disgust, Fear, Frustration"
          ],
          [
           "Excitement, Happiness"
          ],
          [
           "Curiosity, Uncertainty"
          ],
          [
           "None"
          ],
          [
           "Curiosity, Uncertainty, Excitement, Happiness"
          ],
          [
           "Curiosity, Happiness, Surprise"
          ],
          [
           "Curiosity"
          ],
          [
           "Excitement, Happiness"
          ],
          [
           "Disgust, Fear, Frustration"
          ],
          [
           "Excitement, Happiness"
          ],
          [
           "Curiosity, Uncertainty"
          ],
          [
           "None"
          ],
          [
           "Excitement, Happiness"
          ],
          [
           "Excitement, Happiness, Surprise"
          ],
          [
           "Happiness"
          ],
          [
           "Curiosity, Uncertainty, Surprise"
          ],
          [
           "Excitement, Frustration"
          ],
          [
           "Curiosity, Excitement, Happiness"
          ],
          [
           "Curiosity, Uncertainty, Surprise, Frustration"
          ],
          [
           "Curiosity"
          ],
          [
           "Excitement, Happiness"
          ],
          [
           "Excitement, Happiness, Surprise"
          ],
          [
           "Happiness"
          ],
          [
           "Curiosity, Uncertainty, Surprise"
          ],
          [
           "Excitement, Frustration"
          ],
          [
           "Curiosity, Excitement, Happiness"
          ],
          [
           "Curiosity, Uncertainty, Surprise, Frustration"
          ],
          [
           "Curiosity"
          ],
          [
           "Excitement, Happiness"
          ],
          [
           "Excitement, Happiness, Surprise"
          ],
          [
           "Happiness"
          ],
          [
           "Curiosity, Uncertainty, Surprise"
          ],
          [
           "Excitement, Frustration"
          ],
          [
           "Curiosity, Excitement, Happiness"
          ],
          [
           "Curiosity, Uncertainty, Surprise, Frustration"
          ],
          [
           "Curiosity"
          ],
          [
           "Curiosity, Excitement, Happiness, Surprise"
          ],
          [
           "None"
          ],
          [
           "None"
          ],
          [
           "Curiosity, Happiness, Surprise"
          ],
          [
           "Curiosity, Uncertainty, Excitement, Happiness, Surprise"
          ],
          [
           "Curiosity, Excitement, Happiness, Surprise"
          ],
          [
           "Excitement, Happiness"
          ],
          [
           "None"
          ],
          [
           "Curiosity, Excitement, Happiness, Surprise"
          ],
          [
           "None"
          ],
          [
           "None"
          ],
          [
           "Curiosity, Happiness, Surprise"
          ],
          [
           "Curiosity, Uncertainty, Excitement, Happiness, Surprise"
          ],
          [
           "Curiosity, Excitement, Happiness, Surprise"
          ],
          [
           "Excitement, Happiness"
          ],
          [
           "None"
          ],
          [
           "Curiosity, Excitement, Happiness, Surprise"
          ],
          [
           "None"
          ],
          [
           "None"
          ],
          [
           "Curiosity, Happiness, Surprise"
          ],
          [
           "Curiosity, Uncertainty, Excitement, Happiness, Surprise"
          ],
          [
           "Curiosity, Excitement, Happiness, Surprise"
          ],
          [
           "Excitement, Happiness"
          ],
          [
           "None"
          ],
          [
           "Frustration"
          ],
          [
           "Curiosity, Uncertainty, Surprise"
          ],
          [
           "None"
          ],
          [
           "Happiness"
          ],
          [
           "Happiness, Surprise"
          ],
          [
           "Happiness"
          ],
          [
           "Curiosity, Uncertainty, Excitement, Happiness, Surprise, Fear"
          ],
          [
           "Curiosity, Happiness"
          ],
          [
           "Frustration"
          ],
          [
           "Curiosity, Uncertainty, Surprise"
          ],
          [
           "None"
          ],
          [
           "Happiness"
          ],
          [
           "Happiness, Surprise"
          ],
          [
           "Happiness"
          ],
          [
           "Curiosity, Uncertainty, Excitement, Happiness, Surprise, Fear"
          ],
          [
           "Curiosity, Happiness"
          ],
          [
           "Frustration"
          ],
          [
           "Curiosity, Uncertainty, Surprise"
          ],
          [
           "None"
          ],
          [
           "Happiness"
          ],
          [
           "Happiness, Surprise"
          ],
          [
           "Happiness"
          ],
          [
           "Curiosity, Uncertainty, Excitement, Happiness, Surprise, Fear"
          ],
          [
           "Curiosity, Happiness"
          ],
          [
           "Disgust, Fear"
          ],
          [
           "Curiosity, Uncertainty, Happiness, Surprise"
          ],
          [
           "Disgust"
          ],
          [
           "Happiness"
          ],
          [
           "Curiosity, Excitement, Happiness, Surprise"
          ],
          [
           "None"
          ],
          [
           "None"
          ],
          [
           "Disgust, Frustration"
          ],
          [
           "Disgust, Fear"
          ],
          [
           "Curiosity, Uncertainty, Happiness, Surprise"
          ],
          [
           "Disgust"
          ],
          [
           "Happiness"
          ],
          [
           "Curiosity, Excitement, Happiness, Surprise"
          ],
          [
           "None"
          ],
          [
           "None"
          ],
          [
           "Disgust, Frustration"
          ],
          [
           "Disgust, Fear"
          ],
          [
           "Curiosity, Uncertainty, Happiness, Surprise"
          ],
          [
           "Disgust"
          ],
          [
           "Happiness"
          ],
          [
           "Curiosity, Excitement, Happiness, Surprise"
          ],
          [
           "None"
          ],
          [
           "None"
          ],
          [
           "Disgust, Frustration"
          ],
          [
           "Curiosity, Uncertainty"
          ],
          [
           "Happiness, Frustration"
          ],
          [
           "None"
          ],
          [
           "None"
          ],
          [
           "Uncertainty, Surprise, Disgust"
          ],
          [
           "Uncertainty, Excitement"
          ],
          [
           "None"
          ],
          [
           "Curiosity, Excitement, Happiness, Surprise"
          ],
          [
           "Curiosity, Uncertainty"
          ],
          [
           "Happiness, Frustration"
          ],
          [
           "None"
          ],
          [
           "None"
          ],
          [
           "Uncertainty, Surprise, Disgust"
          ],
          [
           "Uncertainty, Excitement"
          ],
          [
           "None"
          ],
          [
           "Curiosity, Excitement, Happiness, Surprise"
          ],
          [
           "Curiosity, Uncertainty"
          ],
          [
           "Happiness, Frustration"
          ],
          [
           "None"
          ],
          [
           "None"
          ],
          [
           "Uncertainty, Surprise, Disgust"
          ],
          [
           "Uncertainty, Excitement"
          ],
          [
           "None"
          ],
          [
           "Curiosity, Excitement, Happiness, Surprise"
          ],
          [
           "Excitement, Frustration"
          ],
          [
           "Curiosity, Uncertainty, Happiness, Surprise, Frustration"
          ],
          [
           "Surprise, Disgust"
          ],
          [
           "Curiosity, Uncertainty, Happiness, Surprise"
          ],
          [
           "Uncertainty, Surprise"
          ],
          [
           "Uncertainty, Happiness, Surprise"
          ],
          [
           "None"
          ],
          [
           "None"
          ],
          [
           "Excitement, Frustration"
          ],
          [
           "Curiosity, Uncertainty, Happiness, Surprise, Frustration"
          ],
          [
           "Surprise, Disgust"
          ],
          [
           "Curiosity, Uncertainty, Happiness, Surprise"
          ],
          [
           "Uncertainty, Surprise"
          ],
          [
           "Uncertainty, Happiness, Surprise"
          ],
          [
           "None"
          ],
          [
           "None"
          ],
          [
           "Excitement, Frustration"
          ],
          [
           "Curiosity, Uncertainty, Happiness, Surprise, Frustration"
          ],
          [
           "Surprise, Disgust"
          ],
          [
           "Curiosity, Uncertainty, Happiness, Surprise"
          ],
          [
           "Uncertainty, Surprise"
          ],
          [
           "Uncertainty, Happiness, Surprise"
          ],
          [
           "None"
          ],
          [
           "None"
          ]
         ],
         "hovertemplate": "x=%{x}<br>y=%{y}<br>labels=%{customdata[0]}<extra></extra>",
         "legendgroup": "",
         "marker": {
          "color": "#636efa",
          "symbol": "circle"
         },
         "mode": "markers",
         "name": "",
         "orientation": "v",
         "showlegend": false,
         "type": "scatter",
         "x": [
          22.965171813964844,
          19.085586547851562,
          15.997501373291016,
          -6.97690486907959,
          16.275915145874023,
          -6.97690486907959,
          22.957048416137695,
          -6.97690486907959,
          27.08590316772461,
          26.981687545776367,
          23.62203598022461,
          19.66519546508789,
          23.593711853027344,
          20.094100952148438,
          26.32579231262207,
          19.802597045898438,
          -5.775486469268799,
          -5.775486469268799,
          -4.693953037261963,
          -4.693953037261963,
          -4.693953037261963,
          -5.775486469268799,
          -5.933963775634766,
          -5.933963775634766,
          -5.933963775634766,
          -4.724555492401123,
          -4.724555492401123,
          -5.933963775634766,
          -5.044190883636475,
          -5.775486469268799,
          -6.97690486907959,
          -6.323819160461426,
          21.742809295654297,
          25.684663772583008,
          26.229516983032227,
          21.43598747253418,
          18.857295989990234,
          21.589313507080078,
          22.9692325592041,
          26.006149291992188,
          -4.451687812805176,
          16.18126106262207,
          16.536672592163086,
          -6.262495040893555,
          -4.451687812805176,
          -6.171741008758545,
          -6.262495040893555,
          -4.51088285446167,
          26.75530433654785,
          21.948850631713867,
          23.616212844848633,
          23.62742042541504,
          25.27716827392578,
          26.891807556152344,
          24.723237991333008,
          25.288496017456055,
          17.142240524291992,
          -6.042974472045898,
          -6.262495040893555,
          -7.082632541656494,
          -6.042974472045898,
          -6.042974472045898,
          -6.042974472045898,
          -6.042974472045898,
          26.622711181640625,
          16.57249641418457,
          19.580135345458984,
          19.308673858642578,
          21.50001335144043,
          23.207189559936523,
          19.866588592529297,
          21.393110275268555,
          -6.042974472045898,
          -6.042974472045898,
          -6.042974472045898,
          -6.042974472045898,
          -6.042974472045898,
          15.010412216186523,
          -6.042974472045898,
          -6.042974472045898,
          -6.042974472045898,
          -6.042974472045898,
          -6.97690486907959,
          -6.042974472045898,
          -6.042974472045898,
          -6.042974472045898,
          -6.042974472045898,
          -6.97690486907959,
          -6.97690486907959,
          -5.086897373199463,
          -6.042974472045898,
          -7.082632541656494,
          -7.734057426452637,
          -4.911412715911865,
          -6.97690486907959,
          -5.697563171386719,
          -4.206940174102783,
          -4.911412715911865,
          -5.265477657318115,
          -6.042974472045898,
          -5.231961727142334,
          -5.231961727142334,
          -6.262495040893555,
          24.51807975769043,
          -6.97690486907959,
          -4.911412715911865,
          -8.114270210266113,
          21.436798095703125,
          -6.171741008758545,
          -5.086897373199463,
          -6.97690486907959,
          25.351551055908203,
          21.0390567779541,
          24.107852935791016,
          21.49497413635254,
          26.3154239654541,
          18.826099395751953,
          16.71328353881836,
          19.679378509521484,
          26.621984481811523,
          -5.697563171386719,
          -5.265501022338867,
          -5.232152462005615,
          -4.724555492401123,
          -7.082632541656494,
          -6.97690486907959,
          -5.933963775634766,
          -8.114270210266113,
          -5.933963775634766,
          -8.114270210266113,
          -4.693953037261963,
          -7.082632541656494,
          -5.775486469268799,
          -5.775486469268799,
          -7.082632541656494,
          -5.086897373199463,
          -6.97690486907959,
          -6.97690486907959,
          -8.114270210266113,
          -6.97690486907959,
          -8.114270210266113,
          20.060558319091797,
          15.053576469421387,
          15.563794136047363,
          14.541014671325684,
          16.49882698059082,
          18.7011661529541,
          15.30214786529541,
          26.55208969116211,
          19.630104064941406,
          27.101980209350586,
          19.59075164794922,
          -8.114270210266113,
          -8.114270210266113,
          -8.114270210266113,
          -8.492555618286133,
          14.62164306640625,
          -8.492555618286133,
          16.841917037963867,
          -8.492555618286133,
          -8.492555618286133,
          -8.492555618286133,
          -8.492555618286133,
          -8.492555618286133,
          23.361541748046875,
          16.190853118896484,
          24.69414520263672,
          15.308133125305176,
          20.95891571044922,
          27.096874237060547,
          17.042211532592773,
          27.03416633605957,
          17.14480972290039,
          26.693754196166992,
          26.48225975036621,
          26.31879425048828,
          -8.492555618286133,
          18.674901962280273,
          -8.492555618286133,
          23.99706268310547,
          -8.492555618286133,
          16.42315673828125,
          26.61511993408203,
          18.458768844604492,
          23.20876121520996,
          26.89949607849121,
          20.654897689819336,
          26.493398666381836,
          20.89283561706543,
          26.99041748046875,
          27.092174530029297,
          26.355873107910156,
          -8.492555618286133,
          -8.492555618286133,
          -8.492555618286133,
          -8.492555618286133,
          -8.492555618286133,
          -8.492555618286133,
          -8.492555618286133,
          -8.492555618286133,
          -8.492555618286133,
          -8.492555618286133,
          -8.492555618286133,
          -8.492555618286133,
          -8.492555618286133,
          14.9662504196167,
          -8.492555618286133,
          -8.492555618286133,
          -8.492555618286133,
          23.923404693603516,
          25.7624454498291,
          23.270227432250977,
          -8.492555618286133,
          25.925127029418945,
          19.216825485229492,
          21.263690948486328,
          -8.492555618286133,
          -8.492555618286133,
          -8.492555618286133,
          -8.492555618286133,
          -8.492555618286133,
          -8.492555618286133,
          21.29862403869629,
          -8.492555618286133,
          21.571626663208008,
          21.841678619384766,
          -8.492555618286133,
          -8.492555618286133,
          15.706291198730469,
          -8.492555618286133,
          26.59715461730957,
          -8.492555618286133,
          21.654388427734375,
          22.884902954101562,
          -8.492555618286133,
          -8.492555618286133,
          16.295700073242188,
          -8.492555618286133,
          26.07404136657715,
          -8.492555618286133,
          -8.492555618286133,
          -8.492555618286133,
          -8.492555618286133,
          -8.492555618286133,
          -8.492555618286133,
          -8.492555618286133,
          -8.492555618286133,
          -8.492555618286133,
          19.521177291870117,
          18.59604835510254,
          22.1384334564209,
          16.646799087524414,
          26.181163787841797,
          25.567419052124023,
          21.63492774963379,
          14.177003860473633,
          -8.492555618286133,
          -8.492555618286133,
          -8.492555618286133,
          -8.492555618286133,
          -8.492555618286133,
          -8.492555618286133,
          -8.492555618286133,
          -8.492555618286133,
          -8.492555618286133,
          -8.492555618286133,
          -8.492555618286133,
          -8.492555618286133,
          -8.492555618286133,
          -8.492555618286133,
          -8.492555618286133,
          -8.492555618286133,
          -8.492555618286133,
          -8.492555618286133,
          -8.492555618286133,
          -8.492555618286133,
          -8.492555618286133,
          -8.492555618286133,
          17.17575454711914,
          -8.492555618286133,
          -8.492555618286133,
          -8.492555618286133,
          -8.492555618286133,
          -8.492555618286133,
          -8.492555618286133,
          -8.492555618286133,
          -8.492555618286133,
          -8.492555618286133,
          -8.492555618286133,
          -8.492555618286133,
          23.002521514892578,
          21.496082305908203,
          26.36029624938965,
          -8.492555618286133,
          19.30348777770996,
          -8.492555618286133,
          16.069408416748047,
          15.590911865234375,
          25.13273048400879,
          24.022239685058594,
          25.513471603393555,
          15.063541412353516,
          22.719074249267578,
          15.977717399597168,
          -8.492555618286133,
          -8.492555618286133,
          -8.492555618286133,
          -8.492555618286133,
          25.185794830322266,
          -8.492555618286133,
          -8.492555618286133,
          -8.492555618286133
         ],
         "xaxis": "x",
         "y": [
          0.5837002396583557,
          5.350041389465332,
          7.962646007537842,
          -0.9909810423851013,
          7.797505855560303,
          -0.9909810423851013,
          0.5954855680465698,
          -0.9909810423851013,
          -5.691076755523682,
          -6.146329402923584,
          -0.437036395072937,
          4.763686656951904,
          -0.39156708121299744,
          4.294086933135986,
          -5.375617504119873,
          4.615477085113525,
          -1.246602177619934,
          -1.246602177619934,
          0.0924137681722641,
          0.0924137681722641,
          0.0924137681722641,
          -1.246602177619934,
          1.6800376176834106,
          1.6800376176834106,
          1.6800376176834106,
          0.7719654440879822,
          0.7719654440879822,
          1.6800376176834106,
          1.5243803262710571,
          -1.246602177619934,
          -0.9909810423851013,
          -2.5572896003723145,
          2.3363683223724365,
          -3.909149646759033,
          -4.937528133392334,
          2.7384989261627197,
          5.5653557777404785,
          2.539658546447754,
          0.5772311091423035,
          -4.448205471038818,
          -0.4900818169116974,
          7.830753326416016,
          7.579901695251465,
          -1.951478362083435,
          -0.4900818169116974,
          1.145081639289856,
          -1.951478362083435,
          -0.8368633389472961,
          -5.215188503265381,
          2.0506458282470703,
          -0.42782753705978394,
          -0.4459789991378784,
          -3.2152655124664307,
          -5.360735893249512,
          -2.270597219467163,
          -3.2337422370910645,
          7.084597587585449,
          0.05362071096897125,
          -1.951478362083435,
          -2.249103307723999,
          0.05362071096897125,
          0.05362071096897125,
          0.05362071096897125,
          0.05362071096897125,
          -5.111640930175781,
          7.552576065063477,
          4.854708194732666,
          5.132271766662598,
          2.660313367843628,
          0.21751181781291962,
          4.549252033233643,
          2.7923853397369385,
          0.05362071096897125,
          0.05362071096897125,
          0.05362071096897125,
          0.05362071096897125,
          0.05362071096897125,
          8.529678344726562,
          0.05362071096897125,
          0.05362071096897125,
          0.05362071096897125,
          0.05362071096897125,
          -0.9909810423851013,
          0.05362071096897125,
          0.05362071096897125,
          0.05362071096897125,
          0.05362071096897125,
          -0.9909810423851013,
          -0.9909810423851013,
          -0.7034214735031128,
          0.05362071096897125,
          -2.249103307723999,
          -2.35953950881958,
          -1.3309810161590576,
          -0.9909810423851013,
          -2.2734479904174805,
          -1.8977477550506592,
          -1.3309810161590576,
          -1.9231541156768799,
          0.05362071096897125,
          1.078326940536499,
          1.078326940536499,
          -1.951478362083435,
          -1.9228354692459106,
          -0.9909810423851013,
          -1.3309810161590576,
          -1.5283219814300537,
          2.7374777793884277,
          1.145081639289856,
          -0.7034214735031128,
          -0.9909810423851013,
          -3.3421337604522705,
          3.2165393829345703,
          -1.2338098287582397,
          2.695132255554199,
          -5.321072578430176,
          5.594356536865234,
          7.442440032958984,
          4.749186038970947,
          -5.889163494110107,
          -2.2734479904174805,
          -1.923161268234253,
          1.078039526939392,
          0.7719654440879822,
          -2.249103307723999,
          -0.9909810423851013,
          1.6800376176834106,
          -1.5283219814300537,
          1.6800376176834106,
          -1.5283219814300537,
          0.0924137681722641,
          -2.249103307723999,
          -1.246602177619934,
          -1.246602177619934,
          -2.249103307723999,
          -0.7034214735031128,
          -0.9909810423851013,
          -0.9909810423851013,
          -1.5283219814300537,
          -0.9909810423851013,
          -1.5283219814300537,
          4.33130407333374,
          8.507792472839355,
          8.22713565826416,
          8.746247291564941,
          7.607952117919922,
          5.709201335906982,
          8.372147560119629,
          -5.810914993286133,
          4.805171966552734,
          -5.757903099060059,
          4.843079090118408,
          -1.5283219814300537,
          -1.5283219814300537,
          -1.5283219814300537,
          1.0730935335159302,
          8.711265563964844,
          1.0730935335159302,
          7.339717864990234,
          1.0730935335159302,
          1.0730935335159302,
          1.0730935335159302,
          1.0730935335159302,
          1.0730935335159302,
          -0.022554118186235428,
          7.838051795959473,
          -2.221074104309082,
          8.371109008789062,
          3.309414863586426,
          -5.925618648529053,
          7.1716628074646,
          -6.160857200622559,
          7.081514835357666,
          -5.161651611328125,
          -5.711470127105713,
          -5.363617420196533,
          1.0730935335159302,
          5.7331085205078125,
          1.0730935335159302,
          -1.0496461391448975,
          1.0730935335159302,
          7.6655707359313965,
          -5.892664432525635,
          5.926479339599609,
          0.21497254073619843,
          -5.378914833068848,
          3.658449411392212,
          -5.73945951461792,
          3.3864707946777344,
          -6.14617395401001,
          -5.728698253631592,
          -5.076272964477539,
          1.0730935335159302,
          1.0730935335159302,
          1.0730935335159302,
          1.0730935335159302,
          1.0730935335159302,
          1.0730935335159302,
          1.0730935335159302,
          1.0730935335159302,
          1.0730935335159302,
          1.0730935335159302,
          1.0730935335159302,
          1.0730935335159302,
          1.0730935335159302,
          8.55193042755127,
          1.0730935335159302,
          1.0730935335159302,
          1.0730935335159302,
          -0.9278644323348999,
          -4.034663677215576,
          0.11963209509849548,
          1.0730935335159302,
          -4.310262680053711,
          5.22291374206543,
          2.952026128768921,
          1.0730935335159302,
          1.0730935335159302,
          1.0730935335159302,
          1.0730935335159302,
          1.0730935335159302,
          1.0730935335159302,
          2.9098565578460693,
          1.0730935335159302,
          2.5666122436523438,
          2.2002007961273193,
          1.0730935335159302,
          1.0730935335159302,
          8.141328811645508,
          1.0730935335159302,
          -5.106980323791504,
          1.0730935335159302,
          2.455836534500122,
          0.7024232745170593,
          1.0730935335159302,
          1.0730935335159302,
          7.7475457191467285,
          1.0730935335159302,
          -4.565427303314209,
          1.0730935335159302,
          1.0730935335159302,
          1.0730935335159302,
          1.0730935335159302,
          1.0730935335159302,
          1.0730935335159302,
          1.0730935335159302,
          1.0730935335159302,
          1.0730935335159302,
          4.916459560394287,
          5.8033766746521,
          1.781284213066101,
          7.497204780578613,
          -4.774304389953613,
          -3.707052707672119,
          2.479445457458496,
          8.898125648498535,
          1.0730935335159302,
          1.0730935335159302,
          1.0730935335159302,
          1.0730935335159302,
          1.0730935335159302,
          1.0730935335159302,
          1.0730935335159302,
          1.0730935335159302,
          1.0730935335159302,
          1.0730935335159302,
          1.0730935335159302,
          1.0730935335159302,
          1.0730935335159302,
          1.0730935335159302,
          1.0730935335159302,
          1.0730935335159302,
          1.0730935335159302,
          1.0730935335159302,
          1.0730935335159302,
          1.0730935335159302,
          1.0730935335159302,
          1.0730935335159302,
          7.054758071899414,
          1.0730935335159302,
          1.0730935335159302,
          1.0730935335159302,
          1.0730935335159302,
          1.0730935335159302,
          1.0730935335159302,
          1.0730935335159302,
          1.0730935335159302,
          1.0730935335159302,
          1.0730935335159302,
          1.0730935335159302,
          0.5278329253196716,
          2.664815664291382,
          -5.040399551391602,
          1.0730935335159302,
          5.137300968170166,
          1.0730935335159302,
          7.915332794189453,
          8.211847305297852,
          -2.9695754051208496,
          -1.0913944244384766,
          -3.6144604682922363,
          8.502250671386719,
          0.945350706577301,
          7.9697065353393555,
          1.0730935335159302,
          1.0730935335159302,
          1.0730935335159302,
          1.0730935335159302,
          -3.0614242553710938,
          1.0730935335159302,
          1.0730935335159302,
          1.0730935335159302
         ],
         "yaxis": "y"
        }
       ],
       "layout": {
        "autosize": false,
        "height": 800,
        "legend": {
         "tracegroupgap": 0
        },
        "margin": {
         "t": 60
        },
        "template": {
         "data": {
          "bar": [
           {
            "error_x": {
             "color": "rgb(36,36,36)"
            },
            "error_y": {
             "color": "rgb(36,36,36)"
            },
            "marker": {
             "line": {
              "color": "rgb(234,234,242)",
              "width": 0.5
             },
             "pattern": {
              "fillmode": "overlay",
              "size": 10,
              "solidity": 0.2
             }
            },
            "type": "bar"
           }
          ],
          "barpolar": [
           {
            "marker": {
             "line": {
              "color": "rgb(234,234,242)",
              "width": 0.5
             },
             "pattern": {
              "fillmode": "overlay",
              "size": 10,
              "solidity": 0.2
             }
            },
            "type": "barpolar"
           }
          ],
          "carpet": [
           {
            "aaxis": {
             "endlinecolor": "rgb(36,36,36)",
             "gridcolor": "white",
             "linecolor": "white",
             "minorgridcolor": "white",
             "startlinecolor": "rgb(36,36,36)"
            },
            "baxis": {
             "endlinecolor": "rgb(36,36,36)",
             "gridcolor": "white",
             "linecolor": "white",
             "minorgridcolor": "white",
             "startlinecolor": "rgb(36,36,36)"
            },
            "type": "carpet"
           }
          ],
          "choropleth": [
           {
            "colorbar": {
             "outlinewidth": 0,
             "tickcolor": "rgb(36,36,36)",
             "ticklen": 8,
             "ticks": "outside",
             "tickwidth": 2
            },
            "type": "choropleth"
           }
          ],
          "contour": [
           {
            "colorbar": {
             "outlinewidth": 0,
             "tickcolor": "rgb(36,36,36)",
             "ticklen": 8,
             "ticks": "outside",
             "tickwidth": 2
            },
            "colorscale": [
             [
              0,
              "rgb(2,4,25)"
             ],
             [
              0.06274509803921569,
              "rgb(24,15,41)"
             ],
             [
              0.12549019607843137,
              "rgb(47,23,57)"
             ],
             [
              0.18823529411764706,
              "rgb(71,28,72)"
             ],
             [
              0.25098039215686274,
              "rgb(97,30,82)"
             ],
             [
              0.3137254901960784,
              "rgb(123,30,89)"
             ],
             [
              0.3764705882352941,
              "rgb(150,27,91)"
             ],
             [
              0.4392156862745098,
              "rgb(177,22,88)"
             ],
             [
              0.5019607843137255,
              "rgb(203,26,79)"
             ],
             [
              0.5647058823529412,
              "rgb(223,47,67)"
             ],
             [
              0.6274509803921569,
              "rgb(236,76,61)"
             ],
             [
              0.6901960784313725,
              "rgb(242,107,73)"
             ],
             [
              0.7529411764705882,
              "rgb(244,135,95)"
             ],
             [
              0.8156862745098039,
              "rgb(245,162,122)"
             ],
             [
              0.8784313725490196,
              "rgb(246,188,153)"
             ],
             [
              0.9411764705882353,
              "rgb(247,212,187)"
             ],
             [
              1,
              "rgb(250,234,220)"
             ]
            ],
            "type": "contour"
           }
          ],
          "contourcarpet": [
           {
            "colorbar": {
             "outlinewidth": 0,
             "tickcolor": "rgb(36,36,36)",
             "ticklen": 8,
             "ticks": "outside",
             "tickwidth": 2
            },
            "type": "contourcarpet"
           }
          ],
          "heatmap": [
           {
            "colorbar": {
             "outlinewidth": 0,
             "tickcolor": "rgb(36,36,36)",
             "ticklen": 8,
             "ticks": "outside",
             "tickwidth": 2
            },
            "colorscale": [
             [
              0,
              "rgb(2,4,25)"
             ],
             [
              0.06274509803921569,
              "rgb(24,15,41)"
             ],
             [
              0.12549019607843137,
              "rgb(47,23,57)"
             ],
             [
              0.18823529411764706,
              "rgb(71,28,72)"
             ],
             [
              0.25098039215686274,
              "rgb(97,30,82)"
             ],
             [
              0.3137254901960784,
              "rgb(123,30,89)"
             ],
             [
              0.3764705882352941,
              "rgb(150,27,91)"
             ],
             [
              0.4392156862745098,
              "rgb(177,22,88)"
             ],
             [
              0.5019607843137255,
              "rgb(203,26,79)"
             ],
             [
              0.5647058823529412,
              "rgb(223,47,67)"
             ],
             [
              0.6274509803921569,
              "rgb(236,76,61)"
             ],
             [
              0.6901960784313725,
              "rgb(242,107,73)"
             ],
             [
              0.7529411764705882,
              "rgb(244,135,95)"
             ],
             [
              0.8156862745098039,
              "rgb(245,162,122)"
             ],
             [
              0.8784313725490196,
              "rgb(246,188,153)"
             ],
             [
              0.9411764705882353,
              "rgb(247,212,187)"
             ],
             [
              1,
              "rgb(250,234,220)"
             ]
            ],
            "type": "heatmap"
           }
          ],
          "heatmapgl": [
           {
            "colorbar": {
             "outlinewidth": 0,
             "tickcolor": "rgb(36,36,36)",
             "ticklen": 8,
             "ticks": "outside",
             "tickwidth": 2
            },
            "colorscale": [
             [
              0,
              "rgb(2,4,25)"
             ],
             [
              0.06274509803921569,
              "rgb(24,15,41)"
             ],
             [
              0.12549019607843137,
              "rgb(47,23,57)"
             ],
             [
              0.18823529411764706,
              "rgb(71,28,72)"
             ],
             [
              0.25098039215686274,
              "rgb(97,30,82)"
             ],
             [
              0.3137254901960784,
              "rgb(123,30,89)"
             ],
             [
              0.3764705882352941,
              "rgb(150,27,91)"
             ],
             [
              0.4392156862745098,
              "rgb(177,22,88)"
             ],
             [
              0.5019607843137255,
              "rgb(203,26,79)"
             ],
             [
              0.5647058823529412,
              "rgb(223,47,67)"
             ],
             [
              0.6274509803921569,
              "rgb(236,76,61)"
             ],
             [
              0.6901960784313725,
              "rgb(242,107,73)"
             ],
             [
              0.7529411764705882,
              "rgb(244,135,95)"
             ],
             [
              0.8156862745098039,
              "rgb(245,162,122)"
             ],
             [
              0.8784313725490196,
              "rgb(246,188,153)"
             ],
             [
              0.9411764705882353,
              "rgb(247,212,187)"
             ],
             [
              1,
              "rgb(250,234,220)"
             ]
            ],
            "type": "heatmapgl"
           }
          ],
          "histogram": [
           {
            "marker": {
             "pattern": {
              "fillmode": "overlay",
              "size": 10,
              "solidity": 0.2
             }
            },
            "type": "histogram"
           }
          ],
          "histogram2d": [
           {
            "colorbar": {
             "outlinewidth": 0,
             "tickcolor": "rgb(36,36,36)",
             "ticklen": 8,
             "ticks": "outside",
             "tickwidth": 2
            },
            "colorscale": [
             [
              0,
              "rgb(2,4,25)"
             ],
             [
              0.06274509803921569,
              "rgb(24,15,41)"
             ],
             [
              0.12549019607843137,
              "rgb(47,23,57)"
             ],
             [
              0.18823529411764706,
              "rgb(71,28,72)"
             ],
             [
              0.25098039215686274,
              "rgb(97,30,82)"
             ],
             [
              0.3137254901960784,
              "rgb(123,30,89)"
             ],
             [
              0.3764705882352941,
              "rgb(150,27,91)"
             ],
             [
              0.4392156862745098,
              "rgb(177,22,88)"
             ],
             [
              0.5019607843137255,
              "rgb(203,26,79)"
             ],
             [
              0.5647058823529412,
              "rgb(223,47,67)"
             ],
             [
              0.6274509803921569,
              "rgb(236,76,61)"
             ],
             [
              0.6901960784313725,
              "rgb(242,107,73)"
             ],
             [
              0.7529411764705882,
              "rgb(244,135,95)"
             ],
             [
              0.8156862745098039,
              "rgb(245,162,122)"
             ],
             [
              0.8784313725490196,
              "rgb(246,188,153)"
             ],
             [
              0.9411764705882353,
              "rgb(247,212,187)"
             ],
             [
              1,
              "rgb(250,234,220)"
             ]
            ],
            "type": "histogram2d"
           }
          ],
          "histogram2dcontour": [
           {
            "colorbar": {
             "outlinewidth": 0,
             "tickcolor": "rgb(36,36,36)",
             "ticklen": 8,
             "ticks": "outside",
             "tickwidth": 2
            },
            "colorscale": [
             [
              0,
              "rgb(2,4,25)"
             ],
             [
              0.06274509803921569,
              "rgb(24,15,41)"
             ],
             [
              0.12549019607843137,
              "rgb(47,23,57)"
             ],
             [
              0.18823529411764706,
              "rgb(71,28,72)"
             ],
             [
              0.25098039215686274,
              "rgb(97,30,82)"
             ],
             [
              0.3137254901960784,
              "rgb(123,30,89)"
             ],
             [
              0.3764705882352941,
              "rgb(150,27,91)"
             ],
             [
              0.4392156862745098,
              "rgb(177,22,88)"
             ],
             [
              0.5019607843137255,
              "rgb(203,26,79)"
             ],
             [
              0.5647058823529412,
              "rgb(223,47,67)"
             ],
             [
              0.6274509803921569,
              "rgb(236,76,61)"
             ],
             [
              0.6901960784313725,
              "rgb(242,107,73)"
             ],
             [
              0.7529411764705882,
              "rgb(244,135,95)"
             ],
             [
              0.8156862745098039,
              "rgb(245,162,122)"
             ],
             [
              0.8784313725490196,
              "rgb(246,188,153)"
             ],
             [
              0.9411764705882353,
              "rgb(247,212,187)"
             ],
             [
              1,
              "rgb(250,234,220)"
             ]
            ],
            "type": "histogram2dcontour"
           }
          ],
          "mesh3d": [
           {
            "colorbar": {
             "outlinewidth": 0,
             "tickcolor": "rgb(36,36,36)",
             "ticklen": 8,
             "ticks": "outside",
             "tickwidth": 2
            },
            "type": "mesh3d"
           }
          ],
          "parcoords": [
           {
            "line": {
             "colorbar": {
              "outlinewidth": 0,
              "tickcolor": "rgb(36,36,36)",
              "ticklen": 8,
              "ticks": "outside",
              "tickwidth": 2
             }
            },
            "type": "parcoords"
           }
          ],
          "pie": [
           {
            "automargin": true,
            "type": "pie"
           }
          ],
          "scatter": [
           {
            "fillpattern": {
             "fillmode": "overlay",
             "size": 10,
             "solidity": 0.2
            },
            "type": "scatter"
           }
          ],
          "scatter3d": [
           {
            "line": {
             "colorbar": {
              "outlinewidth": 0,
              "tickcolor": "rgb(36,36,36)",
              "ticklen": 8,
              "ticks": "outside",
              "tickwidth": 2
             }
            },
            "marker": {
             "colorbar": {
              "outlinewidth": 0,
              "tickcolor": "rgb(36,36,36)",
              "ticklen": 8,
              "ticks": "outside",
              "tickwidth": 2
             }
            },
            "type": "scatter3d"
           }
          ],
          "scattercarpet": [
           {
            "marker": {
             "colorbar": {
              "outlinewidth": 0,
              "tickcolor": "rgb(36,36,36)",
              "ticklen": 8,
              "ticks": "outside",
              "tickwidth": 2
             }
            },
            "type": "scattercarpet"
           }
          ],
          "scattergeo": [
           {
            "marker": {
             "colorbar": {
              "outlinewidth": 0,
              "tickcolor": "rgb(36,36,36)",
              "ticklen": 8,
              "ticks": "outside",
              "tickwidth": 2
             }
            },
            "type": "scattergeo"
           }
          ],
          "scattergl": [
           {
            "marker": {
             "colorbar": {
              "outlinewidth": 0,
              "tickcolor": "rgb(36,36,36)",
              "ticklen": 8,
              "ticks": "outside",
              "tickwidth": 2
             }
            },
            "type": "scattergl"
           }
          ],
          "scattermapbox": [
           {
            "marker": {
             "colorbar": {
              "outlinewidth": 0,
              "tickcolor": "rgb(36,36,36)",
              "ticklen": 8,
              "ticks": "outside",
              "tickwidth": 2
             }
            },
            "type": "scattermapbox"
           }
          ],
          "scatterpolar": [
           {
            "marker": {
             "colorbar": {
              "outlinewidth": 0,
              "tickcolor": "rgb(36,36,36)",
              "ticklen": 8,
              "ticks": "outside",
              "tickwidth": 2
             }
            },
            "type": "scatterpolar"
           }
          ],
          "scatterpolargl": [
           {
            "marker": {
             "colorbar": {
              "outlinewidth": 0,
              "tickcolor": "rgb(36,36,36)",
              "ticklen": 8,
              "ticks": "outside",
              "tickwidth": 2
             }
            },
            "type": "scatterpolargl"
           }
          ],
          "scatterternary": [
           {
            "marker": {
             "colorbar": {
              "outlinewidth": 0,
              "tickcolor": "rgb(36,36,36)",
              "ticklen": 8,
              "ticks": "outside",
              "tickwidth": 2
             }
            },
            "type": "scatterternary"
           }
          ],
          "surface": [
           {
            "colorbar": {
             "outlinewidth": 0,
             "tickcolor": "rgb(36,36,36)",
             "ticklen": 8,
             "ticks": "outside",
             "tickwidth": 2
            },
            "colorscale": [
             [
              0,
              "rgb(2,4,25)"
             ],
             [
              0.06274509803921569,
              "rgb(24,15,41)"
             ],
             [
              0.12549019607843137,
              "rgb(47,23,57)"
             ],
             [
              0.18823529411764706,
              "rgb(71,28,72)"
             ],
             [
              0.25098039215686274,
              "rgb(97,30,82)"
             ],
             [
              0.3137254901960784,
              "rgb(123,30,89)"
             ],
             [
              0.3764705882352941,
              "rgb(150,27,91)"
             ],
             [
              0.4392156862745098,
              "rgb(177,22,88)"
             ],
             [
              0.5019607843137255,
              "rgb(203,26,79)"
             ],
             [
              0.5647058823529412,
              "rgb(223,47,67)"
             ],
             [
              0.6274509803921569,
              "rgb(236,76,61)"
             ],
             [
              0.6901960784313725,
              "rgb(242,107,73)"
             ],
             [
              0.7529411764705882,
              "rgb(244,135,95)"
             ],
             [
              0.8156862745098039,
              "rgb(245,162,122)"
             ],
             [
              0.8784313725490196,
              "rgb(246,188,153)"
             ],
             [
              0.9411764705882353,
              "rgb(247,212,187)"
             ],
             [
              1,
              "rgb(250,234,220)"
             ]
            ],
            "type": "surface"
           }
          ],
          "table": [
           {
            "cells": {
             "fill": {
              "color": "rgb(231,231,240)"
             },
             "line": {
              "color": "white"
             }
            },
            "header": {
             "fill": {
              "color": "rgb(183,183,191)"
             },
             "line": {
              "color": "white"
             }
            },
            "type": "table"
           }
          ]
         },
         "layout": {
          "annotationdefaults": {
           "arrowcolor": "rgb(67,103,167)"
          },
          "autotypenumbers": "strict",
          "coloraxis": {
           "colorbar": {
            "outlinewidth": 0,
            "tickcolor": "rgb(36,36,36)",
            "ticklen": 8,
            "ticks": "outside",
            "tickwidth": 2
           }
          },
          "colorscale": {
           "sequential": [
            [
             0,
             "rgb(2,4,25)"
            ],
            [
             0.06274509803921569,
             "rgb(24,15,41)"
            ],
            [
             0.12549019607843137,
             "rgb(47,23,57)"
            ],
            [
             0.18823529411764706,
             "rgb(71,28,72)"
            ],
            [
             0.25098039215686274,
             "rgb(97,30,82)"
            ],
            [
             0.3137254901960784,
             "rgb(123,30,89)"
            ],
            [
             0.3764705882352941,
             "rgb(150,27,91)"
            ],
            [
             0.4392156862745098,
             "rgb(177,22,88)"
            ],
            [
             0.5019607843137255,
             "rgb(203,26,79)"
            ],
            [
             0.5647058823529412,
             "rgb(223,47,67)"
            ],
            [
             0.6274509803921569,
             "rgb(236,76,61)"
            ],
            [
             0.6901960784313725,
             "rgb(242,107,73)"
            ],
            [
             0.7529411764705882,
             "rgb(244,135,95)"
            ],
            [
             0.8156862745098039,
             "rgb(245,162,122)"
            ],
            [
             0.8784313725490196,
             "rgb(246,188,153)"
            ],
            [
             0.9411764705882353,
             "rgb(247,212,187)"
            ],
            [
             1,
             "rgb(250,234,220)"
            ]
           ],
           "sequentialminus": [
            [
             0,
             "rgb(2,4,25)"
            ],
            [
             0.06274509803921569,
             "rgb(24,15,41)"
            ],
            [
             0.12549019607843137,
             "rgb(47,23,57)"
            ],
            [
             0.18823529411764706,
             "rgb(71,28,72)"
            ],
            [
             0.25098039215686274,
             "rgb(97,30,82)"
            ],
            [
             0.3137254901960784,
             "rgb(123,30,89)"
            ],
            [
             0.3764705882352941,
             "rgb(150,27,91)"
            ],
            [
             0.4392156862745098,
             "rgb(177,22,88)"
            ],
            [
             0.5019607843137255,
             "rgb(203,26,79)"
            ],
            [
             0.5647058823529412,
             "rgb(223,47,67)"
            ],
            [
             0.6274509803921569,
             "rgb(236,76,61)"
            ],
            [
             0.6901960784313725,
             "rgb(242,107,73)"
            ],
            [
             0.7529411764705882,
             "rgb(244,135,95)"
            ],
            [
             0.8156862745098039,
             "rgb(245,162,122)"
            ],
            [
             0.8784313725490196,
             "rgb(246,188,153)"
            ],
            [
             0.9411764705882353,
             "rgb(247,212,187)"
            ],
            [
             1,
             "rgb(250,234,220)"
            ]
           ]
          },
          "colorway": [
           "rgb(76,114,176)",
           "rgb(221,132,82)",
           "rgb(85,168,104)",
           "rgb(196,78,82)",
           "rgb(129,114,179)",
           "rgb(147,120,96)",
           "rgb(218,139,195)",
           "rgb(140,140,140)",
           "rgb(204,185,116)",
           "rgb(100,181,205)"
          ],
          "font": {
           "color": "rgb(36,36,36)"
          },
          "geo": {
           "bgcolor": "white",
           "lakecolor": "white",
           "landcolor": "rgb(234,234,242)",
           "showlakes": true,
           "showland": true,
           "subunitcolor": "white"
          },
          "hoverlabel": {
           "align": "left"
          },
          "hovermode": "closest",
          "paper_bgcolor": "white",
          "plot_bgcolor": "rgb(234,234,242)",
          "polar": {
           "angularaxis": {
            "gridcolor": "white",
            "linecolor": "white",
            "showgrid": true,
            "ticks": ""
           },
           "bgcolor": "rgb(234,234,242)",
           "radialaxis": {
            "gridcolor": "white",
            "linecolor": "white",
            "showgrid": true,
            "ticks": ""
           }
          },
          "scene": {
           "xaxis": {
            "backgroundcolor": "rgb(234,234,242)",
            "gridcolor": "white",
            "gridwidth": 2,
            "linecolor": "white",
            "showbackground": true,
            "showgrid": true,
            "ticks": "",
            "zerolinecolor": "white"
           },
           "yaxis": {
            "backgroundcolor": "rgb(234,234,242)",
            "gridcolor": "white",
            "gridwidth": 2,
            "linecolor": "white",
            "showbackground": true,
            "showgrid": true,
            "ticks": "",
            "zerolinecolor": "white"
           },
           "zaxis": {
            "backgroundcolor": "rgb(234,234,242)",
            "gridcolor": "white",
            "gridwidth": 2,
            "linecolor": "white",
            "showbackground": true,
            "showgrid": true,
            "ticks": "",
            "zerolinecolor": "white"
           }
          },
          "shapedefaults": {
           "fillcolor": "rgb(67,103,167)",
           "line": {
            "width": 0
           },
           "opacity": 0.5
          },
          "ternary": {
           "aaxis": {
            "gridcolor": "white",
            "linecolor": "white",
            "showgrid": true,
            "ticks": ""
           },
           "baxis": {
            "gridcolor": "white",
            "linecolor": "white",
            "showgrid": true,
            "ticks": ""
           },
           "bgcolor": "rgb(234,234,242)",
           "caxis": {
            "gridcolor": "white",
            "linecolor": "white",
            "showgrid": true,
            "ticks": ""
           }
          },
          "xaxis": {
           "automargin": true,
           "gridcolor": "white",
           "linecolor": "white",
           "showgrid": true,
           "ticks": "",
           "title": {
            "standoff": 15
           },
           "zerolinecolor": "white"
          },
          "yaxis": {
           "automargin": true,
           "gridcolor": "white",
           "linecolor": "white",
           "showgrid": true,
           "ticks": "",
           "title": {
            "standoff": 15
           },
           "zerolinecolor": "white"
          }
         }
        },
        "width": 800,
        "xaxis": {
         "anchor": "y",
         "domain": [
          0,
          1
         ],
         "title": {
          "text": "x"
         }
        },
        "yaxis": {
         "anchor": "x",
         "domain": [
          0,
          1
         ],
         "title": {
          "text": "y"
         }
        }
       }
      },
      "text/html": [
       "<div>                            <div id=\"19b5beab-babe-4b0b-8da1-09247adb7b17\" class=\"plotly-graph-div\" style=\"height:800px; width:800px;\"></div>            <script type=\"text/javascript\">                require([\"plotly\"], function(Plotly) {                    window.PLOTLYENV=window.PLOTLYENV || {};                                    if (document.getElementById(\"19b5beab-babe-4b0b-8da1-09247adb7b17\")) {                    Plotly.newPlot(                        \"19b5beab-babe-4b0b-8da1-09247adb7b17\",                        [{\"customdata\":[[\"None\"],[\"Curiosity, Happiness, Frustration\"],[\"None\"],[\"Excitement, Happiness\"],[\"Curiosity, Uncertainty, Surprise, Frustration\"],[\"Curiosity, Happiness\"],[\"Happiness\"],[\"None\"],[\"None\"],[\"Curiosity, Happiness, Frustration\"],[\"None\"],[\"Excitement, Happiness\"],[\"Curiosity, Uncertainty, Surprise, Frustration\"],[\"Curiosity, Happiness\"],[\"Happiness\"],[\"None\"],[\"None\"],[\"Curiosity, Happiness, Frustration\"],[\"None\"],[\"Excitement, Happiness\"],[\"Curiosity, Uncertainty, Surprise, Frustration\"],[\"Curiosity, Happiness\"],[\"Happiness\"],[\"None\"],[\"None\"],[\"None\"],[\"Uncertainty, Excitement, Happiness, Disgust\"],[\"Uncertainty, Excitement, Surprise, Disgust, Fear, Frustration\"],[\"Curiosity, Uncertainty, Fear\"],[\"Excitement, Happiness\"],[\"Curiosity, Happiness, Surprise\"],[\"Curiosity, Uncertainty\"],[\"None\"],[\"None\"],[\"Uncertainty, Excitement, Happiness, Disgust\"],[\"Uncertainty, Excitement, Surprise, Disgust, Fear, Frustration\"],[\"Curiosity, Uncertainty, Fear\"],[\"Excitement, Happiness\"],[\"Curiosity, Happiness, Surprise\"],[\"Curiosity, Uncertainty\"],[\"None\"],[\"None\"],[\"Uncertainty, Excitement, Happiness, Disgust\"],[\"Uncertainty, Excitement, Surprise, Disgust, Fear, Frustration\"],[\"Curiosity, Uncertainty, Fear\"],[\"Excitement, Happiness\"],[\"Curiosity, Happiness, Surprise\"],[\"Curiosity, Uncertainty\"],[\"Happiness\"],[\"Uncertainty\"],[\"Curiosity, Uncertainty, Excitement, Happiness, Surprise\"],[\"Excitement\"],[\"None\"],[\"Curiosity\"],[\"Happiness\"],[\"Curiosity, Uncertainty, Happiness\"],[\"Happiness\"],[\"Uncertainty\"],[\"Curiosity, Uncertainty, Excitement, Happiness, Surprise\"],[\"Excitement\"],[\"None\"],[\"Curiosity\"],[\"Happiness\"],[\"Curiosity, Uncertainty, Happiness\"],[\"Happiness\"],[\"Uncertainty\"],[\"Curiosity, Uncertainty, Excitement, Happiness, Surprise\"],[\"Excitement\"],[\"None\"],[\"Curiosity\"],[\"Happiness\"],[\"Curiosity, Uncertainty, Happiness\"],[\"None\"],[\"Curiosity, Uncertainty, Frustration\"],[\"Curiosity, Uncertainty, Surprise, Frustration\"],[\"Curiosity, Uncertainty, Happiness, Surprise\"],[\"None\"],[\"Uncertainty, Disgust, Fear\"],[\"Uncertainty, Disgust, Fear\"],[\"Uncertainty, Happiness, Surprise, Frustration\"],[\"None\"],[\"Curiosity, Uncertainty, Frustration\"],[\"Curiosity, Uncertainty, Surprise, Frustration\"],[\"Curiosity, Uncertainty, Happiness, Surprise\"],[\"None\"],[\"Uncertainty, Disgust, Fear\"],[\"Uncertainty, Disgust, Fear\"],[\"Uncertainty, Happiness, Surprise, Frustration\"],[\"None\"],[\"Curiosity, Uncertainty, Frustration\"],[\"Curiosity, Uncertainty, Surprise, Frustration\"],[\"Curiosity, Uncertainty, Happiness, Surprise\"],[\"None\"],[\"Uncertainty, Disgust, Fear\"],[\"Uncertainty, Disgust, Fear\"],[\"Uncertainty, Happiness, Surprise, Frustration\"],[\"Curiosity, Excitement, Surprise\"],[\"Curiosity, Uncertainty, Happiness\"],[\"Curiosity, Uncertainty, Happiness, Surprise, Fear\"],[\"Excitement, Happiness\"],[\"Curiosity, Happiness\"],[\"Curiosity, Uncertainty, Happiness, Surprise\"],[\"Happiness\"],[\"Excitement, Happiness, Disgust\"],[\"Curiosity, Excitement, Surprise\"],[\"Curiosity, Uncertainty, Happiness\"],[\"Curiosity, Uncertainty, Happiness, Surprise, Fear\"],[\"Excitement, Happiness\"],[\"Curiosity, Happiness\"],[\"Curiosity, Uncertainty, Happiness, Surprise\"],[\"Happiness\"],[\"Excitement, Happiness, Disgust\"],[\"Curiosity, Excitement, Surprise\"],[\"Curiosity, Uncertainty, Happiness\"],[\"Curiosity, Uncertainty, Happiness, Surprise, Fear\"],[\"Excitement, Happiness\"],[\"Curiosity, Happiness\"],[\"Curiosity, Uncertainty, Happiness, Surprise\"],[\"Happiness\"],[\"Excitement, Happiness, Disgust\"],[\"Curiosity, Uncertainty\"],[\"Curiosity, Surprise\"],[\"None\"],[\"Curiosity, Excitement, Happiness, Surprise\"],[\"Excitement, Happiness\"],[\"Uncertainty, Disgust\"],[\"Uncertainty, Happiness\"],[\"Curiosity, Excitement, Happiness\"],[\"Curiosity, Uncertainty\"],[\"Curiosity, Surprise\"],[\"None\"],[\"Curiosity, Excitement, Happiness, Surprise\"],[\"Excitement, Happiness\"],[\"Uncertainty, Disgust\"],[\"Uncertainty, Happiness\"],[\"Curiosity, Excitement, Happiness\"],[\"Curiosity, Uncertainty\"],[\"Curiosity, Surprise\"],[\"None\"],[\"Curiosity, Excitement, Happiness, Surprise\"],[\"Excitement, Happiness\"],[\"Uncertainty, Disgust\"],[\"Uncertainty, Happiness\"],[\"Curiosity, Excitement, Happiness\"],[\"Curiosity, Uncertainty, Excitement, Happiness\"],[\"Curiosity, Happiness, Surprise\"],[\"Curiosity\"],[\"Excitement, Happiness\"],[\"Disgust, Fear, Frustration\"],[\"Excitement, Happiness\"],[\"Curiosity, Uncertainty\"],[\"None\"],[\"Curiosity, Uncertainty, Excitement, Happiness\"],[\"Curiosity, Happiness, Surprise\"],[\"Curiosity\"],[\"Excitement, Happiness\"],[\"Disgust, Fear, Frustration\"],[\"Excitement, Happiness\"],[\"Curiosity, Uncertainty\"],[\"None\"],[\"Curiosity, Uncertainty, Excitement, Happiness\"],[\"Curiosity, Happiness, Surprise\"],[\"Curiosity\"],[\"Excitement, Happiness\"],[\"Disgust, Fear, Frustration\"],[\"Excitement, Happiness\"],[\"Curiosity, Uncertainty\"],[\"None\"],[\"Excitement, Happiness\"],[\"Excitement, Happiness, Surprise\"],[\"Happiness\"],[\"Curiosity, Uncertainty, Surprise\"],[\"Excitement, Frustration\"],[\"Curiosity, Excitement, Happiness\"],[\"Curiosity, Uncertainty, Surprise, Frustration\"],[\"Curiosity\"],[\"Excitement, Happiness\"],[\"Excitement, Happiness, Surprise\"],[\"Happiness\"],[\"Curiosity, Uncertainty, Surprise\"],[\"Excitement, Frustration\"],[\"Curiosity, Excitement, Happiness\"],[\"Curiosity, Uncertainty, Surprise, Frustration\"],[\"Curiosity\"],[\"Excitement, Happiness\"],[\"Excitement, Happiness, Surprise\"],[\"Happiness\"],[\"Curiosity, Uncertainty, Surprise\"],[\"Excitement, Frustration\"],[\"Curiosity, Excitement, Happiness\"],[\"Curiosity, Uncertainty, Surprise, Frustration\"],[\"Curiosity\"],[\"Curiosity, Excitement, Happiness, Surprise\"],[\"None\"],[\"None\"],[\"Curiosity, Happiness, Surprise\"],[\"Curiosity, Uncertainty, Excitement, Happiness, Surprise\"],[\"Curiosity, Excitement, Happiness, Surprise\"],[\"Excitement, Happiness\"],[\"None\"],[\"Curiosity, Excitement, Happiness, Surprise\"],[\"None\"],[\"None\"],[\"Curiosity, Happiness, Surprise\"],[\"Curiosity, Uncertainty, Excitement, Happiness, Surprise\"],[\"Curiosity, Excitement, Happiness, Surprise\"],[\"Excitement, Happiness\"],[\"None\"],[\"Curiosity, Excitement, Happiness, Surprise\"],[\"None\"],[\"None\"],[\"Curiosity, Happiness, Surprise\"],[\"Curiosity, Uncertainty, Excitement, Happiness, Surprise\"],[\"Curiosity, Excitement, Happiness, Surprise\"],[\"Excitement, Happiness\"],[\"None\"],[\"Frustration\"],[\"Curiosity, Uncertainty, Surprise\"],[\"None\"],[\"Happiness\"],[\"Happiness, Surprise\"],[\"Happiness\"],[\"Curiosity, Uncertainty, Excitement, Happiness, Surprise, Fear\"],[\"Curiosity, Happiness\"],[\"Frustration\"],[\"Curiosity, Uncertainty, Surprise\"],[\"None\"],[\"Happiness\"],[\"Happiness, Surprise\"],[\"Happiness\"],[\"Curiosity, Uncertainty, Excitement, Happiness, Surprise, Fear\"],[\"Curiosity, Happiness\"],[\"Frustration\"],[\"Curiosity, Uncertainty, Surprise\"],[\"None\"],[\"Happiness\"],[\"Happiness, Surprise\"],[\"Happiness\"],[\"Curiosity, Uncertainty, Excitement, Happiness, Surprise, Fear\"],[\"Curiosity, Happiness\"],[\"Disgust, Fear\"],[\"Curiosity, Uncertainty, Happiness, Surprise\"],[\"Disgust\"],[\"Happiness\"],[\"Curiosity, Excitement, Happiness, Surprise\"],[\"None\"],[\"None\"],[\"Disgust, Frustration\"],[\"Disgust, Fear\"],[\"Curiosity, Uncertainty, Happiness, Surprise\"],[\"Disgust\"],[\"Happiness\"],[\"Curiosity, Excitement, Happiness, Surprise\"],[\"None\"],[\"None\"],[\"Disgust, Frustration\"],[\"Disgust, Fear\"],[\"Curiosity, Uncertainty, Happiness, Surprise\"],[\"Disgust\"],[\"Happiness\"],[\"Curiosity, Excitement, Happiness, Surprise\"],[\"None\"],[\"None\"],[\"Disgust, Frustration\"],[\"Curiosity, Uncertainty\"],[\"Happiness, Frustration\"],[\"None\"],[\"None\"],[\"Uncertainty, Surprise, Disgust\"],[\"Uncertainty, Excitement\"],[\"None\"],[\"Curiosity, Excitement, Happiness, Surprise\"],[\"Curiosity, Uncertainty\"],[\"Happiness, Frustration\"],[\"None\"],[\"None\"],[\"Uncertainty, Surprise, Disgust\"],[\"Uncertainty, Excitement\"],[\"None\"],[\"Curiosity, Excitement, Happiness, Surprise\"],[\"Curiosity, Uncertainty\"],[\"Happiness, Frustration\"],[\"None\"],[\"None\"],[\"Uncertainty, Surprise, Disgust\"],[\"Uncertainty, Excitement\"],[\"None\"],[\"Curiosity, Excitement, Happiness, Surprise\"],[\"Excitement, Frustration\"],[\"Curiosity, Uncertainty, Happiness, Surprise, Frustration\"],[\"Surprise, Disgust\"],[\"Curiosity, Uncertainty, Happiness, Surprise\"],[\"Uncertainty, Surprise\"],[\"Uncertainty, Happiness, Surprise\"],[\"None\"],[\"None\"],[\"Excitement, Frustration\"],[\"Curiosity, Uncertainty, Happiness, Surprise, Frustration\"],[\"Surprise, Disgust\"],[\"Curiosity, Uncertainty, Happiness, Surprise\"],[\"Uncertainty, Surprise\"],[\"Uncertainty, Happiness, Surprise\"],[\"None\"],[\"None\"],[\"Excitement, Frustration\"],[\"Curiosity, Uncertainty, Happiness, Surprise, Frustration\"],[\"Surprise, Disgust\"],[\"Curiosity, Uncertainty, Happiness, Surprise\"],[\"Uncertainty, Surprise\"],[\"Uncertainty, Happiness, Surprise\"],[\"None\"],[\"None\"]],\"hovertemplate\":\"x=%{x}\\u003cbr\\u003ey=%{y}\\u003cbr\\u003elabels=%{customdata[0]}\\u003cextra\\u003e\\u003c\\u002fextra\\u003e\",\"legendgroup\":\"\",\"marker\":{\"color\":\"#636efa\",\"symbol\":\"circle\"},\"mode\":\"markers\",\"name\":\"\",\"orientation\":\"v\",\"showlegend\":false,\"x\":[22.965171813964844,19.085586547851562,15.997501373291016,-6.97690486907959,16.275915145874023,-6.97690486907959,22.957048416137695,-6.97690486907959,27.08590316772461,26.981687545776367,23.62203598022461,19.66519546508789,23.593711853027344,20.094100952148438,26.32579231262207,19.802597045898438,-5.775486469268799,-5.775486469268799,-4.693953037261963,-4.693953037261963,-4.693953037261963,-5.775486469268799,-5.933963775634766,-5.933963775634766,-5.933963775634766,-4.724555492401123,-4.724555492401123,-5.933963775634766,-5.044190883636475,-5.775486469268799,-6.97690486907959,-6.323819160461426,21.742809295654297,25.684663772583008,26.229516983032227,21.43598747253418,18.857295989990234,21.589313507080078,22.9692325592041,26.006149291992188,-4.451687812805176,16.18126106262207,16.536672592163086,-6.262495040893555,-4.451687812805176,-6.171741008758545,-6.262495040893555,-4.51088285446167,26.75530433654785,21.948850631713867,23.616212844848633,23.62742042541504,25.27716827392578,26.891807556152344,24.723237991333008,25.288496017456055,17.142240524291992,-6.042974472045898,-6.262495040893555,-7.082632541656494,-6.042974472045898,-6.042974472045898,-6.042974472045898,-6.042974472045898,26.622711181640625,16.57249641418457,19.580135345458984,19.308673858642578,21.50001335144043,23.207189559936523,19.866588592529297,21.393110275268555,-6.042974472045898,-6.042974472045898,-6.042974472045898,-6.042974472045898,-6.042974472045898,15.010412216186523,-6.042974472045898,-6.042974472045898,-6.042974472045898,-6.042974472045898,-6.97690486907959,-6.042974472045898,-6.042974472045898,-6.042974472045898,-6.042974472045898,-6.97690486907959,-6.97690486907959,-5.086897373199463,-6.042974472045898,-7.082632541656494,-7.734057426452637,-4.911412715911865,-6.97690486907959,-5.697563171386719,-4.206940174102783,-4.911412715911865,-5.265477657318115,-6.042974472045898,-5.231961727142334,-5.231961727142334,-6.262495040893555,24.51807975769043,-6.97690486907959,-4.911412715911865,-8.114270210266113,21.436798095703125,-6.171741008758545,-5.086897373199463,-6.97690486907959,25.351551055908203,21.0390567779541,24.107852935791016,21.49497413635254,26.3154239654541,18.826099395751953,16.71328353881836,19.679378509521484,26.621984481811523,-5.697563171386719,-5.265501022338867,-5.232152462005615,-4.724555492401123,-7.082632541656494,-6.97690486907959,-5.933963775634766,-8.114270210266113,-5.933963775634766,-8.114270210266113,-4.693953037261963,-7.082632541656494,-5.775486469268799,-5.775486469268799,-7.082632541656494,-5.086897373199463,-6.97690486907959,-6.97690486907959,-8.114270210266113,-6.97690486907959,-8.114270210266113,20.060558319091797,15.053576469421387,15.563794136047363,14.541014671325684,16.49882698059082,18.7011661529541,15.30214786529541,26.55208969116211,19.630104064941406,27.101980209350586,19.59075164794922,-8.114270210266113,-8.114270210266113,-8.114270210266113,-8.492555618286133,14.62164306640625,-8.492555618286133,16.841917037963867,-8.492555618286133,-8.492555618286133,-8.492555618286133,-8.492555618286133,-8.492555618286133,23.361541748046875,16.190853118896484,24.69414520263672,15.308133125305176,20.95891571044922,27.096874237060547,17.042211532592773,27.03416633605957,17.14480972290039,26.693754196166992,26.48225975036621,26.31879425048828,-8.492555618286133,18.674901962280273,-8.492555618286133,23.99706268310547,-8.492555618286133,16.42315673828125,26.61511993408203,18.458768844604492,23.20876121520996,26.89949607849121,20.654897689819336,26.493398666381836,20.89283561706543,26.99041748046875,27.092174530029297,26.355873107910156,-8.492555618286133,-8.492555618286133,-8.492555618286133,-8.492555618286133,-8.492555618286133,-8.492555618286133,-8.492555618286133,-8.492555618286133,-8.492555618286133,-8.492555618286133,-8.492555618286133,-8.492555618286133,-8.492555618286133,14.9662504196167,-8.492555618286133,-8.492555618286133,-8.492555618286133,23.923404693603516,25.7624454498291,23.270227432250977,-8.492555618286133,25.925127029418945,19.216825485229492,21.263690948486328,-8.492555618286133,-8.492555618286133,-8.492555618286133,-8.492555618286133,-8.492555618286133,-8.492555618286133,21.29862403869629,-8.492555618286133,21.571626663208008,21.841678619384766,-8.492555618286133,-8.492555618286133,15.706291198730469,-8.492555618286133,26.59715461730957,-8.492555618286133,21.654388427734375,22.884902954101562,-8.492555618286133,-8.492555618286133,16.295700073242188,-8.492555618286133,26.07404136657715,-8.492555618286133,-8.492555618286133,-8.492555618286133,-8.492555618286133,-8.492555618286133,-8.492555618286133,-8.492555618286133,-8.492555618286133,-8.492555618286133,19.521177291870117,18.59604835510254,22.1384334564209,16.646799087524414,26.181163787841797,25.567419052124023,21.63492774963379,14.177003860473633,-8.492555618286133,-8.492555618286133,-8.492555618286133,-8.492555618286133,-8.492555618286133,-8.492555618286133,-8.492555618286133,-8.492555618286133,-8.492555618286133,-8.492555618286133,-8.492555618286133,-8.492555618286133,-8.492555618286133,-8.492555618286133,-8.492555618286133,-8.492555618286133,-8.492555618286133,-8.492555618286133,-8.492555618286133,-8.492555618286133,-8.492555618286133,-8.492555618286133,17.17575454711914,-8.492555618286133,-8.492555618286133,-8.492555618286133,-8.492555618286133,-8.492555618286133,-8.492555618286133,-8.492555618286133,-8.492555618286133,-8.492555618286133,-8.492555618286133,-8.492555618286133,23.002521514892578,21.496082305908203,26.36029624938965,-8.492555618286133,19.30348777770996,-8.492555618286133,16.069408416748047,15.590911865234375,25.13273048400879,24.022239685058594,25.513471603393555,15.063541412353516,22.719074249267578,15.977717399597168,-8.492555618286133,-8.492555618286133,-8.492555618286133,-8.492555618286133,25.185794830322266,-8.492555618286133,-8.492555618286133,-8.492555618286133],\"xaxis\":\"x\",\"y\":[0.5837002396583557,5.350041389465332,7.962646007537842,-0.9909810423851013,7.797505855560303,-0.9909810423851013,0.5954855680465698,-0.9909810423851013,-5.691076755523682,-6.146329402923584,-0.437036395072937,4.763686656951904,-0.39156708121299744,4.294086933135986,-5.375617504119873,4.615477085113525,-1.246602177619934,-1.246602177619934,0.0924137681722641,0.0924137681722641,0.0924137681722641,-1.246602177619934,1.6800376176834106,1.6800376176834106,1.6800376176834106,0.7719654440879822,0.7719654440879822,1.6800376176834106,1.5243803262710571,-1.246602177619934,-0.9909810423851013,-2.5572896003723145,2.3363683223724365,-3.909149646759033,-4.937528133392334,2.7384989261627197,5.5653557777404785,2.539658546447754,0.5772311091423035,-4.448205471038818,-0.4900818169116974,7.830753326416016,7.579901695251465,-1.951478362083435,-0.4900818169116974,1.145081639289856,-1.951478362083435,-0.8368633389472961,-5.215188503265381,2.0506458282470703,-0.42782753705978394,-0.4459789991378784,-3.2152655124664307,-5.360735893249512,-2.270597219467163,-3.2337422370910645,7.084597587585449,0.05362071096897125,-1.951478362083435,-2.249103307723999,0.05362071096897125,0.05362071096897125,0.05362071096897125,0.05362071096897125,-5.111640930175781,7.552576065063477,4.854708194732666,5.132271766662598,2.660313367843628,0.21751181781291962,4.549252033233643,2.7923853397369385,0.05362071096897125,0.05362071096897125,0.05362071096897125,0.05362071096897125,0.05362071096897125,8.529678344726562,0.05362071096897125,0.05362071096897125,0.05362071096897125,0.05362071096897125,-0.9909810423851013,0.05362071096897125,0.05362071096897125,0.05362071096897125,0.05362071096897125,-0.9909810423851013,-0.9909810423851013,-0.7034214735031128,0.05362071096897125,-2.249103307723999,-2.35953950881958,-1.3309810161590576,-0.9909810423851013,-2.2734479904174805,-1.8977477550506592,-1.3309810161590576,-1.9231541156768799,0.05362071096897125,1.078326940536499,1.078326940536499,-1.951478362083435,-1.9228354692459106,-0.9909810423851013,-1.3309810161590576,-1.5283219814300537,2.7374777793884277,1.145081639289856,-0.7034214735031128,-0.9909810423851013,-3.3421337604522705,3.2165393829345703,-1.2338098287582397,2.695132255554199,-5.321072578430176,5.594356536865234,7.442440032958984,4.749186038970947,-5.889163494110107,-2.2734479904174805,-1.923161268234253,1.078039526939392,0.7719654440879822,-2.249103307723999,-0.9909810423851013,1.6800376176834106,-1.5283219814300537,1.6800376176834106,-1.5283219814300537,0.0924137681722641,-2.249103307723999,-1.246602177619934,-1.246602177619934,-2.249103307723999,-0.7034214735031128,-0.9909810423851013,-0.9909810423851013,-1.5283219814300537,-0.9909810423851013,-1.5283219814300537,4.33130407333374,8.507792472839355,8.22713565826416,8.746247291564941,7.607952117919922,5.709201335906982,8.372147560119629,-5.810914993286133,4.805171966552734,-5.757903099060059,4.843079090118408,-1.5283219814300537,-1.5283219814300537,-1.5283219814300537,1.0730935335159302,8.711265563964844,1.0730935335159302,7.339717864990234,1.0730935335159302,1.0730935335159302,1.0730935335159302,1.0730935335159302,1.0730935335159302,-0.022554118186235428,7.838051795959473,-2.221074104309082,8.371109008789062,3.309414863586426,-5.925618648529053,7.1716628074646,-6.160857200622559,7.081514835357666,-5.161651611328125,-5.711470127105713,-5.363617420196533,1.0730935335159302,5.7331085205078125,1.0730935335159302,-1.0496461391448975,1.0730935335159302,7.6655707359313965,-5.892664432525635,5.926479339599609,0.21497254073619843,-5.378914833068848,3.658449411392212,-5.73945951461792,3.3864707946777344,-6.14617395401001,-5.728698253631592,-5.076272964477539,1.0730935335159302,1.0730935335159302,1.0730935335159302,1.0730935335159302,1.0730935335159302,1.0730935335159302,1.0730935335159302,1.0730935335159302,1.0730935335159302,1.0730935335159302,1.0730935335159302,1.0730935335159302,1.0730935335159302,8.55193042755127,1.0730935335159302,1.0730935335159302,1.0730935335159302,-0.9278644323348999,-4.034663677215576,0.11963209509849548,1.0730935335159302,-4.310262680053711,5.22291374206543,2.952026128768921,1.0730935335159302,1.0730935335159302,1.0730935335159302,1.0730935335159302,1.0730935335159302,1.0730935335159302,2.9098565578460693,1.0730935335159302,2.5666122436523438,2.2002007961273193,1.0730935335159302,1.0730935335159302,8.141328811645508,1.0730935335159302,-5.106980323791504,1.0730935335159302,2.455836534500122,0.7024232745170593,1.0730935335159302,1.0730935335159302,7.7475457191467285,1.0730935335159302,-4.565427303314209,1.0730935335159302,1.0730935335159302,1.0730935335159302,1.0730935335159302,1.0730935335159302,1.0730935335159302,1.0730935335159302,1.0730935335159302,1.0730935335159302,4.916459560394287,5.8033766746521,1.781284213066101,7.497204780578613,-4.774304389953613,-3.707052707672119,2.479445457458496,8.898125648498535,1.0730935335159302,1.0730935335159302,1.0730935335159302,1.0730935335159302,1.0730935335159302,1.0730935335159302,1.0730935335159302,1.0730935335159302,1.0730935335159302,1.0730935335159302,1.0730935335159302,1.0730935335159302,1.0730935335159302,1.0730935335159302,1.0730935335159302,1.0730935335159302,1.0730935335159302,1.0730935335159302,1.0730935335159302,1.0730935335159302,1.0730935335159302,1.0730935335159302,7.054758071899414,1.0730935335159302,1.0730935335159302,1.0730935335159302,1.0730935335159302,1.0730935335159302,1.0730935335159302,1.0730935335159302,1.0730935335159302,1.0730935335159302,1.0730935335159302,1.0730935335159302,0.5278329253196716,2.664815664291382,-5.040399551391602,1.0730935335159302,5.137300968170166,1.0730935335159302,7.915332794189453,8.211847305297852,-2.9695754051208496,-1.0913944244384766,-3.6144604682922363,8.502250671386719,0.945350706577301,7.9697065353393555,1.0730935335159302,1.0730935335159302,1.0730935335159302,1.0730935335159302,-3.0614242553710938,1.0730935335159302,1.0730935335159302,1.0730935335159302],\"yaxis\":\"y\",\"type\":\"scatter\"}],                        {\"template\":{\"data\":{\"barpolar\":[{\"marker\":{\"line\":{\"color\":\"rgb(234,234,242)\",\"width\":0.5},\"pattern\":{\"fillmode\":\"overlay\",\"size\":10,\"solidity\":0.2}},\"type\":\"barpolar\"}],\"bar\":[{\"error_x\":{\"color\":\"rgb(36,36,36)\"},\"error_y\":{\"color\":\"rgb(36,36,36)\"},\"marker\":{\"line\":{\"color\":\"rgb(234,234,242)\",\"width\":0.5},\"pattern\":{\"fillmode\":\"overlay\",\"size\":10,\"solidity\":0.2}},\"type\":\"bar\"}],\"carpet\":[{\"aaxis\":{\"endlinecolor\":\"rgb(36,36,36)\",\"gridcolor\":\"white\",\"linecolor\":\"white\",\"minorgridcolor\":\"white\",\"startlinecolor\":\"rgb(36,36,36)\"},\"baxis\":{\"endlinecolor\":\"rgb(36,36,36)\",\"gridcolor\":\"white\",\"linecolor\":\"white\",\"minorgridcolor\":\"white\",\"startlinecolor\":\"rgb(36,36,36)\"},\"type\":\"carpet\"}],\"choropleth\":[{\"colorbar\":{\"outlinewidth\":0,\"tickcolor\":\"rgb(36,36,36)\",\"ticklen\":8,\"ticks\":\"outside\",\"tickwidth\":2},\"type\":\"choropleth\"}],\"contourcarpet\":[{\"colorbar\":{\"outlinewidth\":0,\"tickcolor\":\"rgb(36,36,36)\",\"ticklen\":8,\"ticks\":\"outside\",\"tickwidth\":2},\"type\":\"contourcarpet\"}],\"contour\":[{\"colorbar\":{\"outlinewidth\":0,\"tickcolor\":\"rgb(36,36,36)\",\"ticklen\":8,\"ticks\":\"outside\",\"tickwidth\":2},\"colorscale\":[[0.0,\"rgb(2,4,25)\"],[0.06274509803921569,\"rgb(24,15,41)\"],[0.12549019607843137,\"rgb(47,23,57)\"],[0.18823529411764706,\"rgb(71,28,72)\"],[0.25098039215686274,\"rgb(97,30,82)\"],[0.3137254901960784,\"rgb(123,30,89)\"],[0.3764705882352941,\"rgb(150,27,91)\"],[0.4392156862745098,\"rgb(177,22,88)\"],[0.5019607843137255,\"rgb(203,26,79)\"],[0.5647058823529412,\"rgb(223,47,67)\"],[0.6274509803921569,\"rgb(236,76,61)\"],[0.6901960784313725,\"rgb(242,107,73)\"],[0.7529411764705882,\"rgb(244,135,95)\"],[0.8156862745098039,\"rgb(245,162,122)\"],[0.8784313725490196,\"rgb(246,188,153)\"],[0.9411764705882353,\"rgb(247,212,187)\"],[1.0,\"rgb(250,234,220)\"]],\"type\":\"contour\"}],\"heatmapgl\":[{\"colorbar\":{\"outlinewidth\":0,\"tickcolor\":\"rgb(36,36,36)\",\"ticklen\":8,\"ticks\":\"outside\",\"tickwidth\":2},\"colorscale\":[[0.0,\"rgb(2,4,25)\"],[0.06274509803921569,\"rgb(24,15,41)\"],[0.12549019607843137,\"rgb(47,23,57)\"],[0.18823529411764706,\"rgb(71,28,72)\"],[0.25098039215686274,\"rgb(97,30,82)\"],[0.3137254901960784,\"rgb(123,30,89)\"],[0.3764705882352941,\"rgb(150,27,91)\"],[0.4392156862745098,\"rgb(177,22,88)\"],[0.5019607843137255,\"rgb(203,26,79)\"],[0.5647058823529412,\"rgb(223,47,67)\"],[0.6274509803921569,\"rgb(236,76,61)\"],[0.6901960784313725,\"rgb(242,107,73)\"],[0.7529411764705882,\"rgb(244,135,95)\"],[0.8156862745098039,\"rgb(245,162,122)\"],[0.8784313725490196,\"rgb(246,188,153)\"],[0.9411764705882353,\"rgb(247,212,187)\"],[1.0,\"rgb(250,234,220)\"]],\"type\":\"heatmapgl\"}],\"heatmap\":[{\"colorbar\":{\"outlinewidth\":0,\"tickcolor\":\"rgb(36,36,36)\",\"ticklen\":8,\"ticks\":\"outside\",\"tickwidth\":2},\"colorscale\":[[0.0,\"rgb(2,4,25)\"],[0.06274509803921569,\"rgb(24,15,41)\"],[0.12549019607843137,\"rgb(47,23,57)\"],[0.18823529411764706,\"rgb(71,28,72)\"],[0.25098039215686274,\"rgb(97,30,82)\"],[0.3137254901960784,\"rgb(123,30,89)\"],[0.3764705882352941,\"rgb(150,27,91)\"],[0.4392156862745098,\"rgb(177,22,88)\"],[0.5019607843137255,\"rgb(203,26,79)\"],[0.5647058823529412,\"rgb(223,47,67)\"],[0.6274509803921569,\"rgb(236,76,61)\"],[0.6901960784313725,\"rgb(242,107,73)\"],[0.7529411764705882,\"rgb(244,135,95)\"],[0.8156862745098039,\"rgb(245,162,122)\"],[0.8784313725490196,\"rgb(246,188,153)\"],[0.9411764705882353,\"rgb(247,212,187)\"],[1.0,\"rgb(250,234,220)\"]],\"type\":\"heatmap\"}],\"histogram2dcontour\":[{\"colorbar\":{\"outlinewidth\":0,\"tickcolor\":\"rgb(36,36,36)\",\"ticklen\":8,\"ticks\":\"outside\",\"tickwidth\":2},\"colorscale\":[[0.0,\"rgb(2,4,25)\"],[0.06274509803921569,\"rgb(24,15,41)\"],[0.12549019607843137,\"rgb(47,23,57)\"],[0.18823529411764706,\"rgb(71,28,72)\"],[0.25098039215686274,\"rgb(97,30,82)\"],[0.3137254901960784,\"rgb(123,30,89)\"],[0.3764705882352941,\"rgb(150,27,91)\"],[0.4392156862745098,\"rgb(177,22,88)\"],[0.5019607843137255,\"rgb(203,26,79)\"],[0.5647058823529412,\"rgb(223,47,67)\"],[0.6274509803921569,\"rgb(236,76,61)\"],[0.6901960784313725,\"rgb(242,107,73)\"],[0.7529411764705882,\"rgb(244,135,95)\"],[0.8156862745098039,\"rgb(245,162,122)\"],[0.8784313725490196,\"rgb(246,188,153)\"],[0.9411764705882353,\"rgb(247,212,187)\"],[1.0,\"rgb(250,234,220)\"]],\"type\":\"histogram2dcontour\"}],\"histogram2d\":[{\"colorbar\":{\"outlinewidth\":0,\"tickcolor\":\"rgb(36,36,36)\",\"ticklen\":8,\"ticks\":\"outside\",\"tickwidth\":2},\"colorscale\":[[0.0,\"rgb(2,4,25)\"],[0.06274509803921569,\"rgb(24,15,41)\"],[0.12549019607843137,\"rgb(47,23,57)\"],[0.18823529411764706,\"rgb(71,28,72)\"],[0.25098039215686274,\"rgb(97,30,82)\"],[0.3137254901960784,\"rgb(123,30,89)\"],[0.3764705882352941,\"rgb(150,27,91)\"],[0.4392156862745098,\"rgb(177,22,88)\"],[0.5019607843137255,\"rgb(203,26,79)\"],[0.5647058823529412,\"rgb(223,47,67)\"],[0.6274509803921569,\"rgb(236,76,61)\"],[0.6901960784313725,\"rgb(242,107,73)\"],[0.7529411764705882,\"rgb(244,135,95)\"],[0.8156862745098039,\"rgb(245,162,122)\"],[0.8784313725490196,\"rgb(246,188,153)\"],[0.9411764705882353,\"rgb(247,212,187)\"],[1.0,\"rgb(250,234,220)\"]],\"type\":\"histogram2d\"}],\"histogram\":[{\"marker\":{\"pattern\":{\"fillmode\":\"overlay\",\"size\":10,\"solidity\":0.2}},\"type\":\"histogram\"}],\"mesh3d\":[{\"colorbar\":{\"outlinewidth\":0,\"tickcolor\":\"rgb(36,36,36)\",\"ticklen\":8,\"ticks\":\"outside\",\"tickwidth\":2},\"type\":\"mesh3d\"}],\"parcoords\":[{\"line\":{\"colorbar\":{\"outlinewidth\":0,\"tickcolor\":\"rgb(36,36,36)\",\"ticklen\":8,\"ticks\":\"outside\",\"tickwidth\":2}},\"type\":\"parcoords\"}],\"pie\":[{\"automargin\":true,\"type\":\"pie\"}],\"scatter3d\":[{\"line\":{\"colorbar\":{\"outlinewidth\":0,\"tickcolor\":\"rgb(36,36,36)\",\"ticklen\":8,\"ticks\":\"outside\",\"tickwidth\":2}},\"marker\":{\"colorbar\":{\"outlinewidth\":0,\"tickcolor\":\"rgb(36,36,36)\",\"ticklen\":8,\"ticks\":\"outside\",\"tickwidth\":2}},\"type\":\"scatter3d\"}],\"scattercarpet\":[{\"marker\":{\"colorbar\":{\"outlinewidth\":0,\"tickcolor\":\"rgb(36,36,36)\",\"ticklen\":8,\"ticks\":\"outside\",\"tickwidth\":2}},\"type\":\"scattercarpet\"}],\"scattergeo\":[{\"marker\":{\"colorbar\":{\"outlinewidth\":0,\"tickcolor\":\"rgb(36,36,36)\",\"ticklen\":8,\"ticks\":\"outside\",\"tickwidth\":2}},\"type\":\"scattergeo\"}],\"scattergl\":[{\"marker\":{\"colorbar\":{\"outlinewidth\":0,\"tickcolor\":\"rgb(36,36,36)\",\"ticklen\":8,\"ticks\":\"outside\",\"tickwidth\":2}},\"type\":\"scattergl\"}],\"scattermapbox\":[{\"marker\":{\"colorbar\":{\"outlinewidth\":0,\"tickcolor\":\"rgb(36,36,36)\",\"ticklen\":8,\"ticks\":\"outside\",\"tickwidth\":2}},\"type\":\"scattermapbox\"}],\"scatterpolargl\":[{\"marker\":{\"colorbar\":{\"outlinewidth\":0,\"tickcolor\":\"rgb(36,36,36)\",\"ticklen\":8,\"ticks\":\"outside\",\"tickwidth\":2}},\"type\":\"scatterpolargl\"}],\"scatterpolar\":[{\"marker\":{\"colorbar\":{\"outlinewidth\":0,\"tickcolor\":\"rgb(36,36,36)\",\"ticklen\":8,\"ticks\":\"outside\",\"tickwidth\":2}},\"type\":\"scatterpolar\"}],\"scatter\":[{\"fillpattern\":{\"fillmode\":\"overlay\",\"size\":10,\"solidity\":0.2},\"type\":\"scatter\"}],\"scatterternary\":[{\"marker\":{\"colorbar\":{\"outlinewidth\":0,\"tickcolor\":\"rgb(36,36,36)\",\"ticklen\":8,\"ticks\":\"outside\",\"tickwidth\":2}},\"type\":\"scatterternary\"}],\"surface\":[{\"colorbar\":{\"outlinewidth\":0,\"tickcolor\":\"rgb(36,36,36)\",\"ticklen\":8,\"ticks\":\"outside\",\"tickwidth\":2},\"colorscale\":[[0.0,\"rgb(2,4,25)\"],[0.06274509803921569,\"rgb(24,15,41)\"],[0.12549019607843137,\"rgb(47,23,57)\"],[0.18823529411764706,\"rgb(71,28,72)\"],[0.25098039215686274,\"rgb(97,30,82)\"],[0.3137254901960784,\"rgb(123,30,89)\"],[0.3764705882352941,\"rgb(150,27,91)\"],[0.4392156862745098,\"rgb(177,22,88)\"],[0.5019607843137255,\"rgb(203,26,79)\"],[0.5647058823529412,\"rgb(223,47,67)\"],[0.6274509803921569,\"rgb(236,76,61)\"],[0.6901960784313725,\"rgb(242,107,73)\"],[0.7529411764705882,\"rgb(244,135,95)\"],[0.8156862745098039,\"rgb(245,162,122)\"],[0.8784313725490196,\"rgb(246,188,153)\"],[0.9411764705882353,\"rgb(247,212,187)\"],[1.0,\"rgb(250,234,220)\"]],\"type\":\"surface\"}],\"table\":[{\"cells\":{\"fill\":{\"color\":\"rgb(231,231,240)\"},\"line\":{\"color\":\"white\"}},\"header\":{\"fill\":{\"color\":\"rgb(183,183,191)\"},\"line\":{\"color\":\"white\"}},\"type\":\"table\"}]},\"layout\":{\"annotationdefaults\":{\"arrowcolor\":\"rgb(67,103,167)\"},\"autotypenumbers\":\"strict\",\"coloraxis\":{\"colorbar\":{\"outlinewidth\":0,\"tickcolor\":\"rgb(36,36,36)\",\"ticklen\":8,\"ticks\":\"outside\",\"tickwidth\":2}},\"colorscale\":{\"sequential\":[[0.0,\"rgb(2,4,25)\"],[0.06274509803921569,\"rgb(24,15,41)\"],[0.12549019607843137,\"rgb(47,23,57)\"],[0.18823529411764706,\"rgb(71,28,72)\"],[0.25098039215686274,\"rgb(97,30,82)\"],[0.3137254901960784,\"rgb(123,30,89)\"],[0.3764705882352941,\"rgb(150,27,91)\"],[0.4392156862745098,\"rgb(177,22,88)\"],[0.5019607843137255,\"rgb(203,26,79)\"],[0.5647058823529412,\"rgb(223,47,67)\"],[0.6274509803921569,\"rgb(236,76,61)\"],[0.6901960784313725,\"rgb(242,107,73)\"],[0.7529411764705882,\"rgb(244,135,95)\"],[0.8156862745098039,\"rgb(245,162,122)\"],[0.8784313725490196,\"rgb(246,188,153)\"],[0.9411764705882353,\"rgb(247,212,187)\"],[1.0,\"rgb(250,234,220)\"]],\"sequentialminus\":[[0.0,\"rgb(2,4,25)\"],[0.06274509803921569,\"rgb(24,15,41)\"],[0.12549019607843137,\"rgb(47,23,57)\"],[0.18823529411764706,\"rgb(71,28,72)\"],[0.25098039215686274,\"rgb(97,30,82)\"],[0.3137254901960784,\"rgb(123,30,89)\"],[0.3764705882352941,\"rgb(150,27,91)\"],[0.4392156862745098,\"rgb(177,22,88)\"],[0.5019607843137255,\"rgb(203,26,79)\"],[0.5647058823529412,\"rgb(223,47,67)\"],[0.6274509803921569,\"rgb(236,76,61)\"],[0.6901960784313725,\"rgb(242,107,73)\"],[0.7529411764705882,\"rgb(244,135,95)\"],[0.8156862745098039,\"rgb(245,162,122)\"],[0.8784313725490196,\"rgb(246,188,153)\"],[0.9411764705882353,\"rgb(247,212,187)\"],[1.0,\"rgb(250,234,220)\"]]},\"colorway\":[\"rgb(76,114,176)\",\"rgb(221,132,82)\",\"rgb(85,168,104)\",\"rgb(196,78,82)\",\"rgb(129,114,179)\",\"rgb(147,120,96)\",\"rgb(218,139,195)\",\"rgb(140,140,140)\",\"rgb(204,185,116)\",\"rgb(100,181,205)\"],\"font\":{\"color\":\"rgb(36,36,36)\"},\"geo\":{\"bgcolor\":\"white\",\"lakecolor\":\"white\",\"landcolor\":\"rgb(234,234,242)\",\"showlakes\":true,\"showland\":true,\"subunitcolor\":\"white\"},\"hoverlabel\":{\"align\":\"left\"},\"hovermode\":\"closest\",\"paper_bgcolor\":\"white\",\"plot_bgcolor\":\"rgb(234,234,242)\",\"polar\":{\"angularaxis\":{\"gridcolor\":\"white\",\"linecolor\":\"white\",\"showgrid\":true,\"ticks\":\"\"},\"bgcolor\":\"rgb(234,234,242)\",\"radialaxis\":{\"gridcolor\":\"white\",\"linecolor\":\"white\",\"showgrid\":true,\"ticks\":\"\"}},\"scene\":{\"xaxis\":{\"backgroundcolor\":\"rgb(234,234,242)\",\"gridcolor\":\"white\",\"gridwidth\":2,\"linecolor\":\"white\",\"showbackground\":true,\"showgrid\":true,\"ticks\":\"\",\"zerolinecolor\":\"white\"},\"yaxis\":{\"backgroundcolor\":\"rgb(234,234,242)\",\"gridcolor\":\"white\",\"gridwidth\":2,\"linecolor\":\"white\",\"showbackground\":true,\"showgrid\":true,\"ticks\":\"\",\"zerolinecolor\":\"white\"},\"zaxis\":{\"backgroundcolor\":\"rgb(234,234,242)\",\"gridcolor\":\"white\",\"gridwidth\":2,\"linecolor\":\"white\",\"showbackground\":true,\"showgrid\":true,\"ticks\":\"\",\"zerolinecolor\":\"white\"}},\"shapedefaults\":{\"fillcolor\":\"rgb(67,103,167)\",\"line\":{\"width\":0},\"opacity\":0.5},\"ternary\":{\"aaxis\":{\"gridcolor\":\"white\",\"linecolor\":\"white\",\"showgrid\":true,\"ticks\":\"\"},\"baxis\":{\"gridcolor\":\"white\",\"linecolor\":\"white\",\"showgrid\":true,\"ticks\":\"\"},\"bgcolor\":\"rgb(234,234,242)\",\"caxis\":{\"gridcolor\":\"white\",\"linecolor\":\"white\",\"showgrid\":true,\"ticks\":\"\"}},\"xaxis\":{\"automargin\":true,\"gridcolor\":\"white\",\"linecolor\":\"white\",\"showgrid\":true,\"ticks\":\"\",\"title\":{\"standoff\":15},\"zerolinecolor\":\"white\"},\"yaxis\":{\"automargin\":true,\"gridcolor\":\"white\",\"linecolor\":\"white\",\"showgrid\":true,\"ticks\":\"\",\"title\":{\"standoff\":15},\"zerolinecolor\":\"white\"}}},\"xaxis\":{\"anchor\":\"y\",\"domain\":[0.0,1.0],\"title\":{\"text\":\"x\"}},\"yaxis\":{\"anchor\":\"x\",\"domain\":[0.0,1.0],\"title\":{\"text\":\"y\"}},\"legend\":{\"tracegroupgap\":0},\"margin\":{\"t\":60},\"autosize\":false,\"width\":800,\"height\":800},                        {\"responsive\": true}                    ).then(function(){\n",
       "                            \n",
       "var gd = document.getElementById('19b5beab-babe-4b0b-8da1-09247adb7b17');\n",
       "var x = new MutationObserver(function (mutations, observer) {{\n",
       "        var display = window.getComputedStyle(gd).display;\n",
       "        if (!display || display === 'none') {{\n",
       "            console.log([gd, 'removed!']);\n",
       "            Plotly.purge(gd);\n",
       "            observer.disconnect();\n",
       "        }}\n",
       "}});\n",
       "\n",
       "// Listen for the removal of the full notebook cells\n",
       "var notebookContainer = gd.closest('#notebook-container');\n",
       "if (notebookContainer) {{\n",
       "    x.observe(notebookContainer, {childList: true});\n",
       "}}\n",
       "\n",
       "// Listen for the clearing of the current output cell\n",
       "var outputEl = gd.closest('.output');\n",
       "if (outputEl) {{\n",
       "    x.observe(outputEl, {childList: true});\n",
       "}}\n",
       "\n",
       "                        })                };                });            </script>        </div>"
      ]
     },
     "metadata": {},
     "output_type": "display_data"
    }
   ],
   "source": [
    "from visualise import get_tsne_points\n",
    "\n",
    "embeddings = embeddings_cleaned[\"embeddings\"]\n",
    "labels = embeddings_cleaned[\"labels\"]\n",
    "points2d = get_tsne_points(embeddings)\n",
    "emb_df = points2dataframe(points2d, embeddings_cleaned[\"labels\"])\n",
    "plot_embeddings(emb_df)"
   ]
  }
 ],
 "metadata": {
  "kernelspec": {
   "display_name": "depmbt",
   "language": "python",
   "name": "python3"
  },
  "language_info": {
   "codemirror_mode": {
    "name": "ipython",
    "version": 3
   },
   "file_extension": ".py",
   "mimetype": "text/x-python",
   "name": "python",
   "nbconvert_exporter": "python",
   "pygments_lexer": "ipython3",
   "version": "3.9.16"
  },
  "orig_nbformat": 4
 },
 "nbformat": 4,
 "nbformat_minor": 2
}
