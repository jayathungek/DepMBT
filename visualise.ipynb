{
 "cells": [
  {
   "cell_type": "code",
   "execution_count": 1,
   "metadata": {},
   "outputs": [
    {
     "data": {
      "text/html": [
       "        <script type=\"text/javascript\">\n",
       "        window.PlotlyConfig = {MathJaxConfig: 'local'};\n",
       "        if (window.MathJax && window.MathJax.Hub && window.MathJax.Hub.Config) {window.MathJax.Hub.Config({SVG: {font: \"STIX-Web\"}});}\n",
       "        if (typeof require !== 'undefined') {\n",
       "        require.undef(\"plotly\");\n",
       "        requirejs.config({\n",
       "            paths: {\n",
       "                'plotly': ['https://cdn.plot.ly/plotly-2.26.0.min']\n",
       "            }\n",
       "        });\n",
       "        require(['plotly'], function(Plotly) {\n",
       "            window._Plotly = Plotly;\n",
       "        });\n",
       "        }\n",
       "        </script>\n",
       "        "
      ]
     },
     "metadata": {},
     "output_type": "display_data"
    }
   ],
   "source": [
    "import pickle\n",
    "\n",
    "import numpy as np\n",
    "# import plotly.express as px\n",
    "from plotly.offline import init_notebook_mode\n",
    "from importlib import reload\n",
    "import visualise\n",
    "import constants\n",
    "import datasets\n",
    "reload(visualise)\n",
    "reload(constants)\n",
    "reload(datasets)\n",
    "from constants import *\n",
    "from datasets import enterface\n",
    "import plotly.io as pio\n",
    "pio.renderers.default = \"notebook\"\n",
    "\n",
    "init_notebook_mode(connected=True)"
   ]
  },
  {
   "cell_type": "code",
   "execution_count": 2,
   "metadata": {},
   "outputs": [],
   "source": [
    "import pandas as pd\n",
    "import plotly.graph_objects as go\n",
    "from visualise import get_tsne_points\n",
    "from ipywidgets import HBox\n",
    "from IPython.display import display\n",
    "from collections import OrderedDict\n",
    "\n",
    "\n",
    "def clean_nans(embeddings_obj):\n",
    "    clean_records = []\n",
    "    clean_labels = []\n",
    "    records = embeddings_obj[\"embeddings\"]\n",
    "    print(f\"Got {records.shape[0]} records before cleaning\")\n",
    "    for i, record in enumerate(records):\n",
    "        if not np.isnan(record).any():\n",
    "            clean_records.append(record)\n",
    "            clean_labels.append(embeddings_obj[\"labels\"][i])\n",
    "    records = np.stack(clean_records, axis=0)\n",
    "    print(f\"Got {records.shape[0]} records after cleaning\")\n",
    "    return {\n",
    "        \"embeddings\": records,\n",
    "        \"labels\": clean_labels\n",
    "    }\n",
    "\n",
    "def points2dataframe(points, labels):\n",
    "    columns = [\"x\", \"y\"]\n",
    "    points_df = pd.DataFrame(points, columns=columns)\n",
    "    labels = [\", \".join(l) for l in labels]\n",
    "    points_df[\"labels\"] = labels\n",
    "    return points_df\n",
    "\n",
    "def assign_colors_to_labels(labels):\n",
    "    ls = list(labels)\n",
    "    colors = []\n",
    "    for l in ls:\n",
    "        color_idx = enterface.LABEL_MAPPINGS.index(l)\n",
    "        colors.append(enterface.LABEL_COLORS[color_idx])\n",
    "    return colors\n",
    "\n",
    "\n",
    "def get_embeddings_plot(embeddings_cleaned, model_name):\n",
    "    if len(embeddings_cleaned[\"embeddings\"].shape) == 3:\n",
    "        embeddings = embeddings_cleaned[\"embeddings\"].mean(axis=1)\n",
    "    else:\n",
    "        embeddings = embeddings_cleaned[\"embeddings\"]\n",
    "    points2d = get_tsne_points(embeddings)\n",
    "    embeddings_df = points2dataframe(points2d, embeddings_cleaned[\"labels\"])\n",
    "    cmap = assign_colors_to_labels(embeddings_df[\"labels\"])\n",
    "    fig = go.Scatter(y=embeddings_df[\"y\"], \n",
    "                     x=embeddings_df[\"x\"],\n",
    "                     hovertext=embeddings_df[\"labels\"],\n",
    "                     mode=\"markers\",\n",
    "                     marker_color=cmap)\n",
    "    figw = go.FigureWidget([fig])\n",
    "    figw.update_layout(\n",
    "        autosize=False,\n",
    "        width=800,\n",
    "        height=800,\n",
    "        template='seaborn',\n",
    "        title=model_name\n",
    "    )\n",
    "    return figw\n",
    "\n",
    "def tally_emotions(emotions_list):\n",
    "    counts = OrderedDict()\n",
    "    for key in enterface.LABEL_MAPPINGS:\n",
    "        counts[key] = 0\n",
    "    \n",
    "    for emotion in emotions_list:\n",
    "        counts[emotion] += 1\n",
    "    labels = []\n",
    "    values = []\n",
    "    for k in counts.keys():\n",
    "        labels.append(k)\n",
    "        values.append(counts[k])\n",
    "        \n",
    "    return labels, values\n",
    "\n",
    "def display_interactive(emb_obj, checkpoint_name):\n",
    "    # Live updating bar chart for emotions within the selection\n",
    "    barchartw = go.FigureWidget([go.Bar(\n",
    "        marker={\n",
    "            \"color\": enterface.LABEL_COLORS\n",
    "        }\n",
    "    )])\n",
    "\n",
    "    def selection_fn(trace, points, selector):\n",
    "        labels = trace.hovertext[points.point_inds]\n",
    "        emotion_labels, emotion_counts = tally_emotions(labels)\n",
    "        barchartw.plotly_restyle({\"x\": [emotion_labels], \"y\": [emotion_counts]}, 0)\n",
    "        barchartw.update_layout(title=f\"Emotion breakdown in selection ({len(labels)} total)\")\n",
    "\n",
    "    embeddings_cleaned = clean_nans(emb_obj)\n",
    "    f = get_embeddings_plot(embeddings_cleaned, checkpoint_name)\n",
    "    scatterplot = f.data[0]\n",
    "    scatterplot.on_selection(selection_fn)\n",
    "\n",
    "    display(HBox((f, barchartw)))\n",
    "        "
   ]
  },
  {
   "cell_type": "code",
   "execution_count": 3,
   "metadata": {},
   "outputs": [
    {
     "name": "stdout",
     "output_type": "stream",
     "text": [
      "Got 2568 records before cleaning\n",
      "Got 2568 records after cleaning\n"
     ]
    },
    {
     "data": {
      "application/vnd.jupyter.widget-view+json": {
       "model_id": "6aa5235c056a48f1805c6325e76f5688",
       "version_major": 2,
       "version_minor": 0
      },
      "text/plain": [
       "HBox(children=(FigureWidget({\n",
       "    'data': [{'hovertext': array(['sadness', 'happiness', 'fear', ..., 'surprise…"
      ]
     },
     "metadata": {},
     "output_type": "display_data"
    }
   ],
   "source": [
    "chkpt_name = \"enterface_test4/mbt_student_train_loss_0.03864\"\n",
    "pkl_path = f\"saved_models/{chkpt_name}.pkl\"\n",
    "with open(pkl_path, \"rb\") as fh:\n",
    "    embeddings_obj = pickle.load(fh)\n",
    "\n",
    "\n",
    "display_interactive(embeddings_obj, chkpt_name)"
   ]
  },
  {
   "cell_type": "code",
   "execution_count": 4,
   "metadata": {},
   "outputs": [
    {
     "name": "stdout",
     "output_type": "stream",
     "text": [
      "Got 643 records before cleaning\n",
      "Got 643 records after cleaning\n"
     ]
    },
    {
     "data": {
      "application/vnd.jupyter.widget-view+json": {
       "model_id": "3c6337d6f0d14cf1b65c12256348e216",
       "version_major": 2,
       "version_minor": 0
      },
      "text/plain": [
       "HBox(children=(FigureWidget({\n",
       "    'data': [{'hovertext': array(['surprise', 'surprise', 'anger', ..., 'surpris…"
      ]
     },
     "metadata": {},
     "output_type": "display_data"
    }
   ],
   "source": [
    "chkpt_name = \"enterface_test5/mbt_student_train_loss_0.19820\"\n",
    "pkl_path = f\"saved_models/{chkpt_name}.pkl\"\n",
    "with open(pkl_path, \"rb\") as fh:\n",
    "    embeddings_obj = pickle.load(fh)\n",
    "\n",
    "display_interactive(embeddings_obj, chkpt_name)"
   ]
  },
  {
   "cell_type": "code",
   "execution_count": 5,
   "metadata": {},
   "outputs": [
    {
     "name": "stdout",
     "output_type": "stream",
     "text": [
      "Got 643 records before cleaning\n",
      "Got 643 records after cleaning\n"
     ]
    },
    {
     "data": {
      "application/vnd.jupyter.widget-view+json": {
       "model_id": "c1cfc1d104984f0d90af67011dc449dc",
       "version_major": 2,
       "version_minor": 0
      },
      "text/plain": [
       "HBox(children=(FigureWidget({\n",
       "    'data': [{'hovertext': array(['surprise', 'anger', 'surprise', ..., 'disgust…"
      ]
     },
     "metadata": {},
     "output_type": "display_data"
    }
   ],
   "source": [
    "chkpt_name = \"enterface_no_val/mbt_student_train_loss_0.05981\"\n",
    "pkl_path = f\"saved_models/{chkpt_name}_TRAIN_POINTS.pkl\"\n",
    "with open(pkl_path, \"rb\") as fh:\n",
    "    embeddings_obj = pickle.load(fh)\n",
    "\n",
    "display_interactive(embeddings_obj, chkpt_name)"
   ]
  },
  {
   "cell_type": "code",
   "execution_count": 6,
   "metadata": {},
   "outputs": [
    {
     "name": "stdout",
     "output_type": "stream",
     "text": [
      "Got 643 records before cleaning\n",
      "Got 643 records after cleaning\n"
     ]
    },
    {
     "data": {
      "application/vnd.jupyter.widget-view+json": {
       "model_id": "faf51df78f434acfbbedbaa867ad1632",
       "version_major": 2,
       "version_minor": 0
      },
      "text/plain": [
       "HBox(children=(FigureWidget({\n",
       "    'data': [{'hovertext': array(['disgust', 'sadness', 'anger', ..., 'surprise'…"
      ]
     },
     "metadata": {},
     "output_type": "display_data"
    }
   ],
   "source": [
    "chkpt_name = \"enterface_mbt/mbt_student_train_loss_0.01266\"\n",
    "pkl_path = f\"saved_models/{chkpt_name}.pkl\"\n",
    "with open(pkl_path, \"rb\") as fh:\n",
    "    embeddings_obj = pickle.load(fh)\n",
    "\n",
    "display_interactive(embeddings_obj, chkpt_name)"
   ]
  },
  {
   "cell_type": "code",
   "execution_count": 6,
   "metadata": {},
   "outputs": [
    {
     "name": "stdout",
     "output_type": "stream",
     "text": [
      "Got 643 records before cleaning\n",
      "Got 643 records after cleaning\n"
     ]
    },
    {
     "data": {
      "application/vnd.jupyter.widget-view+json": {
       "model_id": "a1877b36ad6943edbba1ba23290c068b",
       "version_major": 2,
       "version_minor": 0
      },
      "text/plain": [
       "HBox(children=(FigureWidget({\n",
       "    'data': [{'hovertext': array(['sadness', 'fear', 'surprise', ..., 'anger', '…"
      ]
     },
     "metadata": {},
     "output_type": "display_data"
    }
   ],
   "source": [
    "chkpt_name = \"enterface_cnn_multicrop/mbt_student_train_loss_30.46281\"\n",
    "pkl_path = f\"saved_models/{chkpt_name}_TRAIN_POINTS.pkl\"\n",
    "with open(pkl_path, \"rb\") as fh:\n",
    "    embeddings_obj = pickle.load(fh)\n",
    "\n",
    "display_interactive(embeddings_obj, chkpt_name)"
   ]
  }
 ],
 "metadata": {
  "kernelspec": {
   "display_name": "depmbt",
   "language": "python",
   "name": "python3"
  },
  "language_info": {
   "codemirror_mode": {
    "name": "ipython",
    "version": 3
   },
   "file_extension": ".py",
   "mimetype": "text/x-python",
   "name": "python",
   "nbconvert_exporter": "python",
   "pygments_lexer": "ipython3",
   "version": "3.9.16"
  },
  "orig_nbformat": 4
 },
 "nbformat": 4,
 "nbformat_minor": 2
}
