{
 "cells": [
  {
   "cell_type": "code",
   "execution_count": 24,
   "metadata": {},
   "outputs": [
    {
     "data": {
      "text/html": [
       "        <script type=\"text/javascript\">\n",
       "        window.PlotlyConfig = {MathJaxConfig: 'local'};\n",
       "        if (window.MathJax && window.MathJax.Hub && window.MathJax.Hub.Config) {window.MathJax.Hub.Config({SVG: {font: \"STIX-Web\"}});}\n",
       "        if (typeof require !== 'undefined') {\n",
       "        require.undef(\"plotly\");\n",
       "        requirejs.config({\n",
       "            paths: {\n",
       "                'plotly': ['https://cdn.plot.ly/plotly-2.26.0.min']\n",
       "            }\n",
       "        });\n",
       "        require(['plotly'], function(Plotly) {\n",
       "            window._Plotly = Plotly;\n",
       "        });\n",
       "        }\n",
       "        </script>\n",
       "        "
      ]
     },
     "metadata": {},
     "output_type": "display_data"
    }
   ],
   "source": [
    "import pickle\n",
    "\n",
    "import numpy as np\n",
    "import plotly.express as px\n",
    "from plotly.offline import init_notebook_mode\n",
    "from importlib import reload\n",
    "import visualise\n",
    "import constants\n",
    "reload(visualise)\n",
    "reload(constants)\n",
    "from constants import *\n",
    "\n",
    "init_notebook_mode(connected=True)"
   ]
  },
  {
   "cell_type": "code",
   "execution_count": 19,
   "metadata": {},
   "outputs": [],
   "source": [
    "import pandas as pd\n",
    "\n",
    "\n",
    "def clean_nans(embeddings_obj):\n",
    "    clean_records = []\n",
    "    clean_labels = []\n",
    "    records = embeddings_obj[\"embeddings\"]\n",
    "    print(f\"Got {records.shape[0]} records before cleaning\")\n",
    "    for i, record in enumerate(records):\n",
    "        if not np.isnan(record).any():\n",
    "            clean_records.append(record)\n",
    "            clean_labels.append(embeddings_obj[\"labels\"][i])\n",
    "    records = np.stack(clean_records, axis=0)\n",
    "    print(f\"Got {records.shape[0]} records after cleaning\")\n",
    "    return {\n",
    "        \"embeddings\": records,\n",
    "        \"labels\": clean_labels\n",
    "    }\n",
    "\n",
    "def points2dataframe(points, labels):\n",
    "    columns = [\"x\", \"y\"]\n",
    "    points_df = pd.DataFrame(points, columns=columns)\n",
    "    labels = [\", \".join(l) for l in labels]\n",
    "    points_df[\"labels\"] = labels\n",
    "    return points_df\n",
    "\n",
    "def plot_embeddings(embeddings_df, model_name):\n",
    "    fig = px.scatter(embeddings_df, x=\"x\", y=\"y\", hover_data=\"labels\")\n",
    "    fig.update_layout(\n",
    "        autosize=False,\n",
    "        width=800,\n",
    "        height=800,\n",
    "        template='seaborn',\n",
    "        title=model_name\n",
    "    )\n",
    "    fig.show()\n",
    "\n"
   ]
  },
  {
   "cell_type": "code",
   "execution_count": 28,
   "metadata": {},
   "outputs": [
    {
     "name": "stdout",
     "output_type": "stream",
     "text": [
      "Got 324 records before cleaning\n",
      "Got 312 records after cleaning\n"
     ]
    }
   ],
   "source": [
    "chkpt_name = \"mbt_student_val_loss_5720.63920\"\n",
    "pkl_path = f\"saved_models/{chkpt_name}.pkl\"\n",
    "with open(pkl_path, \"rb\") as fh:\n",
    "    embeddings_obj = pickle.load(fh)\n",
    "\n",
    "embeddings_cleaned = clean_nans(embeddings_obj)"
   ]
  },
  {
   "cell_type": "code",
   "execution_count": 31,
   "metadata": {},
   "outputs": [
    {
     "data": {
      "application/vnd.plotly.v1+json": {
       "config": {
        "plotlyServerURL": "https://plot.ly"
       },
       "data": [
        {
         "customdata": [
          [
           "None"
          ],
          [
           "Curiosity, Happiness, Frustration"
          ],
          [
           "None"
          ],
          [
           "Excitement, Happiness"
          ],
          [
           "Curiosity, Uncertainty, Surprise, Frustration"
          ],
          [
           "Curiosity, Happiness"
          ],
          [
           "Happiness"
          ],
          [
           "None"
          ],
          [
           "None"
          ],
          [
           "Curiosity, Happiness, Frustration"
          ],
          [
           "None"
          ],
          [
           "Excitement, Happiness"
          ],
          [
           "Curiosity, Uncertainty, Surprise, Frustration"
          ],
          [
           "Curiosity, Happiness"
          ],
          [
           "Happiness"
          ],
          [
           "None"
          ],
          [
           "None"
          ],
          [
           "Curiosity, Happiness, Frustration"
          ],
          [
           "None"
          ],
          [
           "Excitement, Happiness"
          ],
          [
           "Curiosity, Uncertainty, Surprise, Frustration"
          ],
          [
           "Curiosity, Happiness"
          ],
          [
           "Happiness"
          ],
          [
           "None"
          ],
          [
           "None"
          ],
          [
           "None"
          ],
          [
           "Uncertainty, Excitement, Happiness, Disgust"
          ],
          [
           "Uncertainty, Excitement, Surprise, Disgust, Fear, Frustration"
          ],
          [
           "Curiosity, Uncertainty, Fear"
          ],
          [
           "Excitement, Happiness"
          ],
          [
           "Curiosity, Happiness, Surprise"
          ],
          [
           "Curiosity, Uncertainty"
          ],
          [
           "None"
          ],
          [
           "None"
          ],
          [
           "Uncertainty, Excitement, Happiness, Disgust"
          ],
          [
           "Uncertainty, Excitement, Surprise, Disgust, Fear, Frustration"
          ],
          [
           "Curiosity, Uncertainty, Fear"
          ],
          [
           "Excitement, Happiness"
          ],
          [
           "Curiosity, Happiness, Surprise"
          ],
          [
           "Curiosity, Uncertainty"
          ],
          [
           "None"
          ],
          [
           "None"
          ],
          [
           "Uncertainty, Excitement, Happiness, Disgust"
          ],
          [
           "Uncertainty, Excitement, Surprise, Disgust, Fear, Frustration"
          ],
          [
           "Curiosity, Uncertainty, Fear"
          ],
          [
           "Excitement, Happiness"
          ],
          [
           "Curiosity, Happiness, Surprise"
          ],
          [
           "Curiosity, Uncertainty"
          ],
          [
           "Happiness"
          ],
          [
           "Uncertainty"
          ],
          [
           "Curiosity, Uncertainty, Excitement, Happiness, Surprise"
          ],
          [
           "Excitement"
          ],
          [
           "None"
          ],
          [
           "Curiosity"
          ],
          [
           "Happiness"
          ],
          [
           "Curiosity, Uncertainty, Happiness"
          ],
          [
           "Happiness"
          ],
          [
           "Uncertainty"
          ],
          [
           "Curiosity, Uncertainty, Excitement, Happiness, Surprise"
          ],
          [
           "Excitement"
          ],
          [
           "None"
          ],
          [
           "Curiosity"
          ],
          [
           "Happiness"
          ],
          [
           "Curiosity, Uncertainty, Happiness"
          ],
          [
           "Happiness"
          ],
          [
           "Uncertainty"
          ],
          [
           "Curiosity, Uncertainty, Excitement, Happiness, Surprise"
          ],
          [
           "Excitement"
          ],
          [
           "None"
          ],
          [
           "Curiosity"
          ],
          [
           "Happiness"
          ],
          [
           "Curiosity, Uncertainty, Happiness"
          ],
          [
           "None"
          ],
          [
           "Curiosity, Uncertainty, Frustration"
          ],
          [
           "Curiosity, Uncertainty, Surprise, Frustration"
          ],
          [
           "Curiosity, Uncertainty, Happiness, Surprise"
          ],
          [
           "None"
          ],
          [
           "Uncertainty, Disgust, Fear"
          ],
          [
           "Uncertainty, Disgust, Fear"
          ],
          [
           "Uncertainty, Happiness, Surprise, Frustration"
          ],
          [
           "None"
          ],
          [
           "Curiosity, Uncertainty, Frustration"
          ],
          [
           "Curiosity, Uncertainty, Surprise, Frustration"
          ],
          [
           "Curiosity, Uncertainty, Happiness, Surprise"
          ],
          [
           "None"
          ],
          [
           "Uncertainty, Disgust, Fear"
          ],
          [
           "Uncertainty, Disgust, Fear"
          ],
          [
           "Uncertainty, Happiness, Surprise, Frustration"
          ],
          [
           "None"
          ],
          [
           "Curiosity, Uncertainty, Frustration"
          ],
          [
           "Curiosity, Uncertainty, Surprise, Frustration"
          ],
          [
           "Curiosity, Uncertainty, Happiness, Surprise"
          ],
          [
           "None"
          ],
          [
           "Uncertainty, Disgust, Fear"
          ],
          [
           "Uncertainty, Disgust, Fear"
          ],
          [
           "Uncertainty, Happiness, Surprise, Frustration"
          ],
          [
           "Curiosity, Excitement, Surprise"
          ],
          [
           "Curiosity, Uncertainty, Happiness"
          ],
          [
           "Curiosity, Uncertainty, Happiness, Surprise, Fear"
          ],
          [
           "Excitement, Happiness"
          ],
          [
           "Curiosity, Happiness"
          ],
          [
           "Curiosity, Uncertainty, Happiness, Surprise"
          ],
          [
           "Happiness"
          ],
          [
           "Excitement, Happiness, Disgust"
          ],
          [
           "Curiosity, Excitement, Surprise"
          ],
          [
           "Curiosity, Uncertainty, Happiness"
          ],
          [
           "Curiosity, Uncertainty, Happiness, Surprise, Fear"
          ],
          [
           "Excitement, Happiness"
          ],
          [
           "Curiosity, Happiness"
          ],
          [
           "Curiosity, Uncertainty, Happiness, Surprise"
          ],
          [
           "Happiness"
          ],
          [
           "Excitement, Happiness, Disgust"
          ],
          [
           "Curiosity, Excitement, Surprise"
          ],
          [
           "Curiosity, Uncertainty, Happiness"
          ],
          [
           "Curiosity, Uncertainty, Happiness, Surprise, Fear"
          ],
          [
           "Excitement, Happiness"
          ],
          [
           "Curiosity, Happiness"
          ],
          [
           "Curiosity, Uncertainty, Happiness, Surprise"
          ],
          [
           "Happiness"
          ],
          [
           "Excitement, Happiness, Disgust"
          ],
          [
           "Curiosity, Uncertainty"
          ],
          [
           "Curiosity, Surprise"
          ],
          [
           "None"
          ],
          [
           "Curiosity, Excitement, Happiness, Surprise"
          ],
          [
           "Excitement, Happiness"
          ],
          [
           "Uncertainty, Disgust"
          ],
          [
           "Uncertainty, Happiness"
          ],
          [
           "Curiosity, Excitement, Happiness"
          ],
          [
           "Curiosity, Uncertainty"
          ],
          [
           "Curiosity, Surprise"
          ],
          [
           "None"
          ],
          [
           "Curiosity, Excitement, Happiness, Surprise"
          ],
          [
           "Excitement, Happiness"
          ],
          [
           "Uncertainty, Disgust"
          ],
          [
           "Uncertainty, Happiness"
          ],
          [
           "Curiosity, Excitement, Happiness"
          ],
          [
           "Curiosity, Uncertainty"
          ],
          [
           "Curiosity, Surprise"
          ],
          [
           "None"
          ],
          [
           "Curiosity, Excitement, Happiness, Surprise"
          ],
          [
           "Excitement, Happiness"
          ],
          [
           "Uncertainty, Disgust"
          ],
          [
           "Uncertainty, Happiness"
          ],
          [
           "Curiosity, Excitement, Happiness"
          ],
          [
           "Curiosity, Uncertainty, Excitement, Happiness"
          ],
          [
           "Curiosity, Happiness, Surprise"
          ],
          [
           "Curiosity"
          ],
          [
           "Excitement, Happiness"
          ],
          [
           "Disgust, Fear, Frustration"
          ],
          [
           "Excitement, Happiness"
          ],
          [
           "Curiosity, Uncertainty"
          ],
          [
           "None"
          ],
          [
           "Curiosity, Uncertainty, Excitement, Happiness"
          ],
          [
           "Curiosity, Happiness, Surprise"
          ],
          [
           "Curiosity"
          ],
          [
           "Excitement, Happiness"
          ],
          [
           "Disgust, Fear, Frustration"
          ],
          [
           "Excitement, Happiness"
          ],
          [
           "Curiosity, Uncertainty"
          ],
          [
           "None"
          ],
          [
           "Curiosity, Uncertainty, Excitement, Happiness"
          ],
          [
           "Curiosity, Happiness, Surprise"
          ],
          [
           "Curiosity"
          ],
          [
           "Excitement, Happiness"
          ],
          [
           "Disgust, Fear, Frustration"
          ],
          [
           "Excitement, Happiness"
          ],
          [
           "Curiosity, Uncertainty"
          ],
          [
           "None"
          ],
          [
           "Excitement, Happiness"
          ],
          [
           "Excitement, Happiness, Surprise"
          ],
          [
           "Happiness"
          ],
          [
           "Curiosity, Uncertainty, Surprise"
          ],
          [
           "Excitement, Frustration"
          ],
          [
           "Curiosity, Excitement, Happiness"
          ],
          [
           "Curiosity, Uncertainty, Surprise, Frustration"
          ],
          [
           "Curiosity"
          ],
          [
           "Excitement, Happiness"
          ],
          [
           "Excitement, Happiness, Surprise"
          ],
          [
           "Happiness"
          ],
          [
           "Curiosity, Uncertainty, Surprise"
          ],
          [
           "Excitement, Frustration"
          ],
          [
           "Curiosity, Excitement, Happiness"
          ],
          [
           "Curiosity, Uncertainty, Surprise, Frustration"
          ],
          [
           "Curiosity"
          ],
          [
           "Excitement, Happiness"
          ],
          [
           "Excitement, Happiness, Surprise"
          ],
          [
           "Happiness"
          ],
          [
           "Curiosity, Uncertainty, Surprise"
          ],
          [
           "Excitement, Frustration"
          ],
          [
           "Curiosity, Excitement, Happiness"
          ],
          [
           "Curiosity, Uncertainty, Surprise, Frustration"
          ],
          [
           "Curiosity"
          ],
          [
           "Curiosity, Excitement, Happiness, Surprise"
          ],
          [
           "None"
          ],
          [
           "None"
          ],
          [
           "Curiosity, Happiness, Surprise"
          ],
          [
           "Curiosity, Uncertainty, Excitement, Happiness, Surprise"
          ],
          [
           "Curiosity, Excitement, Happiness, Surprise"
          ],
          [
           "Excitement, Happiness"
          ],
          [
           "None"
          ],
          [
           "Curiosity, Excitement, Happiness, Surprise"
          ],
          [
           "None"
          ],
          [
           "None"
          ],
          [
           "Curiosity, Happiness, Surprise"
          ],
          [
           "Curiosity, Uncertainty, Excitement, Happiness, Surprise"
          ],
          [
           "Curiosity, Excitement, Happiness, Surprise"
          ],
          [
           "Excitement, Happiness"
          ],
          [
           "None"
          ],
          [
           "Curiosity, Excitement, Happiness, Surprise"
          ],
          [
           "None"
          ],
          [
           "None"
          ],
          [
           "Curiosity, Happiness, Surprise"
          ],
          [
           "Curiosity, Uncertainty, Excitement, Happiness, Surprise"
          ],
          [
           "Curiosity, Excitement, Happiness, Surprise"
          ],
          [
           "Excitement, Happiness"
          ],
          [
           "None"
          ],
          [
           "Frustration"
          ],
          [
           "Curiosity, Uncertainty, Surprise"
          ],
          [
           "None"
          ],
          [
           "Happiness"
          ],
          [
           "Happiness, Surprise"
          ],
          [
           "Happiness"
          ],
          [
           "Curiosity, Uncertainty, Excitement, Happiness, Surprise, Fear"
          ],
          [
           "Curiosity, Happiness"
          ],
          [
           "Frustration"
          ],
          [
           "Curiosity, Uncertainty, Surprise"
          ],
          [
           "None"
          ],
          [
           "Happiness"
          ],
          [
           "Happiness, Surprise"
          ],
          [
           "Happiness"
          ],
          [
           "Curiosity, Uncertainty, Excitement, Happiness, Surprise, Fear"
          ],
          [
           "Curiosity, Happiness"
          ],
          [
           "Frustration"
          ],
          [
           "Curiosity, Uncertainty, Surprise"
          ],
          [
           "None"
          ],
          [
           "Happiness"
          ],
          [
           "Happiness, Surprise"
          ],
          [
           "Happiness"
          ],
          [
           "Curiosity, Uncertainty, Excitement, Happiness, Surprise, Fear"
          ],
          [
           "Curiosity, Happiness"
          ],
          [
           "Disgust, Fear"
          ],
          [
           "Curiosity, Uncertainty, Happiness, Surprise"
          ],
          [
           "Disgust"
          ],
          [
           "Happiness"
          ],
          [
           "Curiosity, Excitement, Happiness, Surprise"
          ],
          [
           "None"
          ],
          [
           "None"
          ],
          [
           "Disgust, Frustration"
          ],
          [
           "Disgust, Fear"
          ],
          [
           "Curiosity, Uncertainty, Happiness, Surprise"
          ],
          [
           "Disgust"
          ],
          [
           "Happiness"
          ],
          [
           "Curiosity, Excitement, Happiness, Surprise"
          ],
          [
           "None"
          ],
          [
           "None"
          ],
          [
           "Disgust, Frustration"
          ],
          [
           "Disgust, Fear"
          ],
          [
           "Curiosity, Uncertainty, Happiness, Surprise"
          ],
          [
           "Disgust"
          ],
          [
           "Happiness"
          ],
          [
           "Curiosity, Excitement, Happiness, Surprise"
          ],
          [
           "None"
          ],
          [
           "None"
          ],
          [
           "Disgust, Frustration"
          ],
          [
           "Curiosity, Uncertainty"
          ],
          [
           "Happiness, Frustration"
          ],
          [
           "None"
          ],
          [
           "None"
          ],
          [
           "Uncertainty, Surprise, Disgust"
          ],
          [
           "Uncertainty, Excitement"
          ],
          [
           "None"
          ],
          [
           "Curiosity, Excitement, Happiness, Surprise"
          ],
          [
           "Curiosity, Uncertainty"
          ],
          [
           "Happiness, Frustration"
          ],
          [
           "None"
          ],
          [
           "None"
          ],
          [
           "Uncertainty, Surprise, Disgust"
          ],
          [
           "Uncertainty, Excitement"
          ],
          [
           "None"
          ],
          [
           "Curiosity, Excitement, Happiness, Surprise"
          ],
          [
           "Curiosity, Uncertainty"
          ],
          [
           "Happiness, Frustration"
          ],
          [
           "None"
          ],
          [
           "None"
          ],
          [
           "Uncertainty, Surprise, Disgust"
          ],
          [
           "Uncertainty, Excitement"
          ],
          [
           "None"
          ],
          [
           "Curiosity, Excitement, Happiness, Surprise"
          ],
          [
           "Excitement, Frustration"
          ],
          [
           "Curiosity, Uncertainty, Happiness, Surprise, Frustration"
          ],
          [
           "Surprise, Disgust"
          ],
          [
           "Curiosity, Uncertainty, Happiness, Surprise"
          ],
          [
           "Uncertainty, Surprise"
          ],
          [
           "Uncertainty, Happiness, Surprise"
          ],
          [
           "None"
          ],
          [
           "None"
          ],
          [
           "Excitement, Frustration"
          ],
          [
           "Curiosity, Uncertainty, Happiness, Surprise, Frustration"
          ],
          [
           "Surprise, Disgust"
          ],
          [
           "Curiosity, Uncertainty, Happiness, Surprise"
          ],
          [
           "Uncertainty, Surprise"
          ],
          [
           "Uncertainty, Happiness, Surprise"
          ],
          [
           "None"
          ],
          [
           "None"
          ],
          [
           "Excitement, Frustration"
          ],
          [
           "Curiosity, Uncertainty, Happiness, Surprise, Frustration"
          ],
          [
           "Surprise, Disgust"
          ],
          [
           "Curiosity, Uncertainty, Happiness, Surprise"
          ],
          [
           "Uncertainty, Surprise"
          ],
          [
           "Uncertainty, Happiness, Surprise"
          ],
          [
           "None"
          ],
          [
           "None"
          ]
         ],
         "hovertemplate": "x=%{x}<br>y=%{y}<br>labels=%{customdata[0]}<extra></extra>",
         "legendgroup": "",
         "marker": {
          "color": "#636efa",
          "symbol": "circle"
         },
         "mode": "markers",
         "name": "",
         "orientation": "v",
         "showlegend": false,
         "type": "scatter",
         "x": [
          21.85846710205078,
          18.15540885925293,
          15.164057731628418,
          -8.842573165893555,
          15.466906547546387,
          -8.842573165893555,
          21.850902557373047,
          -8.842573165893555,
          25.782161712646484,
          25.71323013305664,
          22.483623504638672,
          18.712387084960938,
          22.456722259521484,
          19.125471115112305,
          25.40289306640625,
          18.84722137451172,
          -10.763174057006836,
          -10.763174057006836,
          -12.212865829467773,
          -12.212865829467773,
          -12.212865829467773,
          -10.763174057006836,
          -9.62840461730957,
          -9.62840461730957,
          -9.62840461730957,
          -8.171276092529297,
          -8.171276092529297,
          -9.62840461730957,
          -12.737536430358887,
          -10.763174057006836,
          -8.842573165893555,
          -8.504964828491211,
          20.705400466918945,
          24.433757781982422,
          24.995847702026367,
          20.40985679626465,
          17.936742782592773,
          20.553569793701172,
          21.86297035217285,
          24.735408782958984,
          -12.072068214416504,
          15.313413619995117,
          15.694411277770996,
          -9.880988121032715,
          -12.072068214416504,
          -11.475299835205078,
          -9.880988121032715,
          -12.642918586730957,
          25.481508255004883,
          20.901775360107422,
          22.478145599365234,
          22.48893928527832,
          24.047883987426758,
          25.119504928588867,
          23.52342414855957,
          24.058202743530273,
          16.285072326660156,
          -10.922850608825684,
          -9.880988121032715,
          -9.839991569519043,
          -10.922850608825684,
          -10.922850608825684,
          -10.922850608825684,
          -10.922850608825684,
          24.99650764465332,
          15.729174613952637,
          18.63018035888672,
          18.368867874145508,
          20.421897888183594,
          22.08957290649414,
          18.908763885498047,
          20.3697566986084,
          -10.922850608825684,
          -10.922850608825684,
          -10.922850608825684,
          -10.922850608825684,
          -10.922850608825684,
          14.197708129882812,
          -10.922850608825684,
          -10.922850608825684,
          -10.922850608825684,
          -10.922850608825684,
          -8.842573165893555,
          -10.922850608825684,
          -10.922850608825684,
          -10.922850608825684,
          -10.922850608825684,
          -8.842573165893555,
          -8.842573165893555,
          -10.049985885620117,
          -10.922850608825684,
          -9.839991569519043,
          -12.204297065734863,
          -11.658016204833984,
          -8.842573165893555,
          -12.072066307067871,
          -10.361689567565918,
          -11.658016204833984,
          -10.922850608825684,
          -10.922850608825684,
          -12.651286125183105,
          -12.651286125183105,
          -9.880988121032715,
          23.33006477355957,
          -8.842573165893555,
          -11.658016204833984,
          -9.009624481201172,
          20.41693878173828,
          -11.475299835205078,
          -10.049985885620117,
          -8.842573165893555,
          24.118026733398438,
          20.01993179321289,
          22.94417953491211,
          20.517942428588867,
          25.353271484375,
          17.906084060668945,
          15.866403579711914,
          18.725656509399414,
          25.744739532470703,
          -12.072066307067871,
          -12.135909080505371,
          -12.642931938171387,
          -8.171276092529297,
          -9.839991569519043,
          -8.842573165893555,
          -9.62840461730957,
          -9.009624481201172,
          -9.62840461730957,
          -9.009624481201172,
          -12.212865829467773,
          -9.839991569519043,
          -10.763174057006836,
          -10.763174057006836,
          -9.839991569519043,
          -10.049985885620117,
          -8.842573165893555,
          -8.842573165893555,
          -9.009624481201172,
          -8.842573165893555,
          -9.009624481201172,
          19.093639373779297,
          14.239876747131348,
          14.742223739624023,
          13.741475105285645,
          15.654455184936523,
          17.785263061523438,
          14.486823081970215,
          25.236209869384766,
          18.67852210998535,
          25.404783248901367,
          18.640670776367188,
          -9.009624481201172,
          -9.009624481201172,
          -9.009624481201172,
          -10.761247634887695,
          13.819716453552246,
          -10.761247634887695,
          15.98864459991455,
          -10.761247634887695,
          -10.761247634887695,
          -10.761247634887695,
          -10.761247634887695,
          -10.761247634887695,
          22.236492156982422,
          15.3206787109375,
          23.49620819091797,
          14.490365982055664,
          19.94451332092285,
          25.510528564453125,
          16.183788299560547,
          25.75096893310547,
          16.287918090820312,
          25.42073631286621,
          25.173213958740234,
          25.397682189941406,
          -10.761247634887695,
          17.75835609436035,
          -10.761247634887695,
          22.839122772216797,
          -10.761247634887695,
          15.572132110595703,
          25.746017456054688,
          17.551223754882812,
          22.090946197509766,
          25.139144897460938,
          19.657981872558594,
          25.178918838500977,
          19.88222312927246,
          25.756990432739258,
          25.788143157958984,
          25.035585403442383,
          -10.761247634887695,
          -10.761247634887695,
          -10.761247634887695,
          -10.761247634887695,
          -10.761247634887695,
          -10.761247634887695,
          -10.761247634887695,
          -10.761247634887695,
          -10.761247634887695,
          -10.761247634887695,
          -10.761247634887695,
          -10.761247634887695,
          -10.761247634887695,
          14.154545783996582,
          -10.761247634887695,
          -10.761247634887695,
          -10.761247634887695,
          22.769126892089844,
          24.505897521972656,
          22.14961051940918,
          -10.761247634887695,
          24.659841537475586,
          18.280622482299805,
          20.23517608642578,
          -10.761247634887695,
          -10.761247634887695,
          -10.761247634887695,
          -10.761247634887695,
          -10.761247634887695,
          -10.761247634887695,
          20.274078369140625,
          -10.761247634887695,
          20.551912307739258,
          20.797283172607422,
          -10.761247634887695,
          -10.761247634887695,
          14.88099193572998,
          -10.761247634887695,
          25.00359535217285,
          -10.761247634887695,
          20.625375747680664,
          21.77937889099121,
          -10.761247634887695,
          -10.761247634887695,
          15.503983497619629,
          -10.761247634887695,
          24.797531127929688,
          -10.761247634887695,
          -10.761247634887695,
          -10.761247634887695,
          -10.761247634887695,
          -10.761247634887695,
          -10.761247634887695,
          -10.761247634887695,
          -10.761247634887695,
          -10.761247634887695,
          18.573589324951172,
          17.682697296142578,
          21.07975196838379,
          15.803773880004883,
          24.8989315032959,
          24.32081413269043,
          20.608657836914062,
          13.38947868347168,
          -10.761247634887695,
          -10.761247634887695,
          -10.761247634887695,
          -10.761247634887695,
          -10.761247634887695,
          -10.761247634887695,
          -10.761247634887695,
          -10.761247634887695,
          -10.761247634887695,
          -10.761247634887695,
          -10.761247634887695,
          -10.761247634887695,
          -10.761247634887695,
          -10.761247634887695,
          -10.761247634887695,
          -10.761247634887695,
          -10.761247634887695,
          -10.761247634887695,
          -10.761247634887695,
          -10.761247634887695,
          -10.761247634887695,
          -10.761247634887695,
          16.3173770904541,
          -10.761247634887695,
          -10.761247634887695,
          -10.761247634887695,
          -10.761247634887695,
          -10.761247634887695,
          -10.761247634887695,
          -10.761247634887695,
          -10.761247634887695,
          -10.761247634887695,
          -10.761247634887695,
          -10.761247634887695,
          21.894800186157227,
          20.415386199951172,
          24.98250389099121,
          -10.761247634887695,
          18.363849639892578,
          -10.761247634887695,
          15.242201805114746,
          14.768329620361328,
          23.909862518310547,
          22.86316680908203,
          24.270309448242188,
          14.250810623168945,
          21.625452041625977,
          15.146666526794434,
          -10.761247634887695,
          -10.761247634887695,
          -10.761247634887695,
          -10.761247634887695,
          23.961009979248047,
          -10.761247634887695,
          -10.761247634887695,
          -10.761247634887695
         ],
         "xaxis": "x",
         "y": [
          0.7206609845161438,
          5.691301345825195,
          8.488560676574707,
          -0.22322894632816315,
          8.340819358825684,
          -0.22322894632816315,
          0.733217716217041,
          -0.22322894632816315,
          -5.766693592071533,
          -6.20091438293457,
          -0.33715197443962097,
          5.069700717926025,
          -0.2899923622608185,
          4.571768283843994,
          -5.207789897918701,
          4.910318851470947,
          1.9748680591583252,
          1.9748680591583252,
          1.182305932044983,
          1.182305932044983,
          1.182305932044983,
          1.9748680591583252,
          0.7662864923477173,
          0.7662864923477173,
          0.7662864923477173,
          0.7625707983970642,
          0.7625707983970642,
          0.7662864923477173,
          0.14787819981575012,
          1.9748680591583252,
          -0.22322894632816315,
          0.8636835217475891,
          2.5228641033172607,
          -3.9136769771575928,
          -4.950273513793945,
          2.947298049926758,
          5.919004440307617,
          2.733994960784912,
          0.7140733599662781,
          -4.474012851715088,
          -0.018753474578261375,
          8.296684265136719,
          8.06941032409668,
          0.03405388444662094,
          -0.018753474578261375,
          2.2861435413360596,
          0.03405388444662094,
          -0.3125532269477844,
          -5.273017883300781,
          2.2278246879577637,
          -0.32761695981025696,
          -0.34641242027282715,
          -3.20221209526062,
          -5.69865608215332,
          -2.2275173664093018,
          -3.2209885120391846,
          7.542186737060547,
          0.5795913934707642,
          0.03405388444662094,
          2.216487169265747,
          0.5795913934707642,
          0.5795913934707642,
          0.5795913934707642,
          0.5795913934707642,
          -5.355794906616211,
          8.03923511505127,
          5.16638708114624,
          5.460954666137695,
          2.8274240493774414,
          0.34016281366348267,
          4.839996337890625,
          3.0073189735412598,
          0.5795913934707642,
          0.5795913934707642,
          0.5795913934707642,
          0.5795913934707642,
          0.5795913934707642,
          9.10837173461914,
          0.5795913934707642,
          0.5795913934707642,
          0.5795913934707642,
          0.5795913934707642,
          -0.22322894632816315,
          0.5795913934707642,
          0.5795913934707642,
          0.5795913934707642,
          0.5795913934707642,
          -0.22322894632816315,
          -0.22322894632816315,
          1.4541015625,
          0.5795913934707642,
          2.216487169265747,
          0.542134702205658,
          1.6962230205535889,
          -0.22322894632816315,
          -0.018756482750177383,
          3.170194149017334,
          1.6962230205535889,
          0.5795913934707642,
          0.5795913934707642,
          0.6559282541275024,
          0.6559282541275024,
          0.03405388444662094,
          -1.8685511350631714,
          -0.22322894632816315,
          1.6962230205535889,
          1.5116677284240723,
          2.950732707977295,
          2.2861435413360596,
          1.4541015625,
          -0.22322894632816315,
          -3.3336312770843506,
          3.443181276321411,
          -1.1607226133346558,
          2.9349300861358643,
          -5.171746730804443,
          5.950323581695557,
          7.919985294342041,
          5.054038047790527,
          -5.674013137817383,
          -0.018756482750177383,
          1.8444695472717285,
          -0.3125556409358978,
          0.7625707983970642,
          2.216487169265747,
          -0.22322894632816315,
          0.7662864923477173,
          1.5116677284240723,
          0.7662864923477173,
          1.5116677284240723,
          1.182305932044983,
          2.216487169265747,
          1.9748680591583252,
          1.9748680591583252,
          2.216487169265747,
          1.4541015625,
          -0.22322894632816315,
          -0.22322894632816315,
          1.5116677284240723,
          -0.22322894632816315,
          1.5116677284240723,
          4.610734939575195,
          9.082473754882812,
          8.774913787841797,
          9.358627319335938,
          8.095462799072266,
          6.072457313537598,
          8.936753273010254,
          -5.875305652618408,
          5.112518310546875,
          -6.084674835205078,
          5.15403938293457,
          1.5116677284240723,
          1.5116677284240723,
          1.5116677284240723,
          -2.086085319519043,
          9.31794261932373,
          -2.086085319519043,
          7.809764862060547,
          -2.086085319519043,
          -2.086085319519043,
          -2.086085319519043,
          -2.086085319519043,
          -2.086085319519043,
          0.0918019637465477,
          8.300033569335938,
          -2.1771092414855957,
          8.934844017028809,
          3.5412404537200928,
          -6.168519020080566,
          7.628268718719482,
          -6.223905086517334,
          7.539596080780029,
          -5.21465539932251,
          -5.7673211097717285,
          -5.193841934204102,
          -2.086085319519043,
          6.099048614501953,
          -2.086085319519043,
          -0.9698339700698853,
          -2.086085319519043,
          8.147648811340332,
          -5.674006938934326,
          6.306071758270264,
          0.33777308464050293,
          -5.71278715133667,
          3.906872272491455,
          -5.7982096672058105,
          3.622166395187378,
          -6.178969383239746,
          -5.805088520050049,
          -5.135011672973633,
          -2.086085319519043,
          -2.086085319519043,
          -2.086085319519043,
          -2.086085319519043,
          -2.086085319519043,
          -2.086085319519043,
          -2.086085319519043,
          -2.086085319519043,
          -2.086085319519043,
          -2.086085319519043,
          -2.086085319519043,
          -2.086085319519043,
          -2.086085319519043,
          9.133635520935059,
          -2.086085319519043,
          -2.086085319519043,
          -2.086085319519043,
          -0.8434044122695923,
          -4.047145366668701,
          0.23897331953048706,
          -2.086085319519043,
          -4.331437110900879,
          5.556809902191162,
          3.1672894954681396,
          -2.086085319519043,
          -2.086085319519043,
          -2.086085319519043,
          -2.086085319519043,
          -2.086085319519043,
          -2.086085319519043,
          3.1272242069244385,
          -2.086085319519043,
          2.7735435962677,
          2.381960153579712,
          -2.086085319519043,
          -2.086085319519043,
          8.67945384979248,
          -2.086085319519043,
          -5.3316473960876465,
          -2.086085319519043,
          2.649533271789551,
          0.8436795473098755,
          -2.086085319519043,
          -2.086085319519043,
          8.314478874206543,
          -2.086085319519043,
          -4.596292018890381,
          -2.086085319519043,
          -2.086085319519043,
          -2.086085319519043,
          -2.086085319519043,
          -2.086085319519043,
          -2.086085319519043,
          -2.086085319519043,
          -2.086085319519043,
          -2.086085319519043,
          5.232175350189209,
          6.174523830413818,
          1.9492735862731934,
          7.980401992797852,
          -4.810814380645752,
          -3.708867311477661,
          2.675919532775879,
          9.536540031433105,
          -2.086085319519043,
          -2.086085319519043,
          -2.086085319519043,
          -2.086085319519043,
          -2.086085319519043,
          -2.086085319519043,
          -2.086085319519043,
          -2.086085319519043,
          -2.086085319519043,
          -2.086085319519043,
          -2.086085319519043,
          -2.086085319519043,
          -2.086085319519043,
          -2.086085319519043,
          -2.086085319519043,
          -2.086085319519043,
          -2.086085319519043,
          -2.086085319519043,
          -2.086085319519043,
          -2.086085319519043,
          -2.086085319519043,
          -2.086085319519043,
          7.510456562042236,
          -2.086085319519043,
          -2.086085319519043,
          -2.086085319519043,
          -2.086085319519043,
          -2.086085319519043,
          -2.086085319519043,
          -2.086085319519043,
          -2.086085319519043,
          -2.086085319519043,
          -2.086085319519043,
          -2.086085319519043,
          0.6623170375823975,
          2.830294132232666,
          -5.135157108306885,
          -2.086085319519043,
          5.466208457946777,
          -2.086085319519043,
          8.440581321716309,
          8.758676528930664,
          -2.946944236755371,
          -1.0134953260421753,
          -3.6133334636688232,
          9.076910972595215,
          1.0943400859832764,
          8.497991561889648,
          -2.086085319519043,
          -2.086085319519043,
          -2.086085319519043,
          -2.086085319519043,
          -3.0398194789886475,
          -2.086085319519043,
          -2.086085319519043,
          -2.086085319519043
         ],
         "yaxis": "y"
        }
       ],
       "layout": {
        "autosize": false,
        "height": 800,
        "legend": {
         "tracegroupgap": 0
        },
        "margin": {
         "t": 60
        },
        "template": {
         "data": {
          "bar": [
           {
            "error_x": {
             "color": "rgb(36,36,36)"
            },
            "error_y": {
             "color": "rgb(36,36,36)"
            },
            "marker": {
             "line": {
              "color": "rgb(234,234,242)",
              "width": 0.5
             },
             "pattern": {
              "fillmode": "overlay",
              "size": 10,
              "solidity": 0.2
             }
            },
            "type": "bar"
           }
          ],
          "barpolar": [
           {
            "marker": {
             "line": {
              "color": "rgb(234,234,242)",
              "width": 0.5
             },
             "pattern": {
              "fillmode": "overlay",
              "size": 10,
              "solidity": 0.2
             }
            },
            "type": "barpolar"
           }
          ],
          "carpet": [
           {
            "aaxis": {
             "endlinecolor": "rgb(36,36,36)",
             "gridcolor": "white",
             "linecolor": "white",
             "minorgridcolor": "white",
             "startlinecolor": "rgb(36,36,36)"
            },
            "baxis": {
             "endlinecolor": "rgb(36,36,36)",
             "gridcolor": "white",
             "linecolor": "white",
             "minorgridcolor": "white",
             "startlinecolor": "rgb(36,36,36)"
            },
            "type": "carpet"
           }
          ],
          "choropleth": [
           {
            "colorbar": {
             "outlinewidth": 0,
             "tickcolor": "rgb(36,36,36)",
             "ticklen": 8,
             "ticks": "outside",
             "tickwidth": 2
            },
            "type": "choropleth"
           }
          ],
          "contour": [
           {
            "colorbar": {
             "outlinewidth": 0,
             "tickcolor": "rgb(36,36,36)",
             "ticklen": 8,
             "ticks": "outside",
             "tickwidth": 2
            },
            "colorscale": [
             [
              0,
              "rgb(2,4,25)"
             ],
             [
              0.06274509803921569,
              "rgb(24,15,41)"
             ],
             [
              0.12549019607843137,
              "rgb(47,23,57)"
             ],
             [
              0.18823529411764706,
              "rgb(71,28,72)"
             ],
             [
              0.25098039215686274,
              "rgb(97,30,82)"
             ],
             [
              0.3137254901960784,
              "rgb(123,30,89)"
             ],
             [
              0.3764705882352941,
              "rgb(150,27,91)"
             ],
             [
              0.4392156862745098,
              "rgb(177,22,88)"
             ],
             [
              0.5019607843137255,
              "rgb(203,26,79)"
             ],
             [
              0.5647058823529412,
              "rgb(223,47,67)"
             ],
             [
              0.6274509803921569,
              "rgb(236,76,61)"
             ],
             [
              0.6901960784313725,
              "rgb(242,107,73)"
             ],
             [
              0.7529411764705882,
              "rgb(244,135,95)"
             ],
             [
              0.8156862745098039,
              "rgb(245,162,122)"
             ],
             [
              0.8784313725490196,
              "rgb(246,188,153)"
             ],
             [
              0.9411764705882353,
              "rgb(247,212,187)"
             ],
             [
              1,
              "rgb(250,234,220)"
             ]
            ],
            "type": "contour"
           }
          ],
          "contourcarpet": [
           {
            "colorbar": {
             "outlinewidth": 0,
             "tickcolor": "rgb(36,36,36)",
             "ticklen": 8,
             "ticks": "outside",
             "tickwidth": 2
            },
            "type": "contourcarpet"
           }
          ],
          "heatmap": [
           {
            "colorbar": {
             "outlinewidth": 0,
             "tickcolor": "rgb(36,36,36)",
             "ticklen": 8,
             "ticks": "outside",
             "tickwidth": 2
            },
            "colorscale": [
             [
              0,
              "rgb(2,4,25)"
             ],
             [
              0.06274509803921569,
              "rgb(24,15,41)"
             ],
             [
              0.12549019607843137,
              "rgb(47,23,57)"
             ],
             [
              0.18823529411764706,
              "rgb(71,28,72)"
             ],
             [
              0.25098039215686274,
              "rgb(97,30,82)"
             ],
             [
              0.3137254901960784,
              "rgb(123,30,89)"
             ],
             [
              0.3764705882352941,
              "rgb(150,27,91)"
             ],
             [
              0.4392156862745098,
              "rgb(177,22,88)"
             ],
             [
              0.5019607843137255,
              "rgb(203,26,79)"
             ],
             [
              0.5647058823529412,
              "rgb(223,47,67)"
             ],
             [
              0.6274509803921569,
              "rgb(236,76,61)"
             ],
             [
              0.6901960784313725,
              "rgb(242,107,73)"
             ],
             [
              0.7529411764705882,
              "rgb(244,135,95)"
             ],
             [
              0.8156862745098039,
              "rgb(245,162,122)"
             ],
             [
              0.8784313725490196,
              "rgb(246,188,153)"
             ],
             [
              0.9411764705882353,
              "rgb(247,212,187)"
             ],
             [
              1,
              "rgb(250,234,220)"
             ]
            ],
            "type": "heatmap"
           }
          ],
          "heatmapgl": [
           {
            "colorbar": {
             "outlinewidth": 0,
             "tickcolor": "rgb(36,36,36)",
             "ticklen": 8,
             "ticks": "outside",
             "tickwidth": 2
            },
            "colorscale": [
             [
              0,
              "rgb(2,4,25)"
             ],
             [
              0.06274509803921569,
              "rgb(24,15,41)"
             ],
             [
              0.12549019607843137,
              "rgb(47,23,57)"
             ],
             [
              0.18823529411764706,
              "rgb(71,28,72)"
             ],
             [
              0.25098039215686274,
              "rgb(97,30,82)"
             ],
             [
              0.3137254901960784,
              "rgb(123,30,89)"
             ],
             [
              0.3764705882352941,
              "rgb(150,27,91)"
             ],
             [
              0.4392156862745098,
              "rgb(177,22,88)"
             ],
             [
              0.5019607843137255,
              "rgb(203,26,79)"
             ],
             [
              0.5647058823529412,
              "rgb(223,47,67)"
             ],
             [
              0.6274509803921569,
              "rgb(236,76,61)"
             ],
             [
              0.6901960784313725,
              "rgb(242,107,73)"
             ],
             [
              0.7529411764705882,
              "rgb(244,135,95)"
             ],
             [
              0.8156862745098039,
              "rgb(245,162,122)"
             ],
             [
              0.8784313725490196,
              "rgb(246,188,153)"
             ],
             [
              0.9411764705882353,
              "rgb(247,212,187)"
             ],
             [
              1,
              "rgb(250,234,220)"
             ]
            ],
            "type": "heatmapgl"
           }
          ],
          "histogram": [
           {
            "marker": {
             "pattern": {
              "fillmode": "overlay",
              "size": 10,
              "solidity": 0.2
             }
            },
            "type": "histogram"
           }
          ],
          "histogram2d": [
           {
            "colorbar": {
             "outlinewidth": 0,
             "tickcolor": "rgb(36,36,36)",
             "ticklen": 8,
             "ticks": "outside",
             "tickwidth": 2
            },
            "colorscale": [
             [
              0,
              "rgb(2,4,25)"
             ],
             [
              0.06274509803921569,
              "rgb(24,15,41)"
             ],
             [
              0.12549019607843137,
              "rgb(47,23,57)"
             ],
             [
              0.18823529411764706,
              "rgb(71,28,72)"
             ],
             [
              0.25098039215686274,
              "rgb(97,30,82)"
             ],
             [
              0.3137254901960784,
              "rgb(123,30,89)"
             ],
             [
              0.3764705882352941,
              "rgb(150,27,91)"
             ],
             [
              0.4392156862745098,
              "rgb(177,22,88)"
             ],
             [
              0.5019607843137255,
              "rgb(203,26,79)"
             ],
             [
              0.5647058823529412,
              "rgb(223,47,67)"
             ],
             [
              0.6274509803921569,
              "rgb(236,76,61)"
             ],
             [
              0.6901960784313725,
              "rgb(242,107,73)"
             ],
             [
              0.7529411764705882,
              "rgb(244,135,95)"
             ],
             [
              0.8156862745098039,
              "rgb(245,162,122)"
             ],
             [
              0.8784313725490196,
              "rgb(246,188,153)"
             ],
             [
              0.9411764705882353,
              "rgb(247,212,187)"
             ],
             [
              1,
              "rgb(250,234,220)"
             ]
            ],
            "type": "histogram2d"
           }
          ],
          "histogram2dcontour": [
           {
            "colorbar": {
             "outlinewidth": 0,
             "tickcolor": "rgb(36,36,36)",
             "ticklen": 8,
             "ticks": "outside",
             "tickwidth": 2
            },
            "colorscale": [
             [
              0,
              "rgb(2,4,25)"
             ],
             [
              0.06274509803921569,
              "rgb(24,15,41)"
             ],
             [
              0.12549019607843137,
              "rgb(47,23,57)"
             ],
             [
              0.18823529411764706,
              "rgb(71,28,72)"
             ],
             [
              0.25098039215686274,
              "rgb(97,30,82)"
             ],
             [
              0.3137254901960784,
              "rgb(123,30,89)"
             ],
             [
              0.3764705882352941,
              "rgb(150,27,91)"
             ],
             [
              0.4392156862745098,
              "rgb(177,22,88)"
             ],
             [
              0.5019607843137255,
              "rgb(203,26,79)"
             ],
             [
              0.5647058823529412,
              "rgb(223,47,67)"
             ],
             [
              0.6274509803921569,
              "rgb(236,76,61)"
             ],
             [
              0.6901960784313725,
              "rgb(242,107,73)"
             ],
             [
              0.7529411764705882,
              "rgb(244,135,95)"
             ],
             [
              0.8156862745098039,
              "rgb(245,162,122)"
             ],
             [
              0.8784313725490196,
              "rgb(246,188,153)"
             ],
             [
              0.9411764705882353,
              "rgb(247,212,187)"
             ],
             [
              1,
              "rgb(250,234,220)"
             ]
            ],
            "type": "histogram2dcontour"
           }
          ],
          "mesh3d": [
           {
            "colorbar": {
             "outlinewidth": 0,
             "tickcolor": "rgb(36,36,36)",
             "ticklen": 8,
             "ticks": "outside",
             "tickwidth": 2
            },
            "type": "mesh3d"
           }
          ],
          "parcoords": [
           {
            "line": {
             "colorbar": {
              "outlinewidth": 0,
              "tickcolor": "rgb(36,36,36)",
              "ticklen": 8,
              "ticks": "outside",
              "tickwidth": 2
             }
            },
            "type": "parcoords"
           }
          ],
          "pie": [
           {
            "automargin": true,
            "type": "pie"
           }
          ],
          "scatter": [
           {
            "fillpattern": {
             "fillmode": "overlay",
             "size": 10,
             "solidity": 0.2
            },
            "type": "scatter"
           }
          ],
          "scatter3d": [
           {
            "line": {
             "colorbar": {
              "outlinewidth": 0,
              "tickcolor": "rgb(36,36,36)",
              "ticklen": 8,
              "ticks": "outside",
              "tickwidth": 2
             }
            },
            "marker": {
             "colorbar": {
              "outlinewidth": 0,
              "tickcolor": "rgb(36,36,36)",
              "ticklen": 8,
              "ticks": "outside",
              "tickwidth": 2
             }
            },
            "type": "scatter3d"
           }
          ],
          "scattercarpet": [
           {
            "marker": {
             "colorbar": {
              "outlinewidth": 0,
              "tickcolor": "rgb(36,36,36)",
              "ticklen": 8,
              "ticks": "outside",
              "tickwidth": 2
             }
            },
            "type": "scattercarpet"
           }
          ],
          "scattergeo": [
           {
            "marker": {
             "colorbar": {
              "outlinewidth": 0,
              "tickcolor": "rgb(36,36,36)",
              "ticklen": 8,
              "ticks": "outside",
              "tickwidth": 2
             }
            },
            "type": "scattergeo"
           }
          ],
          "scattergl": [
           {
            "marker": {
             "colorbar": {
              "outlinewidth": 0,
              "tickcolor": "rgb(36,36,36)",
              "ticklen": 8,
              "ticks": "outside",
              "tickwidth": 2
             }
            },
            "type": "scattergl"
           }
          ],
          "scattermapbox": [
           {
            "marker": {
             "colorbar": {
              "outlinewidth": 0,
              "tickcolor": "rgb(36,36,36)",
              "ticklen": 8,
              "ticks": "outside",
              "tickwidth": 2
             }
            },
            "type": "scattermapbox"
           }
          ],
          "scatterpolar": [
           {
            "marker": {
             "colorbar": {
              "outlinewidth": 0,
              "tickcolor": "rgb(36,36,36)",
              "ticklen": 8,
              "ticks": "outside",
              "tickwidth": 2
             }
            },
            "type": "scatterpolar"
           }
          ],
          "scatterpolargl": [
           {
            "marker": {
             "colorbar": {
              "outlinewidth": 0,
              "tickcolor": "rgb(36,36,36)",
              "ticklen": 8,
              "ticks": "outside",
              "tickwidth": 2
             }
            },
            "type": "scatterpolargl"
           }
          ],
          "scatterternary": [
           {
            "marker": {
             "colorbar": {
              "outlinewidth": 0,
              "tickcolor": "rgb(36,36,36)",
              "ticklen": 8,
              "ticks": "outside",
              "tickwidth": 2
             }
            },
            "type": "scatterternary"
           }
          ],
          "surface": [
           {
            "colorbar": {
             "outlinewidth": 0,
             "tickcolor": "rgb(36,36,36)",
             "ticklen": 8,
             "ticks": "outside",
             "tickwidth": 2
            },
            "colorscale": [
             [
              0,
              "rgb(2,4,25)"
             ],
             [
              0.06274509803921569,
              "rgb(24,15,41)"
             ],
             [
              0.12549019607843137,
              "rgb(47,23,57)"
             ],
             [
              0.18823529411764706,
              "rgb(71,28,72)"
             ],
             [
              0.25098039215686274,
              "rgb(97,30,82)"
             ],
             [
              0.3137254901960784,
              "rgb(123,30,89)"
             ],
             [
              0.3764705882352941,
              "rgb(150,27,91)"
             ],
             [
              0.4392156862745098,
              "rgb(177,22,88)"
             ],
             [
              0.5019607843137255,
              "rgb(203,26,79)"
             ],
             [
              0.5647058823529412,
              "rgb(223,47,67)"
             ],
             [
              0.6274509803921569,
              "rgb(236,76,61)"
             ],
             [
              0.6901960784313725,
              "rgb(242,107,73)"
             ],
             [
              0.7529411764705882,
              "rgb(244,135,95)"
             ],
             [
              0.8156862745098039,
              "rgb(245,162,122)"
             ],
             [
              0.8784313725490196,
              "rgb(246,188,153)"
             ],
             [
              0.9411764705882353,
              "rgb(247,212,187)"
             ],
             [
              1,
              "rgb(250,234,220)"
             ]
            ],
            "type": "surface"
           }
          ],
          "table": [
           {
            "cells": {
             "fill": {
              "color": "rgb(231,231,240)"
             },
             "line": {
              "color": "white"
             }
            },
            "header": {
             "fill": {
              "color": "rgb(183,183,191)"
             },
             "line": {
              "color": "white"
             }
            },
            "type": "table"
           }
          ]
         },
         "layout": {
          "annotationdefaults": {
           "arrowcolor": "rgb(67,103,167)"
          },
          "autotypenumbers": "strict",
          "coloraxis": {
           "colorbar": {
            "outlinewidth": 0,
            "tickcolor": "rgb(36,36,36)",
            "ticklen": 8,
            "ticks": "outside",
            "tickwidth": 2
           }
          },
          "colorscale": {
           "sequential": [
            [
             0,
             "rgb(2,4,25)"
            ],
            [
             0.06274509803921569,
             "rgb(24,15,41)"
            ],
            [
             0.12549019607843137,
             "rgb(47,23,57)"
            ],
            [
             0.18823529411764706,
             "rgb(71,28,72)"
            ],
            [
             0.25098039215686274,
             "rgb(97,30,82)"
            ],
            [
             0.3137254901960784,
             "rgb(123,30,89)"
            ],
            [
             0.3764705882352941,
             "rgb(150,27,91)"
            ],
            [
             0.4392156862745098,
             "rgb(177,22,88)"
            ],
            [
             0.5019607843137255,
             "rgb(203,26,79)"
            ],
            [
             0.5647058823529412,
             "rgb(223,47,67)"
            ],
            [
             0.6274509803921569,
             "rgb(236,76,61)"
            ],
            [
             0.6901960784313725,
             "rgb(242,107,73)"
            ],
            [
             0.7529411764705882,
             "rgb(244,135,95)"
            ],
            [
             0.8156862745098039,
             "rgb(245,162,122)"
            ],
            [
             0.8784313725490196,
             "rgb(246,188,153)"
            ],
            [
             0.9411764705882353,
             "rgb(247,212,187)"
            ],
            [
             1,
             "rgb(250,234,220)"
            ]
           ],
           "sequentialminus": [
            [
             0,
             "rgb(2,4,25)"
            ],
            [
             0.06274509803921569,
             "rgb(24,15,41)"
            ],
            [
             0.12549019607843137,
             "rgb(47,23,57)"
            ],
            [
             0.18823529411764706,
             "rgb(71,28,72)"
            ],
            [
             0.25098039215686274,
             "rgb(97,30,82)"
            ],
            [
             0.3137254901960784,
             "rgb(123,30,89)"
            ],
            [
             0.3764705882352941,
             "rgb(150,27,91)"
            ],
            [
             0.4392156862745098,
             "rgb(177,22,88)"
            ],
            [
             0.5019607843137255,
             "rgb(203,26,79)"
            ],
            [
             0.5647058823529412,
             "rgb(223,47,67)"
            ],
            [
             0.6274509803921569,
             "rgb(236,76,61)"
            ],
            [
             0.6901960784313725,
             "rgb(242,107,73)"
            ],
            [
             0.7529411764705882,
             "rgb(244,135,95)"
            ],
            [
             0.8156862745098039,
             "rgb(245,162,122)"
            ],
            [
             0.8784313725490196,
             "rgb(246,188,153)"
            ],
            [
             0.9411764705882353,
             "rgb(247,212,187)"
            ],
            [
             1,
             "rgb(250,234,220)"
            ]
           ]
          },
          "colorway": [
           "rgb(76,114,176)",
           "rgb(221,132,82)",
           "rgb(85,168,104)",
           "rgb(196,78,82)",
           "rgb(129,114,179)",
           "rgb(147,120,96)",
           "rgb(218,139,195)",
           "rgb(140,140,140)",
           "rgb(204,185,116)",
           "rgb(100,181,205)"
          ],
          "font": {
           "color": "rgb(36,36,36)"
          },
          "geo": {
           "bgcolor": "white",
           "lakecolor": "white",
           "landcolor": "rgb(234,234,242)",
           "showlakes": true,
           "showland": true,
           "subunitcolor": "white"
          },
          "hoverlabel": {
           "align": "left"
          },
          "hovermode": "closest",
          "paper_bgcolor": "white",
          "plot_bgcolor": "rgb(234,234,242)",
          "polar": {
           "angularaxis": {
            "gridcolor": "white",
            "linecolor": "white",
            "showgrid": true,
            "ticks": ""
           },
           "bgcolor": "rgb(234,234,242)",
           "radialaxis": {
            "gridcolor": "white",
            "linecolor": "white",
            "showgrid": true,
            "ticks": ""
           }
          },
          "scene": {
           "xaxis": {
            "backgroundcolor": "rgb(234,234,242)",
            "gridcolor": "white",
            "gridwidth": 2,
            "linecolor": "white",
            "showbackground": true,
            "showgrid": true,
            "ticks": "",
            "zerolinecolor": "white"
           },
           "yaxis": {
            "backgroundcolor": "rgb(234,234,242)",
            "gridcolor": "white",
            "gridwidth": 2,
            "linecolor": "white",
            "showbackground": true,
            "showgrid": true,
            "ticks": "",
            "zerolinecolor": "white"
           },
           "zaxis": {
            "backgroundcolor": "rgb(234,234,242)",
            "gridcolor": "white",
            "gridwidth": 2,
            "linecolor": "white",
            "showbackground": true,
            "showgrid": true,
            "ticks": "",
            "zerolinecolor": "white"
           }
          },
          "shapedefaults": {
           "fillcolor": "rgb(67,103,167)",
           "line": {
            "width": 0
           },
           "opacity": 0.5
          },
          "ternary": {
           "aaxis": {
            "gridcolor": "white",
            "linecolor": "white",
            "showgrid": true,
            "ticks": ""
           },
           "baxis": {
            "gridcolor": "white",
            "linecolor": "white",
            "showgrid": true,
            "ticks": ""
           },
           "bgcolor": "rgb(234,234,242)",
           "caxis": {
            "gridcolor": "white",
            "linecolor": "white",
            "showgrid": true,
            "ticks": ""
           }
          },
          "xaxis": {
           "automargin": true,
           "gridcolor": "white",
           "linecolor": "white",
           "showgrid": true,
           "ticks": "",
           "title": {
            "standoff": 15
           },
           "zerolinecolor": "white"
          },
          "yaxis": {
           "automargin": true,
           "gridcolor": "white",
           "linecolor": "white",
           "showgrid": true,
           "ticks": "",
           "title": {
            "standoff": 15
           },
           "zerolinecolor": "white"
          }
         }
        },
        "title": {
         "text": "mbt_student_val_loss_5720.63920"
        },
        "width": 800,
        "xaxis": {
         "anchor": "y",
         "domain": [
          0,
          1
         ],
         "title": {
          "text": "x"
         }
        },
        "yaxis": {
         "anchor": "x",
         "domain": [
          0,
          1
         ],
         "title": {
          "text": "y"
         }
        }
       }
      },
      "text/html": [
       "<div>                            <div id=\"f937420c-2e35-4dd5-a753-c3731e444224\" class=\"plotly-graph-div\" style=\"height:800px; width:800px;\"></div>            <script type=\"text/javascript\">                require([\"plotly\"], function(Plotly) {                    window.PLOTLYENV=window.PLOTLYENV || {};                                    if (document.getElementById(\"f937420c-2e35-4dd5-a753-c3731e444224\")) {                    Plotly.newPlot(                        \"f937420c-2e35-4dd5-a753-c3731e444224\",                        [{\"customdata\":[[\"None\"],[\"Curiosity, Happiness, Frustration\"],[\"None\"],[\"Excitement, Happiness\"],[\"Curiosity, Uncertainty, Surprise, Frustration\"],[\"Curiosity, Happiness\"],[\"Happiness\"],[\"None\"],[\"None\"],[\"Curiosity, Happiness, Frustration\"],[\"None\"],[\"Excitement, Happiness\"],[\"Curiosity, Uncertainty, Surprise, Frustration\"],[\"Curiosity, Happiness\"],[\"Happiness\"],[\"None\"],[\"None\"],[\"Curiosity, Happiness, Frustration\"],[\"None\"],[\"Excitement, Happiness\"],[\"Curiosity, Uncertainty, Surprise, Frustration\"],[\"Curiosity, Happiness\"],[\"Happiness\"],[\"None\"],[\"None\"],[\"None\"],[\"Uncertainty, Excitement, Happiness, Disgust\"],[\"Uncertainty, Excitement, Surprise, Disgust, Fear, Frustration\"],[\"Curiosity, Uncertainty, Fear\"],[\"Excitement, Happiness\"],[\"Curiosity, Happiness, Surprise\"],[\"Curiosity, Uncertainty\"],[\"None\"],[\"None\"],[\"Uncertainty, Excitement, Happiness, Disgust\"],[\"Uncertainty, Excitement, Surprise, Disgust, Fear, Frustration\"],[\"Curiosity, Uncertainty, Fear\"],[\"Excitement, Happiness\"],[\"Curiosity, Happiness, Surprise\"],[\"Curiosity, Uncertainty\"],[\"None\"],[\"None\"],[\"Uncertainty, Excitement, Happiness, Disgust\"],[\"Uncertainty, Excitement, Surprise, Disgust, Fear, Frustration\"],[\"Curiosity, Uncertainty, Fear\"],[\"Excitement, Happiness\"],[\"Curiosity, Happiness, Surprise\"],[\"Curiosity, Uncertainty\"],[\"Happiness\"],[\"Uncertainty\"],[\"Curiosity, Uncertainty, Excitement, Happiness, Surprise\"],[\"Excitement\"],[\"None\"],[\"Curiosity\"],[\"Happiness\"],[\"Curiosity, Uncertainty, Happiness\"],[\"Happiness\"],[\"Uncertainty\"],[\"Curiosity, Uncertainty, Excitement, Happiness, Surprise\"],[\"Excitement\"],[\"None\"],[\"Curiosity\"],[\"Happiness\"],[\"Curiosity, Uncertainty, Happiness\"],[\"Happiness\"],[\"Uncertainty\"],[\"Curiosity, Uncertainty, Excitement, Happiness, Surprise\"],[\"Excitement\"],[\"None\"],[\"Curiosity\"],[\"Happiness\"],[\"Curiosity, Uncertainty, Happiness\"],[\"None\"],[\"Curiosity, Uncertainty, Frustration\"],[\"Curiosity, Uncertainty, Surprise, Frustration\"],[\"Curiosity, Uncertainty, Happiness, Surprise\"],[\"None\"],[\"Uncertainty, Disgust, Fear\"],[\"Uncertainty, Disgust, Fear\"],[\"Uncertainty, Happiness, Surprise, Frustration\"],[\"None\"],[\"Curiosity, Uncertainty, Frustration\"],[\"Curiosity, Uncertainty, Surprise, Frustration\"],[\"Curiosity, Uncertainty, Happiness, Surprise\"],[\"None\"],[\"Uncertainty, Disgust, Fear\"],[\"Uncertainty, Disgust, Fear\"],[\"Uncertainty, Happiness, Surprise, Frustration\"],[\"None\"],[\"Curiosity, Uncertainty, Frustration\"],[\"Curiosity, Uncertainty, Surprise, Frustration\"],[\"Curiosity, Uncertainty, Happiness, Surprise\"],[\"None\"],[\"Uncertainty, Disgust, Fear\"],[\"Uncertainty, Disgust, Fear\"],[\"Uncertainty, Happiness, Surprise, Frustration\"],[\"Curiosity, Excitement, Surprise\"],[\"Curiosity, Uncertainty, Happiness\"],[\"Curiosity, Uncertainty, Happiness, Surprise, Fear\"],[\"Excitement, Happiness\"],[\"Curiosity, Happiness\"],[\"Curiosity, Uncertainty, Happiness, Surprise\"],[\"Happiness\"],[\"Excitement, Happiness, Disgust\"],[\"Curiosity, Excitement, Surprise\"],[\"Curiosity, Uncertainty, Happiness\"],[\"Curiosity, Uncertainty, Happiness, Surprise, Fear\"],[\"Excitement, Happiness\"],[\"Curiosity, Happiness\"],[\"Curiosity, Uncertainty, Happiness, Surprise\"],[\"Happiness\"],[\"Excitement, Happiness, Disgust\"],[\"Curiosity, Excitement, Surprise\"],[\"Curiosity, Uncertainty, Happiness\"],[\"Curiosity, Uncertainty, Happiness, Surprise, Fear\"],[\"Excitement, Happiness\"],[\"Curiosity, Happiness\"],[\"Curiosity, Uncertainty, Happiness, Surprise\"],[\"Happiness\"],[\"Excitement, Happiness, Disgust\"],[\"Curiosity, Uncertainty\"],[\"Curiosity, Surprise\"],[\"None\"],[\"Curiosity, Excitement, Happiness, Surprise\"],[\"Excitement, Happiness\"],[\"Uncertainty, Disgust\"],[\"Uncertainty, Happiness\"],[\"Curiosity, Excitement, Happiness\"],[\"Curiosity, Uncertainty\"],[\"Curiosity, Surprise\"],[\"None\"],[\"Curiosity, Excitement, Happiness, Surprise\"],[\"Excitement, Happiness\"],[\"Uncertainty, Disgust\"],[\"Uncertainty, Happiness\"],[\"Curiosity, Excitement, Happiness\"],[\"Curiosity, Uncertainty\"],[\"Curiosity, Surprise\"],[\"None\"],[\"Curiosity, Excitement, Happiness, Surprise\"],[\"Excitement, Happiness\"],[\"Uncertainty, Disgust\"],[\"Uncertainty, Happiness\"],[\"Curiosity, Excitement, Happiness\"],[\"Curiosity, Uncertainty, Excitement, Happiness\"],[\"Curiosity, Happiness, Surprise\"],[\"Curiosity\"],[\"Excitement, Happiness\"],[\"Disgust, Fear, Frustration\"],[\"Excitement, Happiness\"],[\"Curiosity, Uncertainty\"],[\"None\"],[\"Curiosity, Uncertainty, Excitement, Happiness\"],[\"Curiosity, Happiness, Surprise\"],[\"Curiosity\"],[\"Excitement, Happiness\"],[\"Disgust, Fear, Frustration\"],[\"Excitement, Happiness\"],[\"Curiosity, Uncertainty\"],[\"None\"],[\"Curiosity, Uncertainty, Excitement, Happiness\"],[\"Curiosity, Happiness, Surprise\"],[\"Curiosity\"],[\"Excitement, Happiness\"],[\"Disgust, Fear, Frustration\"],[\"Excitement, Happiness\"],[\"Curiosity, Uncertainty\"],[\"None\"],[\"Excitement, Happiness\"],[\"Excitement, Happiness, Surprise\"],[\"Happiness\"],[\"Curiosity, Uncertainty, Surprise\"],[\"Excitement, Frustration\"],[\"Curiosity, Excitement, Happiness\"],[\"Curiosity, Uncertainty, Surprise, Frustration\"],[\"Curiosity\"],[\"Excitement, Happiness\"],[\"Excitement, Happiness, Surprise\"],[\"Happiness\"],[\"Curiosity, Uncertainty, Surprise\"],[\"Excitement, Frustration\"],[\"Curiosity, Excitement, Happiness\"],[\"Curiosity, Uncertainty, Surprise, Frustration\"],[\"Curiosity\"],[\"Excitement, Happiness\"],[\"Excitement, Happiness, Surprise\"],[\"Happiness\"],[\"Curiosity, Uncertainty, Surprise\"],[\"Excitement, Frustration\"],[\"Curiosity, Excitement, Happiness\"],[\"Curiosity, Uncertainty, Surprise, Frustration\"],[\"Curiosity\"],[\"Curiosity, Excitement, Happiness, Surprise\"],[\"None\"],[\"None\"],[\"Curiosity, Happiness, Surprise\"],[\"Curiosity, Uncertainty, Excitement, Happiness, Surprise\"],[\"Curiosity, Excitement, Happiness, Surprise\"],[\"Excitement, Happiness\"],[\"None\"],[\"Curiosity, Excitement, Happiness, Surprise\"],[\"None\"],[\"None\"],[\"Curiosity, Happiness, Surprise\"],[\"Curiosity, Uncertainty, Excitement, Happiness, Surprise\"],[\"Curiosity, Excitement, Happiness, Surprise\"],[\"Excitement, Happiness\"],[\"None\"],[\"Curiosity, Excitement, Happiness, Surprise\"],[\"None\"],[\"None\"],[\"Curiosity, Happiness, Surprise\"],[\"Curiosity, Uncertainty, Excitement, Happiness, Surprise\"],[\"Curiosity, Excitement, Happiness, Surprise\"],[\"Excitement, Happiness\"],[\"None\"],[\"Frustration\"],[\"Curiosity, Uncertainty, Surprise\"],[\"None\"],[\"Happiness\"],[\"Happiness, Surprise\"],[\"Happiness\"],[\"Curiosity, Uncertainty, Excitement, Happiness, Surprise, Fear\"],[\"Curiosity, Happiness\"],[\"Frustration\"],[\"Curiosity, Uncertainty, Surprise\"],[\"None\"],[\"Happiness\"],[\"Happiness, Surprise\"],[\"Happiness\"],[\"Curiosity, Uncertainty, Excitement, Happiness, Surprise, Fear\"],[\"Curiosity, Happiness\"],[\"Frustration\"],[\"Curiosity, Uncertainty, Surprise\"],[\"None\"],[\"Happiness\"],[\"Happiness, Surprise\"],[\"Happiness\"],[\"Curiosity, Uncertainty, Excitement, Happiness, Surprise, Fear\"],[\"Curiosity, Happiness\"],[\"Disgust, Fear\"],[\"Curiosity, Uncertainty, Happiness, Surprise\"],[\"Disgust\"],[\"Happiness\"],[\"Curiosity, Excitement, Happiness, Surprise\"],[\"None\"],[\"None\"],[\"Disgust, Frustration\"],[\"Disgust, Fear\"],[\"Curiosity, Uncertainty, Happiness, Surprise\"],[\"Disgust\"],[\"Happiness\"],[\"Curiosity, Excitement, Happiness, Surprise\"],[\"None\"],[\"None\"],[\"Disgust, Frustration\"],[\"Disgust, Fear\"],[\"Curiosity, Uncertainty, Happiness, Surprise\"],[\"Disgust\"],[\"Happiness\"],[\"Curiosity, Excitement, Happiness, Surprise\"],[\"None\"],[\"None\"],[\"Disgust, Frustration\"],[\"Curiosity, Uncertainty\"],[\"Happiness, Frustration\"],[\"None\"],[\"None\"],[\"Uncertainty, Surprise, Disgust\"],[\"Uncertainty, Excitement\"],[\"None\"],[\"Curiosity, Excitement, Happiness, Surprise\"],[\"Curiosity, Uncertainty\"],[\"Happiness, Frustration\"],[\"None\"],[\"None\"],[\"Uncertainty, Surprise, Disgust\"],[\"Uncertainty, Excitement\"],[\"None\"],[\"Curiosity, Excitement, Happiness, Surprise\"],[\"Curiosity, Uncertainty\"],[\"Happiness, Frustration\"],[\"None\"],[\"None\"],[\"Uncertainty, Surprise, Disgust\"],[\"Uncertainty, Excitement\"],[\"None\"],[\"Curiosity, Excitement, Happiness, Surprise\"],[\"Excitement, Frustration\"],[\"Curiosity, Uncertainty, Happiness, Surprise, Frustration\"],[\"Surprise, Disgust\"],[\"Curiosity, Uncertainty, Happiness, Surprise\"],[\"Uncertainty, Surprise\"],[\"Uncertainty, Happiness, Surprise\"],[\"None\"],[\"None\"],[\"Excitement, Frustration\"],[\"Curiosity, Uncertainty, Happiness, Surprise, Frustration\"],[\"Surprise, Disgust\"],[\"Curiosity, Uncertainty, Happiness, Surprise\"],[\"Uncertainty, Surprise\"],[\"Uncertainty, Happiness, Surprise\"],[\"None\"],[\"None\"],[\"Excitement, Frustration\"],[\"Curiosity, Uncertainty, Happiness, Surprise, Frustration\"],[\"Surprise, Disgust\"],[\"Curiosity, Uncertainty, Happiness, Surprise\"],[\"Uncertainty, Surprise\"],[\"Uncertainty, Happiness, Surprise\"],[\"None\"],[\"None\"]],\"hovertemplate\":\"x=%{x}\\u003cbr\\u003ey=%{y}\\u003cbr\\u003elabels=%{customdata[0]}\\u003cextra\\u003e\\u003c\\u002fextra\\u003e\",\"legendgroup\":\"\",\"marker\":{\"color\":\"#636efa\",\"symbol\":\"circle\"},\"mode\":\"markers\",\"name\":\"\",\"orientation\":\"v\",\"showlegend\":false,\"x\":[21.85846710205078,18.15540885925293,15.164057731628418,-8.842573165893555,15.466906547546387,-8.842573165893555,21.850902557373047,-8.842573165893555,25.782161712646484,25.71323013305664,22.483623504638672,18.712387084960938,22.456722259521484,19.125471115112305,25.40289306640625,18.84722137451172,-10.763174057006836,-10.763174057006836,-12.212865829467773,-12.212865829467773,-12.212865829467773,-10.763174057006836,-9.62840461730957,-9.62840461730957,-9.62840461730957,-8.171276092529297,-8.171276092529297,-9.62840461730957,-12.737536430358887,-10.763174057006836,-8.842573165893555,-8.504964828491211,20.705400466918945,24.433757781982422,24.995847702026367,20.40985679626465,17.936742782592773,20.553569793701172,21.86297035217285,24.735408782958984,-12.072068214416504,15.313413619995117,15.694411277770996,-9.880988121032715,-12.072068214416504,-11.475299835205078,-9.880988121032715,-12.642918586730957,25.481508255004883,20.901775360107422,22.478145599365234,22.48893928527832,24.047883987426758,25.119504928588867,23.52342414855957,24.058202743530273,16.285072326660156,-10.922850608825684,-9.880988121032715,-9.839991569519043,-10.922850608825684,-10.922850608825684,-10.922850608825684,-10.922850608825684,24.99650764465332,15.729174613952637,18.63018035888672,18.368867874145508,20.421897888183594,22.08957290649414,18.908763885498047,20.3697566986084,-10.922850608825684,-10.922850608825684,-10.922850608825684,-10.922850608825684,-10.922850608825684,14.197708129882812,-10.922850608825684,-10.922850608825684,-10.922850608825684,-10.922850608825684,-8.842573165893555,-10.922850608825684,-10.922850608825684,-10.922850608825684,-10.922850608825684,-8.842573165893555,-8.842573165893555,-10.049985885620117,-10.922850608825684,-9.839991569519043,-12.204297065734863,-11.658016204833984,-8.842573165893555,-12.072066307067871,-10.361689567565918,-11.658016204833984,-10.922850608825684,-10.922850608825684,-12.651286125183105,-12.651286125183105,-9.880988121032715,23.33006477355957,-8.842573165893555,-11.658016204833984,-9.009624481201172,20.41693878173828,-11.475299835205078,-10.049985885620117,-8.842573165893555,24.118026733398438,20.01993179321289,22.94417953491211,20.517942428588867,25.353271484375,17.906084060668945,15.866403579711914,18.725656509399414,25.744739532470703,-12.072066307067871,-12.135909080505371,-12.642931938171387,-8.171276092529297,-9.839991569519043,-8.842573165893555,-9.62840461730957,-9.009624481201172,-9.62840461730957,-9.009624481201172,-12.212865829467773,-9.839991569519043,-10.763174057006836,-10.763174057006836,-9.839991569519043,-10.049985885620117,-8.842573165893555,-8.842573165893555,-9.009624481201172,-8.842573165893555,-9.009624481201172,19.093639373779297,14.239876747131348,14.742223739624023,13.741475105285645,15.654455184936523,17.785263061523438,14.486823081970215,25.236209869384766,18.67852210998535,25.404783248901367,18.640670776367188,-9.009624481201172,-9.009624481201172,-9.009624481201172,-10.761247634887695,13.819716453552246,-10.761247634887695,15.98864459991455,-10.761247634887695,-10.761247634887695,-10.761247634887695,-10.761247634887695,-10.761247634887695,22.236492156982422,15.3206787109375,23.49620819091797,14.490365982055664,19.94451332092285,25.510528564453125,16.183788299560547,25.75096893310547,16.287918090820312,25.42073631286621,25.173213958740234,25.397682189941406,-10.761247634887695,17.75835609436035,-10.761247634887695,22.839122772216797,-10.761247634887695,15.572132110595703,25.746017456054688,17.551223754882812,22.090946197509766,25.139144897460938,19.657981872558594,25.178918838500977,19.88222312927246,25.756990432739258,25.788143157958984,25.035585403442383,-10.761247634887695,-10.761247634887695,-10.761247634887695,-10.761247634887695,-10.761247634887695,-10.761247634887695,-10.761247634887695,-10.761247634887695,-10.761247634887695,-10.761247634887695,-10.761247634887695,-10.761247634887695,-10.761247634887695,14.154545783996582,-10.761247634887695,-10.761247634887695,-10.761247634887695,22.769126892089844,24.505897521972656,22.14961051940918,-10.761247634887695,24.659841537475586,18.280622482299805,20.23517608642578,-10.761247634887695,-10.761247634887695,-10.761247634887695,-10.761247634887695,-10.761247634887695,-10.761247634887695,20.274078369140625,-10.761247634887695,20.551912307739258,20.797283172607422,-10.761247634887695,-10.761247634887695,14.88099193572998,-10.761247634887695,25.00359535217285,-10.761247634887695,20.625375747680664,21.77937889099121,-10.761247634887695,-10.761247634887695,15.503983497619629,-10.761247634887695,24.797531127929688,-10.761247634887695,-10.761247634887695,-10.761247634887695,-10.761247634887695,-10.761247634887695,-10.761247634887695,-10.761247634887695,-10.761247634887695,-10.761247634887695,18.573589324951172,17.682697296142578,21.07975196838379,15.803773880004883,24.8989315032959,24.32081413269043,20.608657836914062,13.38947868347168,-10.761247634887695,-10.761247634887695,-10.761247634887695,-10.761247634887695,-10.761247634887695,-10.761247634887695,-10.761247634887695,-10.761247634887695,-10.761247634887695,-10.761247634887695,-10.761247634887695,-10.761247634887695,-10.761247634887695,-10.761247634887695,-10.761247634887695,-10.761247634887695,-10.761247634887695,-10.761247634887695,-10.761247634887695,-10.761247634887695,-10.761247634887695,-10.761247634887695,16.3173770904541,-10.761247634887695,-10.761247634887695,-10.761247634887695,-10.761247634887695,-10.761247634887695,-10.761247634887695,-10.761247634887695,-10.761247634887695,-10.761247634887695,-10.761247634887695,-10.761247634887695,21.894800186157227,20.415386199951172,24.98250389099121,-10.761247634887695,18.363849639892578,-10.761247634887695,15.242201805114746,14.768329620361328,23.909862518310547,22.86316680908203,24.270309448242188,14.250810623168945,21.625452041625977,15.146666526794434,-10.761247634887695,-10.761247634887695,-10.761247634887695,-10.761247634887695,23.961009979248047,-10.761247634887695,-10.761247634887695,-10.761247634887695],\"xaxis\":\"x\",\"y\":[0.7206609845161438,5.691301345825195,8.488560676574707,-0.22322894632816315,8.340819358825684,-0.22322894632816315,0.733217716217041,-0.22322894632816315,-5.766693592071533,-6.20091438293457,-0.33715197443962097,5.069700717926025,-0.2899923622608185,4.571768283843994,-5.207789897918701,4.910318851470947,1.9748680591583252,1.9748680591583252,1.182305932044983,1.182305932044983,1.182305932044983,1.9748680591583252,0.7662864923477173,0.7662864923477173,0.7662864923477173,0.7625707983970642,0.7625707983970642,0.7662864923477173,0.14787819981575012,1.9748680591583252,-0.22322894632816315,0.8636835217475891,2.5228641033172607,-3.9136769771575928,-4.950273513793945,2.947298049926758,5.919004440307617,2.733994960784912,0.7140733599662781,-4.474012851715088,-0.018753474578261375,8.296684265136719,8.06941032409668,0.03405388444662094,-0.018753474578261375,2.2861435413360596,0.03405388444662094,-0.3125532269477844,-5.273017883300781,2.2278246879577637,-0.32761695981025696,-0.34641242027282715,-3.20221209526062,-5.69865608215332,-2.2275173664093018,-3.2209885120391846,7.542186737060547,0.5795913934707642,0.03405388444662094,2.216487169265747,0.5795913934707642,0.5795913934707642,0.5795913934707642,0.5795913934707642,-5.355794906616211,8.03923511505127,5.16638708114624,5.460954666137695,2.8274240493774414,0.34016281366348267,4.839996337890625,3.0073189735412598,0.5795913934707642,0.5795913934707642,0.5795913934707642,0.5795913934707642,0.5795913934707642,9.10837173461914,0.5795913934707642,0.5795913934707642,0.5795913934707642,0.5795913934707642,-0.22322894632816315,0.5795913934707642,0.5795913934707642,0.5795913934707642,0.5795913934707642,-0.22322894632816315,-0.22322894632816315,1.4541015625,0.5795913934707642,2.216487169265747,0.542134702205658,1.6962230205535889,-0.22322894632816315,-0.018756482750177383,3.170194149017334,1.6962230205535889,0.5795913934707642,0.5795913934707642,0.6559282541275024,0.6559282541275024,0.03405388444662094,-1.8685511350631714,-0.22322894632816315,1.6962230205535889,1.5116677284240723,2.950732707977295,2.2861435413360596,1.4541015625,-0.22322894632816315,-3.3336312770843506,3.443181276321411,-1.1607226133346558,2.9349300861358643,-5.171746730804443,5.950323581695557,7.919985294342041,5.054038047790527,-5.674013137817383,-0.018756482750177383,1.8444695472717285,-0.3125556409358978,0.7625707983970642,2.216487169265747,-0.22322894632816315,0.7662864923477173,1.5116677284240723,0.7662864923477173,1.5116677284240723,1.182305932044983,2.216487169265747,1.9748680591583252,1.9748680591583252,2.216487169265747,1.4541015625,-0.22322894632816315,-0.22322894632816315,1.5116677284240723,-0.22322894632816315,1.5116677284240723,4.610734939575195,9.082473754882812,8.774913787841797,9.358627319335938,8.095462799072266,6.072457313537598,8.936753273010254,-5.875305652618408,5.112518310546875,-6.084674835205078,5.15403938293457,1.5116677284240723,1.5116677284240723,1.5116677284240723,-2.086085319519043,9.31794261932373,-2.086085319519043,7.809764862060547,-2.086085319519043,-2.086085319519043,-2.086085319519043,-2.086085319519043,-2.086085319519043,0.0918019637465477,8.300033569335938,-2.1771092414855957,8.934844017028809,3.5412404537200928,-6.168519020080566,7.628268718719482,-6.223905086517334,7.539596080780029,-5.21465539932251,-5.7673211097717285,-5.193841934204102,-2.086085319519043,6.099048614501953,-2.086085319519043,-0.9698339700698853,-2.086085319519043,8.147648811340332,-5.674006938934326,6.306071758270264,0.33777308464050293,-5.71278715133667,3.906872272491455,-5.7982096672058105,3.622166395187378,-6.178969383239746,-5.805088520050049,-5.135011672973633,-2.086085319519043,-2.086085319519043,-2.086085319519043,-2.086085319519043,-2.086085319519043,-2.086085319519043,-2.086085319519043,-2.086085319519043,-2.086085319519043,-2.086085319519043,-2.086085319519043,-2.086085319519043,-2.086085319519043,9.133635520935059,-2.086085319519043,-2.086085319519043,-2.086085319519043,-0.8434044122695923,-4.047145366668701,0.23897331953048706,-2.086085319519043,-4.331437110900879,5.556809902191162,3.1672894954681396,-2.086085319519043,-2.086085319519043,-2.086085319519043,-2.086085319519043,-2.086085319519043,-2.086085319519043,3.1272242069244385,-2.086085319519043,2.7735435962677,2.381960153579712,-2.086085319519043,-2.086085319519043,8.67945384979248,-2.086085319519043,-5.3316473960876465,-2.086085319519043,2.649533271789551,0.8436795473098755,-2.086085319519043,-2.086085319519043,8.314478874206543,-2.086085319519043,-4.596292018890381,-2.086085319519043,-2.086085319519043,-2.086085319519043,-2.086085319519043,-2.086085319519043,-2.086085319519043,-2.086085319519043,-2.086085319519043,-2.086085319519043,5.232175350189209,6.174523830413818,1.9492735862731934,7.980401992797852,-4.810814380645752,-3.708867311477661,2.675919532775879,9.536540031433105,-2.086085319519043,-2.086085319519043,-2.086085319519043,-2.086085319519043,-2.086085319519043,-2.086085319519043,-2.086085319519043,-2.086085319519043,-2.086085319519043,-2.086085319519043,-2.086085319519043,-2.086085319519043,-2.086085319519043,-2.086085319519043,-2.086085319519043,-2.086085319519043,-2.086085319519043,-2.086085319519043,-2.086085319519043,-2.086085319519043,-2.086085319519043,-2.086085319519043,7.510456562042236,-2.086085319519043,-2.086085319519043,-2.086085319519043,-2.086085319519043,-2.086085319519043,-2.086085319519043,-2.086085319519043,-2.086085319519043,-2.086085319519043,-2.086085319519043,-2.086085319519043,0.6623170375823975,2.830294132232666,-5.135157108306885,-2.086085319519043,5.466208457946777,-2.086085319519043,8.440581321716309,8.758676528930664,-2.946944236755371,-1.0134953260421753,-3.6133334636688232,9.076910972595215,1.0943400859832764,8.497991561889648,-2.086085319519043,-2.086085319519043,-2.086085319519043,-2.086085319519043,-3.0398194789886475,-2.086085319519043,-2.086085319519043,-2.086085319519043],\"yaxis\":\"y\",\"type\":\"scatter\"}],                        {\"template\":{\"data\":{\"barpolar\":[{\"marker\":{\"line\":{\"color\":\"rgb(234,234,242)\",\"width\":0.5},\"pattern\":{\"fillmode\":\"overlay\",\"size\":10,\"solidity\":0.2}},\"type\":\"barpolar\"}],\"bar\":[{\"error_x\":{\"color\":\"rgb(36,36,36)\"},\"error_y\":{\"color\":\"rgb(36,36,36)\"},\"marker\":{\"line\":{\"color\":\"rgb(234,234,242)\",\"width\":0.5},\"pattern\":{\"fillmode\":\"overlay\",\"size\":10,\"solidity\":0.2}},\"type\":\"bar\"}],\"carpet\":[{\"aaxis\":{\"endlinecolor\":\"rgb(36,36,36)\",\"gridcolor\":\"white\",\"linecolor\":\"white\",\"minorgridcolor\":\"white\",\"startlinecolor\":\"rgb(36,36,36)\"},\"baxis\":{\"endlinecolor\":\"rgb(36,36,36)\",\"gridcolor\":\"white\",\"linecolor\":\"white\",\"minorgridcolor\":\"white\",\"startlinecolor\":\"rgb(36,36,36)\"},\"type\":\"carpet\"}],\"choropleth\":[{\"colorbar\":{\"outlinewidth\":0,\"tickcolor\":\"rgb(36,36,36)\",\"ticklen\":8,\"ticks\":\"outside\",\"tickwidth\":2},\"type\":\"choropleth\"}],\"contourcarpet\":[{\"colorbar\":{\"outlinewidth\":0,\"tickcolor\":\"rgb(36,36,36)\",\"ticklen\":8,\"ticks\":\"outside\",\"tickwidth\":2},\"type\":\"contourcarpet\"}],\"contour\":[{\"colorbar\":{\"outlinewidth\":0,\"tickcolor\":\"rgb(36,36,36)\",\"ticklen\":8,\"ticks\":\"outside\",\"tickwidth\":2},\"colorscale\":[[0.0,\"rgb(2,4,25)\"],[0.06274509803921569,\"rgb(24,15,41)\"],[0.12549019607843137,\"rgb(47,23,57)\"],[0.18823529411764706,\"rgb(71,28,72)\"],[0.25098039215686274,\"rgb(97,30,82)\"],[0.3137254901960784,\"rgb(123,30,89)\"],[0.3764705882352941,\"rgb(150,27,91)\"],[0.4392156862745098,\"rgb(177,22,88)\"],[0.5019607843137255,\"rgb(203,26,79)\"],[0.5647058823529412,\"rgb(223,47,67)\"],[0.6274509803921569,\"rgb(236,76,61)\"],[0.6901960784313725,\"rgb(242,107,73)\"],[0.7529411764705882,\"rgb(244,135,95)\"],[0.8156862745098039,\"rgb(245,162,122)\"],[0.8784313725490196,\"rgb(246,188,153)\"],[0.9411764705882353,\"rgb(247,212,187)\"],[1.0,\"rgb(250,234,220)\"]],\"type\":\"contour\"}],\"heatmapgl\":[{\"colorbar\":{\"outlinewidth\":0,\"tickcolor\":\"rgb(36,36,36)\",\"ticklen\":8,\"ticks\":\"outside\",\"tickwidth\":2},\"colorscale\":[[0.0,\"rgb(2,4,25)\"],[0.06274509803921569,\"rgb(24,15,41)\"],[0.12549019607843137,\"rgb(47,23,57)\"],[0.18823529411764706,\"rgb(71,28,72)\"],[0.25098039215686274,\"rgb(97,30,82)\"],[0.3137254901960784,\"rgb(123,30,89)\"],[0.3764705882352941,\"rgb(150,27,91)\"],[0.4392156862745098,\"rgb(177,22,88)\"],[0.5019607843137255,\"rgb(203,26,79)\"],[0.5647058823529412,\"rgb(223,47,67)\"],[0.6274509803921569,\"rgb(236,76,61)\"],[0.6901960784313725,\"rgb(242,107,73)\"],[0.7529411764705882,\"rgb(244,135,95)\"],[0.8156862745098039,\"rgb(245,162,122)\"],[0.8784313725490196,\"rgb(246,188,153)\"],[0.9411764705882353,\"rgb(247,212,187)\"],[1.0,\"rgb(250,234,220)\"]],\"type\":\"heatmapgl\"}],\"heatmap\":[{\"colorbar\":{\"outlinewidth\":0,\"tickcolor\":\"rgb(36,36,36)\",\"ticklen\":8,\"ticks\":\"outside\",\"tickwidth\":2},\"colorscale\":[[0.0,\"rgb(2,4,25)\"],[0.06274509803921569,\"rgb(24,15,41)\"],[0.12549019607843137,\"rgb(47,23,57)\"],[0.18823529411764706,\"rgb(71,28,72)\"],[0.25098039215686274,\"rgb(97,30,82)\"],[0.3137254901960784,\"rgb(123,30,89)\"],[0.3764705882352941,\"rgb(150,27,91)\"],[0.4392156862745098,\"rgb(177,22,88)\"],[0.5019607843137255,\"rgb(203,26,79)\"],[0.5647058823529412,\"rgb(223,47,67)\"],[0.6274509803921569,\"rgb(236,76,61)\"],[0.6901960784313725,\"rgb(242,107,73)\"],[0.7529411764705882,\"rgb(244,135,95)\"],[0.8156862745098039,\"rgb(245,162,122)\"],[0.8784313725490196,\"rgb(246,188,153)\"],[0.9411764705882353,\"rgb(247,212,187)\"],[1.0,\"rgb(250,234,220)\"]],\"type\":\"heatmap\"}],\"histogram2dcontour\":[{\"colorbar\":{\"outlinewidth\":0,\"tickcolor\":\"rgb(36,36,36)\",\"ticklen\":8,\"ticks\":\"outside\",\"tickwidth\":2},\"colorscale\":[[0.0,\"rgb(2,4,25)\"],[0.06274509803921569,\"rgb(24,15,41)\"],[0.12549019607843137,\"rgb(47,23,57)\"],[0.18823529411764706,\"rgb(71,28,72)\"],[0.25098039215686274,\"rgb(97,30,82)\"],[0.3137254901960784,\"rgb(123,30,89)\"],[0.3764705882352941,\"rgb(150,27,91)\"],[0.4392156862745098,\"rgb(177,22,88)\"],[0.5019607843137255,\"rgb(203,26,79)\"],[0.5647058823529412,\"rgb(223,47,67)\"],[0.6274509803921569,\"rgb(236,76,61)\"],[0.6901960784313725,\"rgb(242,107,73)\"],[0.7529411764705882,\"rgb(244,135,95)\"],[0.8156862745098039,\"rgb(245,162,122)\"],[0.8784313725490196,\"rgb(246,188,153)\"],[0.9411764705882353,\"rgb(247,212,187)\"],[1.0,\"rgb(250,234,220)\"]],\"type\":\"histogram2dcontour\"}],\"histogram2d\":[{\"colorbar\":{\"outlinewidth\":0,\"tickcolor\":\"rgb(36,36,36)\",\"ticklen\":8,\"ticks\":\"outside\",\"tickwidth\":2},\"colorscale\":[[0.0,\"rgb(2,4,25)\"],[0.06274509803921569,\"rgb(24,15,41)\"],[0.12549019607843137,\"rgb(47,23,57)\"],[0.18823529411764706,\"rgb(71,28,72)\"],[0.25098039215686274,\"rgb(97,30,82)\"],[0.3137254901960784,\"rgb(123,30,89)\"],[0.3764705882352941,\"rgb(150,27,91)\"],[0.4392156862745098,\"rgb(177,22,88)\"],[0.5019607843137255,\"rgb(203,26,79)\"],[0.5647058823529412,\"rgb(223,47,67)\"],[0.6274509803921569,\"rgb(236,76,61)\"],[0.6901960784313725,\"rgb(242,107,73)\"],[0.7529411764705882,\"rgb(244,135,95)\"],[0.8156862745098039,\"rgb(245,162,122)\"],[0.8784313725490196,\"rgb(246,188,153)\"],[0.9411764705882353,\"rgb(247,212,187)\"],[1.0,\"rgb(250,234,220)\"]],\"type\":\"histogram2d\"}],\"histogram\":[{\"marker\":{\"pattern\":{\"fillmode\":\"overlay\",\"size\":10,\"solidity\":0.2}},\"type\":\"histogram\"}],\"mesh3d\":[{\"colorbar\":{\"outlinewidth\":0,\"tickcolor\":\"rgb(36,36,36)\",\"ticklen\":8,\"ticks\":\"outside\",\"tickwidth\":2},\"type\":\"mesh3d\"}],\"parcoords\":[{\"line\":{\"colorbar\":{\"outlinewidth\":0,\"tickcolor\":\"rgb(36,36,36)\",\"ticklen\":8,\"ticks\":\"outside\",\"tickwidth\":2}},\"type\":\"parcoords\"}],\"pie\":[{\"automargin\":true,\"type\":\"pie\"}],\"scatter3d\":[{\"line\":{\"colorbar\":{\"outlinewidth\":0,\"tickcolor\":\"rgb(36,36,36)\",\"ticklen\":8,\"ticks\":\"outside\",\"tickwidth\":2}},\"marker\":{\"colorbar\":{\"outlinewidth\":0,\"tickcolor\":\"rgb(36,36,36)\",\"ticklen\":8,\"ticks\":\"outside\",\"tickwidth\":2}},\"type\":\"scatter3d\"}],\"scattercarpet\":[{\"marker\":{\"colorbar\":{\"outlinewidth\":0,\"tickcolor\":\"rgb(36,36,36)\",\"ticklen\":8,\"ticks\":\"outside\",\"tickwidth\":2}},\"type\":\"scattercarpet\"}],\"scattergeo\":[{\"marker\":{\"colorbar\":{\"outlinewidth\":0,\"tickcolor\":\"rgb(36,36,36)\",\"ticklen\":8,\"ticks\":\"outside\",\"tickwidth\":2}},\"type\":\"scattergeo\"}],\"scattergl\":[{\"marker\":{\"colorbar\":{\"outlinewidth\":0,\"tickcolor\":\"rgb(36,36,36)\",\"ticklen\":8,\"ticks\":\"outside\",\"tickwidth\":2}},\"type\":\"scattergl\"}],\"scattermapbox\":[{\"marker\":{\"colorbar\":{\"outlinewidth\":0,\"tickcolor\":\"rgb(36,36,36)\",\"ticklen\":8,\"ticks\":\"outside\",\"tickwidth\":2}},\"type\":\"scattermapbox\"}],\"scatterpolargl\":[{\"marker\":{\"colorbar\":{\"outlinewidth\":0,\"tickcolor\":\"rgb(36,36,36)\",\"ticklen\":8,\"ticks\":\"outside\",\"tickwidth\":2}},\"type\":\"scatterpolargl\"}],\"scatterpolar\":[{\"marker\":{\"colorbar\":{\"outlinewidth\":0,\"tickcolor\":\"rgb(36,36,36)\",\"ticklen\":8,\"ticks\":\"outside\",\"tickwidth\":2}},\"type\":\"scatterpolar\"}],\"scatter\":[{\"fillpattern\":{\"fillmode\":\"overlay\",\"size\":10,\"solidity\":0.2},\"type\":\"scatter\"}],\"scatterternary\":[{\"marker\":{\"colorbar\":{\"outlinewidth\":0,\"tickcolor\":\"rgb(36,36,36)\",\"ticklen\":8,\"ticks\":\"outside\",\"tickwidth\":2}},\"type\":\"scatterternary\"}],\"surface\":[{\"colorbar\":{\"outlinewidth\":0,\"tickcolor\":\"rgb(36,36,36)\",\"ticklen\":8,\"ticks\":\"outside\",\"tickwidth\":2},\"colorscale\":[[0.0,\"rgb(2,4,25)\"],[0.06274509803921569,\"rgb(24,15,41)\"],[0.12549019607843137,\"rgb(47,23,57)\"],[0.18823529411764706,\"rgb(71,28,72)\"],[0.25098039215686274,\"rgb(97,30,82)\"],[0.3137254901960784,\"rgb(123,30,89)\"],[0.3764705882352941,\"rgb(150,27,91)\"],[0.4392156862745098,\"rgb(177,22,88)\"],[0.5019607843137255,\"rgb(203,26,79)\"],[0.5647058823529412,\"rgb(223,47,67)\"],[0.6274509803921569,\"rgb(236,76,61)\"],[0.6901960784313725,\"rgb(242,107,73)\"],[0.7529411764705882,\"rgb(244,135,95)\"],[0.8156862745098039,\"rgb(245,162,122)\"],[0.8784313725490196,\"rgb(246,188,153)\"],[0.9411764705882353,\"rgb(247,212,187)\"],[1.0,\"rgb(250,234,220)\"]],\"type\":\"surface\"}],\"table\":[{\"cells\":{\"fill\":{\"color\":\"rgb(231,231,240)\"},\"line\":{\"color\":\"white\"}},\"header\":{\"fill\":{\"color\":\"rgb(183,183,191)\"},\"line\":{\"color\":\"white\"}},\"type\":\"table\"}]},\"layout\":{\"annotationdefaults\":{\"arrowcolor\":\"rgb(67,103,167)\"},\"autotypenumbers\":\"strict\",\"coloraxis\":{\"colorbar\":{\"outlinewidth\":0,\"tickcolor\":\"rgb(36,36,36)\",\"ticklen\":8,\"ticks\":\"outside\",\"tickwidth\":2}},\"colorscale\":{\"sequential\":[[0.0,\"rgb(2,4,25)\"],[0.06274509803921569,\"rgb(24,15,41)\"],[0.12549019607843137,\"rgb(47,23,57)\"],[0.18823529411764706,\"rgb(71,28,72)\"],[0.25098039215686274,\"rgb(97,30,82)\"],[0.3137254901960784,\"rgb(123,30,89)\"],[0.3764705882352941,\"rgb(150,27,91)\"],[0.4392156862745098,\"rgb(177,22,88)\"],[0.5019607843137255,\"rgb(203,26,79)\"],[0.5647058823529412,\"rgb(223,47,67)\"],[0.6274509803921569,\"rgb(236,76,61)\"],[0.6901960784313725,\"rgb(242,107,73)\"],[0.7529411764705882,\"rgb(244,135,95)\"],[0.8156862745098039,\"rgb(245,162,122)\"],[0.8784313725490196,\"rgb(246,188,153)\"],[0.9411764705882353,\"rgb(247,212,187)\"],[1.0,\"rgb(250,234,220)\"]],\"sequentialminus\":[[0.0,\"rgb(2,4,25)\"],[0.06274509803921569,\"rgb(24,15,41)\"],[0.12549019607843137,\"rgb(47,23,57)\"],[0.18823529411764706,\"rgb(71,28,72)\"],[0.25098039215686274,\"rgb(97,30,82)\"],[0.3137254901960784,\"rgb(123,30,89)\"],[0.3764705882352941,\"rgb(150,27,91)\"],[0.4392156862745098,\"rgb(177,22,88)\"],[0.5019607843137255,\"rgb(203,26,79)\"],[0.5647058823529412,\"rgb(223,47,67)\"],[0.6274509803921569,\"rgb(236,76,61)\"],[0.6901960784313725,\"rgb(242,107,73)\"],[0.7529411764705882,\"rgb(244,135,95)\"],[0.8156862745098039,\"rgb(245,162,122)\"],[0.8784313725490196,\"rgb(246,188,153)\"],[0.9411764705882353,\"rgb(247,212,187)\"],[1.0,\"rgb(250,234,220)\"]]},\"colorway\":[\"rgb(76,114,176)\",\"rgb(221,132,82)\",\"rgb(85,168,104)\",\"rgb(196,78,82)\",\"rgb(129,114,179)\",\"rgb(147,120,96)\",\"rgb(218,139,195)\",\"rgb(140,140,140)\",\"rgb(204,185,116)\",\"rgb(100,181,205)\"],\"font\":{\"color\":\"rgb(36,36,36)\"},\"geo\":{\"bgcolor\":\"white\",\"lakecolor\":\"white\",\"landcolor\":\"rgb(234,234,242)\",\"showlakes\":true,\"showland\":true,\"subunitcolor\":\"white\"},\"hoverlabel\":{\"align\":\"left\"},\"hovermode\":\"closest\",\"paper_bgcolor\":\"white\",\"plot_bgcolor\":\"rgb(234,234,242)\",\"polar\":{\"angularaxis\":{\"gridcolor\":\"white\",\"linecolor\":\"white\",\"showgrid\":true,\"ticks\":\"\"},\"bgcolor\":\"rgb(234,234,242)\",\"radialaxis\":{\"gridcolor\":\"white\",\"linecolor\":\"white\",\"showgrid\":true,\"ticks\":\"\"}},\"scene\":{\"xaxis\":{\"backgroundcolor\":\"rgb(234,234,242)\",\"gridcolor\":\"white\",\"gridwidth\":2,\"linecolor\":\"white\",\"showbackground\":true,\"showgrid\":true,\"ticks\":\"\",\"zerolinecolor\":\"white\"},\"yaxis\":{\"backgroundcolor\":\"rgb(234,234,242)\",\"gridcolor\":\"white\",\"gridwidth\":2,\"linecolor\":\"white\",\"showbackground\":true,\"showgrid\":true,\"ticks\":\"\",\"zerolinecolor\":\"white\"},\"zaxis\":{\"backgroundcolor\":\"rgb(234,234,242)\",\"gridcolor\":\"white\",\"gridwidth\":2,\"linecolor\":\"white\",\"showbackground\":true,\"showgrid\":true,\"ticks\":\"\",\"zerolinecolor\":\"white\"}},\"shapedefaults\":{\"fillcolor\":\"rgb(67,103,167)\",\"line\":{\"width\":0},\"opacity\":0.5},\"ternary\":{\"aaxis\":{\"gridcolor\":\"white\",\"linecolor\":\"white\",\"showgrid\":true,\"ticks\":\"\"},\"baxis\":{\"gridcolor\":\"white\",\"linecolor\":\"white\",\"showgrid\":true,\"ticks\":\"\"},\"bgcolor\":\"rgb(234,234,242)\",\"caxis\":{\"gridcolor\":\"white\",\"linecolor\":\"white\",\"showgrid\":true,\"ticks\":\"\"}},\"xaxis\":{\"automargin\":true,\"gridcolor\":\"white\",\"linecolor\":\"white\",\"showgrid\":true,\"ticks\":\"\",\"title\":{\"standoff\":15},\"zerolinecolor\":\"white\"},\"yaxis\":{\"automargin\":true,\"gridcolor\":\"white\",\"linecolor\":\"white\",\"showgrid\":true,\"ticks\":\"\",\"title\":{\"standoff\":15},\"zerolinecolor\":\"white\"}}},\"xaxis\":{\"anchor\":\"y\",\"domain\":[0.0,1.0],\"title\":{\"text\":\"x\"}},\"yaxis\":{\"anchor\":\"x\",\"domain\":[0.0,1.0],\"title\":{\"text\":\"y\"}},\"legend\":{\"tracegroupgap\":0},\"margin\":{\"t\":60},\"autosize\":false,\"width\":800,\"height\":800,\"title\":{\"text\":\"mbt_student_val_loss_5720.63920\"}},                        {\"responsive\": true}                    ).then(function(){\n",
       "                            \n",
       "var gd = document.getElementById('f937420c-2e35-4dd5-a753-c3731e444224');\n",
       "var x = new MutationObserver(function (mutations, observer) {{\n",
       "        var display = window.getComputedStyle(gd).display;\n",
       "        if (!display || display === 'none') {{\n",
       "            console.log([gd, 'removed!']);\n",
       "            Plotly.purge(gd);\n",
       "            observer.disconnect();\n",
       "        }}\n",
       "}});\n",
       "\n",
       "// Listen for the removal of the full notebook cells\n",
       "var notebookContainer = gd.closest('#notebook-container');\n",
       "if (notebookContainer) {{\n",
       "    x.observe(notebookContainer, {childList: true});\n",
       "}}\n",
       "\n",
       "// Listen for the clearing of the current output cell\n",
       "var outputEl = gd.closest('.output');\n",
       "if (outputEl) {{\n",
       "    x.observe(outputEl, {childList: true});\n",
       "}}\n",
       "\n",
       "                        })                };                });            </script>        </div>"
      ]
     },
     "metadata": {},
     "output_type": "display_data"
    }
   ],
   "source": [
    "from visualise import get_tsne_points\n",
    "\n",
    "embeddings = embeddings_cleaned[\"embeddings\"]\n",
    "labels = embeddings_cleaned[\"labels\"]\n",
    "points2d = get_tsne_points(embeddings)\n",
    "emb_df = points2dataframe(points2d, embeddings_cleaned[\"labels\"])\n",
    "plot_embeddings(emb_df, chkpt_name)"
   ]
  },
  {
   "cell_type": "code",
   "execution_count": 32,
   "metadata": {},
   "outputs": [
    {
     "name": "stdout",
     "output_type": "stream",
     "text": [
      "Got 324 records before cleaning\n",
      "Got 324 records after cleaning\n"
     ]
    }
   ],
   "source": [
    "\n",
    "chkpt_name = \"mbt_student_val_loss_5697.87571\"\n",
    "pkl_path = f\"saved_models/{chkpt_name}.pkl\"\n",
    "with open(pkl_path, \"rb\") as fh:\n",
    "    embeddings_obj = pickle.load(fh)\n",
    "\n",
    "embeddings_cleaned = clean_nans(embeddings_obj)"
   ]
  },
  {
   "cell_type": "code",
   "execution_count": 33,
   "metadata": {},
   "outputs": [
    {
     "data": {
      "application/vnd.plotly.v1+json": {
       "config": {
        "plotlyServerURL": "https://plot.ly"
       },
       "data": [
        {
         "customdata": [
          [
           "Excitement"
          ],
          [
           "Curiosity"
          ],
          [
           "Uncertainty, Disgust"
          ],
          [
           "Disgust"
          ],
          [
           "Uncertainty, Disgust, Fear"
          ],
          [
           "Excitement, Happiness, Surprise"
          ],
          [
           "None"
          ],
          [
           "Curiosity, Uncertainty, Happiness, Surprise"
          ],
          [
           "Excitement"
          ],
          [
           "Curiosity"
          ],
          [
           "Uncertainty, Disgust"
          ],
          [
           "Disgust"
          ],
          [
           "Uncertainty, Disgust, Fear"
          ],
          [
           "Excitement, Happiness, Surprise"
          ],
          [
           "None"
          ],
          [
           "Curiosity, Uncertainty, Happiness, Surprise"
          ],
          [
           "Excitement"
          ],
          [
           "Curiosity"
          ],
          [
           "Uncertainty, Disgust"
          ],
          [
           "Disgust"
          ],
          [
           "Uncertainty, Disgust, Fear"
          ],
          [
           "Excitement, Happiness, Surprise"
          ],
          [
           "None"
          ],
          [
           "Curiosity, Uncertainty, Happiness, Surprise"
          ],
          [
           "Curiosity, Surprise"
          ],
          [
           "None"
          ],
          [
           "None"
          ],
          [
           "Curiosity, Happiness"
          ],
          [
           "Curiosity, Uncertainty, Happiness, Surprise"
          ],
          [
           "Excitement"
          ],
          [
           "None"
          ],
          [
           "Excitement, Happiness"
          ],
          [
           "Curiosity, Surprise"
          ],
          [
           "None"
          ],
          [
           "None"
          ],
          [
           "Curiosity, Happiness"
          ],
          [
           "Curiosity, Uncertainty, Happiness, Surprise"
          ],
          [
           "Excitement"
          ],
          [
           "None"
          ],
          [
           "Excitement, Happiness"
          ],
          [
           "Curiosity, Surprise"
          ],
          [
           "None"
          ],
          [
           "None"
          ],
          [
           "Curiosity, Happiness"
          ],
          [
           "Curiosity, Uncertainty, Happiness, Surprise"
          ],
          [
           "Excitement"
          ],
          [
           "None"
          ],
          [
           "Excitement, Happiness"
          ],
          [
           "Curiosity, Uncertainty"
          ],
          [
           "Curiosity, Excitement, Happiness"
          ],
          [
           "Happiness"
          ],
          [
           "Curiosity, Uncertainty"
          ],
          [
           "Excitement, Happiness, Surprise, Frustration"
          ],
          [
           "Uncertainty"
          ],
          [
           "Curiosity, Uncertainty"
          ],
          [
           "Curiosity, Excitement, Happiness, Surprise"
          ],
          [
           "Curiosity, Uncertainty"
          ],
          [
           "Curiosity, Excitement, Happiness"
          ],
          [
           "Happiness"
          ],
          [
           "Curiosity, Uncertainty"
          ],
          [
           "Excitement, Happiness, Surprise, Frustration"
          ],
          [
           "Uncertainty"
          ],
          [
           "Curiosity, Uncertainty"
          ],
          [
           "Curiosity, Excitement, Happiness, Surprise"
          ],
          [
           "Curiosity, Uncertainty"
          ],
          [
           "Curiosity, Excitement, Happiness"
          ],
          [
           "Happiness"
          ],
          [
           "Curiosity, Uncertainty"
          ],
          [
           "Excitement, Happiness, Surprise, Frustration"
          ],
          [
           "Uncertainty"
          ],
          [
           "Curiosity, Uncertainty"
          ],
          [
           "Curiosity, Excitement, Happiness, Surprise"
          ],
          [
           "Happiness"
          ],
          [
           "Happiness, Surprise"
          ],
          [
           "Curiosity, Excitement, Happiness"
          ],
          [
           "Excitement, Happiness"
          ],
          [
           "Uncertainty, Surprise, Disgust"
          ],
          [
           "Curiosity, Uncertainty, Frustration"
          ],
          [
           "Curiosity, Uncertainty, Happiness, Surprise"
          ],
          [
           "Excitement, Happiness"
          ],
          [
           "Happiness"
          ],
          [
           "Happiness, Surprise"
          ],
          [
           "Curiosity, Excitement, Happiness"
          ],
          [
           "Excitement, Happiness"
          ],
          [
           "Uncertainty, Surprise, Disgust"
          ],
          [
           "Curiosity, Uncertainty, Frustration"
          ],
          [
           "Curiosity, Uncertainty, Happiness, Surprise"
          ],
          [
           "Excitement, Happiness"
          ],
          [
           "Happiness"
          ],
          [
           "Happiness, Surprise"
          ],
          [
           "Curiosity, Excitement, Happiness"
          ],
          [
           "Excitement, Happiness"
          ],
          [
           "Uncertainty, Surprise, Disgust"
          ],
          [
           "Curiosity, Uncertainty, Frustration"
          ],
          [
           "Curiosity, Uncertainty, Happiness, Surprise"
          ],
          [
           "Excitement, Happiness"
          ],
          [
           "Curiosity, Surprise"
          ],
          [
           "None"
          ],
          [
           "None"
          ],
          [
           "Uncertainty, Excitement, Happiness"
          ],
          [
           "Disgust"
          ],
          [
           "Excitement, Happiness"
          ],
          [
           "Disgust"
          ],
          [
           "Curiosity, Uncertainty, Happiness"
          ],
          [
           "Curiosity, Surprise"
          ],
          [
           "None"
          ],
          [
           "None"
          ],
          [
           "Uncertainty, Excitement, Happiness"
          ],
          [
           "Disgust"
          ],
          [
           "Excitement, Happiness"
          ],
          [
           "Disgust"
          ],
          [
           "Curiosity, Uncertainty, Happiness"
          ],
          [
           "Curiosity, Surprise"
          ],
          [
           "None"
          ],
          [
           "None"
          ],
          [
           "Uncertainty, Excitement, Happiness"
          ],
          [
           "Disgust"
          ],
          [
           "Excitement, Happiness"
          ],
          [
           "Disgust"
          ],
          [
           "Curiosity, Uncertainty, Happiness"
          ],
          [
           "Curiosity, Uncertainty, Excitement, Happiness, Surprise"
          ],
          [
           "Uncertainty, Disgust, Fear"
          ],
          [
           "Disgust, Fear, Frustration"
          ],
          [
           "Uncertainty, Surprise, Frustration"
          ],
          [
           "Uncertainty, Excitement, Happiness"
          ],
          [
           "Happiness, Frustration"
          ],
          [
           "Happiness, Surprise"
          ],
          [
           "Curiosity, Uncertainty"
          ],
          [
           "Curiosity, Uncertainty, Excitement, Happiness, Surprise"
          ],
          [
           "Uncertainty, Disgust, Fear"
          ],
          [
           "Disgust, Fear, Frustration"
          ],
          [
           "Uncertainty, Surprise, Frustration"
          ],
          [
           "Uncertainty, Excitement, Happiness"
          ],
          [
           "Happiness, Frustration"
          ],
          [
           "Happiness, Surprise"
          ],
          [
           "Curiosity, Uncertainty"
          ],
          [
           "Curiosity, Uncertainty, Excitement, Happiness, Surprise"
          ],
          [
           "Uncertainty, Disgust, Fear"
          ],
          [
           "Disgust, Fear, Frustration"
          ],
          [
           "Uncertainty, Surprise, Frustration"
          ],
          [
           "Uncertainty, Excitement, Happiness"
          ],
          [
           "Happiness, Frustration"
          ],
          [
           "Happiness, Surprise"
          ],
          [
           "Curiosity, Uncertainty"
          ],
          [
           "Uncertainty, Excitement"
          ],
          [
           "Excitement, Happiness"
          ],
          [
           "None"
          ],
          [
           "Happiness"
          ],
          [
           "Curiosity, Excitement, Happiness"
          ],
          [
           "Curiosity, Happiness, Frustration"
          ],
          [
           "Surprise"
          ],
          [
           "Curiosity, Uncertainty, Happiness"
          ],
          [
           "Uncertainty, Excitement"
          ],
          [
           "Excitement, Happiness"
          ],
          [
           "None"
          ],
          [
           "Happiness"
          ],
          [
           "Curiosity, Excitement, Happiness"
          ],
          [
           "Curiosity, Happiness, Frustration"
          ],
          [
           "Surprise"
          ],
          [
           "Curiosity, Uncertainty, Happiness"
          ],
          [
           "Uncertainty, Excitement"
          ],
          [
           "Excitement, Happiness"
          ],
          [
           "None"
          ],
          [
           "Happiness"
          ],
          [
           "Curiosity, Excitement, Happiness"
          ],
          [
           "Curiosity, Happiness, Frustration"
          ],
          [
           "Surprise"
          ],
          [
           "Curiosity, Uncertainty, Happiness"
          ],
          [
           "Happiness"
          ],
          [
           "None"
          ],
          [
           "Happiness"
          ],
          [
           "Curiosity, Excitement, Happiness, Surprise"
          ],
          [
           "None"
          ],
          [
           "Curiosity, Uncertainty, Happiness, Surprise"
          ],
          [
           "Excitement, Happiness"
          ],
          [
           "Happiness, Frustration"
          ],
          [
           "Happiness"
          ],
          [
           "None"
          ],
          [
           "Happiness"
          ],
          [
           "Curiosity, Excitement, Happiness, Surprise"
          ],
          [
           "None"
          ],
          [
           "Curiosity, Uncertainty, Happiness, Surprise"
          ],
          [
           "Excitement, Happiness"
          ],
          [
           "Happiness, Frustration"
          ],
          [
           "Happiness"
          ],
          [
           "None"
          ],
          [
           "Happiness"
          ],
          [
           "Curiosity, Excitement, Happiness, Surprise"
          ],
          [
           "None"
          ],
          [
           "Curiosity, Uncertainty, Happiness, Surprise"
          ],
          [
           "Excitement, Happiness"
          ],
          [
           "Happiness, Frustration"
          ],
          [
           "Surprise, Disgust, Fear, Frustration"
          ],
          [
           "Curiosity, Uncertainty, Surprise, Disgust, Fear"
          ],
          [
           "Curiosity, Uncertainty, Happiness, Frustration"
          ],
          [
           "Happiness, Surprise"
          ],
          [
           "Excitement, Happiness"
          ],
          [
           "Curiosity, Happiness, Surprise"
          ],
          [
           "Happiness"
          ],
          [
           "Uncertainty, Fear"
          ],
          [
           "Surprise, Disgust, Fear, Frustration"
          ],
          [
           "Curiosity, Uncertainty, Surprise, Disgust, Fear"
          ],
          [
           "Curiosity, Uncertainty, Happiness, Frustration"
          ],
          [
           "Happiness, Surprise"
          ],
          [
           "Excitement, Happiness"
          ],
          [
           "Curiosity, Happiness, Surprise"
          ],
          [
           "Happiness"
          ],
          [
           "Uncertainty, Fear"
          ],
          [
           "Surprise, Disgust, Fear, Frustration"
          ],
          [
           "Curiosity, Uncertainty, Surprise, Disgust, Fear"
          ],
          [
           "Curiosity, Uncertainty, Happiness, Frustration"
          ],
          [
           "Happiness, Surprise"
          ],
          [
           "Excitement, Happiness"
          ],
          [
           "Curiosity, Happiness, Surprise"
          ],
          [
           "Happiness"
          ],
          [
           "Uncertainty, Fear"
          ],
          [
           "Happiness, Frustration"
          ],
          [
           "Curiosity, Uncertainty, Excitement, Happiness, Surprise"
          ],
          [
           "Uncertainty, Fear, Frustration"
          ],
          [
           "Happiness, Disgust"
          ],
          [
           "Curiosity, Uncertainty, Happiness, Surprise"
          ],
          [
           "Disgust"
          ],
          [
           "Uncertainty, Surprise, Disgust"
          ],
          [
           "Excitement, Happiness, Surprise, Frustration"
          ],
          [
           "Happiness, Frustration"
          ],
          [
           "Curiosity, Uncertainty, Excitement, Happiness, Surprise"
          ],
          [
           "Uncertainty, Fear, Frustration"
          ],
          [
           "Happiness, Disgust"
          ],
          [
           "Curiosity, Uncertainty, Happiness, Surprise"
          ],
          [
           "Disgust"
          ],
          [
           "Uncertainty, Surprise, Disgust"
          ],
          [
           "Excitement, Happiness, Surprise, Frustration"
          ],
          [
           "Happiness, Frustration"
          ],
          [
           "Curiosity, Uncertainty, Excitement, Happiness, Surprise"
          ],
          [
           "Uncertainty, Fear, Frustration"
          ],
          [
           "Happiness, Disgust"
          ],
          [
           "Curiosity, Uncertainty, Happiness, Surprise"
          ],
          [
           "Disgust"
          ],
          [
           "Uncertainty, Surprise, Disgust"
          ],
          [
           "Excitement, Happiness, Surprise, Frustration"
          ],
          [
           "None"
          ],
          [
           "Curiosity, Excitement, Happiness, Surprise"
          ],
          [
           "Happiness"
          ],
          [
           "Happiness"
          ],
          [
           "Curiosity, Happiness"
          ],
          [
           "Curiosity, Excitement, Happiness"
          ],
          [
           "Excitement"
          ],
          [
           "Excitement, Happiness"
          ],
          [
           "None"
          ],
          [
           "Curiosity, Excitement, Happiness, Surprise"
          ],
          [
           "Happiness"
          ],
          [
           "Happiness"
          ],
          [
           "Curiosity, Happiness"
          ],
          [
           "Curiosity, Excitement, Happiness"
          ],
          [
           "Excitement"
          ],
          [
           "Excitement, Happiness"
          ],
          [
           "None"
          ],
          [
           "Curiosity, Excitement, Happiness, Surprise"
          ],
          [
           "Happiness"
          ],
          [
           "Happiness"
          ],
          [
           "Curiosity, Happiness"
          ],
          [
           "Curiosity, Excitement, Happiness"
          ],
          [
           "Excitement"
          ],
          [
           "Excitement, Happiness"
          ],
          [
           "Curiosity, Surprise"
          ],
          [
           "Excitement"
          ],
          [
           "Happiness"
          ],
          [
           "Uncertainty, Surprise, Frustration"
          ],
          [
           "None"
          ],
          [
           "None"
          ],
          [
           "None"
          ],
          [
           "None"
          ],
          [
           "Curiosity, Surprise"
          ],
          [
           "Excitement"
          ],
          [
           "Happiness"
          ],
          [
           "Uncertainty, Surprise, Frustration"
          ],
          [
           "None"
          ],
          [
           "None"
          ],
          [
           "None"
          ],
          [
           "None"
          ],
          [
           "Curiosity, Surprise"
          ],
          [
           "Excitement"
          ],
          [
           "Happiness"
          ],
          [
           "Uncertainty, Surprise, Frustration"
          ],
          [
           "None"
          ],
          [
           "None"
          ],
          [
           "None"
          ],
          [
           "None"
          ],
          [
           "Happiness"
          ],
          [
           "Curiosity"
          ],
          [
           "Curiosity, Happiness, Surprise"
          ],
          [
           "Happiness"
          ],
          [
           "Happiness"
          ],
          [
           "Happiness"
          ],
          [
           "Curiosity, Excitement, Happiness, Surprise"
          ],
          [
           "Excitement, Happiness"
          ],
          [
           "Happiness"
          ],
          [
           "Curiosity"
          ],
          [
           "Curiosity, Happiness, Surprise"
          ],
          [
           "Happiness"
          ],
          [
           "Happiness"
          ],
          [
           "Happiness"
          ],
          [
           "Curiosity, Excitement, Happiness, Surprise"
          ],
          [
           "Excitement, Happiness"
          ],
          [
           "Happiness"
          ],
          [
           "Curiosity"
          ],
          [
           "Curiosity, Happiness, Surprise"
          ],
          [
           "Happiness"
          ],
          [
           "Happiness"
          ],
          [
           "Happiness"
          ],
          [
           "Curiosity, Excitement, Happiness, Surprise"
          ],
          [
           "Excitement, Happiness"
          ],
          [
           "Excitement, Happiness"
          ],
          [
           "Uncertainty, Excitement, Happiness, Surprise"
          ],
          [
           "Curiosity, Uncertainty, Frustration"
          ],
          [
           "Excitement, Happiness"
          ],
          [
           "Excitement, Happiness"
          ],
          [
           "Uncertainty, Excitement, Happiness, Surprise"
          ],
          [
           "Curiosity, Uncertainty, Frustration"
          ],
          [
           "Excitement, Happiness"
          ],
          [
           "Excitement, Happiness"
          ],
          [
           "Uncertainty, Excitement, Happiness, Surprise"
          ],
          [
           "Curiosity, Uncertainty, Frustration"
          ],
          [
           "Excitement, Happiness"
          ]
         ],
         "hovertemplate": "x=%{x}<br>y=%{y}<br>labels=%{customdata[0]}<extra></extra>",
         "legendgroup": "",
         "marker": {
          "color": "#636efa",
          "symbol": "circle"
         },
         "mode": "markers",
         "name": "",
         "orientation": "v",
         "showlegend": false,
         "type": "scatter",
         "x": [
          -11.08755111694336,
          -4.91035795211792,
          -9.725865364074707,
          -3.9240176677703857,
          -2.405550718307495,
          0.8593406677246094,
          -13.047779083251953,
          -3.8340413570404053,
          45.915855407714844,
          45.915855407714844,
          45.915855407714844,
          37.5167350769043,
          45.915855407714844,
          45.915855407714844,
          55.60481643676758,
          26.018566131591797,
          30.43698501586914,
          26.018566131591797,
          30.43698501586914,
          30.43698501586914,
          30.43698501586914,
          26.018566131591797,
          30.43698501586914,
          30.43698501586914,
          30.43698501586914,
          31.117603302001953,
          31.117603302001953,
          31.117603302001953,
          30.43698501586914,
          26.018566131591797,
          55.60481643676758,
          31.117603302001953,
          31.117603302001953,
          9.886544227600098,
          31.117603302001953,
          31.117603302001953,
          31.117603302001953,
          31.117603302001953,
          31.117603302001953,
          31.117603302001953,
          7.201675891876221,
          1.0080971717834473,
          31.117603302001953,
          31.117603302001953,
          7.813790798187256,
          31.117603302001953,
          18.36273193359375,
          18.36273193359375,
          31.117603302001953,
          18.36273193359375,
          18.36273193359375,
          18.36273193359375,
          10.851295471191406,
          -68.07105255126953,
          18.36273193359375,
          40.70119094848633,
          18.36273193359375,
          31.117603302001953,
          31.117603302001953,
          55.60481643676758,
          3.5518553256988525,
          30.43698501586914,
          26.018566131591797,
          40.70119094848633,
          40.70119094848633,
          40.70119094848633,
          6.995611190795898,
          40.70119094848633,
          -3.5083324909210205,
          40.70119094848633,
          26.534748077392578,
          26.534748077392578,
          26.534748077392578,
          -4.66421365737915,
          40.70119094848633,
          8.249013900756836,
          40.70119094848633,
          -9.031903266906738,
          -11.968725204467773,
          5.8139119148254395,
          9.844532012939453,
          -5.399319648742676,
          -68.07105255126953,
          8.008283615112305,
          26.534748077392578,
          -9.187071800231934,
          -11.684394836425781,
          4.095025539398193,
          33.77875900268555,
          30.43698501586914,
          26.018566131591797,
          55.60481643676758,
          70.63746643066406,
          5.063067436218262,
          -2.691045045852661,
          43.10425567626953,
          5.947227954864502,
          3.18475604057312,
          2.8241374492645264,
          55.60481643676758,
          7.618249893188477,
          55.60481643676758,
          46.81319046020508,
          10.429420471191406,
          -3.5219061374664307,
          -8.354639053344727,
          -7.946113109588623,
          -2.130425214767456,
          -4.272941589355469,
          -0.7773587107658386,
          2.374907970428467,
          -0.35455742478370667,
          46.81319046020508,
          8.788407325744629,
          8.543126106262207,
          50.505271911621094,
          55.60481643676758,
          45.915855407714844,
          37.5167350769043,
          21.91995620727539,
          35.745155334472656,
          46.81319046020508,
          1.6252797842025757,
          50.505271911621094,
          50.505271911621094,
          55.60481643676758,
          55.60481643676758,
          46.81319046020508,
          8.21514892578125,
          7.8381829261779785,
          -10.487257957458496,
          -3.0536892414093018,
          -5.1665496826171875,
          2.4665768146514893,
          -5.546030521392822,
          1.5340361595153809,
          46.81319046020508,
          55.60481643676758,
          -8.408161163330078,
          6.301252841949463,
          3.935476303100586,
          10.07408332824707,
          3.4812448024749756,
          8.217328071594238,
          46.81319046020508,
          7.532380104064941,
          46.81319046020508,
          8.525870323181152,
          4.258864879608154,
          46.81319046020508,
          -11.841779708862305,
          46.81319046020508,
          3.6467483043670654,
          -3.1272006034851074,
          3.169137954711914,
          -0.6809598803520203,
          -7.083493232727051,
          6.79107141494751,
          -13.084449768066406,
          2.75477933883667,
          10.342531204223633,
          3.981149196624756,
          10.687676429748535,
          6.217153549194336,
          -1.3808072805404663,
          46.81319046020508,
          -12.364819526672363,
          9.877358436584473,
          46.81319046020508,
          -68.07105255126953,
          -68.07105255126953,
          -68.07105255126953,
          -68.07105255126953,
          0.3233734667301178,
          -68.07105255126953,
          -68.07105255126953,
          -8.945281028747559,
          -7.244106292724609,
          -8.06149959564209,
          2.169771671295166,
          -7.905857086181641,
          -13.005861282348633,
          -11.594067573547363,
          -0.20964866876602173,
          -10.309656143188477,
          -8.212801933288574,
          -8.580718040466309,
          1.4376544952392578,
          -8.975676536560059,
          -13.572731971740723,
          -12.15662670135498,
          -2.9138808250427246,
          -12.581206321716309,
          -3.3031108379364014,
          0.6882680654525757,
          -1.7778384685516357,
          0.43283697962760925,
          -0.7781398296356201,
          -0.2982301414012909,
          -4.33597469329834,
          -12.487852096557617,
          -68.07105255126953,
          -68.07105255126953,
          -68.07105255126953,
          -68.07105255126953,
          -68.07105255126953,
          -68.07105255126953,
          -68.07105255126953,
          -12.754385948181152,
          -68.07105255126953,
          -68.07105255126953,
          -68.07105255126953,
          -68.07105255126953,
          -68.07105255126953,
          -68.07105255126953,
          -68.07105255126953,
          -68.07105255126953,
          -68.07105255126953,
          -68.07105255126953,
          -68.07105255126953,
          -68.07105255126953,
          -68.07105255126953,
          -68.07105255126953,
          -9.227021217346191,
          -3.5952131748199463,
          -13.3707275390625,
          2.8267099857330322,
          -4.857841968536377,
          -1.3150813579559326,
          -0.9297618865966797,
          -10.621360778808594,
          -13.40966510772705,
          -5.000858783721924,
          -13.057392120361328,
          -1.5427212715148926,
          -5.777771949768066,
          -0.7911604642868042,
          0.0032730866223573685,
          -11.3474702835083,
          -13.352738380432129,
          1.8884797096252441,
          -7.4878387451171875,
          -13.089838981628418,
          -4.258228302001953,
          -68.07105255126953,
          -68.07105255126953,
          9.538249969482422,
          2.4821887016296387,
          -68.07105255126953,
          10.797576904296875,
          -12.706379890441895,
          -68.07105255126953,
          -68.07105255126953,
          -68.07105255126953,
          -68.07105255126953,
          -68.07105255126953,
          -68.07105255126953,
          7.160799980163574,
          -12.395727157592773,
          -68.07105255126953,
          -68.07105255126953,
          -68.07105255126953,
          -68.07105255126953,
          -68.07105255126953,
          -68.07105255126953,
          -68.07105255126953,
          -68.07105255126953,
          -68.07105255126953,
          -68.07105255126953,
          6.710207462310791,
          11.095443725585938,
          -68.07105255126953,
          -68.07105255126953,
          -68.07105255126953,
          -68.07105255126953,
          -68.07105255126953,
          -68.07105255126953,
          -68.07105255126953,
          -68.07105255126953,
          -68.07105255126953,
          -68.07105255126953,
          -68.07105255126953,
          -68.07105255126953,
          -68.07105255126953,
          -68.07105255126953,
          10.492314338684082,
          -68.07105255126953,
          -68.07105255126953,
          -68.07105255126953,
          -68.07105255126953,
          -68.07105255126953,
          -68.07105255126953,
          -68.07105255126953,
          -68.07105255126953,
          -68.07105255126953,
          -68.07105255126953,
          -68.07105255126953,
          -68.07105255126953,
          -68.07105255126953,
          -68.07105255126953,
          -68.07105255126953,
          -68.07105255126953,
          -68.07105255126953,
          -68.07105255126953,
          -68.07105255126953,
          -68.07105255126953,
          -68.07105255126953,
          -68.07105255126953,
          -68.07105255126953,
          -68.07105255126953,
          -68.07105255126953,
          -68.07105255126953,
          -11.685699462890625,
          -9.960334777832031,
          -5.701154708862305,
          -6.178395748138428,
          9.489686012268066,
          34.72057342529297,
          34.71527862548828,
          34.71286392211914,
          -3.0593483448028564,
          -2.9839932918548584,
          10.457732200622559,
          7.188244342803955
         ],
         "xaxis": "x",
         "y": [
          3.6489956378936768,
          1.1451369524002075,
          3.170795440673828,
          0.9925577044487,
          0.28769031167030334,
          -0.9012220501899719,
          3.9790897369384766,
          0.45743703842163086,
          3.671086549758911,
          3.671086549758911,
          3.671086549758911,
          11.620237350463867,
          3.671086549758911,
          3.671086549758911,
          -10.348489761352539,
          11.761479377746582,
          -1.6639643907546997,
          11.761479377746582,
          -1.6639643907546997,
          -1.6639643907546997,
          -1.6639643907546997,
          11.761479377746582,
          -1.6639643907546997,
          -1.6639643907546997,
          -1.6639643907546997,
          -14.013103485107422,
          -14.013103485107422,
          -14.013103485107422,
          -1.6639643907546997,
          11.761479377746582,
          -10.348489761352539,
          -14.013103485107422,
          -14.013103485107422,
          -4.050470352172852,
          -14.013103485107422,
          -14.013103485107422,
          -14.013103485107422,
          -14.013103485107422,
          -14.013103485107422,
          -14.013103485107422,
          -3.070896863937378,
          -0.9568933248519897,
          -14.013103485107422,
          -14.013103485107422,
          -3.082045793533325,
          -14.013103485107422,
          -21.341163635253906,
          -21.341163635253906,
          -14.013103485107422,
          -21.341163635253906,
          -21.341163635253906,
          -21.341163635253906,
          -4.43607759475708,
          -2.743441581726074,
          -21.341163635253906,
          -7.711682319641113,
          -21.341163635253906,
          -14.013103485107422,
          -14.013103485107422,
          -10.348489761352539,
          -1.6198203563690186,
          -1.6639643907546997,
          11.761479377746582,
          -7.711682319641113,
          -7.711682319641113,
          -7.711682319641113,
          -3.205065965652466,
          -7.711682319641113,
          0.8933029174804688,
          -7.711682319641113,
          -32.81936264038086,
          -32.81936264038086,
          -32.81936264038086,
          0.9640237092971802,
          -7.711682319641113,
          -3.2980082035064697,
          -7.711682319641113,
          2.9748048782348633,
          3.8710992336273193,
          -2.63931941986084,
          -31.737958908081055,
          1.4335778951644897,
          -2.743441581726074,
          -3.1309120655059814,
          -32.81936264038086,
          2.9545702934265137,
          3.863266706466675,
          -2.037571907043457,
          -25.849327087402344,
          -1.6639643907546997,
          11.761479377746582,
          -10.348489761352539,
          -29.296579360961914,
          -2.369340181350708,
          0.4008933901786804,
          -17.192211151123047,
          -2.690647602081299,
          -1.5221964120864868,
          -1.4208334684371948,
          -10.348489761352539,
          -3.466797113418579,
          -10.348489761352539,
          -27.981603622436523,
          -4.287778377532959,
          0.4501816928386688,
          2.5615720748901367,
          2.5104050636291504,
          0.13850250840187073,
          0.8368561863899231,
          -0.41586244106292725,
          -1.6561733484268188,
          -0.7359151244163513,
          -27.981603622436523,
          -3.652364492416382,
          -3.586520195007324,
          17.448904037475586,
          -10.348489761352539,
          3.671086549758911,
          11.620237350463867,
          -8.240907669067383,
          24.492454528808594,
          -27.981603622436523,
          -1.1017924547195435,
          17.448904037475586,
          17.448904037475586,
          -10.348489761352539,
          -10.348489761352539,
          -27.981603622436523,
          -3.6804442405700684,
          -3.5960912704467773,
          3.4245247840881348,
          0.717860996723175,
          1.1742370128631592,
          -1.7021465301513672,
          1.4574698209762573,
          -1.2887190580368042,
          -27.981603622436523,
          -10.348489761352539,
          2.55192232131958,
          -2.8071649074554443,
          -1.8404453992843628,
          -4.152177810668945,
          -2.003662347793579,
          -3.2666285037994385,
          -27.981603622436523,
          -3.3975579738616943,
          -27.981603622436523,
          -3.561851978302002,
          -2.118939161300659,
          -27.981603622436523,
          3.9112653732299805,
          -27.981603622436523,
          -2.0529837608337402,
          0.3269962966442108,
          -1.8840817213058472,
          -0.5596251487731934,
          2.1663873195648193,
          -3.092125654220581,
          4.739049911499023,
          -1.885867953300476,
          -4.2620697021484375,
          -1.99278724193573,
          -4.374667644500732,
          -2.762665033340454,
          -0.38953515887260437,
          -27.981603622436523,
          3.869504690170288,
          -4.0493292808532715,
          -27.981603622436523,
          -2.743441581726074,
          -2.743441581726074,
          -2.743441581726074,
          -2.743441581726074,
          -0.6655009388923645,
          -2.743441581726074,
          -2.743441581726074,
          2.9719760417938232,
          2.231806755065918,
          2.6291942596435547,
          -1.3290460109710693,
          2.497976303100586,
          4.733051300048828,
          3.8296570777893066,
          -0.30961236357688904,
          3.3650999069213867,
          2.763862133026123,
          2.904538869857788,
          -1.059111475944519,
          2.7879416942596436,
          4.5279412269592285,
          4.180009365081787,
          0.5076671242713928,
          4.553401470184326,
          0.8446947932243347,
          -0.8418486714363098,
          0.08050921559333801,
          -0.8169915080070496,
          -0.06666012108325958,
          -0.2814314365386963,
          1.126598834991455,
          4.4889750480651855,
          -2.743441581726074,
          -2.743441581726074,
          -2.743441581726074,
          -2.743441581726074,
          -2.743441581726074,
          -2.743441581726074,
          -2.743441581726074,
          3.8890042304992676,
          -2.743441581726074,
          -2.743441581726074,
          -2.743441581726074,
          -2.743441581726074,
          -2.743441581726074,
          -2.743441581726074,
          -2.743441581726074,
          -2.743441581726074,
          -2.743441581726074,
          -2.743441581726074,
          -2.743441581726074,
          -2.743441581726074,
          -2.743441581726074,
          -2.743441581726074,
          2.970111846923828,
          0.5605697631835938,
          4.184401988983154,
          -1.3171414136886597,
          1.4438656568527222,
          -0.10068365931510925,
          -0.48062965273857117,
          3.470844030380249,
          4.559011936187744,
          1.4600540399551392,
          4.739439964294434,
          0.050933100283145905,
          1.5581204891204834,
          -0.037436701357364655,
          -0.6064482927322388,
          3.741453170776367,
          4.156905651092529,
          -1.2565325498580933,
          2.337552309036255,
          3.991267681121826,
          1.1808964014053345,
          -2.743441581726074,
          -2.743441581726074,
          -3.916121006011963,
          -1.288596510887146,
          -2.743441581726074,
          -4.414941787719727,
          3.9343385696411133,
          -2.743441581726074,
          -2.743441581726074,
          -2.743441581726074,
          -2.743441581726074,
          -2.743441581726074,
          -2.743441581726074,
          -2.99834942817688,
          4.397122383117676,
          -2.743441581726074,
          -2.743441581726074,
          -2.743441581726074,
          -2.743441581726074,
          -2.743441581726074,
          -2.743441581726074,
          -2.743441581726074,
          -2.743441581726074,
          -2.743441581726074,
          -2.743441581726074,
          -2.982362985610962,
          -4.538385391235352,
          -2.743441581726074,
          -2.743441581726074,
          -2.743441581726074,
          -2.743441581726074,
          -2.743441581726074,
          -2.743441581726074,
          -2.743441581726074,
          -2.743441581726074,
          -2.743441581726074,
          -2.743441581726074,
          -2.743441581726074,
          -2.743441581726074,
          -2.743441581726074,
          -2.743441581726074,
          -4.317631244659424,
          -2.743441581726074,
          -2.743441581726074,
          -2.743441581726074,
          -2.743441581726074,
          -2.743441581726074,
          -2.743441581726074,
          -2.743441581726074,
          -2.743441581726074,
          -2.743441581726074,
          -2.743441581726074,
          -2.743441581726074,
          -2.743441581726074,
          -2.743441581726074,
          -2.743441581726074,
          -2.743441581726074,
          -2.743441581726074,
          -2.743441581726074,
          -2.743441581726074,
          -2.743441581726074,
          -2.743441581726074,
          -2.743441581726074,
          -2.743441581726074,
          -2.743441581726074,
          -2.743441581726074,
          -2.743441581726074,
          -2.743441581726074,
          4.943807125091553,
          4.2732391357421875,
          1.863102674484253,
          1.881576418876648,
          -2.657172203063965,
          -9.646394729614258,
          -9.647149085998535,
          -9.647710800170898,
          3.169461727142334,
          3.159019947052002,
          -4.037688255310059,
          -2.5788400173187256
         ],
         "yaxis": "y"
        }
       ],
       "layout": {
        "autosize": false,
        "height": 800,
        "legend": {
         "tracegroupgap": 0
        },
        "margin": {
         "t": 60
        },
        "template": {
         "data": {
          "bar": [
           {
            "error_x": {
             "color": "rgb(36,36,36)"
            },
            "error_y": {
             "color": "rgb(36,36,36)"
            },
            "marker": {
             "line": {
              "color": "rgb(234,234,242)",
              "width": 0.5
             },
             "pattern": {
              "fillmode": "overlay",
              "size": 10,
              "solidity": 0.2
             }
            },
            "type": "bar"
           }
          ],
          "barpolar": [
           {
            "marker": {
             "line": {
              "color": "rgb(234,234,242)",
              "width": 0.5
             },
             "pattern": {
              "fillmode": "overlay",
              "size": 10,
              "solidity": 0.2
             }
            },
            "type": "barpolar"
           }
          ],
          "carpet": [
           {
            "aaxis": {
             "endlinecolor": "rgb(36,36,36)",
             "gridcolor": "white",
             "linecolor": "white",
             "minorgridcolor": "white",
             "startlinecolor": "rgb(36,36,36)"
            },
            "baxis": {
             "endlinecolor": "rgb(36,36,36)",
             "gridcolor": "white",
             "linecolor": "white",
             "minorgridcolor": "white",
             "startlinecolor": "rgb(36,36,36)"
            },
            "type": "carpet"
           }
          ],
          "choropleth": [
           {
            "colorbar": {
             "outlinewidth": 0,
             "tickcolor": "rgb(36,36,36)",
             "ticklen": 8,
             "ticks": "outside",
             "tickwidth": 2
            },
            "type": "choropleth"
           }
          ],
          "contour": [
           {
            "colorbar": {
             "outlinewidth": 0,
             "tickcolor": "rgb(36,36,36)",
             "ticklen": 8,
             "ticks": "outside",
             "tickwidth": 2
            },
            "colorscale": [
             [
              0,
              "rgb(2,4,25)"
             ],
             [
              0.06274509803921569,
              "rgb(24,15,41)"
             ],
             [
              0.12549019607843137,
              "rgb(47,23,57)"
             ],
             [
              0.18823529411764706,
              "rgb(71,28,72)"
             ],
             [
              0.25098039215686274,
              "rgb(97,30,82)"
             ],
             [
              0.3137254901960784,
              "rgb(123,30,89)"
             ],
             [
              0.3764705882352941,
              "rgb(150,27,91)"
             ],
             [
              0.4392156862745098,
              "rgb(177,22,88)"
             ],
             [
              0.5019607843137255,
              "rgb(203,26,79)"
             ],
             [
              0.5647058823529412,
              "rgb(223,47,67)"
             ],
             [
              0.6274509803921569,
              "rgb(236,76,61)"
             ],
             [
              0.6901960784313725,
              "rgb(242,107,73)"
             ],
             [
              0.7529411764705882,
              "rgb(244,135,95)"
             ],
             [
              0.8156862745098039,
              "rgb(245,162,122)"
             ],
             [
              0.8784313725490196,
              "rgb(246,188,153)"
             ],
             [
              0.9411764705882353,
              "rgb(247,212,187)"
             ],
             [
              1,
              "rgb(250,234,220)"
             ]
            ],
            "type": "contour"
           }
          ],
          "contourcarpet": [
           {
            "colorbar": {
             "outlinewidth": 0,
             "tickcolor": "rgb(36,36,36)",
             "ticklen": 8,
             "ticks": "outside",
             "tickwidth": 2
            },
            "type": "contourcarpet"
           }
          ],
          "heatmap": [
           {
            "colorbar": {
             "outlinewidth": 0,
             "tickcolor": "rgb(36,36,36)",
             "ticklen": 8,
             "ticks": "outside",
             "tickwidth": 2
            },
            "colorscale": [
             [
              0,
              "rgb(2,4,25)"
             ],
             [
              0.06274509803921569,
              "rgb(24,15,41)"
             ],
             [
              0.12549019607843137,
              "rgb(47,23,57)"
             ],
             [
              0.18823529411764706,
              "rgb(71,28,72)"
             ],
             [
              0.25098039215686274,
              "rgb(97,30,82)"
             ],
             [
              0.3137254901960784,
              "rgb(123,30,89)"
             ],
             [
              0.3764705882352941,
              "rgb(150,27,91)"
             ],
             [
              0.4392156862745098,
              "rgb(177,22,88)"
             ],
             [
              0.5019607843137255,
              "rgb(203,26,79)"
             ],
             [
              0.5647058823529412,
              "rgb(223,47,67)"
             ],
             [
              0.6274509803921569,
              "rgb(236,76,61)"
             ],
             [
              0.6901960784313725,
              "rgb(242,107,73)"
             ],
             [
              0.7529411764705882,
              "rgb(244,135,95)"
             ],
             [
              0.8156862745098039,
              "rgb(245,162,122)"
             ],
             [
              0.8784313725490196,
              "rgb(246,188,153)"
             ],
             [
              0.9411764705882353,
              "rgb(247,212,187)"
             ],
             [
              1,
              "rgb(250,234,220)"
             ]
            ],
            "type": "heatmap"
           }
          ],
          "heatmapgl": [
           {
            "colorbar": {
             "outlinewidth": 0,
             "tickcolor": "rgb(36,36,36)",
             "ticklen": 8,
             "ticks": "outside",
             "tickwidth": 2
            },
            "colorscale": [
             [
              0,
              "rgb(2,4,25)"
             ],
             [
              0.06274509803921569,
              "rgb(24,15,41)"
             ],
             [
              0.12549019607843137,
              "rgb(47,23,57)"
             ],
             [
              0.18823529411764706,
              "rgb(71,28,72)"
             ],
             [
              0.25098039215686274,
              "rgb(97,30,82)"
             ],
             [
              0.3137254901960784,
              "rgb(123,30,89)"
             ],
             [
              0.3764705882352941,
              "rgb(150,27,91)"
             ],
             [
              0.4392156862745098,
              "rgb(177,22,88)"
             ],
             [
              0.5019607843137255,
              "rgb(203,26,79)"
             ],
             [
              0.5647058823529412,
              "rgb(223,47,67)"
             ],
             [
              0.6274509803921569,
              "rgb(236,76,61)"
             ],
             [
              0.6901960784313725,
              "rgb(242,107,73)"
             ],
             [
              0.7529411764705882,
              "rgb(244,135,95)"
             ],
             [
              0.8156862745098039,
              "rgb(245,162,122)"
             ],
             [
              0.8784313725490196,
              "rgb(246,188,153)"
             ],
             [
              0.9411764705882353,
              "rgb(247,212,187)"
             ],
             [
              1,
              "rgb(250,234,220)"
             ]
            ],
            "type": "heatmapgl"
           }
          ],
          "histogram": [
           {
            "marker": {
             "pattern": {
              "fillmode": "overlay",
              "size": 10,
              "solidity": 0.2
             }
            },
            "type": "histogram"
           }
          ],
          "histogram2d": [
           {
            "colorbar": {
             "outlinewidth": 0,
             "tickcolor": "rgb(36,36,36)",
             "ticklen": 8,
             "ticks": "outside",
             "tickwidth": 2
            },
            "colorscale": [
             [
              0,
              "rgb(2,4,25)"
             ],
             [
              0.06274509803921569,
              "rgb(24,15,41)"
             ],
             [
              0.12549019607843137,
              "rgb(47,23,57)"
             ],
             [
              0.18823529411764706,
              "rgb(71,28,72)"
             ],
             [
              0.25098039215686274,
              "rgb(97,30,82)"
             ],
             [
              0.3137254901960784,
              "rgb(123,30,89)"
             ],
             [
              0.3764705882352941,
              "rgb(150,27,91)"
             ],
             [
              0.4392156862745098,
              "rgb(177,22,88)"
             ],
             [
              0.5019607843137255,
              "rgb(203,26,79)"
             ],
             [
              0.5647058823529412,
              "rgb(223,47,67)"
             ],
             [
              0.6274509803921569,
              "rgb(236,76,61)"
             ],
             [
              0.6901960784313725,
              "rgb(242,107,73)"
             ],
             [
              0.7529411764705882,
              "rgb(244,135,95)"
             ],
             [
              0.8156862745098039,
              "rgb(245,162,122)"
             ],
             [
              0.8784313725490196,
              "rgb(246,188,153)"
             ],
             [
              0.9411764705882353,
              "rgb(247,212,187)"
             ],
             [
              1,
              "rgb(250,234,220)"
             ]
            ],
            "type": "histogram2d"
           }
          ],
          "histogram2dcontour": [
           {
            "colorbar": {
             "outlinewidth": 0,
             "tickcolor": "rgb(36,36,36)",
             "ticklen": 8,
             "ticks": "outside",
             "tickwidth": 2
            },
            "colorscale": [
             [
              0,
              "rgb(2,4,25)"
             ],
             [
              0.06274509803921569,
              "rgb(24,15,41)"
             ],
             [
              0.12549019607843137,
              "rgb(47,23,57)"
             ],
             [
              0.18823529411764706,
              "rgb(71,28,72)"
             ],
             [
              0.25098039215686274,
              "rgb(97,30,82)"
             ],
             [
              0.3137254901960784,
              "rgb(123,30,89)"
             ],
             [
              0.3764705882352941,
              "rgb(150,27,91)"
             ],
             [
              0.4392156862745098,
              "rgb(177,22,88)"
             ],
             [
              0.5019607843137255,
              "rgb(203,26,79)"
             ],
             [
              0.5647058823529412,
              "rgb(223,47,67)"
             ],
             [
              0.6274509803921569,
              "rgb(236,76,61)"
             ],
             [
              0.6901960784313725,
              "rgb(242,107,73)"
             ],
             [
              0.7529411764705882,
              "rgb(244,135,95)"
             ],
             [
              0.8156862745098039,
              "rgb(245,162,122)"
             ],
             [
              0.8784313725490196,
              "rgb(246,188,153)"
             ],
             [
              0.9411764705882353,
              "rgb(247,212,187)"
             ],
             [
              1,
              "rgb(250,234,220)"
             ]
            ],
            "type": "histogram2dcontour"
           }
          ],
          "mesh3d": [
           {
            "colorbar": {
             "outlinewidth": 0,
             "tickcolor": "rgb(36,36,36)",
             "ticklen": 8,
             "ticks": "outside",
             "tickwidth": 2
            },
            "type": "mesh3d"
           }
          ],
          "parcoords": [
           {
            "line": {
             "colorbar": {
              "outlinewidth": 0,
              "tickcolor": "rgb(36,36,36)",
              "ticklen": 8,
              "ticks": "outside",
              "tickwidth": 2
             }
            },
            "type": "parcoords"
           }
          ],
          "pie": [
           {
            "automargin": true,
            "type": "pie"
           }
          ],
          "scatter": [
           {
            "fillpattern": {
             "fillmode": "overlay",
             "size": 10,
             "solidity": 0.2
            },
            "type": "scatter"
           }
          ],
          "scatter3d": [
           {
            "line": {
             "colorbar": {
              "outlinewidth": 0,
              "tickcolor": "rgb(36,36,36)",
              "ticklen": 8,
              "ticks": "outside",
              "tickwidth": 2
             }
            },
            "marker": {
             "colorbar": {
              "outlinewidth": 0,
              "tickcolor": "rgb(36,36,36)",
              "ticklen": 8,
              "ticks": "outside",
              "tickwidth": 2
             }
            },
            "type": "scatter3d"
           }
          ],
          "scattercarpet": [
           {
            "marker": {
             "colorbar": {
              "outlinewidth": 0,
              "tickcolor": "rgb(36,36,36)",
              "ticklen": 8,
              "ticks": "outside",
              "tickwidth": 2
             }
            },
            "type": "scattercarpet"
           }
          ],
          "scattergeo": [
           {
            "marker": {
             "colorbar": {
              "outlinewidth": 0,
              "tickcolor": "rgb(36,36,36)",
              "ticklen": 8,
              "ticks": "outside",
              "tickwidth": 2
             }
            },
            "type": "scattergeo"
           }
          ],
          "scattergl": [
           {
            "marker": {
             "colorbar": {
              "outlinewidth": 0,
              "tickcolor": "rgb(36,36,36)",
              "ticklen": 8,
              "ticks": "outside",
              "tickwidth": 2
             }
            },
            "type": "scattergl"
           }
          ],
          "scattermapbox": [
           {
            "marker": {
             "colorbar": {
              "outlinewidth": 0,
              "tickcolor": "rgb(36,36,36)",
              "ticklen": 8,
              "ticks": "outside",
              "tickwidth": 2
             }
            },
            "type": "scattermapbox"
           }
          ],
          "scatterpolar": [
           {
            "marker": {
             "colorbar": {
              "outlinewidth": 0,
              "tickcolor": "rgb(36,36,36)",
              "ticklen": 8,
              "ticks": "outside",
              "tickwidth": 2
             }
            },
            "type": "scatterpolar"
           }
          ],
          "scatterpolargl": [
           {
            "marker": {
             "colorbar": {
              "outlinewidth": 0,
              "tickcolor": "rgb(36,36,36)",
              "ticklen": 8,
              "ticks": "outside",
              "tickwidth": 2
             }
            },
            "type": "scatterpolargl"
           }
          ],
          "scatterternary": [
           {
            "marker": {
             "colorbar": {
              "outlinewidth": 0,
              "tickcolor": "rgb(36,36,36)",
              "ticklen": 8,
              "ticks": "outside",
              "tickwidth": 2
             }
            },
            "type": "scatterternary"
           }
          ],
          "surface": [
           {
            "colorbar": {
             "outlinewidth": 0,
             "tickcolor": "rgb(36,36,36)",
             "ticklen": 8,
             "ticks": "outside",
             "tickwidth": 2
            },
            "colorscale": [
             [
              0,
              "rgb(2,4,25)"
             ],
             [
              0.06274509803921569,
              "rgb(24,15,41)"
             ],
             [
              0.12549019607843137,
              "rgb(47,23,57)"
             ],
             [
              0.18823529411764706,
              "rgb(71,28,72)"
             ],
             [
              0.25098039215686274,
              "rgb(97,30,82)"
             ],
             [
              0.3137254901960784,
              "rgb(123,30,89)"
             ],
             [
              0.3764705882352941,
              "rgb(150,27,91)"
             ],
             [
              0.4392156862745098,
              "rgb(177,22,88)"
             ],
             [
              0.5019607843137255,
              "rgb(203,26,79)"
             ],
             [
              0.5647058823529412,
              "rgb(223,47,67)"
             ],
             [
              0.6274509803921569,
              "rgb(236,76,61)"
             ],
             [
              0.6901960784313725,
              "rgb(242,107,73)"
             ],
             [
              0.7529411764705882,
              "rgb(244,135,95)"
             ],
             [
              0.8156862745098039,
              "rgb(245,162,122)"
             ],
             [
              0.8784313725490196,
              "rgb(246,188,153)"
             ],
             [
              0.9411764705882353,
              "rgb(247,212,187)"
             ],
             [
              1,
              "rgb(250,234,220)"
             ]
            ],
            "type": "surface"
           }
          ],
          "table": [
           {
            "cells": {
             "fill": {
              "color": "rgb(231,231,240)"
             },
             "line": {
              "color": "white"
             }
            },
            "header": {
             "fill": {
              "color": "rgb(183,183,191)"
             },
             "line": {
              "color": "white"
             }
            },
            "type": "table"
           }
          ]
         },
         "layout": {
          "annotationdefaults": {
           "arrowcolor": "rgb(67,103,167)"
          },
          "autotypenumbers": "strict",
          "coloraxis": {
           "colorbar": {
            "outlinewidth": 0,
            "tickcolor": "rgb(36,36,36)",
            "ticklen": 8,
            "ticks": "outside",
            "tickwidth": 2
           }
          },
          "colorscale": {
           "sequential": [
            [
             0,
             "rgb(2,4,25)"
            ],
            [
             0.06274509803921569,
             "rgb(24,15,41)"
            ],
            [
             0.12549019607843137,
             "rgb(47,23,57)"
            ],
            [
             0.18823529411764706,
             "rgb(71,28,72)"
            ],
            [
             0.25098039215686274,
             "rgb(97,30,82)"
            ],
            [
             0.3137254901960784,
             "rgb(123,30,89)"
            ],
            [
             0.3764705882352941,
             "rgb(150,27,91)"
            ],
            [
             0.4392156862745098,
             "rgb(177,22,88)"
            ],
            [
             0.5019607843137255,
             "rgb(203,26,79)"
            ],
            [
             0.5647058823529412,
             "rgb(223,47,67)"
            ],
            [
             0.6274509803921569,
             "rgb(236,76,61)"
            ],
            [
             0.6901960784313725,
             "rgb(242,107,73)"
            ],
            [
             0.7529411764705882,
             "rgb(244,135,95)"
            ],
            [
             0.8156862745098039,
             "rgb(245,162,122)"
            ],
            [
             0.8784313725490196,
             "rgb(246,188,153)"
            ],
            [
             0.9411764705882353,
             "rgb(247,212,187)"
            ],
            [
             1,
             "rgb(250,234,220)"
            ]
           ],
           "sequentialminus": [
            [
             0,
             "rgb(2,4,25)"
            ],
            [
             0.06274509803921569,
             "rgb(24,15,41)"
            ],
            [
             0.12549019607843137,
             "rgb(47,23,57)"
            ],
            [
             0.18823529411764706,
             "rgb(71,28,72)"
            ],
            [
             0.25098039215686274,
             "rgb(97,30,82)"
            ],
            [
             0.3137254901960784,
             "rgb(123,30,89)"
            ],
            [
             0.3764705882352941,
             "rgb(150,27,91)"
            ],
            [
             0.4392156862745098,
             "rgb(177,22,88)"
            ],
            [
             0.5019607843137255,
             "rgb(203,26,79)"
            ],
            [
             0.5647058823529412,
             "rgb(223,47,67)"
            ],
            [
             0.6274509803921569,
             "rgb(236,76,61)"
            ],
            [
             0.6901960784313725,
             "rgb(242,107,73)"
            ],
            [
             0.7529411764705882,
             "rgb(244,135,95)"
            ],
            [
             0.8156862745098039,
             "rgb(245,162,122)"
            ],
            [
             0.8784313725490196,
             "rgb(246,188,153)"
            ],
            [
             0.9411764705882353,
             "rgb(247,212,187)"
            ],
            [
             1,
             "rgb(250,234,220)"
            ]
           ]
          },
          "colorway": [
           "rgb(76,114,176)",
           "rgb(221,132,82)",
           "rgb(85,168,104)",
           "rgb(196,78,82)",
           "rgb(129,114,179)",
           "rgb(147,120,96)",
           "rgb(218,139,195)",
           "rgb(140,140,140)",
           "rgb(204,185,116)",
           "rgb(100,181,205)"
          ],
          "font": {
           "color": "rgb(36,36,36)"
          },
          "geo": {
           "bgcolor": "white",
           "lakecolor": "white",
           "landcolor": "rgb(234,234,242)",
           "showlakes": true,
           "showland": true,
           "subunitcolor": "white"
          },
          "hoverlabel": {
           "align": "left"
          },
          "hovermode": "closest",
          "paper_bgcolor": "white",
          "plot_bgcolor": "rgb(234,234,242)",
          "polar": {
           "angularaxis": {
            "gridcolor": "white",
            "linecolor": "white",
            "showgrid": true,
            "ticks": ""
           },
           "bgcolor": "rgb(234,234,242)",
           "radialaxis": {
            "gridcolor": "white",
            "linecolor": "white",
            "showgrid": true,
            "ticks": ""
           }
          },
          "scene": {
           "xaxis": {
            "backgroundcolor": "rgb(234,234,242)",
            "gridcolor": "white",
            "gridwidth": 2,
            "linecolor": "white",
            "showbackground": true,
            "showgrid": true,
            "ticks": "",
            "zerolinecolor": "white"
           },
           "yaxis": {
            "backgroundcolor": "rgb(234,234,242)",
            "gridcolor": "white",
            "gridwidth": 2,
            "linecolor": "white",
            "showbackground": true,
            "showgrid": true,
            "ticks": "",
            "zerolinecolor": "white"
           },
           "zaxis": {
            "backgroundcolor": "rgb(234,234,242)",
            "gridcolor": "white",
            "gridwidth": 2,
            "linecolor": "white",
            "showbackground": true,
            "showgrid": true,
            "ticks": "",
            "zerolinecolor": "white"
           }
          },
          "shapedefaults": {
           "fillcolor": "rgb(67,103,167)",
           "line": {
            "width": 0
           },
           "opacity": 0.5
          },
          "ternary": {
           "aaxis": {
            "gridcolor": "white",
            "linecolor": "white",
            "showgrid": true,
            "ticks": ""
           },
           "baxis": {
            "gridcolor": "white",
            "linecolor": "white",
            "showgrid": true,
            "ticks": ""
           },
           "bgcolor": "rgb(234,234,242)",
           "caxis": {
            "gridcolor": "white",
            "linecolor": "white",
            "showgrid": true,
            "ticks": ""
           }
          },
          "xaxis": {
           "automargin": true,
           "gridcolor": "white",
           "linecolor": "white",
           "showgrid": true,
           "ticks": "",
           "title": {
            "standoff": 15
           },
           "zerolinecolor": "white"
          },
          "yaxis": {
           "automargin": true,
           "gridcolor": "white",
           "linecolor": "white",
           "showgrid": true,
           "ticks": "",
           "title": {
            "standoff": 15
           },
           "zerolinecolor": "white"
          }
         }
        },
        "title": {
         "text": "mbt_student_val_loss_5697.87571"
        },
        "width": 800,
        "xaxis": {
         "anchor": "y",
         "domain": [
          0,
          1
         ],
         "title": {
          "text": "x"
         }
        },
        "yaxis": {
         "anchor": "x",
         "domain": [
          0,
          1
         ],
         "title": {
          "text": "y"
         }
        }
       }
      },
      "text/html": [
       "<div>                            <div id=\"3a66d431-33f2-475a-b409-fd409f8c5b8d\" class=\"plotly-graph-div\" style=\"height:800px; width:800px;\"></div>            <script type=\"text/javascript\">                require([\"plotly\"], function(Plotly) {                    window.PLOTLYENV=window.PLOTLYENV || {};                                    if (document.getElementById(\"3a66d431-33f2-475a-b409-fd409f8c5b8d\")) {                    Plotly.newPlot(                        \"3a66d431-33f2-475a-b409-fd409f8c5b8d\",                        [{\"customdata\":[[\"Excitement\"],[\"Curiosity\"],[\"Uncertainty, Disgust\"],[\"Disgust\"],[\"Uncertainty, Disgust, Fear\"],[\"Excitement, Happiness, Surprise\"],[\"None\"],[\"Curiosity, Uncertainty, Happiness, Surprise\"],[\"Excitement\"],[\"Curiosity\"],[\"Uncertainty, Disgust\"],[\"Disgust\"],[\"Uncertainty, Disgust, Fear\"],[\"Excitement, Happiness, Surprise\"],[\"None\"],[\"Curiosity, Uncertainty, Happiness, Surprise\"],[\"Excitement\"],[\"Curiosity\"],[\"Uncertainty, Disgust\"],[\"Disgust\"],[\"Uncertainty, Disgust, Fear\"],[\"Excitement, Happiness, Surprise\"],[\"None\"],[\"Curiosity, Uncertainty, Happiness, Surprise\"],[\"Curiosity, Surprise\"],[\"None\"],[\"None\"],[\"Curiosity, Happiness\"],[\"Curiosity, Uncertainty, Happiness, Surprise\"],[\"Excitement\"],[\"None\"],[\"Excitement, Happiness\"],[\"Curiosity, Surprise\"],[\"None\"],[\"None\"],[\"Curiosity, Happiness\"],[\"Curiosity, Uncertainty, Happiness, Surprise\"],[\"Excitement\"],[\"None\"],[\"Excitement, Happiness\"],[\"Curiosity, Surprise\"],[\"None\"],[\"None\"],[\"Curiosity, Happiness\"],[\"Curiosity, Uncertainty, Happiness, Surprise\"],[\"Excitement\"],[\"None\"],[\"Excitement, Happiness\"],[\"Curiosity, Uncertainty\"],[\"Curiosity, Excitement, Happiness\"],[\"Happiness\"],[\"Curiosity, Uncertainty\"],[\"Excitement, Happiness, Surprise, Frustration\"],[\"Uncertainty\"],[\"Curiosity, Uncertainty\"],[\"Curiosity, Excitement, Happiness, Surprise\"],[\"Curiosity, Uncertainty\"],[\"Curiosity, Excitement, Happiness\"],[\"Happiness\"],[\"Curiosity, Uncertainty\"],[\"Excitement, Happiness, Surprise, Frustration\"],[\"Uncertainty\"],[\"Curiosity, Uncertainty\"],[\"Curiosity, Excitement, Happiness, Surprise\"],[\"Curiosity, Uncertainty\"],[\"Curiosity, Excitement, Happiness\"],[\"Happiness\"],[\"Curiosity, Uncertainty\"],[\"Excitement, Happiness, Surprise, Frustration\"],[\"Uncertainty\"],[\"Curiosity, Uncertainty\"],[\"Curiosity, Excitement, Happiness, Surprise\"],[\"Happiness\"],[\"Happiness, Surprise\"],[\"Curiosity, Excitement, Happiness\"],[\"Excitement, Happiness\"],[\"Uncertainty, Surprise, Disgust\"],[\"Curiosity, Uncertainty, Frustration\"],[\"Curiosity, Uncertainty, Happiness, Surprise\"],[\"Excitement, Happiness\"],[\"Happiness\"],[\"Happiness, Surprise\"],[\"Curiosity, Excitement, Happiness\"],[\"Excitement, Happiness\"],[\"Uncertainty, Surprise, Disgust\"],[\"Curiosity, Uncertainty, Frustration\"],[\"Curiosity, Uncertainty, Happiness, Surprise\"],[\"Excitement, Happiness\"],[\"Happiness\"],[\"Happiness, Surprise\"],[\"Curiosity, Excitement, Happiness\"],[\"Excitement, Happiness\"],[\"Uncertainty, Surprise, Disgust\"],[\"Curiosity, Uncertainty, Frustration\"],[\"Curiosity, Uncertainty, Happiness, Surprise\"],[\"Excitement, Happiness\"],[\"Curiosity, Surprise\"],[\"None\"],[\"None\"],[\"Uncertainty, Excitement, Happiness\"],[\"Disgust\"],[\"Excitement, Happiness\"],[\"Disgust\"],[\"Curiosity, Uncertainty, Happiness\"],[\"Curiosity, Surprise\"],[\"None\"],[\"None\"],[\"Uncertainty, Excitement, Happiness\"],[\"Disgust\"],[\"Excitement, Happiness\"],[\"Disgust\"],[\"Curiosity, Uncertainty, Happiness\"],[\"Curiosity, Surprise\"],[\"None\"],[\"None\"],[\"Uncertainty, Excitement, Happiness\"],[\"Disgust\"],[\"Excitement, Happiness\"],[\"Disgust\"],[\"Curiosity, Uncertainty, Happiness\"],[\"Curiosity, Uncertainty, Excitement, Happiness, Surprise\"],[\"Uncertainty, Disgust, Fear\"],[\"Disgust, Fear, Frustration\"],[\"Uncertainty, Surprise, Frustration\"],[\"Uncertainty, Excitement, Happiness\"],[\"Happiness, Frustration\"],[\"Happiness, Surprise\"],[\"Curiosity, Uncertainty\"],[\"Curiosity, Uncertainty, Excitement, Happiness, Surprise\"],[\"Uncertainty, Disgust, Fear\"],[\"Disgust, Fear, Frustration\"],[\"Uncertainty, Surprise, Frustration\"],[\"Uncertainty, Excitement, Happiness\"],[\"Happiness, Frustration\"],[\"Happiness, Surprise\"],[\"Curiosity, Uncertainty\"],[\"Curiosity, Uncertainty, Excitement, Happiness, Surprise\"],[\"Uncertainty, Disgust, Fear\"],[\"Disgust, Fear, Frustration\"],[\"Uncertainty, Surprise, Frustration\"],[\"Uncertainty, Excitement, Happiness\"],[\"Happiness, Frustration\"],[\"Happiness, Surprise\"],[\"Curiosity, Uncertainty\"],[\"Uncertainty, Excitement\"],[\"Excitement, Happiness\"],[\"None\"],[\"Happiness\"],[\"Curiosity, Excitement, Happiness\"],[\"Curiosity, Happiness, Frustration\"],[\"Surprise\"],[\"Curiosity, Uncertainty, Happiness\"],[\"Uncertainty, Excitement\"],[\"Excitement, Happiness\"],[\"None\"],[\"Happiness\"],[\"Curiosity, Excitement, Happiness\"],[\"Curiosity, Happiness, Frustration\"],[\"Surprise\"],[\"Curiosity, Uncertainty, Happiness\"],[\"Uncertainty, Excitement\"],[\"Excitement, Happiness\"],[\"None\"],[\"Happiness\"],[\"Curiosity, Excitement, Happiness\"],[\"Curiosity, Happiness, Frustration\"],[\"Surprise\"],[\"Curiosity, Uncertainty, Happiness\"],[\"Happiness\"],[\"None\"],[\"Happiness\"],[\"Curiosity, Excitement, Happiness, Surprise\"],[\"None\"],[\"Curiosity, Uncertainty, Happiness, Surprise\"],[\"Excitement, Happiness\"],[\"Happiness, Frustration\"],[\"Happiness\"],[\"None\"],[\"Happiness\"],[\"Curiosity, Excitement, Happiness, Surprise\"],[\"None\"],[\"Curiosity, Uncertainty, Happiness, Surprise\"],[\"Excitement, Happiness\"],[\"Happiness, Frustration\"],[\"Happiness\"],[\"None\"],[\"Happiness\"],[\"Curiosity, Excitement, Happiness, Surprise\"],[\"None\"],[\"Curiosity, Uncertainty, Happiness, Surprise\"],[\"Excitement, Happiness\"],[\"Happiness, Frustration\"],[\"Surprise, Disgust, Fear, Frustration\"],[\"Curiosity, Uncertainty, Surprise, Disgust, Fear\"],[\"Curiosity, Uncertainty, Happiness, Frustration\"],[\"Happiness, Surprise\"],[\"Excitement, Happiness\"],[\"Curiosity, Happiness, Surprise\"],[\"Happiness\"],[\"Uncertainty, Fear\"],[\"Surprise, Disgust, Fear, Frustration\"],[\"Curiosity, Uncertainty, Surprise, Disgust, Fear\"],[\"Curiosity, Uncertainty, Happiness, Frustration\"],[\"Happiness, Surprise\"],[\"Excitement, Happiness\"],[\"Curiosity, Happiness, Surprise\"],[\"Happiness\"],[\"Uncertainty, Fear\"],[\"Surprise, Disgust, Fear, Frustration\"],[\"Curiosity, Uncertainty, Surprise, Disgust, Fear\"],[\"Curiosity, Uncertainty, Happiness, Frustration\"],[\"Happiness, Surprise\"],[\"Excitement, Happiness\"],[\"Curiosity, Happiness, Surprise\"],[\"Happiness\"],[\"Uncertainty, Fear\"],[\"Happiness, Frustration\"],[\"Curiosity, Uncertainty, Excitement, Happiness, Surprise\"],[\"Uncertainty, Fear, Frustration\"],[\"Happiness, Disgust\"],[\"Curiosity, Uncertainty, Happiness, Surprise\"],[\"Disgust\"],[\"Uncertainty, Surprise, Disgust\"],[\"Excitement, Happiness, Surprise, Frustration\"],[\"Happiness, Frustration\"],[\"Curiosity, Uncertainty, Excitement, Happiness, Surprise\"],[\"Uncertainty, Fear, Frustration\"],[\"Happiness, Disgust\"],[\"Curiosity, Uncertainty, Happiness, Surprise\"],[\"Disgust\"],[\"Uncertainty, Surprise, Disgust\"],[\"Excitement, Happiness, Surprise, Frustration\"],[\"Happiness, Frustration\"],[\"Curiosity, Uncertainty, Excitement, Happiness, Surprise\"],[\"Uncertainty, Fear, Frustration\"],[\"Happiness, Disgust\"],[\"Curiosity, Uncertainty, Happiness, Surprise\"],[\"Disgust\"],[\"Uncertainty, Surprise, Disgust\"],[\"Excitement, Happiness, Surprise, Frustration\"],[\"None\"],[\"Curiosity, Excitement, Happiness, Surprise\"],[\"Happiness\"],[\"Happiness\"],[\"Curiosity, Happiness\"],[\"Curiosity, Excitement, Happiness\"],[\"Excitement\"],[\"Excitement, Happiness\"],[\"None\"],[\"Curiosity, Excitement, Happiness, Surprise\"],[\"Happiness\"],[\"Happiness\"],[\"Curiosity, Happiness\"],[\"Curiosity, Excitement, Happiness\"],[\"Excitement\"],[\"Excitement, Happiness\"],[\"None\"],[\"Curiosity, Excitement, Happiness, Surprise\"],[\"Happiness\"],[\"Happiness\"],[\"Curiosity, Happiness\"],[\"Curiosity, Excitement, Happiness\"],[\"Excitement\"],[\"Excitement, Happiness\"],[\"Curiosity, Surprise\"],[\"Excitement\"],[\"Happiness\"],[\"Uncertainty, Surprise, Frustration\"],[\"None\"],[\"None\"],[\"None\"],[\"None\"],[\"Curiosity, Surprise\"],[\"Excitement\"],[\"Happiness\"],[\"Uncertainty, Surprise, Frustration\"],[\"None\"],[\"None\"],[\"None\"],[\"None\"],[\"Curiosity, Surprise\"],[\"Excitement\"],[\"Happiness\"],[\"Uncertainty, Surprise, Frustration\"],[\"None\"],[\"None\"],[\"None\"],[\"None\"],[\"Happiness\"],[\"Curiosity\"],[\"Curiosity, Happiness, Surprise\"],[\"Happiness\"],[\"Happiness\"],[\"Happiness\"],[\"Curiosity, Excitement, Happiness, Surprise\"],[\"Excitement, Happiness\"],[\"Happiness\"],[\"Curiosity\"],[\"Curiosity, Happiness, Surprise\"],[\"Happiness\"],[\"Happiness\"],[\"Happiness\"],[\"Curiosity, Excitement, Happiness, Surprise\"],[\"Excitement, Happiness\"],[\"Happiness\"],[\"Curiosity\"],[\"Curiosity, Happiness, Surprise\"],[\"Happiness\"],[\"Happiness\"],[\"Happiness\"],[\"Curiosity, Excitement, Happiness, Surprise\"],[\"Excitement, Happiness\"],[\"Excitement, Happiness\"],[\"Uncertainty, Excitement, Happiness, Surprise\"],[\"Curiosity, Uncertainty, Frustration\"],[\"Excitement, Happiness\"],[\"Excitement, Happiness\"],[\"Uncertainty, Excitement, Happiness, Surprise\"],[\"Curiosity, Uncertainty, Frustration\"],[\"Excitement, Happiness\"],[\"Excitement, Happiness\"],[\"Uncertainty, Excitement, Happiness, Surprise\"],[\"Curiosity, Uncertainty, Frustration\"],[\"Excitement, Happiness\"]],\"hovertemplate\":\"x=%{x}\\u003cbr\\u003ey=%{y}\\u003cbr\\u003elabels=%{customdata[0]}\\u003cextra\\u003e\\u003c\\u002fextra\\u003e\",\"legendgroup\":\"\",\"marker\":{\"color\":\"#636efa\",\"symbol\":\"circle\"},\"mode\":\"markers\",\"name\":\"\",\"orientation\":\"v\",\"showlegend\":false,\"x\":[-11.08755111694336,-4.91035795211792,-9.725865364074707,-3.9240176677703857,-2.405550718307495,0.8593406677246094,-13.047779083251953,-3.8340413570404053,45.915855407714844,45.915855407714844,45.915855407714844,37.5167350769043,45.915855407714844,45.915855407714844,55.60481643676758,26.018566131591797,30.43698501586914,26.018566131591797,30.43698501586914,30.43698501586914,30.43698501586914,26.018566131591797,30.43698501586914,30.43698501586914,30.43698501586914,31.117603302001953,31.117603302001953,31.117603302001953,30.43698501586914,26.018566131591797,55.60481643676758,31.117603302001953,31.117603302001953,9.886544227600098,31.117603302001953,31.117603302001953,31.117603302001953,31.117603302001953,31.117603302001953,31.117603302001953,7.201675891876221,1.0080971717834473,31.117603302001953,31.117603302001953,7.813790798187256,31.117603302001953,18.36273193359375,18.36273193359375,31.117603302001953,18.36273193359375,18.36273193359375,18.36273193359375,10.851295471191406,-68.07105255126953,18.36273193359375,40.70119094848633,18.36273193359375,31.117603302001953,31.117603302001953,55.60481643676758,3.5518553256988525,30.43698501586914,26.018566131591797,40.70119094848633,40.70119094848633,40.70119094848633,6.995611190795898,40.70119094848633,-3.5083324909210205,40.70119094848633,26.534748077392578,26.534748077392578,26.534748077392578,-4.66421365737915,40.70119094848633,8.249013900756836,40.70119094848633,-9.031903266906738,-11.968725204467773,5.8139119148254395,9.844532012939453,-5.399319648742676,-68.07105255126953,8.008283615112305,26.534748077392578,-9.187071800231934,-11.684394836425781,4.095025539398193,33.77875900268555,30.43698501586914,26.018566131591797,55.60481643676758,70.63746643066406,5.063067436218262,-2.691045045852661,43.10425567626953,5.947227954864502,3.18475604057312,2.8241374492645264,55.60481643676758,7.618249893188477,55.60481643676758,46.81319046020508,10.429420471191406,-3.5219061374664307,-8.354639053344727,-7.946113109588623,-2.130425214767456,-4.272941589355469,-0.7773587107658386,2.374907970428467,-0.35455742478370667,46.81319046020508,8.788407325744629,8.543126106262207,50.505271911621094,55.60481643676758,45.915855407714844,37.5167350769043,21.91995620727539,35.745155334472656,46.81319046020508,1.6252797842025757,50.505271911621094,50.505271911621094,55.60481643676758,55.60481643676758,46.81319046020508,8.21514892578125,7.8381829261779785,-10.487257957458496,-3.0536892414093018,-5.1665496826171875,2.4665768146514893,-5.546030521392822,1.5340361595153809,46.81319046020508,55.60481643676758,-8.408161163330078,6.301252841949463,3.935476303100586,10.07408332824707,3.4812448024749756,8.217328071594238,46.81319046020508,7.532380104064941,46.81319046020508,8.525870323181152,4.258864879608154,46.81319046020508,-11.841779708862305,46.81319046020508,3.6467483043670654,-3.1272006034851074,3.169137954711914,-0.6809598803520203,-7.083493232727051,6.79107141494751,-13.084449768066406,2.75477933883667,10.342531204223633,3.981149196624756,10.687676429748535,6.217153549194336,-1.3808072805404663,46.81319046020508,-12.364819526672363,9.877358436584473,46.81319046020508,-68.07105255126953,-68.07105255126953,-68.07105255126953,-68.07105255126953,0.3233734667301178,-68.07105255126953,-68.07105255126953,-8.945281028747559,-7.244106292724609,-8.06149959564209,2.169771671295166,-7.905857086181641,-13.005861282348633,-11.594067573547363,-0.20964866876602173,-10.309656143188477,-8.212801933288574,-8.580718040466309,1.4376544952392578,-8.975676536560059,-13.572731971740723,-12.15662670135498,-2.9138808250427246,-12.581206321716309,-3.3031108379364014,0.6882680654525757,-1.7778384685516357,0.43283697962760925,-0.7781398296356201,-0.2982301414012909,-4.33597469329834,-12.487852096557617,-68.07105255126953,-68.07105255126953,-68.07105255126953,-68.07105255126953,-68.07105255126953,-68.07105255126953,-68.07105255126953,-12.754385948181152,-68.07105255126953,-68.07105255126953,-68.07105255126953,-68.07105255126953,-68.07105255126953,-68.07105255126953,-68.07105255126953,-68.07105255126953,-68.07105255126953,-68.07105255126953,-68.07105255126953,-68.07105255126953,-68.07105255126953,-68.07105255126953,-9.227021217346191,-3.5952131748199463,-13.3707275390625,2.8267099857330322,-4.857841968536377,-1.3150813579559326,-0.9297618865966797,-10.621360778808594,-13.40966510772705,-5.000858783721924,-13.057392120361328,-1.5427212715148926,-5.777771949768066,-0.7911604642868042,0.0032730866223573685,-11.3474702835083,-13.352738380432129,1.8884797096252441,-7.4878387451171875,-13.089838981628418,-4.258228302001953,-68.07105255126953,-68.07105255126953,9.538249969482422,2.4821887016296387,-68.07105255126953,10.797576904296875,-12.706379890441895,-68.07105255126953,-68.07105255126953,-68.07105255126953,-68.07105255126953,-68.07105255126953,-68.07105255126953,7.160799980163574,-12.395727157592773,-68.07105255126953,-68.07105255126953,-68.07105255126953,-68.07105255126953,-68.07105255126953,-68.07105255126953,-68.07105255126953,-68.07105255126953,-68.07105255126953,-68.07105255126953,6.710207462310791,11.095443725585938,-68.07105255126953,-68.07105255126953,-68.07105255126953,-68.07105255126953,-68.07105255126953,-68.07105255126953,-68.07105255126953,-68.07105255126953,-68.07105255126953,-68.07105255126953,-68.07105255126953,-68.07105255126953,-68.07105255126953,-68.07105255126953,10.492314338684082,-68.07105255126953,-68.07105255126953,-68.07105255126953,-68.07105255126953,-68.07105255126953,-68.07105255126953,-68.07105255126953,-68.07105255126953,-68.07105255126953,-68.07105255126953,-68.07105255126953,-68.07105255126953,-68.07105255126953,-68.07105255126953,-68.07105255126953,-68.07105255126953,-68.07105255126953,-68.07105255126953,-68.07105255126953,-68.07105255126953,-68.07105255126953,-68.07105255126953,-68.07105255126953,-68.07105255126953,-68.07105255126953,-68.07105255126953,-11.685699462890625,-9.960334777832031,-5.701154708862305,-6.178395748138428,9.489686012268066,34.72057342529297,34.71527862548828,34.71286392211914,-3.0593483448028564,-2.9839932918548584,10.457732200622559,7.188244342803955],\"xaxis\":\"x\",\"y\":[3.6489956378936768,1.1451369524002075,3.170795440673828,0.9925577044487,0.28769031167030334,-0.9012220501899719,3.9790897369384766,0.45743703842163086,3.671086549758911,3.671086549758911,3.671086549758911,11.620237350463867,3.671086549758911,3.671086549758911,-10.348489761352539,11.761479377746582,-1.6639643907546997,11.761479377746582,-1.6639643907546997,-1.6639643907546997,-1.6639643907546997,11.761479377746582,-1.6639643907546997,-1.6639643907546997,-1.6639643907546997,-14.013103485107422,-14.013103485107422,-14.013103485107422,-1.6639643907546997,11.761479377746582,-10.348489761352539,-14.013103485107422,-14.013103485107422,-4.050470352172852,-14.013103485107422,-14.013103485107422,-14.013103485107422,-14.013103485107422,-14.013103485107422,-14.013103485107422,-3.070896863937378,-0.9568933248519897,-14.013103485107422,-14.013103485107422,-3.082045793533325,-14.013103485107422,-21.341163635253906,-21.341163635253906,-14.013103485107422,-21.341163635253906,-21.341163635253906,-21.341163635253906,-4.43607759475708,-2.743441581726074,-21.341163635253906,-7.711682319641113,-21.341163635253906,-14.013103485107422,-14.013103485107422,-10.348489761352539,-1.6198203563690186,-1.6639643907546997,11.761479377746582,-7.711682319641113,-7.711682319641113,-7.711682319641113,-3.205065965652466,-7.711682319641113,0.8933029174804688,-7.711682319641113,-32.81936264038086,-32.81936264038086,-32.81936264038086,0.9640237092971802,-7.711682319641113,-3.2980082035064697,-7.711682319641113,2.9748048782348633,3.8710992336273193,-2.63931941986084,-31.737958908081055,1.4335778951644897,-2.743441581726074,-3.1309120655059814,-32.81936264038086,2.9545702934265137,3.863266706466675,-2.037571907043457,-25.849327087402344,-1.6639643907546997,11.761479377746582,-10.348489761352539,-29.296579360961914,-2.369340181350708,0.4008933901786804,-17.192211151123047,-2.690647602081299,-1.5221964120864868,-1.4208334684371948,-10.348489761352539,-3.466797113418579,-10.348489761352539,-27.981603622436523,-4.287778377532959,0.4501816928386688,2.5615720748901367,2.5104050636291504,0.13850250840187073,0.8368561863899231,-0.41586244106292725,-1.6561733484268188,-0.7359151244163513,-27.981603622436523,-3.652364492416382,-3.586520195007324,17.448904037475586,-10.348489761352539,3.671086549758911,11.620237350463867,-8.240907669067383,24.492454528808594,-27.981603622436523,-1.1017924547195435,17.448904037475586,17.448904037475586,-10.348489761352539,-10.348489761352539,-27.981603622436523,-3.6804442405700684,-3.5960912704467773,3.4245247840881348,0.717860996723175,1.1742370128631592,-1.7021465301513672,1.4574698209762573,-1.2887190580368042,-27.981603622436523,-10.348489761352539,2.55192232131958,-2.8071649074554443,-1.8404453992843628,-4.152177810668945,-2.003662347793579,-3.2666285037994385,-27.981603622436523,-3.3975579738616943,-27.981603622436523,-3.561851978302002,-2.118939161300659,-27.981603622436523,3.9112653732299805,-27.981603622436523,-2.0529837608337402,0.3269962966442108,-1.8840817213058472,-0.5596251487731934,2.1663873195648193,-3.092125654220581,4.739049911499023,-1.885867953300476,-4.2620697021484375,-1.99278724193573,-4.374667644500732,-2.762665033340454,-0.38953515887260437,-27.981603622436523,3.869504690170288,-4.0493292808532715,-27.981603622436523,-2.743441581726074,-2.743441581726074,-2.743441581726074,-2.743441581726074,-0.6655009388923645,-2.743441581726074,-2.743441581726074,2.9719760417938232,2.231806755065918,2.6291942596435547,-1.3290460109710693,2.497976303100586,4.733051300048828,3.8296570777893066,-0.30961236357688904,3.3650999069213867,2.763862133026123,2.904538869857788,-1.059111475944519,2.7879416942596436,4.5279412269592285,4.180009365081787,0.5076671242713928,4.553401470184326,0.8446947932243347,-0.8418486714363098,0.08050921559333801,-0.8169915080070496,-0.06666012108325958,-0.2814314365386963,1.126598834991455,4.4889750480651855,-2.743441581726074,-2.743441581726074,-2.743441581726074,-2.743441581726074,-2.743441581726074,-2.743441581726074,-2.743441581726074,3.8890042304992676,-2.743441581726074,-2.743441581726074,-2.743441581726074,-2.743441581726074,-2.743441581726074,-2.743441581726074,-2.743441581726074,-2.743441581726074,-2.743441581726074,-2.743441581726074,-2.743441581726074,-2.743441581726074,-2.743441581726074,-2.743441581726074,2.970111846923828,0.5605697631835938,4.184401988983154,-1.3171414136886597,1.4438656568527222,-0.10068365931510925,-0.48062965273857117,3.470844030380249,4.559011936187744,1.4600540399551392,4.739439964294434,0.050933100283145905,1.5581204891204834,-0.037436701357364655,-0.6064482927322388,3.741453170776367,4.156905651092529,-1.2565325498580933,2.337552309036255,3.991267681121826,1.1808964014053345,-2.743441581726074,-2.743441581726074,-3.916121006011963,-1.288596510887146,-2.743441581726074,-4.414941787719727,3.9343385696411133,-2.743441581726074,-2.743441581726074,-2.743441581726074,-2.743441581726074,-2.743441581726074,-2.743441581726074,-2.99834942817688,4.397122383117676,-2.743441581726074,-2.743441581726074,-2.743441581726074,-2.743441581726074,-2.743441581726074,-2.743441581726074,-2.743441581726074,-2.743441581726074,-2.743441581726074,-2.743441581726074,-2.982362985610962,-4.538385391235352,-2.743441581726074,-2.743441581726074,-2.743441581726074,-2.743441581726074,-2.743441581726074,-2.743441581726074,-2.743441581726074,-2.743441581726074,-2.743441581726074,-2.743441581726074,-2.743441581726074,-2.743441581726074,-2.743441581726074,-2.743441581726074,-4.317631244659424,-2.743441581726074,-2.743441581726074,-2.743441581726074,-2.743441581726074,-2.743441581726074,-2.743441581726074,-2.743441581726074,-2.743441581726074,-2.743441581726074,-2.743441581726074,-2.743441581726074,-2.743441581726074,-2.743441581726074,-2.743441581726074,-2.743441581726074,-2.743441581726074,-2.743441581726074,-2.743441581726074,-2.743441581726074,-2.743441581726074,-2.743441581726074,-2.743441581726074,-2.743441581726074,-2.743441581726074,-2.743441581726074,-2.743441581726074,4.943807125091553,4.2732391357421875,1.863102674484253,1.881576418876648,-2.657172203063965,-9.646394729614258,-9.647149085998535,-9.647710800170898,3.169461727142334,3.159019947052002,-4.037688255310059,-2.5788400173187256],\"yaxis\":\"y\",\"type\":\"scatter\"}],                        {\"template\":{\"data\":{\"barpolar\":[{\"marker\":{\"line\":{\"color\":\"rgb(234,234,242)\",\"width\":0.5},\"pattern\":{\"fillmode\":\"overlay\",\"size\":10,\"solidity\":0.2}},\"type\":\"barpolar\"}],\"bar\":[{\"error_x\":{\"color\":\"rgb(36,36,36)\"},\"error_y\":{\"color\":\"rgb(36,36,36)\"},\"marker\":{\"line\":{\"color\":\"rgb(234,234,242)\",\"width\":0.5},\"pattern\":{\"fillmode\":\"overlay\",\"size\":10,\"solidity\":0.2}},\"type\":\"bar\"}],\"carpet\":[{\"aaxis\":{\"endlinecolor\":\"rgb(36,36,36)\",\"gridcolor\":\"white\",\"linecolor\":\"white\",\"minorgridcolor\":\"white\",\"startlinecolor\":\"rgb(36,36,36)\"},\"baxis\":{\"endlinecolor\":\"rgb(36,36,36)\",\"gridcolor\":\"white\",\"linecolor\":\"white\",\"minorgridcolor\":\"white\",\"startlinecolor\":\"rgb(36,36,36)\"},\"type\":\"carpet\"}],\"choropleth\":[{\"colorbar\":{\"outlinewidth\":0,\"tickcolor\":\"rgb(36,36,36)\",\"ticklen\":8,\"ticks\":\"outside\",\"tickwidth\":2},\"type\":\"choropleth\"}],\"contourcarpet\":[{\"colorbar\":{\"outlinewidth\":0,\"tickcolor\":\"rgb(36,36,36)\",\"ticklen\":8,\"ticks\":\"outside\",\"tickwidth\":2},\"type\":\"contourcarpet\"}],\"contour\":[{\"colorbar\":{\"outlinewidth\":0,\"tickcolor\":\"rgb(36,36,36)\",\"ticklen\":8,\"ticks\":\"outside\",\"tickwidth\":2},\"colorscale\":[[0.0,\"rgb(2,4,25)\"],[0.06274509803921569,\"rgb(24,15,41)\"],[0.12549019607843137,\"rgb(47,23,57)\"],[0.18823529411764706,\"rgb(71,28,72)\"],[0.25098039215686274,\"rgb(97,30,82)\"],[0.3137254901960784,\"rgb(123,30,89)\"],[0.3764705882352941,\"rgb(150,27,91)\"],[0.4392156862745098,\"rgb(177,22,88)\"],[0.5019607843137255,\"rgb(203,26,79)\"],[0.5647058823529412,\"rgb(223,47,67)\"],[0.6274509803921569,\"rgb(236,76,61)\"],[0.6901960784313725,\"rgb(242,107,73)\"],[0.7529411764705882,\"rgb(244,135,95)\"],[0.8156862745098039,\"rgb(245,162,122)\"],[0.8784313725490196,\"rgb(246,188,153)\"],[0.9411764705882353,\"rgb(247,212,187)\"],[1.0,\"rgb(250,234,220)\"]],\"type\":\"contour\"}],\"heatmapgl\":[{\"colorbar\":{\"outlinewidth\":0,\"tickcolor\":\"rgb(36,36,36)\",\"ticklen\":8,\"ticks\":\"outside\",\"tickwidth\":2},\"colorscale\":[[0.0,\"rgb(2,4,25)\"],[0.06274509803921569,\"rgb(24,15,41)\"],[0.12549019607843137,\"rgb(47,23,57)\"],[0.18823529411764706,\"rgb(71,28,72)\"],[0.25098039215686274,\"rgb(97,30,82)\"],[0.3137254901960784,\"rgb(123,30,89)\"],[0.3764705882352941,\"rgb(150,27,91)\"],[0.4392156862745098,\"rgb(177,22,88)\"],[0.5019607843137255,\"rgb(203,26,79)\"],[0.5647058823529412,\"rgb(223,47,67)\"],[0.6274509803921569,\"rgb(236,76,61)\"],[0.6901960784313725,\"rgb(242,107,73)\"],[0.7529411764705882,\"rgb(244,135,95)\"],[0.8156862745098039,\"rgb(245,162,122)\"],[0.8784313725490196,\"rgb(246,188,153)\"],[0.9411764705882353,\"rgb(247,212,187)\"],[1.0,\"rgb(250,234,220)\"]],\"type\":\"heatmapgl\"}],\"heatmap\":[{\"colorbar\":{\"outlinewidth\":0,\"tickcolor\":\"rgb(36,36,36)\",\"ticklen\":8,\"ticks\":\"outside\",\"tickwidth\":2},\"colorscale\":[[0.0,\"rgb(2,4,25)\"],[0.06274509803921569,\"rgb(24,15,41)\"],[0.12549019607843137,\"rgb(47,23,57)\"],[0.18823529411764706,\"rgb(71,28,72)\"],[0.25098039215686274,\"rgb(97,30,82)\"],[0.3137254901960784,\"rgb(123,30,89)\"],[0.3764705882352941,\"rgb(150,27,91)\"],[0.4392156862745098,\"rgb(177,22,88)\"],[0.5019607843137255,\"rgb(203,26,79)\"],[0.5647058823529412,\"rgb(223,47,67)\"],[0.6274509803921569,\"rgb(236,76,61)\"],[0.6901960784313725,\"rgb(242,107,73)\"],[0.7529411764705882,\"rgb(244,135,95)\"],[0.8156862745098039,\"rgb(245,162,122)\"],[0.8784313725490196,\"rgb(246,188,153)\"],[0.9411764705882353,\"rgb(247,212,187)\"],[1.0,\"rgb(250,234,220)\"]],\"type\":\"heatmap\"}],\"histogram2dcontour\":[{\"colorbar\":{\"outlinewidth\":0,\"tickcolor\":\"rgb(36,36,36)\",\"ticklen\":8,\"ticks\":\"outside\",\"tickwidth\":2},\"colorscale\":[[0.0,\"rgb(2,4,25)\"],[0.06274509803921569,\"rgb(24,15,41)\"],[0.12549019607843137,\"rgb(47,23,57)\"],[0.18823529411764706,\"rgb(71,28,72)\"],[0.25098039215686274,\"rgb(97,30,82)\"],[0.3137254901960784,\"rgb(123,30,89)\"],[0.3764705882352941,\"rgb(150,27,91)\"],[0.4392156862745098,\"rgb(177,22,88)\"],[0.5019607843137255,\"rgb(203,26,79)\"],[0.5647058823529412,\"rgb(223,47,67)\"],[0.6274509803921569,\"rgb(236,76,61)\"],[0.6901960784313725,\"rgb(242,107,73)\"],[0.7529411764705882,\"rgb(244,135,95)\"],[0.8156862745098039,\"rgb(245,162,122)\"],[0.8784313725490196,\"rgb(246,188,153)\"],[0.9411764705882353,\"rgb(247,212,187)\"],[1.0,\"rgb(250,234,220)\"]],\"type\":\"histogram2dcontour\"}],\"histogram2d\":[{\"colorbar\":{\"outlinewidth\":0,\"tickcolor\":\"rgb(36,36,36)\",\"ticklen\":8,\"ticks\":\"outside\",\"tickwidth\":2},\"colorscale\":[[0.0,\"rgb(2,4,25)\"],[0.06274509803921569,\"rgb(24,15,41)\"],[0.12549019607843137,\"rgb(47,23,57)\"],[0.18823529411764706,\"rgb(71,28,72)\"],[0.25098039215686274,\"rgb(97,30,82)\"],[0.3137254901960784,\"rgb(123,30,89)\"],[0.3764705882352941,\"rgb(150,27,91)\"],[0.4392156862745098,\"rgb(177,22,88)\"],[0.5019607843137255,\"rgb(203,26,79)\"],[0.5647058823529412,\"rgb(223,47,67)\"],[0.6274509803921569,\"rgb(236,76,61)\"],[0.6901960784313725,\"rgb(242,107,73)\"],[0.7529411764705882,\"rgb(244,135,95)\"],[0.8156862745098039,\"rgb(245,162,122)\"],[0.8784313725490196,\"rgb(246,188,153)\"],[0.9411764705882353,\"rgb(247,212,187)\"],[1.0,\"rgb(250,234,220)\"]],\"type\":\"histogram2d\"}],\"histogram\":[{\"marker\":{\"pattern\":{\"fillmode\":\"overlay\",\"size\":10,\"solidity\":0.2}},\"type\":\"histogram\"}],\"mesh3d\":[{\"colorbar\":{\"outlinewidth\":0,\"tickcolor\":\"rgb(36,36,36)\",\"ticklen\":8,\"ticks\":\"outside\",\"tickwidth\":2},\"type\":\"mesh3d\"}],\"parcoords\":[{\"line\":{\"colorbar\":{\"outlinewidth\":0,\"tickcolor\":\"rgb(36,36,36)\",\"ticklen\":8,\"ticks\":\"outside\",\"tickwidth\":2}},\"type\":\"parcoords\"}],\"pie\":[{\"automargin\":true,\"type\":\"pie\"}],\"scatter3d\":[{\"line\":{\"colorbar\":{\"outlinewidth\":0,\"tickcolor\":\"rgb(36,36,36)\",\"ticklen\":8,\"ticks\":\"outside\",\"tickwidth\":2}},\"marker\":{\"colorbar\":{\"outlinewidth\":0,\"tickcolor\":\"rgb(36,36,36)\",\"ticklen\":8,\"ticks\":\"outside\",\"tickwidth\":2}},\"type\":\"scatter3d\"}],\"scattercarpet\":[{\"marker\":{\"colorbar\":{\"outlinewidth\":0,\"tickcolor\":\"rgb(36,36,36)\",\"ticklen\":8,\"ticks\":\"outside\",\"tickwidth\":2}},\"type\":\"scattercarpet\"}],\"scattergeo\":[{\"marker\":{\"colorbar\":{\"outlinewidth\":0,\"tickcolor\":\"rgb(36,36,36)\",\"ticklen\":8,\"ticks\":\"outside\",\"tickwidth\":2}},\"type\":\"scattergeo\"}],\"scattergl\":[{\"marker\":{\"colorbar\":{\"outlinewidth\":0,\"tickcolor\":\"rgb(36,36,36)\",\"ticklen\":8,\"ticks\":\"outside\",\"tickwidth\":2}},\"type\":\"scattergl\"}],\"scattermapbox\":[{\"marker\":{\"colorbar\":{\"outlinewidth\":0,\"tickcolor\":\"rgb(36,36,36)\",\"ticklen\":8,\"ticks\":\"outside\",\"tickwidth\":2}},\"type\":\"scattermapbox\"}],\"scatterpolargl\":[{\"marker\":{\"colorbar\":{\"outlinewidth\":0,\"tickcolor\":\"rgb(36,36,36)\",\"ticklen\":8,\"ticks\":\"outside\",\"tickwidth\":2}},\"type\":\"scatterpolargl\"}],\"scatterpolar\":[{\"marker\":{\"colorbar\":{\"outlinewidth\":0,\"tickcolor\":\"rgb(36,36,36)\",\"ticklen\":8,\"ticks\":\"outside\",\"tickwidth\":2}},\"type\":\"scatterpolar\"}],\"scatter\":[{\"fillpattern\":{\"fillmode\":\"overlay\",\"size\":10,\"solidity\":0.2},\"type\":\"scatter\"}],\"scatterternary\":[{\"marker\":{\"colorbar\":{\"outlinewidth\":0,\"tickcolor\":\"rgb(36,36,36)\",\"ticklen\":8,\"ticks\":\"outside\",\"tickwidth\":2}},\"type\":\"scatterternary\"}],\"surface\":[{\"colorbar\":{\"outlinewidth\":0,\"tickcolor\":\"rgb(36,36,36)\",\"ticklen\":8,\"ticks\":\"outside\",\"tickwidth\":2},\"colorscale\":[[0.0,\"rgb(2,4,25)\"],[0.06274509803921569,\"rgb(24,15,41)\"],[0.12549019607843137,\"rgb(47,23,57)\"],[0.18823529411764706,\"rgb(71,28,72)\"],[0.25098039215686274,\"rgb(97,30,82)\"],[0.3137254901960784,\"rgb(123,30,89)\"],[0.3764705882352941,\"rgb(150,27,91)\"],[0.4392156862745098,\"rgb(177,22,88)\"],[0.5019607843137255,\"rgb(203,26,79)\"],[0.5647058823529412,\"rgb(223,47,67)\"],[0.6274509803921569,\"rgb(236,76,61)\"],[0.6901960784313725,\"rgb(242,107,73)\"],[0.7529411764705882,\"rgb(244,135,95)\"],[0.8156862745098039,\"rgb(245,162,122)\"],[0.8784313725490196,\"rgb(246,188,153)\"],[0.9411764705882353,\"rgb(247,212,187)\"],[1.0,\"rgb(250,234,220)\"]],\"type\":\"surface\"}],\"table\":[{\"cells\":{\"fill\":{\"color\":\"rgb(231,231,240)\"},\"line\":{\"color\":\"white\"}},\"header\":{\"fill\":{\"color\":\"rgb(183,183,191)\"},\"line\":{\"color\":\"white\"}},\"type\":\"table\"}]},\"layout\":{\"annotationdefaults\":{\"arrowcolor\":\"rgb(67,103,167)\"},\"autotypenumbers\":\"strict\",\"coloraxis\":{\"colorbar\":{\"outlinewidth\":0,\"tickcolor\":\"rgb(36,36,36)\",\"ticklen\":8,\"ticks\":\"outside\",\"tickwidth\":2}},\"colorscale\":{\"sequential\":[[0.0,\"rgb(2,4,25)\"],[0.06274509803921569,\"rgb(24,15,41)\"],[0.12549019607843137,\"rgb(47,23,57)\"],[0.18823529411764706,\"rgb(71,28,72)\"],[0.25098039215686274,\"rgb(97,30,82)\"],[0.3137254901960784,\"rgb(123,30,89)\"],[0.3764705882352941,\"rgb(150,27,91)\"],[0.4392156862745098,\"rgb(177,22,88)\"],[0.5019607843137255,\"rgb(203,26,79)\"],[0.5647058823529412,\"rgb(223,47,67)\"],[0.6274509803921569,\"rgb(236,76,61)\"],[0.6901960784313725,\"rgb(242,107,73)\"],[0.7529411764705882,\"rgb(244,135,95)\"],[0.8156862745098039,\"rgb(245,162,122)\"],[0.8784313725490196,\"rgb(246,188,153)\"],[0.9411764705882353,\"rgb(247,212,187)\"],[1.0,\"rgb(250,234,220)\"]],\"sequentialminus\":[[0.0,\"rgb(2,4,25)\"],[0.06274509803921569,\"rgb(24,15,41)\"],[0.12549019607843137,\"rgb(47,23,57)\"],[0.18823529411764706,\"rgb(71,28,72)\"],[0.25098039215686274,\"rgb(97,30,82)\"],[0.3137254901960784,\"rgb(123,30,89)\"],[0.3764705882352941,\"rgb(150,27,91)\"],[0.4392156862745098,\"rgb(177,22,88)\"],[0.5019607843137255,\"rgb(203,26,79)\"],[0.5647058823529412,\"rgb(223,47,67)\"],[0.6274509803921569,\"rgb(236,76,61)\"],[0.6901960784313725,\"rgb(242,107,73)\"],[0.7529411764705882,\"rgb(244,135,95)\"],[0.8156862745098039,\"rgb(245,162,122)\"],[0.8784313725490196,\"rgb(246,188,153)\"],[0.9411764705882353,\"rgb(247,212,187)\"],[1.0,\"rgb(250,234,220)\"]]},\"colorway\":[\"rgb(76,114,176)\",\"rgb(221,132,82)\",\"rgb(85,168,104)\",\"rgb(196,78,82)\",\"rgb(129,114,179)\",\"rgb(147,120,96)\",\"rgb(218,139,195)\",\"rgb(140,140,140)\",\"rgb(204,185,116)\",\"rgb(100,181,205)\"],\"font\":{\"color\":\"rgb(36,36,36)\"},\"geo\":{\"bgcolor\":\"white\",\"lakecolor\":\"white\",\"landcolor\":\"rgb(234,234,242)\",\"showlakes\":true,\"showland\":true,\"subunitcolor\":\"white\"},\"hoverlabel\":{\"align\":\"left\"},\"hovermode\":\"closest\",\"paper_bgcolor\":\"white\",\"plot_bgcolor\":\"rgb(234,234,242)\",\"polar\":{\"angularaxis\":{\"gridcolor\":\"white\",\"linecolor\":\"white\",\"showgrid\":true,\"ticks\":\"\"},\"bgcolor\":\"rgb(234,234,242)\",\"radialaxis\":{\"gridcolor\":\"white\",\"linecolor\":\"white\",\"showgrid\":true,\"ticks\":\"\"}},\"scene\":{\"xaxis\":{\"backgroundcolor\":\"rgb(234,234,242)\",\"gridcolor\":\"white\",\"gridwidth\":2,\"linecolor\":\"white\",\"showbackground\":true,\"showgrid\":true,\"ticks\":\"\",\"zerolinecolor\":\"white\"},\"yaxis\":{\"backgroundcolor\":\"rgb(234,234,242)\",\"gridcolor\":\"white\",\"gridwidth\":2,\"linecolor\":\"white\",\"showbackground\":true,\"showgrid\":true,\"ticks\":\"\",\"zerolinecolor\":\"white\"},\"zaxis\":{\"backgroundcolor\":\"rgb(234,234,242)\",\"gridcolor\":\"white\",\"gridwidth\":2,\"linecolor\":\"white\",\"showbackground\":true,\"showgrid\":true,\"ticks\":\"\",\"zerolinecolor\":\"white\"}},\"shapedefaults\":{\"fillcolor\":\"rgb(67,103,167)\",\"line\":{\"width\":0},\"opacity\":0.5},\"ternary\":{\"aaxis\":{\"gridcolor\":\"white\",\"linecolor\":\"white\",\"showgrid\":true,\"ticks\":\"\"},\"baxis\":{\"gridcolor\":\"white\",\"linecolor\":\"white\",\"showgrid\":true,\"ticks\":\"\"},\"bgcolor\":\"rgb(234,234,242)\",\"caxis\":{\"gridcolor\":\"white\",\"linecolor\":\"white\",\"showgrid\":true,\"ticks\":\"\"}},\"xaxis\":{\"automargin\":true,\"gridcolor\":\"white\",\"linecolor\":\"white\",\"showgrid\":true,\"ticks\":\"\",\"title\":{\"standoff\":15},\"zerolinecolor\":\"white\"},\"yaxis\":{\"automargin\":true,\"gridcolor\":\"white\",\"linecolor\":\"white\",\"showgrid\":true,\"ticks\":\"\",\"title\":{\"standoff\":15},\"zerolinecolor\":\"white\"}}},\"xaxis\":{\"anchor\":\"y\",\"domain\":[0.0,1.0],\"title\":{\"text\":\"x\"}},\"yaxis\":{\"anchor\":\"x\",\"domain\":[0.0,1.0],\"title\":{\"text\":\"y\"}},\"legend\":{\"tracegroupgap\":0},\"margin\":{\"t\":60},\"autosize\":false,\"width\":800,\"height\":800,\"title\":{\"text\":\"mbt_student_val_loss_5697.87571\"}},                        {\"responsive\": true}                    ).then(function(){\n",
       "                            \n",
       "var gd = document.getElementById('3a66d431-33f2-475a-b409-fd409f8c5b8d');\n",
       "var x = new MutationObserver(function (mutations, observer) {{\n",
       "        var display = window.getComputedStyle(gd).display;\n",
       "        if (!display || display === 'none') {{\n",
       "            console.log([gd, 'removed!']);\n",
       "            Plotly.purge(gd);\n",
       "            observer.disconnect();\n",
       "        }}\n",
       "}});\n",
       "\n",
       "// Listen for the removal of the full notebook cells\n",
       "var notebookContainer = gd.closest('#notebook-container');\n",
       "if (notebookContainer) {{\n",
       "    x.observe(notebookContainer, {childList: true});\n",
       "}}\n",
       "\n",
       "// Listen for the clearing of the current output cell\n",
       "var outputEl = gd.closest('.output');\n",
       "if (outputEl) {{\n",
       "    x.observe(outputEl, {childList: true});\n",
       "}}\n",
       "\n",
       "                        })                };                });            </script>        </div>"
      ]
     },
     "metadata": {},
     "output_type": "display_data"
    }
   ],
   "source": [
    "embeddings = embeddings_cleaned[\"embeddings\"]\n",
    "labels = embeddings_cleaned[\"labels\"]\n",
    "points2d = get_tsne_points(embeddings)\n",
    "emb_df = points2dataframe(points2d, embeddings_cleaned[\"labels\"])\n",
    "plot_embeddings(emb_df, chkpt_name)"
   ]
  }
 ],
 "metadata": {
  "kernelspec": {
   "display_name": "depmbt",
   "language": "python",
   "name": "python3"
  },
  "language_info": {
   "codemirror_mode": {
    "name": "ipython",
    "version": 3
   },
   "file_extension": ".py",
   "mimetype": "text/x-python",
   "name": "python",
   "nbconvert_exporter": "python",
   "pygments_lexer": "ipython3",
   "version": "3.9.16"
  },
  "orig_nbformat": 4
 },
 "nbformat": 4,
 "nbformat_minor": 2
}
